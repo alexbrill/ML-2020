{
 "cells": [
  {
   "cell_type": "markdown",
   "metadata": {},
   "source": [
    "## Task 1"
   ]
  },
  {
   "cell_type": "code",
   "execution_count": 9,
   "metadata": {},
   "outputs": [],
   "source": [
    "import numpy as np\n",
    "from scipy import stats\n",
    "import matplotlib.pyplot as plt\n",
    "%matplotlib inline"
   ]
  },
  {
   "cell_type": "code",
   "execution_count": 2,
   "metadata": {},
   "outputs": [],
   "source": [
    "x = np.array([69, 74, 68, 70, 72, 67, 66, 70, 76, 68, 72, 79, 74, 67, 66, 71, 74, 75, 75, 76])\n",
    "y = np.array([153, 175, 155, 135, 172, 150, 115, 137, 200, 130, 140, 265, 185, 112, 140,  150, 165, 185, 210, 220])"
   ]
  },
  {
   "cell_type": "code",
   "execution_count": 16,
   "metadata": {},
   "outputs": [
    {
     "name": "stdout",
     "output_type": "stream",
     "text": [
      "Среднее значение: 71.45\n",
      "Медиана: 71.5\n",
      "Мода: 74\n"
     ]
    }
   ],
   "source": [
    "mean_x = x.mean()\n",
    "median_x = np.median(x)\n",
    "\n",
    "(_, idx, counts) = np.unique(x, return_index=True, return_counts=True)\n",
    "index = idx[np.argmax(counts)]\n",
    "mode_x = x[index]\n",
    "\n",
    "print(f'Среднее значение: {mean_x}')\n",
    "print(f'Медиана: {median_x}')\n",
    "print(f'Мода: {mode_x}')"
   ]
  },
  {
   "cell_type": "code",
   "execution_count": 17,
   "metadata": {},
   "outputs": [
    {
     "name": "stdout",
     "output_type": "stream",
     "text": [
      "Дисперсия Y: 1369.2099999999998\n"
     ]
    }
   ],
   "source": [
    "print(f'Дисперсия Y: {y.var()}')"
   ]
  },
  {
   "cell_type": "code",
   "execution_count": 14,
   "metadata": {},
   "outputs": [
    {
     "data": {
      "text/plain": [
       "(array([4., 3., 2., 3., 3., 2., 2., 1.]),\n",
       " array([66.   , 67.625, 69.25 , 70.875, 72.5  , 74.125, 75.75 , 77.375,\n",
       "        79.   ]),\n",
       " <BarContainer object of 8 artists>)"
      ]
     },
     "execution_count": 14,
     "metadata": {},
     "output_type": "execute_result"
    },
    {
     "data": {
      "image/png": "[encoded data removed]",
      "text/plain": [
       "<Figure size 432x288 with 1 Axes>"
      ]
     },
     "metadata": {
      "needs_background": "light"
     },
     "output_type": "display_data"
    }
   ],
   "source": [
    "plt.hist(x, bins=8)"
   ]
  },
  {
   "cell_type": "code",
   "execution_count": 19,
   "metadata": {},
   "outputs": [
    {
     "data": {
      "image/png": "[encoded data removed]",
      "text/plain": [
       "<Figure size 432x288 with 1 Axes>"
      ]
     },
     "metadata": {
      "needs_background": "light"
     },
     "output_type": "display_data"
    }
   ],
   "source": [
    "x_axis = np.linspace(x.min(), x.max())\n",
    "y_axis = stats.norm.pdf(x_ax, x.mean(), x.std())\n",
    "\n",
    "plt.plot(x_axis, y_axis)\n",
    "plt.grid()"
   ]
  },
  {
   "cell_type": "code",
   "execution_count": 20,
   "metadata": {},
   "outputs": [
    {
     "name": "stdout",
     "output_type": "stream",
     "text": [
      "Возраст меньше 80 с вероятностью: 0.0\n"
     ]
    }
   ],
   "source": [
    "print(f'Возраст меньше 80 с вероятностью: {np.count_nonzero(x > 80) / len(x)}')"
   ]
  },
  {
   "cell_type": "code",
   "execution_count": 23,
   "metadata": {},
   "outputs": [
    {
     "name": "stdout",
     "output_type": "stream",
     "text": [
      "Двумерное матожидание: [ 71.45 164.7 ]\n",
      "Матрица ковариации: [[  14.57631579  128.87894737]\n",
      " [ 128.87894737 1441.27368421]]\n"
     ]
    }
   ],
   "source": [
    "print(f'Двумерное матожидание: {np.mean([x, y], axis=1)}')\n",
    "print(f'Матрица ковариации: {np.cov([x, y])}')"
   ]
  },
  {
   "cell_type": "code",
   "execution_count": 25,
   "metadata": {},
   "outputs": [
    {
     "name": "stdout",
     "output_type": "stream",
     "text": [
      "Коэффициент ковариации Х и Y: 0.8891701351748048\n"
     ]
    }
   ],
   "source": [
    "print(f'Коэффициент ковариации Х и Y: {np.corrcoef(x, y)[0, 1]}')"
   ]
  },
  {
   "cell_type": "code",
   "execution_count": 26,
   "metadata": {},
   "outputs": [
    {
     "data": {
      "text/plain": [
       "Text(0, 0.5, 'Вес')"
      ]
     },
     "execution_count": 26,
     "metadata": {},
     "output_type": "execute_result"
    },
    {
     "data": {
      "image/png": "[encoded data removed]",
      "text/plain": [
       "<Figure size 432x288 with 1 Axes>"
      ]
     },
     "metadata": {
      "needs_background": "light"
     },
     "output_type": "display_data"
    }
   ],
   "source": [
    "plt.scatter(x, y)\n",
    "plt.grid()\n",
    "plt.xlabel('Возраст')\n",
    "plt.ylabel('Вес')"
   ]
  },
  {
   "cell_type": "markdown",
   "metadata": {},
   "source": [
    "## Task 2"
   ]
  },
  {
   "cell_type": "code",
   "execution_count": 28,
   "metadata": {},
   "outputs": [],
   "source": [
    "from IPython.display import display\n",
    "from tabulate import tabulate"
   ]
  },
  {
   "cell_type": "code",
   "execution_count": 31,
   "metadata": {},
   "outputs": [
    {
     "data": {
      "text/html": [
       "<table>\n",
       "<thead>\n",
       "<tr><th>   </th><th style=\"text-align: right;\">  X_1</th><th style=\"text-align: right;\">     X_2</th><th style=\"text-align: right;\">     X_3</th></tr>\n",
       "</thead>\n",
       "<tbody>\n",
       "<tr><td>X_1</td><td style=\"text-align: right;\">   12</td><td style=\"text-align: right;\"> 17     </td><td style=\"text-align: right;\"> -8     </td></tr>\n",
       "<tr><td>X_2</td><td style=\"text-align: right;\">   17</td><td style=\"text-align: right;\"> 24.3333</td><td style=\"text-align: right;\">-12.8333</td></tr>\n",
       "<tr><td>X_3</td><td style=\"text-align: right;\">   -8</td><td style=\"text-align: right;\">-12.8333</td><td style=\"text-align: right;\"> 14.3333</td></tr>\n",
       "</tbody>\n",
       "</table>"
      ],
      "text/plain": [
       "'<table>\\n<thead>\\n<tr><th>   </th><th style=\"text-align: right;\">  X_1</th><th style=\"text-align: right;\">     X_2</th><th style=\"text-align: right;\">     X_3</th></tr>\\n</thead>\\n<tbody>\\n<tr><td>X_1</td><td style=\"text-align: right;\">   12</td><td style=\"text-align: right;\"> 17     </td><td style=\"text-align: right;\"> -8     </td></tr>\\n<tr><td>X_2</td><td style=\"text-align: right;\">   17</td><td style=\"text-align: right;\"> 24.3333</td><td style=\"text-align: right;\">-12.8333</td></tr>\\n<tr><td>X_3</td><td style=\"text-align: right;\">   -8</td><td style=\"text-align: right;\">-12.8333</td><td style=\"text-align: right;\"> 14.3333</td></tr>\\n</tbody>\\n</table>'"
      ]
     },
     "metadata": {},
     "output_type": "display_data"
    },
    {
     "name": "stdout",
     "output_type": "stream",
     "text": [
      "Обощённая дисперсия: 9.577387902356475e-14\n"
     ]
    }
   ],
   "source": [
    "data = np.array([\n",
    "    [17, 17, 12],\n",
    "    [11,  9, 13],\n",
    "    [11,  8, 19]\n",
    "])\n",
    "\n",
    "cov_matrix = np.cov(data.T)\n",
    "display(tabulate(cov_matrix, \n",
    "                 headers=['X_1', 'X_2', 'X_3'], \n",
    "                 showindex=['X_1', 'X_2', 'X_3'],\n",
    "                 tablefmt='html'))\n",
    "\n",
    "print(f'Обощённая дисперсия: {np.linalg.det(cov_matrix)}')"
   ]
  },
  {
   "cell_type": "markdown",
   "metadata": {},
   "source": [
    "## Task 3"
   ]
  },
  {
   "cell_type": "code",
   "execution_count": 55,
   "metadata": {},
   "outputs": [
    {
     "data": {
      "text/html": [
       "<table>\n",
       "<thead>\n",
       "<tr><th style=\"text-align: right;\">  </th><th style=\"text-align: right;\">   N_a</th><th style=\"text-align: right;\">   N_b</th></tr>\n",
       "</thead>\n",
       "<tbody>\n",
       "<tr><td style=\"text-align: right;\"> 5</td><td style=\"text-align: right;\">0.4791</td><td style=\"text-align: right;\">0.1376</td></tr>\n",
       "<tr><td style=\"text-align: right;\"> 6</td><td style=\"text-align: right;\">0.1573</td><td style=\"text-align: right;\">0.2416</td></tr>\n",
       "<tr><td style=\"text-align: right;\"> 7</td><td style=\"text-align: right;\">0.0244</td><td style=\"text-align: right;\">0.3394</td></tr>\n",
       "</tbody>\n",
       "</table>"
      ],
      "text/plain": [
       "'<table>\\n<thead>\\n<tr><th style=\"text-align: right;\">  </th><th style=\"text-align: right;\">   N_a</th><th style=\"text-align: right;\">   N_b</th></tr>\\n</thead>\\n<tbody>\\n<tr><td style=\"text-align: right;\"> 5</td><td style=\"text-align: right;\">0.4791</td><td style=\"text-align: right;\">0.1376</td></tr>\\n<tr><td style=\"text-align: right;\"> 6</td><td style=\"text-align: right;\">0.1573</td><td style=\"text-align: right;\">0.2416</td></tr>\\n<tr><td style=\"text-align: right;\"> 7</td><td style=\"text-align: right;\">0.0244</td><td style=\"text-align: right;\">0.3394</td></tr>\\n</tbody>\\n</table>'"
      ]
     },
     "metadata": {},
     "output_type": "display_data"
    }
   ],
   "source": [
    "values = [5, 6, 7]\n",
    "\n",
    "N = 10000\n",
    "a_mean, b_mean = 4, 8\n",
    "a_std, b_std = 1, 2\n",
    "\n",
    "Na = np.random.normal(a_mean, a_std, N)\n",
    "Nb = np.random.normal(b_mean, b_std, N)\n",
    "\n",
    "probs = [[np.count_nonzero(np.abs(Na - x) < 1) / N, np.count_nonzero(np.abs(Nb - x) < 1) / N]\n",
    "         for x in values]\n",
    "\n",
    "display(tabulate(probs, \n",
    "                 headers=['N_a', 'N_b'], \n",
    "                 showindex=values,\n",
    "                 tablefmt='html'))"
   ]
  },
  {
   "cell_type": "code",
   "execution_count": 58,
   "metadata": {},
   "outputs": [
    {
     "name": "stdout",
     "output_type": "stream",
     "text": [
      "Значение с равными вероятностями для обоих распределений: 5.655\n",
      "Значение с равными вероятностями для обоих распределений: 5.656499999999999\n",
      "Значение с равными вероятностями для обоих распределений: 5.6579999999999995\n",
      "Значение с равными вероятностями для обоих распределений: 5.6595\n",
      "Значение с равными вероятностями для обоих распределений: 5.6610000000000005\n",
      "Значение с равными вероятностями для обоих распределений: 5.6625\n"
     ]
    },
    {
     "data": {
      "image/png": "[encoded data removed]",
      "text/plain": [
       "<Figure size 432x288 with 1 Axes>"
      ]
     },
     "metadata": {
      "needs_background": "light"
     },
     "output_type": "display_data"
    }
   ],
   "source": [
    "x = np.linspace(0, 15, N)\n",
    "pdf_a = stats.norm.pdf(x, 4, 1)\n",
    "pdf_b = stats.norm.pdf(x, 8, 2)\n",
    "plt.plot(x, pdf_a)\n",
    "plt.plot(x, pdf_b)\n",
    "plt.grid()\n",
    "plt.legend(['$N_a$', '$N_b$'])\n",
    "\n",
    "for i in range(N):\n",
    "    if np.abs(pdf_a[i] - pdf_b[i]) < 0.001 and 1000 < i < 7000:\n",
    "        print(f'Значение с равными вероятностями для обоих распределений: {i / N * 15}')\n",
    "        plt.plot(x[i], stats.norm.pdf(x[i], 4, 1), 'go')"
   ]
  },
  {
   "cell_type": "code",
   "execution_count": null,
   "metadata": {},
   "outputs": [],
   "source": []
  }
 ],
 "metadata": {
  "kernelspec": {
   "display_name": "Python 3",
   "language": "python",
   "name": "python3"
  },
  "language_info": {
   "codemirror_mode": {
    "name": "ipython",
    "version": 3
   },
   "file_extension": ".py",
   "mimetype": "text/x-python",
   "name": "python",
   "nbconvert_exporter": "python",
   "pygments_lexer": "ipython3",
   "version": "3.8.5"
  }
 },
 "nbformat": 4,
 "nbformat_minor": 4
}
