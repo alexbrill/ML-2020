{
 "cells": [
  {
   "cell_type": "code",
   "execution_count": 1,
   "metadata": {},
   "outputs": [],
   "source": [
    "import numpy as np"
   ]
  },
  {
   "cell_type": "code",
   "execution_count": 28,
   "metadata": {},
   "outputs": [
    {
     "name": "stdout",
     "output_type": "stream",
     "text": [
      "[[ 0.    5.86  1.46  4.64]\n",
      " [ 5.86  0.   10.    1.46]\n",
      " [ 1.46 10.    0.    5.86]\n",
      " [ 4.64  1.46  5.86  0.  ]]\n"
     ]
    }
   ],
   "source": [
    "x = np.array([[4, 2.9], [2.5, 1], [3.5, 4], [2, 2.1]])\n",
    "\n",
    "kernel_func = lambda x_i, x_j: np.sum((x_i - x_j) ** 2)\n",
    "kernel_matrix = np.empty([4, 4])\n",
    "\n",
    "for j in range(x.shape[0]):\n",
    "    for i in range(x.shape[0]):\n",
    "        kernel_matrix[i][j] = kernel_func(x[i], x[j])\n",
    "        \n",
    "print(kernel_matrix)"
   ]
  },
  {
   "cell_type": "code",
   "execution_count": 37,
   "metadata": {},
   "outputs": [
    {
     "name": "stdout",
     "output_type": "stream",
     "text": [
      "Mean value: -3.0\n",
      " Covariance matrix: [[ 22.  -47.5]\n",
      " [-47.5 110.5]]\n"
     ]
    }
   ],
   "source": [
    "D = np.array([[8, -20], [0, -1], [10, -19], [10, -20], [2, 0]])\n",
    "\n",
    "print(f\"Mean value: {np.mean(D)}\\n\", f\"Covariance matrix: {np.cov(D, rowvar=False)}\")"
   ]
  },
  {
   "cell_type": "code",
   "execution_count": 38,
   "metadata": {},
   "outputs": [
    {
     "name": "stdout",
     "output_type": "stream",
     "text": [
      "Eigenvalues: [  1.33226359 131.16773641]\n"
     ]
    }
   ],
   "source": [
    "cov_matrix = np.cov(D, rowvar=False)\n",
    "print(f\"Eigenvalues: {np.linalg.eigvals(cov_matrix)}\")"
   ]
  },
  {
   "cell_type": "code",
   "execution_count": 52,
   "metadata": {},
   "outputs": [
    {
     "name": "stdout",
     "output_type": "stream",
     "text": [
      "First primary component: [-8.13363886 12.4804344  -8.01463621 -8.93159638 12.59943705]\n"
     ]
    }
   ],
   "source": [
    "D_mod = D - D.mean(axis=0)\n",
    "eigvals, eigvecs = np.linalg.eig(np.cov(D, rowvar=False))\n",
    "projection = -eigvecs[:, np.argmax(eigvals)]\n",
    "print(f\"First primary component: {np.dot(D_mod, projection)}\")"
   ]
  },
  {
   "cell_type": "code",
   "execution_count": 55,
   "metadata": {},
   "outputs": [
    {
     "data": {
      "image/png": "[encoded data removed]",
      "text/plain": [
       "<Figure size 432x288 with 1 Axes>"
      ]
     },
     "metadata": {
      "needs_background": "light"
     },
     "output_type": "display_data"
    }
   ],
   "source": [
    "import matplotlib.pyplot as plt\n",
    "\n",
    "values = np.random.multivariate_normal(\n",
    "    D.mean(axis=0),\n",
    "    np.cov(D, rowvar=False),\n",
    "    1000)\n",
    "\n",
    "plt.scatter(values[:, 0], values[:, 1]);"
   ]
  },
  {
   "cell_type": "code",
   "execution_count": 57,
   "metadata": {},
   "outputs": [
    {
     "name": "stdout",
     "output_type": "stream",
     "text": [
      "[[ 0.51271419]\n",
      " [-0.51271419]\n",
      " [-0.51271419]\n",
      " [ 0.51271419]]\n"
     ]
    }
   ],
   "source": [
    "from sklearn.decomposition import KernelPCA\n",
    "\n",
    "transformed = kernel_matrix * 0.1 + np.ones((len(x), len(x))) * 10\n",
    "print(KernelPCA(1, kernel='precomputed').fit_transform(transformed@kernel_matrix@transformed))"
   ]
  },
  {
   "cell_type": "code",
   "execution_count": null,
   "metadata": {},
   "outputs": [],
   "source": []
  }
 ],
 "metadata": {
  "kernelspec": {
   "display_name": "Python 3",
   "language": "python",
   "name": "python3"
  },
  "language_info": {
   "codemirror_mode": {
    "name": "ipython",
    "version": 3
   },
   "file_extension": ".py",
   "mimetype": "text/x-python",
   "name": "python",
   "nbconvert_exporter": "python",
   "pygments_lexer": "ipython3",
   "version": "3.8.5"
  }
 },
 "nbformat": 4,
 "nbformat_minor": 4
}
