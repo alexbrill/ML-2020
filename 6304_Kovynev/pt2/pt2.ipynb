{
 "cells": [
  {
   "cell_type": "code",
   "execution_count": 109,
   "metadata": {
    "collapsed": true,
    "pycharm": {
     "is_executing": false
    }
   },
   "outputs": [
    {
     "name": "stdout",
     "text": [
      "[0.0, 5.86, 1.46, 4.64]\n",
      "[5.86, 0.0, 10.0, 1.46]\n",
      "[1.46, 10.0, 0.0, 5.86]\n",
      "[4.64, 1.46, 5.86, 0.0]\n"
     ],
     "output_type": "stream"
    }
   ],
   "source": [
    "import numpy as np\n",
    "from matplotlib import cm\n",
    "from scipy import stats\n",
    "from scipy.stats import multivariate_normal\n",
    "import matplotlib.pyplot as plt\n",
    "from sklearn.decomposition import KernelPCA\n",
    "\n",
    "X = np.array([[4, 2.9], [2.5, 1], [3.5, 4], [2, 2.1]])\n",
    "\n",
    "func = lambda xi, xj: np.linalg.norm(xi - xj) ** 2\n",
    "matrix = [[func(xi, xj) for xi in X] for xj in X]\n",
    "\n",
    "for row in matrix:\n",
    "    print([round(x, 3) for x in row])\n",
    "    "
   ]
  },
  {
   "cell_type": "code",
   "execution_count": 110,
   "outputs": [
    {
     "name": "stdout",
     "text": [
      "Mean: [  6. -12.]\n",
      "Cov:\n",
      " [[ 22.  -47.5]\n",
      " [-47.5 110.5]]\n"
     ],
     "output_type": "stream"
    }
   ],
   "source": [
    "D = np.array([[8, -20], [0, -1], [10, -19], [10, -20], [2, 0]])\n",
    "print('Mean:', np.mean(D, axis=0))\n",
    "\n",
    "cov_m = np.cov(D, rowvar=False)\n",
    "print('Cov:\\n', cov_m)"
   ],
   "metadata": {
    "collapsed": false,
    "pycharm": {
     "name": "#%%\n",
     "is_executing": false
    }
   }
  },
  {
   "cell_type": "code",
   "execution_count": 111,
   "outputs": [
    {
     "name": "stdout",
     "text": [
      "Eig vals: [  1.332 131.168]\n",
      "Eig vecs:\n",
      " [[-0.917  0.399]\n",
      " [-0.399 -0.917]]\n"
     ],
     "output_type": "stream"
    }
   ],
   "source": [
    "cov_m = np.cov(D, rowvar=False)\n",
    "eigvals = np.linalg.eig(cov_m)[0]\n",
    "eigvecs =  np.linalg.eig(cov_m)[1]\n",
    "print('Eig vals:',eigvals)\n",
    "print('Eig vecs:\\n',eigvecs)"
   ],
   "metadata": {
    "collapsed": false,
    "pycharm": {
     "name": "#%%\n",
     "is_executing": false
    }
   }
  },
  {
   "cell_type": "code",
   "execution_count": 112,
   "outputs": [
    {
     "name": "stdout",
     "text": [
      "Size: 5 x 2\n"
     ],
     "output_type": "stream"
    }
   ],
   "source": [
    "print('Size:', len(D), 'x',len(D[0]))\n"
   ],
   "metadata": {
    "collapsed": false,
    "pycharm": {
     "name": "#%%\n",
     "is_executing": false
    }
   }
  },
  {
   "cell_type": "code",
   "execution_count": 113,
   "outputs": [
    {
     "name": "stdout",
     "text": [
      "First pc:\n",
      " [-8.134 12.48  -8.015 -8.932 12.599]\n"
     ],
     "output_type": "stream"
    }
   ],
   "source": [
    "D_centered = D - np.mean(D, axis=0)\n",
    "projection = -eigvecs[:, np.argmax(eigvals)]\n",
    "print('First pc:\\n', np.dot(D_centered, projection))"
   ],
   "metadata": {
    "collapsed": false,
    "pycharm": {
     "name": "#%%\n",
     "is_executing": false
    }
   }
  },
  {
   "cell_type": "code",
   "execution_count": 114,
   "outputs": [
    {
     "data": {
      "text/plain": "[<matplotlib.lines.Line2D at 0x1f629057208>]"
     },
     "metadata": {},
     "output_type": "execute_result",
     "execution_count": 114
    },
    {
     "data": {
      "text/plain": "<Figure size 432x288 with 1 Axes>",
      "image/png": "[encoded data removed]"
     },
     "metadata": {
      "needs_background": "light"
     },
     "output_type": "display_data"
    }
   ],
   "source": [
    "mean = np.mean(D, axis=0)\n",
    "cov_m = np.cov(D, rowvar=False)\n",
    "\n",
    "rv = np.random.multivariate_normal(mean, cov_m, 3000)\n",
    "plt.plot(rv[:,0], rv[:,1], '.')"
   ],
   "metadata": {
    "collapsed": false,
    "pycharm": {
     "name": "#%%\n",
     "is_executing": false
    }
   }
  },
  {
   "cell_type": "code",
   "execution_count": 115,
   "outputs": [
    {
     "name": "stdout",
     "text": [
      "[[ 10.254]\n",
      " [-10.254]\n",
      " [-10.254]\n",
      " [ 10.254]]\n"
     ],
     "output_type": "stream"
    },
    {
     "name": "stderr",
     "text": [
      "d:\\documents\\development\\python projects\\untitled5\\venv\\lib\\site-packages\\sklearn\\utils\\validation.py:70: FutureWarning: Pass kernel=precomputed as keyword args. From version 0.25 passing these as positional arguments will result in an error\n",
      "  FutureWarning)\n"
     ],
     "output_type": "stream"
    }
   ],
   "source": [
    "alpha, beta = 2, 5\n",
    "tranform_m = np.array(matrix) * alpha + np.ones((len(X), len(X))) * beta\n",
    "print(KernelPCA(1, 'precomputed').fit_transform(tranform_m@matrix@tranform_m))"
   ],
   "metadata": {
    "collapsed": false,
    "pycharm": {
     "name": "#%%\n",
     "is_executing": false
    }
   }
  }
 ],
 "metadata": {
  "kernelspec": {
   "name": "python3",
   "language": "python",
   "display_name": "Python 3"
  },
  "language_info": {
   "codemirror_mode": {
    "name": "ipython",
    "version": 2
   },
   "file_extension": ".py",
   "mimetype": "text/x-python",
   "name": "python",
   "nbconvert_exporter": "python",
   "pygments_lexer": "ipython2",
   "version": "2.7.6"
  },
  "pycharm": {
   "stem_cell": {
    "cell_type": "raw",
    "source": [],
    "metadata": {
     "collapsed": false
    }
   }
  }
 },
 "nbformat": 4,
 "nbformat_minor": 0
}