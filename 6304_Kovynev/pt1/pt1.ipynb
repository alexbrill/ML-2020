{
 "cells": [
  {
   "cell_type": "code",
   "execution_count": 101,
   "metadata": {
    "collapsed": true,
    "pycharm": {
     "is_executing": false,
     "name": "#%% \n"
    }
   },
   "outputs": [
    {
     "name": "stdout",
     "text": [
      "Mean X = 71.45\n",
      "Median X = 71.5\n",
      "Mode X = 74\n"
     ],
     "output_type": "stream"
    }
   ],
   "source": [
    "from statistics import mean, median, mode, pvariance\n",
    "import numpy as np\n",
    "import matplotlib.pyplot as plt\n",
    "from scipy import stats\n",
    "from scipy.optimize import root\n",
    "from scipy.stats import norm"
   ]
  },
  {
   "cell_type": "code",
   "execution_count": null,
   "outputs": [],
   "source": [
    "# A. Найти среднее, медиану и моду величины X"
   ],
   "metadata": {
    "collapsed": false,
    "pycharm": {
     "name": "#%% md  \n"
    }
   }
  },
  {
   "cell_type": "code",
   "execution_count": null,
   "outputs": [],
   "source": [
    "X = [69, 74, 68, 70, 72, 67, 66, 70, 76, 68, 72, 79, 74, 67, 66, 71, 74, 75, 75, 76]\n",
    "Y = [153, 175, 155, 135, 172, 150, 115, 137, 200, 130, 140, 265, 185, 112, 140,  150, 165, 185, 210, 220]\n",
    "\n",
    "print('Mean X =', mean(X))\n",
    "print('Median X =', median(X))\n",
    "print('Mode X =', mode(X))"
   ],
   "metadata": {
    "collapsed": false,
    "pycharm": {
     "name": "#%% \n"
    }
   }
  },
  {
   "cell_type": "code",
   "execution_count": 102,
   "outputs": [
    {
     "name": "stdout",
     "text": [
      "Variance Y = 1369.21\n"
     ],
     "output_type": "stream"
    }
   ],
   "source": [
    "# var = E([X - E(X)] ^ 2) \n",
    "print('Variance Y =', mean([(y - mean(Y)) ** 2 for y in Y]))"
   ],
   "metadata": {
    "collapsed": false,
    "pycharm": {
     "name": "#%%\n",
     "is_executing": false
    }
   }
  },
  {
   "cell_type": "code",
   "execution_count": 103,
   "outputs": [
    {
     "data": {
      "text/plain": "<Figure size 432x288 with 1 Axes>",
      "image/png": "[encoded data removed]"
     },
     "metadata": {
      "needs_background": "light"
     },
     "output_type": "display_data"
    }
   ],
   "source": [
    "var = pvariance(X)\n",
    "x_ax = np.arange(min(X), max(X), 0.1)\n",
    "y_ax = [1 / (var * np.sqrt(2 * np.pi )) * np.exp(- (x - mean(X)) ** 2/ (2 * var ** 2)) for x in x_ax]\n",
    "plt.plot(x_ax, y_ax)\n",
    "plt.show()"
   ],
   "metadata": {
    "collapsed": false,
    "pycharm": {
     "name": "#%%\n",
     "is_executing": false
    }
   }
  },
  {
   "cell_type": "code",
   "execution_count": 104,
   "outputs": [
    {
     "name": "stdout",
     "text": [
      "p(x>80) = 0.0\n"
     ],
     "output_type": "stream"
    }
   ],
   "source": [
    "print('p(x>80) =', sum(list(map(lambda x: x > 80, X))) / len(X))"
   ],
   "metadata": {
    "collapsed": false,
    "pycharm": {
     "name": "#%%\n",
     "is_executing": false
    }
   }
  },
  {
   "cell_type": "code",
   "execution_count": 105,
   "outputs": [
    {
     "name": "stdout",
     "text": [
      "mean(X, Y) = [ 71.45 164.7 ]\n",
      "cov(X,Y) =\n",
      " [[  14.57631579  128.87894737]\n",
      " [ 128.87894737 1441.27368421]]\n"
     ],
     "output_type": "stream"
    }
   ],
   "source": [
    "print('mean(X, Y) =', np.mean([X, Y], axis=1))\n",
    "print('cov(X,Y) =\\n', np.cov([X, Y]))"
   ],
   "metadata": {
    "collapsed": false,
    "pycharm": {
     "name": "#%%\n",
     "is_executing": false
    }
   }
  },
  {
   "cell_type": "code",
   "execution_count": 106,
   "outputs": [
    {
     "name": "stdout",
     "text": [
      "cor(X, Y) = 0.8891701351748014\n"
     ],
     "output_type": "stream"
    }
   ],
   "source": [
    "XY = [e[0] * e[1] for e in zip(X, Y)]\n",
    "print('cor(X, Y) =', (mean(XY) - mean(X) * mean(Y)) / (np.sqrt(pvariance(X) * pvariance(Y))) )"
   ],
   "metadata": {
    "collapsed": false,
    "pycharm": {
     "name": "#%%\n",
     "is_executing": false
    }
   }
  },
  {
   "cell_type": "code",
   "execution_count": 107,
   "outputs": [
    {
     "data": {
      "text/plain": "<Figure size 432x288 with 1 Axes>",
      "image/png": "[encoded data removed]"
     },
     "metadata": {
      "needs_background": "light"
     },
     "output_type": "display_data"
    }
   ],
   "source": [
    "plt.scatter(X, Y)\n",
    "plt.show()"
   ],
   "metadata": {
    "collapsed": false,
    "pycharm": {
     "name": "#%%\n",
     "is_executing": false
    }
   }
  },
  {
   "cell_type": "code",
   "execution_count": 108,
   "outputs": [
    {
     "name": "stdout",
     "text": [
      "cov(X1, X2, X3) =\n",
      " [[ 12.          17.          -8.        ]\n",
      " [ 17.          24.33333333 -12.83333333]\n",
      " [ -8.         -12.83333333  14.33333333]]\n",
      "variance = 0.0\n"
     ],
     "output_type": "stream"
    }
   ],
   "source": [
    "X1 = [17, 11, 11]\n",
    "X2 = [17, 9, 8]\n",
    "X3 = [12, 13, 19]\n",
    "\n",
    "cov = np.cov([X1, X2, X3])\n",
    "print('cov(X1, X2, X3) =\\n', cov)\n",
    "print('variance =', np.linalg.det(cov))"
   ],
   "metadata": {
    "collapsed": false,
    "pycharm": {
     "name": "#%%\n",
     "is_executing": false
    }
   }
  },
  {
   "cell_type": "code",
   "execution_count": 109,
   "outputs": [
    {
     "name": "stdout",
     "text": [
      "Value of 5 is more likely to be generated by the A distribution\n",
      "Value of 6 is more likely to be generated by the B distribution\n",
      "Value of 6 is more likely to be generated by the B distribution\n",
      "Value that will be equally likely generated by the two distributions is [5.65990966]\n"
     ],
     "output_type": "stream"
    },
    {
     "data": {
      "text/plain": "<Figure size 432x288 with 1 Axes>",
      "image/png": "[encoded data removed]"
     },
     "metadata": {
      "needs_background": "light"
     },
     "output_type": "display_data"
    }
   ],
   "source": [
    "N_a_mean, N_b_mean = 4, 8\n",
    "N_a_stdev, N_b_stdev = 1, 2\n",
    "x_ax = np.arange(0, 15, 0.1)\n",
    "\n",
    "A = stats.norm.pdf(x_ax, N_a_mean, N_a_stdev)\n",
    "B = stats.norm.pdf(x_ax, N_b_mean, N_b_stdev)\n",
    "\n",
    "plt.plot(x_ax, A)\n",
    "plt.plot(x_ax, B)\n",
    "\n",
    "def get_p_by_value(v):\n",
    "    i = np.where(x_ax == v)[0][0]\n",
    "    return 'A' if A[i] >= B[i] else 'B'\n",
    "\n",
    "def get_eq():\n",
    "    return root(lambda x: norm.pdf(x, N_a_mean, N_a_stdev) - norm.pdf(x, N_b_mean, N_b_stdev), 5).x[0]\n",
    "\n",
    "print(f'Value of 5 is more likely to be generated by the {get_p_by_value(5)} distribution')\n",
    "print(f'Value of 6 is more likely to be generated by the {get_p_by_value(6)} distribution')\n",
    "print(f'Value of 6 is more likely to be generated by the {get_p_by_value(7)} distribution')\n",
    "\n",
    "print(f'Value that will be equally likely generated by the two distributions is {get_eq()}')\n",
    "\n",
    "\n"
   ],
   "metadata": {
    "collapsed": false,
    "pycharm": {
     "name": "#%%\n",
     "is_executing": false
    }
   }
  }
 ],
 "metadata": {
  "kernelspec": {
   "display_name": "Python 3",
   "language": "python",
   "name": "python3"
  },
  "language_info": {
   "codemirror_mode": {
    "name": "ipython",
    "version": 2
   },
   "file_extension": ".py",
   "mimetype": "text/x-python",
   "name": "python",
   "nbconvert_exporter": "python",
   "pygments_lexer": "ipython2",
   "version": "2.7.6"
  },
  "pycharm": {
   "stem_cell": {
    "cell_type": "raw",
    "source": [],
    "metadata": {
     "collapsed": false
    }
   }
  }
 },
 "nbformat": 4,
 "nbformat_minor": 0
}