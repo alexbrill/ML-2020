{
 "cells": [
  {
   "cell_type": "markdown",
   "metadata": {
    "collapsed": true,
    "pycharm": {
     "name": "#%% md\n"
    }
   },
   "source": [
    "# Практическая работа №1"
   ]
  },
  {
   "cell_type": "markdown",
   "metadata": {
    "pycharm": {
     "name": "#%% md\n"
    }
   },
   "source": [
    "## Задание 1"
   ]
  },
  {
   "cell_type": "code",
   "execution_count": 12,
   "metadata": {
    "pycharm": {
     "name": "#%%\n"
    }
   },
   "outputs": [],
   "source": [
    "import pandas as pd\n",
    "import matplotlib.pyplot as plt\n",
    "from sklearn import preprocessing\n",
    "from scipy import stats\n",
    "import scipy\n",
    "import numpy as np\n",
    "\n",
    "# Data\n",
    "X = np.array([69, 74, 68, 70, 72, 67, 66, 70, 76, 68, 72, 79, 74, 67, 66, 71, 74, 75, 75, 76])\n",
    "Y = np.array([153, 175, 155, 135, 172, 150, 115, 137, 200, 130, 140, 265, 185, 112, 140,  150, 165, 185, 210, 220])"
   ]
  },
  {
   "cell_type": "markdown",
   "metadata": {
    "pycharm": {
     "name": "#%% md\n"
    }
   },
   "source": [
    "### A. Найти среднее, медиану и моду величины X"
   ]
  },
  {
   "cell_type": "code",
   "execution_count": 3,
   "metadata": {
    "pycharm": {
     "name": "#%%\n"
    }
   },
   "outputs": [
    {
     "name": "stdout",
     "output_type": "stream",
     "text": [
      "Среднее: 71.45, Медиана: 71.5, Мода: 74\n"
     ]
    }
   ],
   "source": [
    "print(f\"Среднее: {np.mean(X)}, Медиана: {np.median(X)}, Мода: {stats.mode(X)[0][0]}\")"
   ]
  },
  {
   "cell_type": "markdown",
   "metadata": {},
   "source": [
    "### B. Найти дисперсию Y"
   ]
  },
  {
   "cell_type": "code",
   "execution_count": 4,
   "metadata": {},
   "outputs": [
    {
     "name": "stdout",
     "output_type": "stream",
     "text": [
      "Дисперсия Y: 1369.21\n"
     ]
    }
   ],
   "source": [
    "print(f\"Дисперсия Y: {round(np.var(Y), 2)}\")"
   ]
  },
  {
   "cell_type": "markdown",
   "metadata": {},
   "source": [
    "### C. Построить график нормального распределения для X"
   ]
  },
  {
   "cell_type": "code",
   "execution_count": 5,
   "metadata": {},
   "outputs": [
    {
     "data": {
      "image/png": "[encoded data removed]",
      "text/plain": [
       "<Figure size 432x288 with 1 Axes>"
      ]
     },
     "metadata": {
      "needs_background": "light"
     },
     "output_type": "display_data"
    }
   ],
   "source": [
    "x = np.linspace(X.min(), X.max(), 1000000)\n",
    "plt.plot(x, stats.norm.pdf(x, np.mean(X), np.sqrt(np.var(X))))\n",
    "plt.show()"
   ]
  },
  {
   "cell_type": "markdown",
   "metadata": {},
   "source": [
    "### D. Найти вероятность того, что возраст больше 80"
   ]
  },
  {
   "cell_type": "code",
   "execution_count": 6,
   "metadata": {},
   "outputs": [
    {
     "name": "stdout",
     "output_type": "stream",
     "text": [
      "0.0\n"
     ]
    }
   ],
   "source": [
    "print(np.count_nonzero(X > 80) / len(X))"
   ]
  },
  {
   "cell_type": "markdown",
   "metadata": {},
   "source": [
    "### E. Найти двумерное мат. ожидания и ковариационную матрицу для этих двух величин"
   ]
  },
  {
   "cell_type": "code",
   "execution_count": 7,
   "metadata": {},
   "outputs": [
    {
     "name": "stdout",
     "output_type": "stream",
     "text": [
      "Мат. ожидание: [ 71.45 164.7 ] \n",
      "Ковариационная матрица: \n",
      " [[  14.57631579  128.87894737]\n",
      " [ 128.87894737 1441.27368421]]\n"
     ]
    }
   ],
   "source": [
    "print(f\"Мат. ожидание: {np.mean([X, Y], axis=1)} \\nКовариационная матрица: \\n {np.cov([X,Y])}\")"
   ]
  },
  {
   "cell_type": "markdown",
   "metadata": {},
   "source": [
    "F. Определять кореляцию между X и Y"
   ]
  },
  {
   "cell_type": "code",
   "execution_count": 8,
   "metadata": {},
   "outputs": [
    {
     "name": "stdout",
     "output_type": "stream",
     "text": [
      "0.8891701351748048\n"
     ]
    }
   ],
   "source": [
    "print(np.corrcoef(X, Y)[0, 1])"
   ]
  },
  {
   "cell_type": "markdown",
   "metadata": {},
   "source": [
    "### G. Построить диаграмму рассеяния, отображающая зависимость между возрастом и весом"
   ]
  },
  {
   "cell_type": "code",
   "execution_count": 9,
   "metadata": {},
   "outputs": [
    {
     "data": {
      "image/png": "[encoded data removed]",
      "text/plain": [
       "<Figure size 432x288 with 1 Axes>"
      ]
     },
     "metadata": {
      "needs_background": "light"
     },
     "output_type": "display_data"
    }
   ],
   "source": [
    "plt.scatter(X, Y)\n",
    "plt.show()"
   ]
  },
  {
   "cell_type": "markdown",
   "metadata": {},
   "source": [
    "## Задание 2"
   ]
  },
  {
   "cell_type": "code",
   "execution_count": 10,
   "metadata": {},
   "outputs": [
    {
     "name": "stdout",
     "output_type": "stream",
     "text": [
      "Ковариационная матрица: \n",
      "[[ 12.          17.          -8.        ]\n",
      " [ 17.          24.33333333 -12.83333333]\n",
      " [ -8.         -12.83333333  14.33333333]]\n",
      "Обобщенная дисперсия: 0.0\n"
     ]
    }
   ],
   "source": [
    "X1 = [17, 11, 11]\n",
    "X2 = [17, 9, 8]\n",
    "X3 = [12, 13, 19]\n",
    "m = np.cov([X1, X2, X3])\n",
    "print(f'Ковариационная матрица: \\n{m}')\n",
    "print(f'Обобщенная дисперсия: {np.linalg.det(m)}')"
   ]
  },
  {
   "cell_type": "markdown",
   "metadata": {},
   "source": [
    "## Задание 3"
   ]
  },
  {
   "cell_type": "code",
   "execution_count": 14,
   "metadata": {},
   "outputs": [
    {
     "data": {
      "image/png": "[encoded data removed]",
      "text/plain": [
       "<Figure size 432x288 with 1 Axes>"
      ]
     },
     "metadata": {
      "needs_background": "light"
     },
     "output_type": "display_data"
    },
    {
     "name": "stdout",
     "output_type": "stream",
     "text": [
      "    fjac: array([[-1.]])\n",
      "     fun: array([4.16333634e-17])\n",
      " message: 'The solution converged.'\n",
      "    nfev: 8\n",
      "     qtf: array([4.49894288e-12])\n",
      "       r: array([-0.22584348])\n",
      "  status: 1\n",
      " success: True\n",
      "       x: array([5.65990966])\n"
     ]
    }
   ],
   "source": [
    "x = np.linspace(0, 15, 1000000)\n",
    "a = stats.norm.pdf(x, 4, 1)\n",
    "b = stats.norm.pdf(x, 8, 2)\n",
    "plt.plot(x, a)\n",
    "plt.plot(x, b)\n",
    "plt.show()\n",
    "\n",
    "result = scipy.optimize.root(lambda x: stats.norm.pdf(x, 8, 2) - stats.norm.pdf(x, 4, 1), 5)\n",
    "print(result)"
   ]
  },
  {
   "cell_type": "markdown",
   "metadata": {},
   "source": [
    "С большей вероятностью значение 5 сгенерировало первое распределение\n",
    "\n",
    "С большей вероятностью значение 6 сгенерировало второе распределение\n",
    "\n",
    "С большей вероятностью значение 7 сгенерировало второе распределение\n",
    "\n",
    "Значение с одниковой вероятностью: 5.65990966"
   ]
  },
  {
   "cell_type": "code",
   "execution_count": null,
   "metadata": {},
   "outputs": [],
   "source": []
  }
 ],
 "metadata": {
  "kernelspec": {
   "display_name": "Python 3",
   "language": "python",
   "name": "python3"
  },
  "language_info": {
   "codemirror_mode": {
    "name": "ipython",
    "version": 3
   },
   "file_extension": ".py",
   "mimetype": "text/x-python",
   "name": "python",
   "nbconvert_exporter": "python",
   "pygments_lexer": "ipython3",
   "version": "3.7.5"
  },
  "pycharm": {
   "stem_cell": {
    "cell_type": "raw",
    "metadata": {
     "collapsed": false
    },
    "source": []
   }
  }
 },
 "nbformat": 4,
 "nbformat_minor": 1
}
