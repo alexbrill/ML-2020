{
 "metadata": {
  "language_info": {
   "codemirror_mode": {
    "name": "ipython",
    "version": 3
   },
   "file_extension": ".py",
   "mimetype": "text/x-python",
   "name": "python",
   "nbconvert_exporter": "python",
   "pygments_lexer": "ipython3",
   "version": "3.8.5-final"
  },
  "orig_nbformat": 2,
  "kernelspec": {
   "name": "python38564bitmyenvconda58ef8792a54041b88d72998b6d5ef7ae",
   "display_name": "Python 3.8.5 64-bit ('myenv': conda)"
  }
 },
 "nbformat": 4,
 "nbformat_minor": 2,
 "cells": [
  {
   "cell_type": "code",
   "execution_count": 1,
   "metadata": {},
   "outputs": [],
   "source": [
    "import pandas as pd \n",
    "import numpy as np "
   ]
  },
  {
   "cell_type": "code",
   "execution_count": 11,
   "metadata": {},
   "outputs": [],
   "source": [
    "all_data = pd.read_csv('groceries - groceries.csv')"
   ]
  },
  {
   "cell_type": "code",
   "execution_count": 12,
   "metadata": {},
   "outputs": [
    {
     "output_type": "execute_result",
     "data": {
      "text/plain": [
       "      Item(s)               Item 1               Item 2            Item 3  \\\n",
       "0           4         citrus fruit  semi-finished bread         margarine   \n",
       "1           3       tropical fruit               yogurt            coffee   \n",
       "2           1           whole milk                  NaN               NaN   \n",
       "3           4            pip fruit               yogurt      cream cheese   \n",
       "4           4     other vegetables           whole milk    condensed milk   \n",
       "...       ...                  ...                  ...               ...   \n",
       "9830       17              sausage              chicken              beef   \n",
       "9831        1    cooking chocolate                  NaN               NaN   \n",
       "9832       10              chicken         citrus fruit  other vegetables   \n",
       "9833        4  semi-finished bread        bottled water              soda   \n",
       "9834        5              chicken       tropical fruit  other vegetables   \n",
       "\n",
       "                        Item 4         Item 5          Item 6  \\\n",
       "0                  ready soups            NaN             NaN   \n",
       "1                          NaN            NaN             NaN   \n",
       "2                          NaN            NaN             NaN   \n",
       "3                 meat spreads            NaN             NaN   \n",
       "4     long life bakery product            NaN             NaN   \n",
       "...                        ...            ...             ...   \n",
       "9830            hamburger meat   citrus fruit          grapes   \n",
       "9831                       NaN            NaN             NaN   \n",
       "9832                    butter         yogurt  frozen dessert   \n",
       "9833              bottled beer            NaN             NaN   \n",
       "9834                   vinegar  shopping bags             NaN   \n",
       "\n",
       "               Item 7      Item 8  Item 9  ... Item 23 Item 24 Item 25  \\\n",
       "0                 NaN         NaN     NaN  ...     NaN     NaN     NaN   \n",
       "1                 NaN         NaN     NaN  ...     NaN     NaN     NaN   \n",
       "2                 NaN         NaN     NaN  ...     NaN     NaN     NaN   \n",
       "3                 NaN         NaN     NaN  ...     NaN     NaN     NaN   \n",
       "4                 NaN         NaN     NaN  ...     NaN     NaN     NaN   \n",
       "...               ...         ...     ...  ...     ...     ...     ...   \n",
       "9830  root vegetables  whole milk  butter  ...     NaN     NaN     NaN   \n",
       "9831              NaN         NaN     NaN  ...     NaN     NaN     NaN   \n",
       "9832    domestic eggs  rolls/buns     rum  ...     NaN     NaN     NaN   \n",
       "9833              NaN         NaN     NaN  ...     NaN     NaN     NaN   \n",
       "9834              NaN         NaN     NaN  ...     NaN     NaN     NaN   \n",
       "\n",
       "     Item 26 Item 27 Item 28 Item 29 Item 30 Item 31 Item 32  \n",
       "0        NaN     NaN     NaN     NaN     NaN     NaN     NaN  \n",
       "1        NaN     NaN     NaN     NaN     NaN     NaN     NaN  \n",
       "2        NaN     NaN     NaN     NaN     NaN     NaN     NaN  \n",
       "3        NaN     NaN     NaN     NaN     NaN     NaN     NaN  \n",
       "4        NaN     NaN     NaN     NaN     NaN     NaN     NaN  \n",
       "...      ...     ...     ...     ...     ...     ...     ...  \n",
       "9830     NaN     NaN     NaN     NaN     NaN     NaN     NaN  \n",
       "9831     NaN     NaN     NaN     NaN     NaN     NaN     NaN  \n",
       "9832     NaN     NaN     NaN     NaN     NaN     NaN     NaN  \n",
       "9833     NaN     NaN     NaN     NaN     NaN     NaN     NaN  \n",
       "9834     NaN     NaN     NaN     NaN     NaN     NaN     NaN  \n",
       "\n",
       "[9835 rows x 33 columns]"
      ],
      "text/html": "<div>\n<style scoped>\n    .dataframe tbody tr th:only-of-type {\n        vertical-align: middle;\n    }\n\n    .dataframe tbody tr th {\n        vertical-align: top;\n    }\n\n    .dataframe thead th {\n        text-align: right;\n    }\n</style>\n<table border=\"1\" class=\"dataframe\">\n  <thead>\n    <tr style=\"text-align: right;\">\n      <th></th>\n      <th>Item(s)</th>\n      <th>Item 1</th>\n      <th>Item 2</th>\n      <th>Item 3</th>\n      <th>Item 4</th>\n      <th>Item 5</th>\n      <th>Item 6</th>\n      <th>Item 7</th>\n      <th>Item 8</th>\n      <th>Item 9</th>\n      <th>...</th>\n      <th>Item 23</th>\n      <th>Item 24</th>\n      <th>Item 25</th>\n      <th>Item 26</th>\n      <th>Item 27</th>\n      <th>Item 28</th>\n      <th>Item 29</th>\n      <th>Item 30</th>\n      <th>Item 31</th>\n      <th>Item 32</th>\n    </tr>\n  </thead>\n  <tbody>\n    <tr>\n      <th>0</th>\n      <td>4</td>\n      <td>citrus fruit</td>\n      <td>semi-finished bread</td>\n      <td>margarine</td>\n      <td>ready soups</td>\n      <td>NaN</td>\n      <td>NaN</td>\n      <td>NaN</td>\n      <td>NaN</td>\n      <td>NaN</td>\n      <td>...</td>\n      <td>NaN</td>\n      <td>NaN</td>\n      <td>NaN</td>\n      <td>NaN</td>\n      <td>NaN</td>\n      <td>NaN</td>\n      <td>NaN</td>\n      <td>NaN</td>\n      <td>NaN</td>\n      <td>NaN</td>\n    </tr>\n    <tr>\n      <th>1</th>\n      <td>3</td>\n      <td>tropical fruit</td>\n      <td>yogurt</td>\n      <td>coffee</td>\n      <td>NaN</td>\n      <td>NaN</td>\n      <td>NaN</td>\n      <td>NaN</td>\n      <td>NaN</td>\n      <td>NaN</td>\n      <td>...</td>\n      <td>NaN</td>\n      <td>NaN</td>\n      <td>NaN</td>\n      <td>NaN</td>\n      <td>NaN</td>\n      <td>NaN</td>\n      <td>NaN</td>\n      <td>NaN</td>\n      <td>NaN</td>\n      <td>NaN</td>\n    </tr>\n    <tr>\n      <th>2</th>\n      <td>1</td>\n      <td>whole milk</td>\n      <td>NaN</td>\n      <td>NaN</td>\n      <td>NaN</td>\n      <td>NaN</td>\n      <td>NaN</td>\n      <td>NaN</td>\n      <td>NaN</td>\n      <td>NaN</td>\n      <td>...</td>\n      <td>NaN</td>\n      <td>NaN</td>\n      <td>NaN</td>\n      <td>NaN</td>\n      <td>NaN</td>\n      <td>NaN</td>\n      <td>NaN</td>\n      <td>NaN</td>\n      <td>NaN</td>\n      <td>NaN</td>\n    </tr>\n    <tr>\n      <th>3</th>\n      <td>4</td>\n      <td>pip fruit</td>\n      <td>yogurt</td>\n      <td>cream cheese</td>\n      <td>meat spreads</td>\n      <td>NaN</td>\n      <td>NaN</td>\n      <td>NaN</td>\n      <td>NaN</td>\n      <td>NaN</td>\n      <td>...</td>\n      <td>NaN</td>\n      <td>NaN</td>\n      <td>NaN</td>\n      <td>NaN</td>\n      <td>NaN</td>\n      <td>NaN</td>\n      <td>NaN</td>\n      <td>NaN</td>\n      <td>NaN</td>\n      <td>NaN</td>\n    </tr>\n    <tr>\n      <th>4</th>\n      <td>4</td>\n      <td>other vegetables</td>\n      <td>whole milk</td>\n      <td>condensed milk</td>\n      <td>long life bakery product</td>\n      <td>NaN</td>\n      <td>NaN</td>\n      <td>NaN</td>\n      <td>NaN</td>\n      <td>NaN</td>\n      <td>...</td>\n      <td>NaN</td>\n      <td>NaN</td>\n      <td>NaN</td>\n      <td>NaN</td>\n      <td>NaN</td>\n      <td>NaN</td>\n      <td>NaN</td>\n      <td>NaN</td>\n      <td>NaN</td>\n      <td>NaN</td>\n    </tr>\n    <tr>\n      <th>...</th>\n      <td>...</td>\n      <td>...</td>\n      <td>...</td>\n      <td>...</td>\n      <td>...</td>\n      <td>...</td>\n      <td>...</td>\n      <td>...</td>\n      <td>...</td>\n      <td>...</td>\n      <td>...</td>\n      <td>...</td>\n      <td>...</td>\n      <td>...</td>\n      <td>...</td>\n      <td>...</td>\n      <td>...</td>\n      <td>...</td>\n      <td>...</td>\n      <td>...</td>\n      <td>...</td>\n    </tr>\n    <tr>\n      <th>9830</th>\n      <td>17</td>\n      <td>sausage</td>\n      <td>chicken</td>\n      <td>beef</td>\n      <td>hamburger meat</td>\n      <td>citrus fruit</td>\n      <td>grapes</td>\n      <td>root vegetables</td>\n      <td>whole milk</td>\n      <td>butter</td>\n      <td>...</td>\n      <td>NaN</td>\n      <td>NaN</td>\n      <td>NaN</td>\n      <td>NaN</td>\n      <td>NaN</td>\n      <td>NaN</td>\n      <td>NaN</td>\n      <td>NaN</td>\n      <td>NaN</td>\n      <td>NaN</td>\n    </tr>\n    <tr>\n      <th>9831</th>\n      <td>1</td>\n      <td>cooking chocolate</td>\n      <td>NaN</td>\n      <td>NaN</td>\n      <td>NaN</td>\n      <td>NaN</td>\n      <td>NaN</td>\n      <td>NaN</td>\n      <td>NaN</td>\n      <td>NaN</td>\n      <td>...</td>\n      <td>NaN</td>\n      <td>NaN</td>\n      <td>NaN</td>\n      <td>NaN</td>\n      <td>NaN</td>\n      <td>NaN</td>\n      <td>NaN</td>\n      <td>NaN</td>\n      <td>NaN</td>\n      <td>NaN</td>\n    </tr>\n    <tr>\n      <th>9832</th>\n      <td>10</td>\n      <td>chicken</td>\n      <td>citrus fruit</td>\n      <td>other vegetables</td>\n      <td>butter</td>\n      <td>yogurt</td>\n      <td>frozen dessert</td>\n      <td>domestic eggs</td>\n      <td>rolls/buns</td>\n      <td>rum</td>\n      <td>...</td>\n      <td>NaN</td>\n      <td>NaN</td>\n      <td>NaN</td>\n      <td>NaN</td>\n      <td>NaN</td>\n      <td>NaN</td>\n      <td>NaN</td>\n      <td>NaN</td>\n      <td>NaN</td>\n      <td>NaN</td>\n    </tr>\n    <tr>\n      <th>9833</th>\n      <td>4</td>\n      <td>semi-finished bread</td>\n      <td>bottled water</td>\n      <td>soda</td>\n      <td>bottled beer</td>\n      <td>NaN</td>\n      <td>NaN</td>\n      <td>NaN</td>\n      <td>NaN</td>\n      <td>NaN</td>\n      <td>...</td>\n      <td>NaN</td>\n      <td>NaN</td>\n      <td>NaN</td>\n      <td>NaN</td>\n      <td>NaN</td>\n      <td>NaN</td>\n      <td>NaN</td>\n      <td>NaN</td>\n      <td>NaN</td>\n      <td>NaN</td>\n    </tr>\n    <tr>\n      <th>9834</th>\n      <td>5</td>\n      <td>chicken</td>\n      <td>tropical fruit</td>\n      <td>other vegetables</td>\n      <td>vinegar</td>\n      <td>shopping bags</td>\n      <td>NaN</td>\n      <td>NaN</td>\n      <td>NaN</td>\n      <td>NaN</td>\n      <td>...</td>\n      <td>NaN</td>\n      <td>NaN</td>\n      <td>NaN</td>\n      <td>NaN</td>\n      <td>NaN</td>\n      <td>NaN</td>\n      <td>NaN</td>\n      <td>NaN</td>\n      <td>NaN</td>\n      <td>NaN</td>\n    </tr>\n  </tbody>\n</table>\n<p>9835 rows × 33 columns</p>\n</div>"
     },
     "metadata": {},
     "execution_count": 12
    }
   ],
   "source": [
    "all_data"
   ]
  },
  {
   "cell_type": "code",
   "execution_count": 14,
   "metadata": {},
   "outputs": [],
   "source": [
    "np_data = all_data.to_numpy()\n",
    "np_data = [[elem for elem in row[1:] if isinstance(elem,str)] for row in np_data]"
   ]
  },
  {
   "cell_type": "code",
   "execution_count": 17,
   "metadata": {},
   "outputs": [],
   "source": [
    "unique_items = set()\n",
    "for row in np_data:\n",
    "    for elem in row:\n",
    "        unique_items.add(elem)"
   ]
  },
  {
   "cell_type": "code",
   "execution_count": 22,
   "metadata": {},
   "outputs": [
    {
     "output_type": "stream",
     "name": "stdout",
     "text": [
      "{'cleaner', 'long life bakery product', 'canned vegetables', 'pastry', 'Instant food products', 'cocoa drinks', 'tidbits', 'specialty fat', 'onions', 'dishes', 'roll products', 'artif. sweetener', 'soda', 'pet care', 'liquor', 'root vegetables', 'dish cleaner', 'meat', 'candy', 'pasta', 'nuts/prunes', 'processed cheese', 'ketchup', 'jam', 'hair spray', 'abrasive cleaner', 'snack products', 'frozen fish', 'brown bread', 'soups', 'decalcifier', 'baby cosmetics', 'semi-finished bread', 'toilet cleaner', 'pip fruit', 'frozen vegetables', 'chicken', 'misc. beverages', 'sparkling wine', 'fish', 'specialty chocolate', 'finished products', 'skin care', 'butter milk', 'cream cheese', 'red/blush wine', 'baking powder', 'frozen dessert', 'coffee', 'baby food', 'mustard', 'cream', 'turkey', 'UHT-milk', 'brandy', 'soap', 'specialty cheese', 'bottled water', 'female sanitary products', 'chocolate', 'frankfurter', 'flour', 'cling film/bags', 'cake bar', 'waffles', 'berries', 'pudding powder', 'rolls/buns', 'hard cheese', 'curd', 'canned beer', 'flower soil/fertilizer', 'hygiene articles', 'tropical fruit', 'potato products', 'sweet spreads', 'nut snack', 'specialty vegetables', 'bathroom cleaner', 'beef', 'chewing gum', 'herbs', 'softener', 'napkins', 'dog food', 'organic products', 'organic sausage', 'cooking chocolate', 'frozen chicken', 'curd cheese', 'sausage', 'frozen fruits', 'pickled vegetables', 'male cosmetics', 'whipped/sour cream', 'kitchen utensil', 'ice cream', 'popcorn', 'newspapers', 'sugar', 'prosecco', 'liqueur', 'sound storage medium', 'frozen potato products', 'whisky', 'meat spreads', 'rum', 'packaged fruit/vegetables', 'detergent', 'cat food', 'kitchen towels', 'vinegar', 'frozen meals', 'make up remover', 'bags', 'bottled beer', 'sliced cheese', 'spices', 'instant coffee', 'shopping bags', 'chocolate marshmallow', 'salty snack', 'syrup', 'beverages', 'photo/film', 'flower (seeds)', 'rubbing alcohol', 'canned fish', 'pork', 'cookware', 'white wine', 'white bread', 'house keeping products', 'ready soups', 'yogurt', 'spread cheese', 'seasonal products', 'butter', 'cereals', 'preservation products', 'dessert', 'specialty bar', 'other vegetables', 'ham', 'mayonnaise', 'oil', 'domestic eggs', 'canned fruit', 'liver loaf', 'whole milk', 'zwieback', 'dental care', 'light bulbs', 'citrus fruit', 'rice', 'potted plants', 'sauces', 'tea', 'condensed milk', 'salad dressing', 'honey', 'grapes', 'fruit/vegetable juice', 'soft cheese', 'hamburger meat', 'candles', 'margarine', 'liquor (appetizer)', 'salt'}\n169\n"
     ]
    }
   ],
   "source": [
    "print(unique_items)\n",
    "print(len(unique_items))"
   ]
  },
  {
   "cell_type": "code",
   "execution_count": 23,
   "metadata": {},
   "outputs": [],
   "source": [
    "from mlxtend.preprocessing import TransactionEncoder\n",
    "te = TransactionEncoder()\n",
    "te_ary = te.fit(np_data).transform(np_data)\n",
    "data = pd.DataFrame(te_ary, columns=te.columns_)"
   ]
  },
  {
   "cell_type": "code",
   "execution_count": 24,
   "metadata": {},
   "outputs": [
    {
     "output_type": "execute_result",
     "data": {
      "text/plain": [
       "      Instant food products  UHT-milk  abrasive cleaner  artif. sweetener  \\\n",
       "0                     False     False             False             False   \n",
       "1                     False     False             False             False   \n",
       "2                     False     False             False             False   \n",
       "3                     False     False             False             False   \n",
       "4                     False     False             False             False   \n",
       "...                     ...       ...               ...               ...   \n",
       "9830                  False     False             False             False   \n",
       "9831                  False     False             False             False   \n",
       "9832                  False     False             False             False   \n",
       "9833                  False     False             False             False   \n",
       "9834                  False     False             False             False   \n",
       "\n",
       "      baby cosmetics  baby food   bags  baking powder  bathroom cleaner  \\\n",
       "0              False      False  False          False             False   \n",
       "1              False      False  False          False             False   \n",
       "2              False      False  False          False             False   \n",
       "3              False      False  False          False             False   \n",
       "4              False      False  False          False             False   \n",
       "...              ...        ...    ...            ...               ...   \n",
       "9830           False      False  False          False             False   \n",
       "9831           False      False  False          False             False   \n",
       "9832           False      False  False          False             False   \n",
       "9833           False      False  False          False             False   \n",
       "9834           False      False  False          False             False   \n",
       "\n",
       "       beef  ...  turkey  vinegar  waffles  whipped/sour cream  whisky  \\\n",
       "0     False  ...   False    False    False               False   False   \n",
       "1     False  ...   False    False    False               False   False   \n",
       "2     False  ...   False    False    False               False   False   \n",
       "3     False  ...   False    False    False               False   False   \n",
       "4     False  ...   False    False    False               False   False   \n",
       "...     ...  ...     ...      ...      ...                 ...     ...   \n",
       "9830   True  ...   False    False    False                True   False   \n",
       "9831  False  ...   False    False    False               False   False   \n",
       "9832  False  ...   False    False    False               False   False   \n",
       "9833  False  ...   False    False    False               False   False   \n",
       "9834  False  ...   False     True    False               False   False   \n",
       "\n",
       "      white bread  white wine  whole milk  yogurt  zwieback  \n",
       "0           False       False       False   False     False  \n",
       "1           False       False       False    True     False  \n",
       "2           False       False        True   False     False  \n",
       "3           False       False       False    True     False  \n",
       "4           False       False        True   False     False  \n",
       "...           ...         ...         ...     ...       ...  \n",
       "9830        False       False        True   False     False  \n",
       "9831        False       False       False   False     False  \n",
       "9832        False       False       False    True     False  \n",
       "9833        False       False       False   False     False  \n",
       "9834        False       False       False   False     False  \n",
       "\n",
       "[9835 rows x 169 columns]"
      ],
      "text/html": "<div>\n<style scoped>\n    .dataframe tbody tr th:only-of-type {\n        vertical-align: middle;\n    }\n\n    .dataframe tbody tr th {\n        vertical-align: top;\n    }\n\n    .dataframe thead th {\n        text-align: right;\n    }\n</style>\n<table border=\"1\" class=\"dataframe\">\n  <thead>\n    <tr style=\"text-align: right;\">\n      <th></th>\n      <th>Instant food products</th>\n      <th>UHT-milk</th>\n      <th>abrasive cleaner</th>\n      <th>artif. sweetener</th>\n      <th>baby cosmetics</th>\n      <th>baby food</th>\n      <th>bags</th>\n      <th>baking powder</th>\n      <th>bathroom cleaner</th>\n      <th>beef</th>\n      <th>...</th>\n      <th>turkey</th>\n      <th>vinegar</th>\n      <th>waffles</th>\n      <th>whipped/sour cream</th>\n      <th>whisky</th>\n      <th>white bread</th>\n      <th>white wine</th>\n      <th>whole milk</th>\n      <th>yogurt</th>\n      <th>zwieback</th>\n    </tr>\n  </thead>\n  <tbody>\n    <tr>\n      <th>0</th>\n      <td>False</td>\n      <td>False</td>\n      <td>False</td>\n      <td>False</td>\n      <td>False</td>\n      <td>False</td>\n      <td>False</td>\n      <td>False</td>\n      <td>False</td>\n      <td>False</td>\n      <td>...</td>\n      <td>False</td>\n      <td>False</td>\n      <td>False</td>\n      <td>False</td>\n      <td>False</td>\n      <td>False</td>\n      <td>False</td>\n      <td>False</td>\n      <td>False</td>\n      <td>False</td>\n    </tr>\n    <tr>\n      <th>1</th>\n      <td>False</td>\n      <td>False</td>\n      <td>False</td>\n      <td>False</td>\n      <td>False</td>\n      <td>False</td>\n      <td>False</td>\n      <td>False</td>\n      <td>False</td>\n      <td>False</td>\n      <td>...</td>\n      <td>False</td>\n      <td>False</td>\n      <td>False</td>\n      <td>False</td>\n      <td>False</td>\n      <td>False</td>\n      <td>False</td>\n      <td>False</td>\n      <td>True</td>\n      <td>False</td>\n    </tr>\n    <tr>\n      <th>2</th>\n      <td>False</td>\n      <td>False</td>\n      <td>False</td>\n      <td>False</td>\n      <td>False</td>\n      <td>False</td>\n      <td>False</td>\n      <td>False</td>\n      <td>False</td>\n      <td>False</td>\n      <td>...</td>\n      <td>False</td>\n      <td>False</td>\n      <td>False</td>\n      <td>False</td>\n      <td>False</td>\n      <td>False</td>\n      <td>False</td>\n      <td>True</td>\n      <td>False</td>\n      <td>False</td>\n    </tr>\n    <tr>\n      <th>3</th>\n      <td>False</td>\n      <td>False</td>\n      <td>False</td>\n      <td>False</td>\n      <td>False</td>\n      <td>False</td>\n      <td>False</td>\n      <td>False</td>\n      <td>False</td>\n      <td>False</td>\n      <td>...</td>\n      <td>False</td>\n      <td>False</td>\n      <td>False</td>\n      <td>False</td>\n      <td>False</td>\n      <td>False</td>\n      <td>False</td>\n      <td>False</td>\n      <td>True</td>\n      <td>False</td>\n    </tr>\n    <tr>\n      <th>4</th>\n      <td>False</td>\n      <td>False</td>\n      <td>False</td>\n      <td>False</td>\n      <td>False</td>\n      <td>False</td>\n      <td>False</td>\n      <td>False</td>\n      <td>False</td>\n      <td>False</td>\n      <td>...</td>\n      <td>False</td>\n      <td>False</td>\n      <td>False</td>\n      <td>False</td>\n      <td>False</td>\n      <td>False</td>\n      <td>False</td>\n      <td>True</td>\n      <td>False</td>\n      <td>False</td>\n    </tr>\n    <tr>\n      <th>...</th>\n      <td>...</td>\n      <td>...</td>\n      <td>...</td>\n      <td>...</td>\n      <td>...</td>\n      <td>...</td>\n      <td>...</td>\n      <td>...</td>\n      <td>...</td>\n      <td>...</td>\n      <td>...</td>\n      <td>...</td>\n      <td>...</td>\n      <td>...</td>\n      <td>...</td>\n      <td>...</td>\n      <td>...</td>\n      <td>...</td>\n      <td>...</td>\n      <td>...</td>\n      <td>...</td>\n    </tr>\n    <tr>\n      <th>9830</th>\n      <td>False</td>\n      <td>False</td>\n      <td>False</td>\n      <td>False</td>\n      <td>False</td>\n      <td>False</td>\n      <td>False</td>\n      <td>False</td>\n      <td>False</td>\n      <td>True</td>\n      <td>...</td>\n      <td>False</td>\n      <td>False</td>\n      <td>False</td>\n      <td>True</td>\n      <td>False</td>\n      <td>False</td>\n      <td>False</td>\n      <td>True</td>\n      <td>False</td>\n      <td>False</td>\n    </tr>\n    <tr>\n      <th>9831</th>\n      <td>False</td>\n      <td>False</td>\n      <td>False</td>\n      <td>False</td>\n      <td>False</td>\n      <td>False</td>\n      <td>False</td>\n      <td>False</td>\n      <td>False</td>\n      <td>False</td>\n      <td>...</td>\n      <td>False</td>\n      <td>False</td>\n      <td>False</td>\n      <td>False</td>\n      <td>False</td>\n      <td>False</td>\n      <td>False</td>\n      <td>False</td>\n      <td>False</td>\n      <td>False</td>\n    </tr>\n    <tr>\n      <th>9832</th>\n      <td>False</td>\n      <td>False</td>\n      <td>False</td>\n      <td>False</td>\n      <td>False</td>\n      <td>False</td>\n      <td>False</td>\n      <td>False</td>\n      <td>False</td>\n      <td>False</td>\n      <td>...</td>\n      <td>False</td>\n      <td>False</td>\n      <td>False</td>\n      <td>False</td>\n      <td>False</td>\n      <td>False</td>\n      <td>False</td>\n      <td>False</td>\n      <td>True</td>\n      <td>False</td>\n    </tr>\n    <tr>\n      <th>9833</th>\n      <td>False</td>\n      <td>False</td>\n      <td>False</td>\n      <td>False</td>\n      <td>False</td>\n      <td>False</td>\n      <td>False</td>\n      <td>False</td>\n      <td>False</td>\n      <td>False</td>\n      <td>...</td>\n      <td>False</td>\n      <td>False</td>\n      <td>False</td>\n      <td>False</td>\n      <td>False</td>\n      <td>False</td>\n      <td>False</td>\n      <td>False</td>\n      <td>False</td>\n      <td>False</td>\n    </tr>\n    <tr>\n      <th>9834</th>\n      <td>False</td>\n      <td>False</td>\n      <td>False</td>\n      <td>False</td>\n      <td>False</td>\n      <td>False</td>\n      <td>False</td>\n      <td>False</td>\n      <td>False</td>\n      <td>False</td>\n      <td>...</td>\n      <td>False</td>\n      <td>True</td>\n      <td>False</td>\n      <td>False</td>\n      <td>False</td>\n      <td>False</td>\n      <td>False</td>\n      <td>False</td>\n      <td>False</td>\n      <td>False</td>\n    </tr>\n  </tbody>\n</table>\n<p>9835 rows × 169 columns</p>\n</div>"
     },
     "metadata": {},
     "execution_count": 24
    }
   ],
   "source": [
    "data"
   ]
  },
  {
   "cell_type": "code",
   "execution_count": 39,
   "metadata": {},
   "outputs": [
    {
     "output_type": "stream",
     "name": "stdout",
     "text": [
      "     support                             itemsets  length\n0   0.082766                       (citrus fruit)       1\n1   0.058566                          (margarine)       1\n2   0.139502                             (yogurt)       1\n3   0.104931                     (tropical fruit)       1\n4   0.058058                             (coffee)       1\n..       ...                                  ...     ...\n58  0.033249                 (whole milk, pastry)       2\n59  0.047382  (root vegetables, other vegetables)       2\n60  0.048907        (whole milk, root vegetables)       2\n61  0.030605                (sausage, rolls/buns)       2\n62  0.032232     (whole milk, whipped/sour cream)       2\n\n[63 rows x 3 columns]\n"
     ]
    }
   ],
   "source": [
    "from mlxtend.frequent_patterns import fpgrowth\n",
    "\n",
    "result = fpgrowth(data, min_support=0.03, use_colnames = True)\n",
    "result['length'] = result['itemsets'].apply(lambda x: len(x))\n",
    "print(result)"
   ]
  },
  {
   "cell_type": "code",
   "execution_count": 40,
   "metadata": {},
   "outputs": [
    {
     "output_type": "stream",
     "name": "stdout",
     "text": [
      "support                            0.0300966\nitemsets    (whole milk, whipped/sour cream)\nlength                                     1\ndtype: object\nsupport                             0.255516\nitemsets    (whole milk, whipped/sour cream)\nlength                                     2\ndtype: object\n"
     ]
    }
   ],
   "source": [
    "# Так как в итемсете есть только наборы длины 1 и 2, то можно найти минимумы и максимумы всего датасета\n",
    "print(result.min())\n",
    "print(result.max())"
   ]
  },
  {
   "cell_type": "code",
   "execution_count": 41,
   "metadata": {},
   "outputs": [
    {
     "output_type": "execute_result",
     "data": {
      "text/plain": [
       "     support                             itemsets  length\n",
       "0   0.030402                (specialty chocolate)       1\n",
       "1   0.031012                             (onions)       1\n",
       "2   0.032944                   (hygiene articles)       1\n",
       "3   0.033249                            (berries)       1\n",
       "4   0.033249                     (hamburger meat)       1\n",
       "5   0.033452                           (UHT-milk)       1\n",
       "6   0.033859                              (sugar)       1\n",
       "7   0.037112                            (dessert)       1\n",
       "8   0.037417           (long life bakery product)       1\n",
       "9   0.037824                        (salty snack)       1\n",
       "10  0.038434                            (waffles)       1\n",
       "11  0.039654                       (cream cheese)       1\n",
       "12  0.042095                        (white bread)       1\n",
       "13  0.042908                            (chicken)       1\n",
       "14  0.048094                  (frozen vegetables)       1\n",
       "15  0.049619                          (chocolate)       1\n",
       "16  0.052364                            (napkins)       1\n",
       "17  0.052466                               (beef)       1\n",
       "18  0.053279                               (curd)       1\n",
       "19  0.055414                             (butter)       1\n",
       "20  0.057651                               (pork)       1\n",
       "21  0.058058                             (coffee)       1\n",
       "22  0.058566                          (margarine)       1\n",
       "23  0.058973                        (frankfurter)       1\n",
       "24  0.063447                      (domestic eggs)       1\n",
       "25  0.064870                        (brown bread)       1\n",
       "26  0.032232     (whole milk, whipped/sour cream)       2\n",
       "27  0.072293              (fruit/vegetable juice)       1\n",
       "28  0.030097              (whole milk, pip fruit)       2\n",
       "29  0.077682                        (canned beer)       1\n",
       "30  0.079817                         (newspapers)       1\n",
       "31  0.080529                       (bottled beer)       1\n",
       "32  0.030503           (whole milk, citrus fruit)       2\n",
       "33  0.033249                 (whole milk, pastry)       2\n",
       "34  0.030605                (sausage, rolls/buns)       2\n",
       "35  0.098526                      (shopping bags)       1\n",
       "36  0.035892   (tropical fruit, other vegetables)       2\n",
       "37  0.042298         (whole milk, tropical fruit)       2\n",
       "38  0.047382  (root vegetables, other vegetables)       2\n",
       "39  0.048907        (whole milk, root vegetables)       2\n",
       "40  0.034367          (whole milk, bottled water)       2\n",
       "41  0.034367                 (yogurt, rolls/buns)       2\n",
       "42  0.043416           (yogurt, other vegetables)       2\n",
       "43  0.056024                 (whole milk, yogurt)       2\n",
       "44  0.032740             (soda, other vegetables)       2\n",
       "45  0.038332                   (soda, rolls/buns)       2\n",
       "46  0.040061                   (whole milk, soda)       2\n",
       "47  0.042603       (rolls/buns, other vegetables)       2\n",
       "48  0.056634             (whole milk, rolls/buns)       2\n",
       "49  0.074835       (whole milk, other vegetables)       2"
      ],
      "text/html": "<div>\n<style scoped>\n    .dataframe tbody tr th:only-of-type {\n        vertical-align: middle;\n    }\n\n    .dataframe tbody tr th {\n        vertical-align: top;\n    }\n\n    .dataframe thead th {\n        text-align: right;\n    }\n</style>\n<table border=\"1\" class=\"dataframe\">\n  <thead>\n    <tr style=\"text-align: right;\">\n      <th></th>\n      <th>support</th>\n      <th>itemsets</th>\n      <th>length</th>\n    </tr>\n  </thead>\n  <tbody>\n    <tr>\n      <th>0</th>\n      <td>0.030402</td>\n      <td>(specialty chocolate)</td>\n      <td>1</td>\n    </tr>\n    <tr>\n      <th>1</th>\n      <td>0.031012</td>\n      <td>(onions)</td>\n      <td>1</td>\n    </tr>\n    <tr>\n      <th>2</th>\n      <td>0.032944</td>\n      <td>(hygiene articles)</td>\n      <td>1</td>\n    </tr>\n    <tr>\n      <th>3</th>\n      <td>0.033249</td>\n      <td>(berries)</td>\n      <td>1</td>\n    </tr>\n    <tr>\n      <th>4</th>\n      <td>0.033249</td>\n      <td>(hamburger meat)</td>\n      <td>1</td>\n    </tr>\n    <tr>\n      <th>5</th>\n      <td>0.033452</td>\n      <td>(UHT-milk)</td>\n      <td>1</td>\n    </tr>\n    <tr>\n      <th>6</th>\n      <td>0.033859</td>\n      <td>(sugar)</td>\n      <td>1</td>\n    </tr>\n    <tr>\n      <th>7</th>\n      <td>0.037112</td>\n      <td>(dessert)</td>\n      <td>1</td>\n    </tr>\n    <tr>\n      <th>8</th>\n      <td>0.037417</td>\n      <td>(long life bakery product)</td>\n      <td>1</td>\n    </tr>\n    <tr>\n      <th>9</th>\n      <td>0.037824</td>\n      <td>(salty snack)</td>\n      <td>1</td>\n    </tr>\n    <tr>\n      <th>10</th>\n      <td>0.038434</td>\n      <td>(waffles)</td>\n      <td>1</td>\n    </tr>\n    <tr>\n      <th>11</th>\n      <td>0.039654</td>\n      <td>(cream cheese)</td>\n      <td>1</td>\n    </tr>\n    <tr>\n      <th>12</th>\n      <td>0.042095</td>\n      <td>(white bread)</td>\n      <td>1</td>\n    </tr>\n    <tr>\n      <th>13</th>\n      <td>0.042908</td>\n      <td>(chicken)</td>\n      <td>1</td>\n    </tr>\n    <tr>\n      <th>14</th>\n      <td>0.048094</td>\n      <td>(frozen vegetables)</td>\n      <td>1</td>\n    </tr>\n    <tr>\n      <th>15</th>\n      <td>0.049619</td>\n      <td>(chocolate)</td>\n      <td>1</td>\n    </tr>\n    <tr>\n      <th>16</th>\n      <td>0.052364</td>\n      <td>(napkins)</td>\n      <td>1</td>\n    </tr>\n    <tr>\n      <th>17</th>\n      <td>0.052466</td>\n      <td>(beef)</td>\n      <td>1</td>\n    </tr>\n    <tr>\n      <th>18</th>\n      <td>0.053279</td>\n      <td>(curd)</td>\n      <td>1</td>\n    </tr>\n    <tr>\n      <th>19</th>\n      <td>0.055414</td>\n      <td>(butter)</td>\n      <td>1</td>\n    </tr>\n    <tr>\n      <th>20</th>\n      <td>0.057651</td>\n      <td>(pork)</td>\n      <td>1</td>\n    </tr>\n    <tr>\n      <th>21</th>\n      <td>0.058058</td>\n      <td>(coffee)</td>\n      <td>1</td>\n    </tr>\n    <tr>\n      <th>22</th>\n      <td>0.058566</td>\n      <td>(margarine)</td>\n      <td>1</td>\n    </tr>\n    <tr>\n      <th>23</th>\n      <td>0.058973</td>\n      <td>(frankfurter)</td>\n      <td>1</td>\n    </tr>\n    <tr>\n      <th>24</th>\n      <td>0.063447</td>\n      <td>(domestic eggs)</td>\n      <td>1</td>\n    </tr>\n    <tr>\n      <th>25</th>\n      <td>0.064870</td>\n      <td>(brown bread)</td>\n      <td>1</td>\n    </tr>\n    <tr>\n      <th>26</th>\n      <td>0.032232</td>\n      <td>(whole milk, whipped/sour cream)</td>\n      <td>2</td>\n    </tr>\n    <tr>\n      <th>27</th>\n      <td>0.072293</td>\n      <td>(fruit/vegetable juice)</td>\n      <td>1</td>\n    </tr>\n    <tr>\n      <th>28</th>\n      <td>0.030097</td>\n      <td>(whole milk, pip fruit)</td>\n      <td>2</td>\n    </tr>\n    <tr>\n      <th>29</th>\n      <td>0.077682</td>\n      <td>(canned beer)</td>\n      <td>1</td>\n    </tr>\n    <tr>\n      <th>30</th>\n      <td>0.079817</td>\n      <td>(newspapers)</td>\n      <td>1</td>\n    </tr>\n    <tr>\n      <th>31</th>\n      <td>0.080529</td>\n      <td>(bottled beer)</td>\n      <td>1</td>\n    </tr>\n    <tr>\n      <th>32</th>\n      <td>0.030503</td>\n      <td>(whole milk, citrus fruit)</td>\n      <td>2</td>\n    </tr>\n    <tr>\n      <th>33</th>\n      <td>0.033249</td>\n      <td>(whole milk, pastry)</td>\n      <td>2</td>\n    </tr>\n    <tr>\n      <th>34</th>\n      <td>0.030605</td>\n      <td>(sausage, rolls/buns)</td>\n      <td>2</td>\n    </tr>\n    <tr>\n      <th>35</th>\n      <td>0.098526</td>\n      <td>(shopping bags)</td>\n      <td>1</td>\n    </tr>\n    <tr>\n      <th>36</th>\n      <td>0.035892</td>\n      <td>(tropical fruit, other vegetables)</td>\n      <td>2</td>\n    </tr>\n    <tr>\n      <th>37</th>\n      <td>0.042298</td>\n      <td>(whole milk, tropical fruit)</td>\n      <td>2</td>\n    </tr>\n    <tr>\n      <th>38</th>\n      <td>0.047382</td>\n      <td>(root vegetables, other vegetables)</td>\n      <td>2</td>\n    </tr>\n    <tr>\n      <th>39</th>\n      <td>0.048907</td>\n      <td>(whole milk, root vegetables)</td>\n      <td>2</td>\n    </tr>\n    <tr>\n      <th>40</th>\n      <td>0.034367</td>\n      <td>(whole milk, bottled water)</td>\n      <td>2</td>\n    </tr>\n    <tr>\n      <th>41</th>\n      <td>0.034367</td>\n      <td>(yogurt, rolls/buns)</td>\n      <td>2</td>\n    </tr>\n    <tr>\n      <th>42</th>\n      <td>0.043416</td>\n      <td>(yogurt, other vegetables)</td>\n      <td>2</td>\n    </tr>\n    <tr>\n      <th>43</th>\n      <td>0.056024</td>\n      <td>(whole milk, yogurt)</td>\n      <td>2</td>\n    </tr>\n    <tr>\n      <th>44</th>\n      <td>0.032740</td>\n      <td>(soda, other vegetables)</td>\n      <td>2</td>\n    </tr>\n    <tr>\n      <th>45</th>\n      <td>0.038332</td>\n      <td>(soda, rolls/buns)</td>\n      <td>2</td>\n    </tr>\n    <tr>\n      <th>46</th>\n      <td>0.040061</td>\n      <td>(whole milk, soda)</td>\n      <td>2</td>\n    </tr>\n    <tr>\n      <th>47</th>\n      <td>0.042603</td>\n      <td>(rolls/buns, other vegetables)</td>\n      <td>2</td>\n    </tr>\n    <tr>\n      <th>48</th>\n      <td>0.056634</td>\n      <td>(whole milk, rolls/buns)</td>\n      <td>2</td>\n    </tr>\n    <tr>\n      <th>49</th>\n      <td>0.074835</td>\n      <td>(whole milk, other vegetables)</td>\n      <td>2</td>\n    </tr>\n  </tbody>\n</table>\n</div>"
     },
     "metadata": {},
     "execution_count": 41
    }
   ],
   "source": [
    "from mlxtend.frequent_patterns import fpmax\n",
    "\n",
    "result_fp = fpmax(data, min_support=0.03, use_colnames = True)\n",
    "result_fp['length'] = result_fp['itemsets'].apply(lambda x: len(x))\n",
    "result_fp"
   ]
  },
  {
   "cell_type": "code",
   "execution_count": 43,
   "metadata": {},
   "outputs": [
    {
     "output_type": "stream",
     "name": "stdout",
     "text": [
      "support                          0.0300966\nitemsets    (whole milk, other vegetables)\nlength                                   1\ndtype: object\nsupport                          0.0985257\nitemsets    (whole milk, other vegetables)\nlength                                   2\ndtype: object\n"
     ]
    }
   ],
   "source": [
    "print(result_fp.min())\n",
    "print(result_fp.max())"
   ]
  },
  {
   "cell_type": "code",
   "execution_count": 82,
   "metadata": {},
   "outputs": [
    {
     "output_type": "execute_result",
     "data": {
      "text/plain": [
       "<AxesSubplot:>"
      ]
     },
     "metadata": {},
     "execution_count": 82
    },
    {
     "output_type": "display_data",
     "data": {
      "text/plain": "<Figure size 432x288 with 1 Axes>",
      "image/svg+xml": "<?xml version=\"1.0\" encoding=\"utf-8\" standalone=\"no\"?>\n<!DOCTYPE svg PUBLIC \"-//W3C//DTD SVG 1.1//EN\"\n  \"http://www.w3.org/Graphics/SVG/1.1/DTD/svg11.dtd\">\n<!-- Created with matplotlib (https://matplotlib.org/) -->\n<svg height=\"323.769687pt\" version=\"1.1\" viewBox=\"0 0 381.65 323.769687\" width=\"381.65pt\" xmlns=\"http://www.w3.org/2000/svg\" xmlns:xlink=\"http://www.w3.org/1999/xlink\">\n <metadata>\n  <rdf:RDF xmlns:cc=\"http://creativecommons.org/ns#\" xmlns:dc=\"http://purl.org/dc/elements/1.1/\" xmlns:rdf=\"http://www.w3.org/1999/02/22-rdf-syntax-ns#\">\n   <cc:Work>\n    <dc:type rdf:resource=\"http://purl.org/dc/dcmitype/StillImage\"/>\n    <dc:date>2020-11-18T19:55:11.143442</dc:date>\n    <dc:format>image/svg+xml</dc:format>\n    <dc:creator>\n     <cc:Agent>\n      <dc:title>Matplotlib v3.3.2, https://matplotlib.org/</dc:title>\n     </cc:Agent>\n    </dc:creator>\n   </cc:Work>\n  </rdf:RDF>\n </metadata>\n <defs>\n  <style type=\"text/css\">*{stroke-linecap:butt;stroke-linejoin:round;}</style>\n </defs>\n <g id=\"figure_1\">\n  <g id=\"patch_1\">\n   <path d=\"M -0 323.769687 \nL 381.65 323.769687 \nL 381.65 0 \nL -0 0 \nz\n\" style=\"fill:none;\"/>\n  </g>\n  <g id=\"axes_1\">\n   <g id=\"patch_2\">\n    <path d=\"M 39.65 224.64 \nL 374.45 224.64 \nL 374.45 7.2 \nL 39.65 7.2 \nz\n\" style=\"fill:#ffffff;\"/>\n   </g>\n   <g id=\"patch_3\">\n    <path clip-path=\"url(#pcc8c5acba3)\" d=\"M 48.02 224.64 \nL 64.76 224.64 \nL 64.76 17.554286 \nL 48.02 17.554286 \nz\n\" style=\"fill:#1f77b4;\"/>\n   </g>\n   <g id=\"patch_4\">\n    <path clip-path=\"url(#pcc8c5acba3)\" d=\"M 81.5 224.64 \nL 98.24 224.64 \nL 98.24 67.821809 \nL 81.5 67.821809 \nz\n\" style=\"fill:#1f77b4;\"/>\n   </g>\n   <g id=\"patch_5\">\n    <path clip-path=\"url(#pcc8c5acba3)\" d=\"M 114.98 224.64 \nL 131.72 224.64 \nL 131.72 75.567952 \nL 114.98 75.567952 \nz\n\" style=\"fill:#1f77b4;\"/>\n   </g>\n   <g id=\"patch_6\">\n    <path clip-path=\"url(#pcc8c5acba3)\" d=\"M 148.46 224.64 \nL 165.2 224.64 \nL 165.2 83.314095 \nL 148.46 83.314095 \nz\n\" style=\"fill:#1f77b4;\"/>\n   </g>\n   <g id=\"patch_7\">\n    <path clip-path=\"url(#pcc8c5acba3)\" d=\"M 181.94 224.64 \nL 198.68 224.64 \nL 198.68 111.579276 \nL 181.94 111.579276 \nz\n\" style=\"fill:#1f77b4;\"/>\n   </g>\n   <g id=\"patch_8\">\n    <path clip-path=\"url(#pcc8c5acba3)\" d=\"M 215.42 224.64 \nL 232.16 224.64 \nL 232.16 135.064922 \nL 215.42 135.064922 \nz\n\" style=\"fill:#1f77b4;\"/>\n   </g>\n   <g id=\"patch_9\">\n    <path clip-path=\"url(#pcc8c5acba3)\" d=\"M 248.9 224.64 \nL 265.64 224.64 \nL 265.64 136.301008 \nL 248.9 136.301008 \nz\n\" style=\"fill:#1f77b4;\"/>\n   </g>\n   <g id=\"patch_10\">\n    <path clip-path=\"url(#pcc8c5acba3)\" d=\"M 282.38 224.64 \nL 299.12 224.64 \nL 299.12 139.597239 \nL 282.38 139.597239 \nz\n\" style=\"fill:#1f77b4;\"/>\n   </g>\n   <g id=\"patch_11\">\n    <path clip-path=\"url(#pcc8c5acba3)\" d=\"M 315.86 224.64 \nL 332.6 224.64 \nL 332.6 144.788803 \nL 315.86 144.788803 \nz\n\" style=\"fill:#1f77b4;\"/>\n   </g>\n   <g id=\"patch_12\">\n    <path clip-path=\"url(#pcc8c5acba3)\" d=\"M 349.34 224.64 \nL 366.08 224.64 \nL 366.08 148.497063 \nL 349.34 148.497063 \nz\n\" style=\"fill:#1f77b4;\"/>\n   </g>\n   <g id=\"matplotlib.axis_1\">\n    <g id=\"xtick_1\">\n     <g id=\"line2d_1\">\n      <defs>\n       <path d=\"M 0 0 \nL 0 3.5 \n\" id=\"m8cdee6bdae\" style=\"stroke:#000000;stroke-width:0.8;\"/>\n      </defs>\n      <g>\n       <use style=\"stroke:#000000;stroke-width:0.8;\" x=\"56.39\" xlink:href=\"#m8cdee6bdae\" y=\"224.64\"/>\n      </g>\n     </g>\n     <g id=\"text_1\">\n      <!-- whole milk -->\n      <g transform=\"translate(59.149375 285.47125)rotate(-90)scale(0.1 -0.1)\">\n       <defs>\n        <path d=\"M 4.203125 54.6875 \nL 13.1875 54.6875 \nL 24.421875 12.015625 \nL 35.59375 54.6875 \nL 46.1875 54.6875 \nL 57.421875 12.015625 \nL 68.609375 54.6875 \nL 77.59375 54.6875 \nL 63.28125 0 \nL 52.6875 0 \nL 40.921875 44.828125 \nL 29.109375 0 \nL 18.5 0 \nz\n\" id=\"DejaVuSans-119\"/>\n        <path d=\"M 54.890625 33.015625 \nL 54.890625 0 \nL 45.90625 0 \nL 45.90625 32.71875 \nQ 45.90625 40.484375 42.875 44.328125 \nQ 39.84375 48.1875 33.796875 48.1875 \nQ 26.515625 48.1875 22.3125 43.546875 \nQ 18.109375 38.921875 18.109375 30.90625 \nL 18.109375 0 \nL 9.078125 0 \nL 9.078125 75.984375 \nL 18.109375 75.984375 \nL 18.109375 46.1875 \nQ 21.34375 51.125 25.703125 53.5625 \nQ 30.078125 56 35.796875 56 \nQ 45.21875 56 50.046875 50.171875 \nQ 54.890625 44.34375 54.890625 33.015625 \nz\n\" id=\"DejaVuSans-104\"/>\n        <path d=\"M 30.609375 48.390625 \nQ 23.390625 48.390625 19.1875 42.75 \nQ 14.984375 37.109375 14.984375 27.296875 \nQ 14.984375 17.484375 19.15625 11.84375 \nQ 23.34375 6.203125 30.609375 6.203125 \nQ 37.796875 6.203125 41.984375 11.859375 \nQ 46.1875 17.53125 46.1875 27.296875 \nQ 46.1875 37.015625 41.984375 42.703125 \nQ 37.796875 48.390625 30.609375 48.390625 \nz\nM 30.609375 56 \nQ 42.328125 56 49.015625 48.375 \nQ 55.71875 40.765625 55.71875 27.296875 \nQ 55.71875 13.875 49.015625 6.21875 \nQ 42.328125 -1.421875 30.609375 -1.421875 \nQ 18.84375 -1.421875 12.171875 6.21875 \nQ 5.515625 13.875 5.515625 27.296875 \nQ 5.515625 40.765625 12.171875 48.375 \nQ 18.84375 56 30.609375 56 \nz\n\" id=\"DejaVuSans-111\"/>\n        <path d=\"M 9.421875 75.984375 \nL 18.40625 75.984375 \nL 18.40625 0 \nL 9.421875 0 \nz\n\" id=\"DejaVuSans-108\"/>\n        <path d=\"M 56.203125 29.59375 \nL 56.203125 25.203125 \nL 14.890625 25.203125 \nQ 15.484375 15.921875 20.484375 11.0625 \nQ 25.484375 6.203125 34.421875 6.203125 \nQ 39.59375 6.203125 44.453125 7.46875 \nQ 49.3125 8.734375 54.109375 11.28125 \nL 54.109375 2.78125 \nQ 49.265625 0.734375 44.1875 -0.34375 \nQ 39.109375 -1.421875 33.890625 -1.421875 \nQ 20.796875 -1.421875 13.15625 6.1875 \nQ 5.515625 13.8125 5.515625 26.8125 \nQ 5.515625 40.234375 12.765625 48.109375 \nQ 20.015625 56 32.328125 56 \nQ 43.359375 56 49.78125 48.890625 \nQ 56.203125 41.796875 56.203125 29.59375 \nz\nM 47.21875 32.234375 \nQ 47.125 39.59375 43.09375 43.984375 \nQ 39.0625 48.390625 32.421875 48.390625 \nQ 24.90625 48.390625 20.390625 44.140625 \nQ 15.875 39.890625 15.1875 32.171875 \nz\n\" id=\"DejaVuSans-101\"/>\n        <path id=\"DejaVuSans-32\"/>\n        <path d=\"M 52 44.1875 \nQ 55.375 50.25 60.0625 53.125 \nQ 64.75 56 71.09375 56 \nQ 79.640625 56 84.28125 50.015625 \nQ 88.921875 44.046875 88.921875 33.015625 \nL 88.921875 0 \nL 79.890625 0 \nL 79.890625 32.71875 \nQ 79.890625 40.578125 77.09375 44.375 \nQ 74.3125 48.1875 68.609375 48.1875 \nQ 61.625 48.1875 57.5625 43.546875 \nQ 53.515625 38.921875 53.515625 30.90625 \nL 53.515625 0 \nL 44.484375 0 \nL 44.484375 32.71875 \nQ 44.484375 40.625 41.703125 44.40625 \nQ 38.921875 48.1875 33.109375 48.1875 \nQ 26.21875 48.1875 22.15625 43.53125 \nQ 18.109375 38.875 18.109375 30.90625 \nL 18.109375 0 \nL 9.078125 0 \nL 9.078125 54.6875 \nL 18.109375 54.6875 \nL 18.109375 46.1875 \nQ 21.1875 51.21875 25.484375 53.609375 \nQ 29.78125 56 35.6875 56 \nQ 41.65625 56 45.828125 52.96875 \nQ 50 49.953125 52 44.1875 \nz\n\" id=\"DejaVuSans-109\"/>\n        <path d=\"M 9.421875 54.6875 \nL 18.40625 54.6875 \nL 18.40625 0 \nL 9.421875 0 \nz\nM 9.421875 75.984375 \nL 18.40625 75.984375 \nL 18.40625 64.59375 \nL 9.421875 64.59375 \nz\n\" id=\"DejaVuSans-105\"/>\n        <path d=\"M 9.078125 75.984375 \nL 18.109375 75.984375 \nL 18.109375 31.109375 \nL 44.921875 54.6875 \nL 56.390625 54.6875 \nL 27.390625 29.109375 \nL 57.625 0 \nL 45.90625 0 \nL 18.109375 26.703125 \nL 18.109375 0 \nL 9.078125 0 \nz\n\" id=\"DejaVuSans-107\"/>\n       </defs>\n       <use xlink:href=\"#DejaVuSans-119\"/>\n       <use x=\"81.787109\" xlink:href=\"#DejaVuSans-104\"/>\n       <use x=\"145.166016\" xlink:href=\"#DejaVuSans-111\"/>\n       <use x=\"206.347656\" xlink:href=\"#DejaVuSans-108\"/>\n       <use x=\"234.130859\" xlink:href=\"#DejaVuSans-101\"/>\n       <use x=\"295.654297\" xlink:href=\"#DejaVuSans-32\"/>\n       <use x=\"327.441406\" xlink:href=\"#DejaVuSans-109\"/>\n       <use x=\"424.853516\" xlink:href=\"#DejaVuSans-105\"/>\n       <use x=\"452.636719\" xlink:href=\"#DejaVuSans-108\"/>\n       <use x=\"480.419922\" xlink:href=\"#DejaVuSans-107\"/>\n      </g>\n     </g>\n    </g>\n    <g id=\"xtick_2\">\n     <g id=\"line2d_2\">\n      <g>\n       <use style=\"stroke:#000000;stroke-width:0.8;\" x=\"89.87\" xlink:href=\"#m8cdee6bdae\" y=\"224.64\"/>\n      </g>\n     </g>\n     <g id=\"text_2\">\n      <!-- other vegetables -->\n      <g transform=\"translate(92.629375 316.569687)rotate(-90)scale(0.1 -0.1)\">\n       <defs>\n        <path d=\"M 18.3125 70.21875 \nL 18.3125 54.6875 \nL 36.8125 54.6875 \nL 36.8125 47.703125 \nL 18.3125 47.703125 \nL 18.3125 18.015625 \nQ 18.3125 11.328125 20.140625 9.421875 \nQ 21.96875 7.515625 27.59375 7.515625 \nL 36.8125 7.515625 \nL 36.8125 0 \nL 27.59375 0 \nQ 17.1875 0 13.234375 3.875 \nQ 9.28125 7.765625 9.28125 18.015625 \nL 9.28125 47.703125 \nL 2.6875 47.703125 \nL 2.6875 54.6875 \nL 9.28125 54.6875 \nL 9.28125 70.21875 \nz\n\" id=\"DejaVuSans-116\"/>\n        <path d=\"M 41.109375 46.296875 \nQ 39.59375 47.171875 37.8125 47.578125 \nQ 36.03125 48 33.890625 48 \nQ 26.265625 48 22.1875 43.046875 \nQ 18.109375 38.09375 18.109375 28.8125 \nL 18.109375 0 \nL 9.078125 0 \nL 9.078125 54.6875 \nL 18.109375 54.6875 \nL 18.109375 46.1875 \nQ 20.953125 51.171875 25.484375 53.578125 \nQ 30.03125 56 36.53125 56 \nQ 37.453125 56 38.578125 55.875 \nQ 39.703125 55.765625 41.0625 55.515625 \nz\n\" id=\"DejaVuSans-114\"/>\n        <path d=\"M 2.984375 54.6875 \nL 12.5 54.6875 \nL 29.59375 8.796875 \nL 46.6875 54.6875 \nL 56.203125 54.6875 \nL 35.6875 0 \nL 23.484375 0 \nz\n\" id=\"DejaVuSans-118\"/>\n        <path d=\"M 45.40625 27.984375 \nQ 45.40625 37.75 41.375 43.109375 \nQ 37.359375 48.484375 30.078125 48.484375 \nQ 22.859375 48.484375 18.828125 43.109375 \nQ 14.796875 37.75 14.796875 27.984375 \nQ 14.796875 18.265625 18.828125 12.890625 \nQ 22.859375 7.515625 30.078125 7.515625 \nQ 37.359375 7.515625 41.375 12.890625 \nQ 45.40625 18.265625 45.40625 27.984375 \nz\nM 54.390625 6.78125 \nQ 54.390625 -7.171875 48.1875 -13.984375 \nQ 42 -20.796875 29.203125 -20.796875 \nQ 24.46875 -20.796875 20.265625 -20.09375 \nQ 16.0625 -19.390625 12.109375 -17.921875 \nL 12.109375 -9.1875 \nQ 16.0625 -11.328125 19.921875 -12.34375 \nQ 23.78125 -13.375 27.78125 -13.375 \nQ 36.625 -13.375 41.015625 -8.765625 \nQ 45.40625 -4.15625 45.40625 5.171875 \nL 45.40625 9.625 \nQ 42.625 4.78125 38.28125 2.390625 \nQ 33.9375 0 27.875 0 \nQ 17.828125 0 11.671875 7.65625 \nQ 5.515625 15.328125 5.515625 27.984375 \nQ 5.515625 40.671875 11.671875 48.328125 \nQ 17.828125 56 27.875 56 \nQ 33.9375 56 38.28125 53.609375 \nQ 42.625 51.21875 45.40625 46.390625 \nL 45.40625 54.6875 \nL 54.390625 54.6875 \nz\n\" id=\"DejaVuSans-103\"/>\n        <path d=\"M 34.28125 27.484375 \nQ 23.390625 27.484375 19.1875 25 \nQ 14.984375 22.515625 14.984375 16.5 \nQ 14.984375 11.71875 18.140625 8.90625 \nQ 21.296875 6.109375 26.703125 6.109375 \nQ 34.1875 6.109375 38.703125 11.40625 \nQ 43.21875 16.703125 43.21875 25.484375 \nL 43.21875 27.484375 \nz\nM 52.203125 31.203125 \nL 52.203125 0 \nL 43.21875 0 \nL 43.21875 8.296875 \nQ 40.140625 3.328125 35.546875 0.953125 \nQ 30.953125 -1.421875 24.3125 -1.421875 \nQ 15.921875 -1.421875 10.953125 3.296875 \nQ 6 8.015625 6 15.921875 \nQ 6 25.140625 12.171875 29.828125 \nQ 18.359375 34.515625 30.609375 34.515625 \nL 43.21875 34.515625 \nL 43.21875 35.40625 \nQ 43.21875 41.609375 39.140625 45 \nQ 35.0625 48.390625 27.6875 48.390625 \nQ 23 48.390625 18.546875 47.265625 \nQ 14.109375 46.140625 10.015625 43.890625 \nL 10.015625 52.203125 \nQ 14.9375 54.109375 19.578125 55.046875 \nQ 24.21875 56 28.609375 56 \nQ 40.484375 56 46.34375 49.84375 \nQ 52.203125 43.703125 52.203125 31.203125 \nz\n\" id=\"DejaVuSans-97\"/>\n        <path d=\"M 48.6875 27.296875 \nQ 48.6875 37.203125 44.609375 42.84375 \nQ 40.53125 48.484375 33.40625 48.484375 \nQ 26.265625 48.484375 22.1875 42.84375 \nQ 18.109375 37.203125 18.109375 27.296875 \nQ 18.109375 17.390625 22.1875 11.75 \nQ 26.265625 6.109375 33.40625 6.109375 \nQ 40.53125 6.109375 44.609375 11.75 \nQ 48.6875 17.390625 48.6875 27.296875 \nz\nM 18.109375 46.390625 \nQ 20.953125 51.265625 25.265625 53.625 \nQ 29.59375 56 35.59375 56 \nQ 45.5625 56 51.78125 48.09375 \nQ 58.015625 40.1875 58.015625 27.296875 \nQ 58.015625 14.40625 51.78125 6.484375 \nQ 45.5625 -1.421875 35.59375 -1.421875 \nQ 29.59375 -1.421875 25.265625 0.953125 \nQ 20.953125 3.328125 18.109375 8.203125 \nL 18.109375 0 \nL 9.078125 0 \nL 9.078125 75.984375 \nL 18.109375 75.984375 \nz\n\" id=\"DejaVuSans-98\"/>\n        <path d=\"M 44.28125 53.078125 \nL 44.28125 44.578125 \nQ 40.484375 46.53125 36.375 47.5 \nQ 32.28125 48.484375 27.875 48.484375 \nQ 21.1875 48.484375 17.84375 46.4375 \nQ 14.5 44.390625 14.5 40.28125 \nQ 14.5 37.15625 16.890625 35.375 \nQ 19.28125 33.59375 26.515625 31.984375 \nL 29.59375 31.296875 \nQ 39.15625 29.25 43.1875 25.515625 \nQ 47.21875 21.78125 47.21875 15.09375 \nQ 47.21875 7.46875 41.1875 3.015625 \nQ 35.15625 -1.421875 24.609375 -1.421875 \nQ 20.21875 -1.421875 15.453125 -0.5625 \nQ 10.6875 0.296875 5.421875 2 \nL 5.421875 11.28125 \nQ 10.40625 8.6875 15.234375 7.390625 \nQ 20.0625 6.109375 24.8125 6.109375 \nQ 31.15625 6.109375 34.5625 8.28125 \nQ 37.984375 10.453125 37.984375 14.40625 \nQ 37.984375 18.0625 35.515625 20.015625 \nQ 33.0625 21.96875 24.703125 23.78125 \nL 21.578125 24.515625 \nQ 13.234375 26.265625 9.515625 29.90625 \nQ 5.8125 33.546875 5.8125 39.890625 \nQ 5.8125 47.609375 11.28125 51.796875 \nQ 16.75 56 26.8125 56 \nQ 31.78125 56 36.171875 55.265625 \nQ 40.578125 54.546875 44.28125 53.078125 \nz\n\" id=\"DejaVuSans-115\"/>\n       </defs>\n       <use xlink:href=\"#DejaVuSans-111\"/>\n       <use x=\"61.181641\" xlink:href=\"#DejaVuSans-116\"/>\n       <use x=\"100.390625\" xlink:href=\"#DejaVuSans-104\"/>\n       <use x=\"163.769531\" xlink:href=\"#DejaVuSans-101\"/>\n       <use x=\"225.292969\" xlink:href=\"#DejaVuSans-114\"/>\n       <use x=\"266.40625\" xlink:href=\"#DejaVuSans-32\"/>\n       <use x=\"298.193359\" xlink:href=\"#DejaVuSans-118\"/>\n       <use x=\"357.373047\" xlink:href=\"#DejaVuSans-101\"/>\n       <use x=\"418.896484\" xlink:href=\"#DejaVuSans-103\"/>\n       <use x=\"482.373047\" xlink:href=\"#DejaVuSans-101\"/>\n       <use x=\"543.896484\" xlink:href=\"#DejaVuSans-116\"/>\n       <use x=\"583.105469\" xlink:href=\"#DejaVuSans-97\"/>\n       <use x=\"644.384766\" xlink:href=\"#DejaVuSans-98\"/>\n       <use x=\"707.861328\" xlink:href=\"#DejaVuSans-108\"/>\n       <use x=\"735.644531\" xlink:href=\"#DejaVuSans-101\"/>\n       <use x=\"797.167969\" xlink:href=\"#DejaVuSans-115\"/>\n      </g>\n     </g>\n    </g>\n    <g id=\"xtick_3\">\n     <g id=\"line2d_3\">\n      <g>\n       <use style=\"stroke:#000000;stroke-width:0.8;\" x=\"123.35\" xlink:href=\"#m8cdee6bdae\" y=\"224.64\"/>\n      </g>\n     </g>\n     <g id=\"text_3\">\n      <!-- rolls/buns -->\n      <g transform=\"translate(126.109375 280.011875)rotate(-90)scale(0.1 -0.1)\">\n       <defs>\n        <path d=\"M 25.390625 72.90625 \nL 33.6875 72.90625 \nL 8.296875 -9.28125 \nL 0 -9.28125 \nz\n\" id=\"DejaVuSans-47\"/>\n        <path d=\"M 8.5 21.578125 \nL 8.5 54.6875 \nL 17.484375 54.6875 \nL 17.484375 21.921875 \nQ 17.484375 14.15625 20.5 10.265625 \nQ 23.53125 6.390625 29.59375 6.390625 \nQ 36.859375 6.390625 41.078125 11.03125 \nQ 45.3125 15.671875 45.3125 23.6875 \nL 45.3125 54.6875 \nL 54.296875 54.6875 \nL 54.296875 0 \nL 45.3125 0 \nL 45.3125 8.40625 \nQ 42.046875 3.421875 37.71875 1 \nQ 33.40625 -1.421875 27.6875 -1.421875 \nQ 18.265625 -1.421875 13.375 4.4375 \nQ 8.5 10.296875 8.5 21.578125 \nz\nM 31.109375 56 \nz\n\" id=\"DejaVuSans-117\"/>\n        <path d=\"M 54.890625 33.015625 \nL 54.890625 0 \nL 45.90625 0 \nL 45.90625 32.71875 \nQ 45.90625 40.484375 42.875 44.328125 \nQ 39.84375 48.1875 33.796875 48.1875 \nQ 26.515625 48.1875 22.3125 43.546875 \nQ 18.109375 38.921875 18.109375 30.90625 \nL 18.109375 0 \nL 9.078125 0 \nL 9.078125 54.6875 \nL 18.109375 54.6875 \nL 18.109375 46.1875 \nQ 21.34375 51.125 25.703125 53.5625 \nQ 30.078125 56 35.796875 56 \nQ 45.21875 56 50.046875 50.171875 \nQ 54.890625 44.34375 54.890625 33.015625 \nz\n\" id=\"DejaVuSans-110\"/>\n       </defs>\n       <use xlink:href=\"#DejaVuSans-114\"/>\n       <use x=\"38.863281\" xlink:href=\"#DejaVuSans-111\"/>\n       <use x=\"100.044922\" xlink:href=\"#DejaVuSans-108\"/>\n       <use x=\"127.828125\" xlink:href=\"#DejaVuSans-108\"/>\n       <use x=\"155.611328\" xlink:href=\"#DejaVuSans-115\"/>\n       <use x=\"207.710938\" xlink:href=\"#DejaVuSans-47\"/>\n       <use x=\"241.402344\" xlink:href=\"#DejaVuSans-98\"/>\n       <use x=\"304.878906\" xlink:href=\"#DejaVuSans-117\"/>\n       <use x=\"368.257812\" xlink:href=\"#DejaVuSans-110\"/>\n       <use x=\"431.636719\" xlink:href=\"#DejaVuSans-115\"/>\n      </g>\n     </g>\n    </g>\n    <g id=\"xtick_4\">\n     <g id=\"line2d_4\">\n      <g>\n       <use style=\"stroke:#000000;stroke-width:0.8;\" x=\"156.83\" xlink:href=\"#m8cdee6bdae\" y=\"224.64\"/>\n      </g>\n     </g>\n     <g id=\"text_4\">\n      <!-- soda -->\n      <g transform=\"translate(159.589375 255.444687)rotate(-90)scale(0.1 -0.1)\">\n       <defs>\n        <path d=\"M 45.40625 46.390625 \nL 45.40625 75.984375 \nL 54.390625 75.984375 \nL 54.390625 0 \nL 45.40625 0 \nL 45.40625 8.203125 \nQ 42.578125 3.328125 38.25 0.953125 \nQ 33.9375 -1.421875 27.875 -1.421875 \nQ 17.96875 -1.421875 11.734375 6.484375 \nQ 5.515625 14.40625 5.515625 27.296875 \nQ 5.515625 40.1875 11.734375 48.09375 \nQ 17.96875 56 27.875 56 \nQ 33.9375 56 38.25 53.625 \nQ 42.578125 51.265625 45.40625 46.390625 \nz\nM 14.796875 27.296875 \nQ 14.796875 17.390625 18.875 11.75 \nQ 22.953125 6.109375 30.078125 6.109375 \nQ 37.203125 6.109375 41.296875 11.75 \nQ 45.40625 17.390625 45.40625 27.296875 \nQ 45.40625 37.203125 41.296875 42.84375 \nQ 37.203125 48.484375 30.078125 48.484375 \nQ 22.953125 48.484375 18.875 42.84375 \nQ 14.796875 37.203125 14.796875 27.296875 \nz\n\" id=\"DejaVuSans-100\"/>\n       </defs>\n       <use xlink:href=\"#DejaVuSans-115\"/>\n       <use x=\"52.099609\" xlink:href=\"#DejaVuSans-111\"/>\n       <use x=\"113.28125\" xlink:href=\"#DejaVuSans-100\"/>\n       <use x=\"176.757812\" xlink:href=\"#DejaVuSans-97\"/>\n      </g>\n     </g>\n    </g>\n    <g id=\"xtick_5\">\n     <g id=\"line2d_5\">\n      <g>\n       <use style=\"stroke:#000000;stroke-width:0.8;\" x=\"190.31\" xlink:href=\"#m8cdee6bdae\" y=\"224.64\"/>\n      </g>\n     </g>\n     <g id=\"text_5\">\n      <!-- yogurt -->\n      <g transform=\"translate(193.069375 264.394687)rotate(-90)scale(0.1 -0.1)\">\n       <defs>\n        <path d=\"M 32.171875 -5.078125 \nQ 28.375 -14.84375 24.75 -17.8125 \nQ 21.140625 -20.796875 15.09375 -20.796875 \nL 7.90625 -20.796875 \nL 7.90625 -13.28125 \nL 13.1875 -13.28125 \nQ 16.890625 -13.28125 18.9375 -11.515625 \nQ 21 -9.765625 23.484375 -3.21875 \nL 25.09375 0.875 \nL 2.984375 54.6875 \nL 12.5 54.6875 \nL 29.59375 11.921875 \nL 46.6875 54.6875 \nL 56.203125 54.6875 \nz\n\" id=\"DejaVuSans-121\"/>\n       </defs>\n       <use xlink:href=\"#DejaVuSans-121\"/>\n       <use x=\"59.179688\" xlink:href=\"#DejaVuSans-111\"/>\n       <use x=\"120.361328\" xlink:href=\"#DejaVuSans-103\"/>\n       <use x=\"183.837891\" xlink:href=\"#DejaVuSans-117\"/>\n       <use x=\"247.216797\" xlink:href=\"#DejaVuSans-114\"/>\n       <use x=\"288.330078\" xlink:href=\"#DejaVuSans-116\"/>\n      </g>\n     </g>\n    </g>\n    <g id=\"xtick_6\">\n     <g id=\"line2d_6\">\n      <g>\n       <use style=\"stroke:#000000;stroke-width:0.8;\" x=\"223.79\" xlink:href=\"#m8cdee6bdae\" y=\"224.64\"/>\n      </g>\n     </g>\n     <g id=\"text_6\">\n      <!-- bottled water -->\n      <g transform=\"translate(226.549375 298.89625)rotate(-90)scale(0.1 -0.1)\">\n       <use xlink:href=\"#DejaVuSans-98\"/>\n       <use x=\"63.476562\" xlink:href=\"#DejaVuSans-111\"/>\n       <use x=\"124.658203\" xlink:href=\"#DejaVuSans-116\"/>\n       <use x=\"163.867188\" xlink:href=\"#DejaVuSans-116\"/>\n       <use x=\"203.076172\" xlink:href=\"#DejaVuSans-108\"/>\n       <use x=\"230.859375\" xlink:href=\"#DejaVuSans-101\"/>\n       <use x=\"292.382812\" xlink:href=\"#DejaVuSans-100\"/>\n       <use x=\"355.859375\" xlink:href=\"#DejaVuSans-32\"/>\n       <use x=\"387.646484\" xlink:href=\"#DejaVuSans-119\"/>\n       <use x=\"469.433594\" xlink:href=\"#DejaVuSans-97\"/>\n       <use x=\"530.712891\" xlink:href=\"#DejaVuSans-116\"/>\n       <use x=\"569.921875\" xlink:href=\"#DejaVuSans-101\"/>\n       <use x=\"631.445312\" xlink:href=\"#DejaVuSans-114\"/>\n      </g>\n     </g>\n    </g>\n    <g id=\"xtick_7\">\n     <g id=\"line2d_7\">\n      <g>\n       <use style=\"stroke:#000000;stroke-width:0.8;\" x=\"257.27\" xlink:href=\"#m8cdee6bdae\" y=\"224.64\"/>\n      </g>\n     </g>\n     <g id=\"text_7\">\n      <!-- root vegetables -->\n      <g transform=\"translate(260.029375 309.972812)rotate(-90)scale(0.1 -0.1)\">\n       <use xlink:href=\"#DejaVuSans-114\"/>\n       <use x=\"38.863281\" xlink:href=\"#DejaVuSans-111\"/>\n       <use x=\"100.044922\" xlink:href=\"#DejaVuSans-111\"/>\n       <use x=\"161.226562\" xlink:href=\"#DejaVuSans-116\"/>\n       <use x=\"200.435547\" xlink:href=\"#DejaVuSans-32\"/>\n       <use x=\"232.222656\" xlink:href=\"#DejaVuSans-118\"/>\n       <use x=\"291.402344\" xlink:href=\"#DejaVuSans-101\"/>\n       <use x=\"352.925781\" xlink:href=\"#DejaVuSans-103\"/>\n       <use x=\"416.402344\" xlink:href=\"#DejaVuSans-101\"/>\n       <use x=\"477.925781\" xlink:href=\"#DejaVuSans-116\"/>\n       <use x=\"517.134766\" xlink:href=\"#DejaVuSans-97\"/>\n       <use x=\"578.414062\" xlink:href=\"#DejaVuSans-98\"/>\n       <use x=\"641.890625\" xlink:href=\"#DejaVuSans-108\"/>\n       <use x=\"669.673828\" xlink:href=\"#DejaVuSans-101\"/>\n       <use x=\"731.197266\" xlink:href=\"#DejaVuSans-115\"/>\n      </g>\n     </g>\n    </g>\n    <g id=\"xtick_8\">\n     <g id=\"line2d_8\">\n      <g>\n       <use style=\"stroke:#000000;stroke-width:0.8;\" x=\"290.75\" xlink:href=\"#m8cdee6bdae\" y=\"224.64\"/>\n      </g>\n     </g>\n     <g id=\"text_8\">\n      <!-- tropical fruit -->\n      <g transform=\"translate(293.509375 292.941562)rotate(-90)scale(0.1 -0.1)\">\n       <defs>\n        <path d=\"M 18.109375 8.203125 \nL 18.109375 -20.796875 \nL 9.078125 -20.796875 \nL 9.078125 54.6875 \nL 18.109375 54.6875 \nL 18.109375 46.390625 \nQ 20.953125 51.265625 25.265625 53.625 \nQ 29.59375 56 35.59375 56 \nQ 45.5625 56 51.78125 48.09375 \nQ 58.015625 40.1875 58.015625 27.296875 \nQ 58.015625 14.40625 51.78125 6.484375 \nQ 45.5625 -1.421875 35.59375 -1.421875 \nQ 29.59375 -1.421875 25.265625 0.953125 \nQ 20.953125 3.328125 18.109375 8.203125 \nz\nM 48.6875 27.296875 \nQ 48.6875 37.203125 44.609375 42.84375 \nQ 40.53125 48.484375 33.40625 48.484375 \nQ 26.265625 48.484375 22.1875 42.84375 \nQ 18.109375 37.203125 18.109375 27.296875 \nQ 18.109375 17.390625 22.1875 11.75 \nQ 26.265625 6.109375 33.40625 6.109375 \nQ 40.53125 6.109375 44.609375 11.75 \nQ 48.6875 17.390625 48.6875 27.296875 \nz\n\" id=\"DejaVuSans-112\"/>\n        <path d=\"M 48.78125 52.59375 \nL 48.78125 44.1875 \nQ 44.96875 46.296875 41.140625 47.34375 \nQ 37.3125 48.390625 33.40625 48.390625 \nQ 24.65625 48.390625 19.8125 42.84375 \nQ 14.984375 37.3125 14.984375 27.296875 \nQ 14.984375 17.28125 19.8125 11.734375 \nQ 24.65625 6.203125 33.40625 6.203125 \nQ 37.3125 6.203125 41.140625 7.25 \nQ 44.96875 8.296875 48.78125 10.40625 \nL 48.78125 2.09375 \nQ 45.015625 0.34375 40.984375 -0.53125 \nQ 36.96875 -1.421875 32.421875 -1.421875 \nQ 20.0625 -1.421875 12.78125 6.34375 \nQ 5.515625 14.109375 5.515625 27.296875 \nQ 5.515625 40.671875 12.859375 48.328125 \nQ 20.21875 56 33.015625 56 \nQ 37.15625 56 41.109375 55.140625 \nQ 45.0625 54.296875 48.78125 52.59375 \nz\n\" id=\"DejaVuSans-99\"/>\n        <path d=\"M 37.109375 75.984375 \nL 37.109375 68.5 \nL 28.515625 68.5 \nQ 23.6875 68.5 21.796875 66.546875 \nQ 19.921875 64.59375 19.921875 59.515625 \nL 19.921875 54.6875 \nL 34.71875 54.6875 \nL 34.71875 47.703125 \nL 19.921875 47.703125 \nL 19.921875 0 \nL 10.890625 0 \nL 10.890625 47.703125 \nL 2.296875 47.703125 \nL 2.296875 54.6875 \nL 10.890625 54.6875 \nL 10.890625 58.5 \nQ 10.890625 67.625 15.140625 71.796875 \nQ 19.390625 75.984375 28.609375 75.984375 \nz\n\" id=\"DejaVuSans-102\"/>\n       </defs>\n       <use xlink:href=\"#DejaVuSans-116\"/>\n       <use x=\"39.208984\" xlink:href=\"#DejaVuSans-114\"/>\n       <use x=\"78.072266\" xlink:href=\"#DejaVuSans-111\"/>\n       <use x=\"139.253906\" xlink:href=\"#DejaVuSans-112\"/>\n       <use x=\"202.730469\" xlink:href=\"#DejaVuSans-105\"/>\n       <use x=\"230.513672\" xlink:href=\"#DejaVuSans-99\"/>\n       <use x=\"285.494141\" xlink:href=\"#DejaVuSans-97\"/>\n       <use x=\"346.773438\" xlink:href=\"#DejaVuSans-108\"/>\n       <use x=\"374.556641\" xlink:href=\"#DejaVuSans-32\"/>\n       <use x=\"406.34375\" xlink:href=\"#DejaVuSans-102\"/>\n       <use x=\"441.548828\" xlink:href=\"#DejaVuSans-114\"/>\n       <use x=\"482.662109\" xlink:href=\"#DejaVuSans-117\"/>\n       <use x=\"546.041016\" xlink:href=\"#DejaVuSans-105\"/>\n       <use x=\"573.824219\" xlink:href=\"#DejaVuSans-116\"/>\n      </g>\n     </g>\n    </g>\n    <g id=\"xtick_9\">\n     <g id=\"line2d_9\">\n      <g>\n       <use style=\"stroke:#000000;stroke-width:0.8;\" x=\"324.23\" xlink:href=\"#m8cdee6bdae\" y=\"224.64\"/>\n      </g>\n     </g>\n     <g id=\"text_9\">\n      <!-- shopping bags -->\n      <g transform=\"translate(326.989375 304.679062)rotate(-90)scale(0.1 -0.1)\">\n       <use xlink:href=\"#DejaVuSans-115\"/>\n       <use x=\"52.099609\" xlink:href=\"#DejaVuSans-104\"/>\n       <use x=\"115.478516\" xlink:href=\"#DejaVuSans-111\"/>\n       <use x=\"176.660156\" xlink:href=\"#DejaVuSans-112\"/>\n       <use x=\"240.136719\" xlink:href=\"#DejaVuSans-112\"/>\n       <use x=\"303.613281\" xlink:href=\"#DejaVuSans-105\"/>\n       <use x=\"331.396484\" xlink:href=\"#DejaVuSans-110\"/>\n       <use x=\"394.775391\" xlink:href=\"#DejaVuSans-103\"/>\n       <use x=\"458.251953\" xlink:href=\"#DejaVuSans-32\"/>\n       <use x=\"490.039062\" xlink:href=\"#DejaVuSans-98\"/>\n       <use x=\"553.515625\" xlink:href=\"#DejaVuSans-97\"/>\n       <use x=\"614.794922\" xlink:href=\"#DejaVuSans-103\"/>\n       <use x=\"678.271484\" xlink:href=\"#DejaVuSans-115\"/>\n      </g>\n     </g>\n    </g>\n    <g id=\"xtick_10\">\n     <g id=\"line2d_10\">\n      <g>\n       <use style=\"stroke:#000000;stroke-width:0.8;\" x=\"357.71\" xlink:href=\"#m8cdee6bdae\" y=\"224.64\"/>\n      </g>\n     </g>\n     <g id=\"text_10\">\n      <!-- sausage -->\n      <g transform=\"translate(360.469375 273.154062)rotate(-90)scale(0.1 -0.1)\">\n       <use xlink:href=\"#DejaVuSans-115\"/>\n       <use x=\"52.099609\" xlink:href=\"#DejaVuSans-97\"/>\n       <use x=\"113.378906\" xlink:href=\"#DejaVuSans-117\"/>\n       <use x=\"176.757812\" xlink:href=\"#DejaVuSans-115\"/>\n       <use x=\"228.857422\" xlink:href=\"#DejaVuSans-97\"/>\n       <use x=\"290.136719\" xlink:href=\"#DejaVuSans-103\"/>\n       <use x=\"353.613281\" xlink:href=\"#DejaVuSans-101\"/>\n      </g>\n     </g>\n    </g>\n   </g>\n   <g id=\"matplotlib.axis_2\">\n    <g id=\"ytick_1\">\n     <g id=\"line2d_11\">\n      <defs>\n       <path d=\"M 0 0 \nL -3.5 0 \n\" id=\"mbc3219aa95\" style=\"stroke:#000000;stroke-width:0.8;\"/>\n      </defs>\n      <g>\n       <use style=\"stroke:#000000;stroke-width:0.8;\" x=\"39.65\" xlink:href=\"#mbc3219aa95\" y=\"224.64\"/>\n      </g>\n     </g>\n     <g id=\"text_11\">\n      <!-- 0 -->\n      <g transform=\"translate(26.2875 228.439219)scale(0.1 -0.1)\">\n       <defs>\n        <path d=\"M 31.78125 66.40625 \nQ 24.171875 66.40625 20.328125 58.90625 \nQ 16.5 51.421875 16.5 36.375 \nQ 16.5 21.390625 20.328125 13.890625 \nQ 24.171875 6.390625 31.78125 6.390625 \nQ 39.453125 6.390625 43.28125 13.890625 \nQ 47.125 21.390625 47.125 36.375 \nQ 47.125 51.421875 43.28125 58.90625 \nQ 39.453125 66.40625 31.78125 66.40625 \nz\nM 31.78125 74.21875 \nQ 44.046875 74.21875 50.515625 64.515625 \nQ 56.984375 54.828125 56.984375 36.375 \nQ 56.984375 17.96875 50.515625 8.265625 \nQ 44.046875 -1.421875 31.78125 -1.421875 \nQ 19.53125 -1.421875 13.0625 8.265625 \nQ 6.59375 17.96875 6.59375 36.375 \nQ 6.59375 54.828125 13.0625 64.515625 \nQ 19.53125 74.21875 31.78125 74.21875 \nz\n\" id=\"DejaVuSans-48\"/>\n       </defs>\n       <use xlink:href=\"#DejaVuSans-48\"/>\n      </g>\n     </g>\n    </g>\n    <g id=\"ytick_2\">\n     <g id=\"line2d_12\">\n      <g>\n       <use style=\"stroke:#000000;stroke-width:0.8;\" x=\"39.65\" xlink:href=\"#mbc3219aa95\" y=\"183.437112\"/>\n      </g>\n     </g>\n     <g id=\"text_12\">\n      <!-- 500 -->\n      <g transform=\"translate(13.5625 187.236331)scale(0.1 -0.1)\">\n       <defs>\n        <path d=\"M 10.796875 72.90625 \nL 49.515625 72.90625 \nL 49.515625 64.59375 \nL 19.828125 64.59375 \nL 19.828125 46.734375 \nQ 21.96875 47.46875 24.109375 47.828125 \nQ 26.265625 48.1875 28.421875 48.1875 \nQ 40.625 48.1875 47.75 41.5 \nQ 54.890625 34.8125 54.890625 23.390625 \nQ 54.890625 11.625 47.5625 5.09375 \nQ 40.234375 -1.421875 26.90625 -1.421875 \nQ 22.3125 -1.421875 17.546875 -0.640625 \nQ 12.796875 0.140625 7.71875 1.703125 \nL 7.71875 11.625 \nQ 12.109375 9.234375 16.796875 8.0625 \nQ 21.484375 6.890625 26.703125 6.890625 \nQ 35.15625 6.890625 40.078125 11.328125 \nQ 45.015625 15.765625 45.015625 23.390625 \nQ 45.015625 31 40.078125 35.4375 \nQ 35.15625 39.890625 26.703125 39.890625 \nQ 22.75 39.890625 18.8125 39.015625 \nQ 14.890625 38.140625 10.796875 36.28125 \nz\n\" id=\"DejaVuSans-53\"/>\n       </defs>\n       <use xlink:href=\"#DejaVuSans-53\"/>\n       <use x=\"63.623047\" xlink:href=\"#DejaVuSans-48\"/>\n       <use x=\"127.246094\" xlink:href=\"#DejaVuSans-48\"/>\n      </g>\n     </g>\n    </g>\n    <g id=\"ytick_3\">\n     <g id=\"line2d_13\">\n      <g>\n       <use style=\"stroke:#000000;stroke-width:0.8;\" x=\"39.65\" xlink:href=\"#mbc3219aa95\" y=\"142.234224\"/>\n      </g>\n     </g>\n     <g id=\"text_13\">\n      <!-- 1000 -->\n      <g transform=\"translate(7.2 146.033443)scale(0.1 -0.1)\">\n       <defs>\n        <path d=\"M 12.40625 8.296875 \nL 28.515625 8.296875 \nL 28.515625 63.921875 \nL 10.984375 60.40625 \nL 10.984375 69.390625 \nL 28.421875 72.90625 \nL 38.28125 72.90625 \nL 38.28125 8.296875 \nL 54.390625 8.296875 \nL 54.390625 0 \nL 12.40625 0 \nz\n\" id=\"DejaVuSans-49\"/>\n       </defs>\n       <use xlink:href=\"#DejaVuSans-49\"/>\n       <use x=\"63.623047\" xlink:href=\"#DejaVuSans-48\"/>\n       <use x=\"127.246094\" xlink:href=\"#DejaVuSans-48\"/>\n       <use x=\"190.869141\" xlink:href=\"#DejaVuSans-48\"/>\n      </g>\n     </g>\n    </g>\n    <g id=\"ytick_4\">\n     <g id=\"line2d_14\">\n      <g>\n       <use style=\"stroke:#000000;stroke-width:0.8;\" x=\"39.65\" xlink:href=\"#mbc3219aa95\" y=\"101.031336\"/>\n      </g>\n     </g>\n     <g id=\"text_14\">\n      <!-- 1500 -->\n      <g transform=\"translate(7.2 104.830555)scale(0.1 -0.1)\">\n       <use xlink:href=\"#DejaVuSans-49\"/>\n       <use x=\"63.623047\" xlink:href=\"#DejaVuSans-53\"/>\n       <use x=\"127.246094\" xlink:href=\"#DejaVuSans-48\"/>\n       <use x=\"190.869141\" xlink:href=\"#DejaVuSans-48\"/>\n      </g>\n     </g>\n    </g>\n    <g id=\"ytick_5\">\n     <g id=\"line2d_15\">\n      <g>\n       <use style=\"stroke:#000000;stroke-width:0.8;\" x=\"39.65\" xlink:href=\"#mbc3219aa95\" y=\"59.828449\"/>\n      </g>\n     </g>\n     <g id=\"text_15\">\n      <!-- 2000 -->\n      <g transform=\"translate(7.2 63.627667)scale(0.1 -0.1)\">\n       <defs>\n        <path d=\"M 19.1875 8.296875 \nL 53.609375 8.296875 \nL 53.609375 0 \nL 7.328125 0 \nL 7.328125 8.296875 \nQ 12.9375 14.109375 22.625 23.890625 \nQ 32.328125 33.6875 34.8125 36.53125 \nQ 39.546875 41.84375 41.421875 45.53125 \nQ 43.3125 49.21875 43.3125 52.78125 \nQ 43.3125 58.59375 39.234375 62.25 \nQ 35.15625 65.921875 28.609375 65.921875 \nQ 23.96875 65.921875 18.8125 64.3125 \nQ 13.671875 62.703125 7.8125 59.421875 \nL 7.8125 69.390625 \nQ 13.765625 71.78125 18.9375 73 \nQ 24.125 74.21875 28.421875 74.21875 \nQ 39.75 74.21875 46.484375 68.546875 \nQ 53.21875 62.890625 53.21875 53.421875 \nQ 53.21875 48.921875 51.53125 44.890625 \nQ 49.859375 40.875 45.40625 35.40625 \nQ 44.1875 33.984375 37.640625 27.21875 \nQ 31.109375 20.453125 19.1875 8.296875 \nz\n\" id=\"DejaVuSans-50\"/>\n       </defs>\n       <use xlink:href=\"#DejaVuSans-50\"/>\n       <use x=\"63.623047\" xlink:href=\"#DejaVuSans-48\"/>\n       <use x=\"127.246094\" xlink:href=\"#DejaVuSans-48\"/>\n       <use x=\"190.869141\" xlink:href=\"#DejaVuSans-48\"/>\n      </g>\n     </g>\n    </g>\n    <g id=\"ytick_6\">\n     <g id=\"line2d_16\">\n      <g>\n       <use style=\"stroke:#000000;stroke-width:0.8;\" x=\"39.65\" xlink:href=\"#mbc3219aa95\" y=\"18.625561\"/>\n      </g>\n     </g>\n     <g id=\"text_16\">\n      <!-- 2500 -->\n      <g transform=\"translate(7.2 22.42478)scale(0.1 -0.1)\">\n       <use xlink:href=\"#DejaVuSans-50\"/>\n       <use x=\"63.623047\" xlink:href=\"#DejaVuSans-53\"/>\n       <use x=\"127.246094\" xlink:href=\"#DejaVuSans-48\"/>\n       <use x=\"190.869141\" xlink:href=\"#DejaVuSans-48\"/>\n      </g>\n     </g>\n    </g>\n   </g>\n   <g id=\"patch_13\">\n    <path d=\"M 39.65 224.64 \nL 39.65 7.2 \n\" style=\"fill:none;stroke:#000000;stroke-linecap:square;stroke-linejoin:miter;stroke-width:0.8;\"/>\n   </g>\n   <g id=\"patch_14\">\n    <path d=\"M 374.45 224.64 \nL 374.45 7.2 \n\" style=\"fill:none;stroke:#000000;stroke-linecap:square;stroke-linejoin:miter;stroke-width:0.8;\"/>\n   </g>\n   <g id=\"patch_15\">\n    <path d=\"M 39.65 224.64 \nL 374.45 224.64 \n\" style=\"fill:none;stroke:#000000;stroke-linecap:square;stroke-linejoin:miter;stroke-width:0.8;\"/>\n   </g>\n   <g id=\"patch_16\">\n    <path d=\"M 39.65 7.2 \nL 374.45 7.2 \n\" style=\"fill:none;stroke:#000000;stroke-linecap:square;stroke-linejoin:miter;stroke-width:0.8;\"/>\n   </g>\n  </g>\n </g>\n <defs>\n  <clipPath id=\"pcc8c5acba3\">\n   <rect height=\"217.44\" width=\"334.8\" x=\"39.65\" y=\"7.2\"/>\n  </clipPath>\n </defs>\n</svg>\n",
      "image/png": "[encoded data removed]"
     },
     "metadata": {
      "needs_background": "light"
     }
    }
   ],
   "source": [
    "data.sum().nlargest(10).plot.bar()"
   ]
  },
  {
   "cell_type": "code",
   "execution_count": 71,
   "metadata": {},
   "outputs": [
    {
     "output_type": "execute_result",
     "data": {
      "text/plain": [
       "     support                          itemsets  length\n",
       "5   0.255516                      (whole milk)       1\n",
       "44  0.030503        (whole milk, citrus fruit)       2\n",
       "45  0.056024              (whole milk, yogurt)       2\n",
       "49  0.042298      (whole milk, tropical fruit)       2\n",
       "50  0.030097           (whole milk, pip fruit)       2\n",
       "51  0.074835    (whole milk, other vegetables)       2\n",
       "53  0.056634          (whole milk, rolls/buns)       2\n",
       "54  0.034367       (whole milk, bottled water)       2\n",
       "56  0.040061                (whole milk, soda)       2\n",
       "58  0.033249              (whole milk, pastry)       2\n",
       "60  0.048907     (whole milk, root vegetables)       2\n",
       "62  0.032232  (whole milk, whipped/sour cream)       2"
      ],
      "text/html": "<div>\n<style scoped>\n    .dataframe tbody tr th:only-of-type {\n        vertical-align: middle;\n    }\n\n    .dataframe tbody tr th {\n        vertical-align: top;\n    }\n\n    .dataframe thead th {\n        text-align: right;\n    }\n</style>\n<table border=\"1\" class=\"dataframe\">\n  <thead>\n    <tr style=\"text-align: right;\">\n      <th></th>\n      <th>support</th>\n      <th>itemsets</th>\n      <th>length</th>\n    </tr>\n  </thead>\n  <tbody>\n    <tr>\n      <th>5</th>\n      <td>0.255516</td>\n      <td>(whole milk)</td>\n      <td>1</td>\n    </tr>\n    <tr>\n      <th>44</th>\n      <td>0.030503</td>\n      <td>(whole milk, citrus fruit)</td>\n      <td>2</td>\n    </tr>\n    <tr>\n      <th>45</th>\n      <td>0.056024</td>\n      <td>(whole milk, yogurt)</td>\n      <td>2</td>\n    </tr>\n    <tr>\n      <th>49</th>\n      <td>0.042298</td>\n      <td>(whole milk, tropical fruit)</td>\n      <td>2</td>\n    </tr>\n    <tr>\n      <th>50</th>\n      <td>0.030097</td>\n      <td>(whole milk, pip fruit)</td>\n      <td>2</td>\n    </tr>\n    <tr>\n      <th>51</th>\n      <td>0.074835</td>\n      <td>(whole milk, other vegetables)</td>\n      <td>2</td>\n    </tr>\n    <tr>\n      <th>53</th>\n      <td>0.056634</td>\n      <td>(whole milk, rolls/buns)</td>\n      <td>2</td>\n    </tr>\n    <tr>\n      <th>54</th>\n      <td>0.034367</td>\n      <td>(whole milk, bottled water)</td>\n      <td>2</td>\n    </tr>\n    <tr>\n      <th>56</th>\n      <td>0.040061</td>\n      <td>(whole milk, soda)</td>\n      <td>2</td>\n    </tr>\n    <tr>\n      <th>58</th>\n      <td>0.033249</td>\n      <td>(whole milk, pastry)</td>\n      <td>2</td>\n    </tr>\n    <tr>\n      <th>60</th>\n      <td>0.048907</td>\n      <td>(whole milk, root vegetables)</td>\n      <td>2</td>\n    </tr>\n    <tr>\n      <th>62</th>\n      <td>0.032232</td>\n      <td>(whole milk, whipped/sour cream)</td>\n      <td>2</td>\n    </tr>\n  </tbody>\n</table>\n</div>"
     },
     "metadata": {},
     "execution_count": 71
    }
   ],
   "source": [
    "result[result[\"itemsets\"].apply(lambda x: 'whole milk' in str(x))]\n",
    "# Гистограмма напрямую кореллирует с результатами fpgrow. Например - частота для whole milk равна 2500, уровень поддержки - 0.25 и тд. \n",
    "# Для fpmax такой зависимости нет - не понятно какая корреляция."
   ]
  },
  {
   "cell_type": "code",
   "execution_count": 79,
   "metadata": {},
   "outputs": [
    {
     "output_type": "execute_result",
     "data": {
      "text/plain": [
       "     support                 itemsets  length\n",
       "28  0.030097  (whole milk, pip fruit)       2"
      ],
      "text/html": "<div>\n<style scoped>\n    .dataframe tbody tr th:only-of-type {\n        vertical-align: middle;\n    }\n\n    .dataframe tbody tr th {\n        vertical-align: top;\n    }\n\n    .dataframe thead th {\n        text-align: right;\n    }\n</style>\n<table border=\"1\" class=\"dataframe\">\n  <thead>\n    <tr style=\"text-align: right;\">\n      <th></th>\n      <th>support</th>\n      <th>itemsets</th>\n      <th>length</th>\n    </tr>\n  </thead>\n  <tbody>\n    <tr>\n      <th>28</th>\n      <td>0.030097</td>\n      <td>(whole milk, pip fruit)</td>\n      <td>2</td>\n    </tr>\n  </tbody>\n</table>\n</div>"
     },
     "metadata": {},
     "execution_count": 79
    }
   ],
   "source": [
    "result_fp[result_fp[\"itemsets\"].apply(lambda x: 'pip' in str(x))]"
   ]
  },
  {
   "cell_type": "code",
   "execution_count": 84,
   "metadata": {},
   "outputs": [],
   "source": [
    "items = ['whole milk', 'yogurt', 'soda', 'tropical fruit', 'shopping bags','sausage','whipped/sour cream', 'rolls/buns', 'other vegetables', 'root vegetables',\n",
    "'pork', 'bottled water', 'pastry', 'citrus fruit', 'canned beer',\n",
    "'bottled beer']\n",
    "np_data = all_data.to_numpy()\n",
    "np_data = [[elem for elem in row[1:] if isinstance(elem,str) and elem in\n",
    "items] for row in np_data]"
   ]
  },
  {
   "cell_type": "code",
   "execution_count": 85,
   "metadata": {},
   "outputs": [],
   "source": [
    "te = TransactionEncoder()\n",
    "te_ary = te.fit(np_data).transform(np_data)\n",
    "data_limited = pd.DataFrame(te_ary, columns=te.columns_)"
   ]
  },
  {
   "cell_type": "code",
   "execution_count": 86,
   "metadata": {},
   "outputs": [
    {
     "output_type": "execute_result",
     "data": {
      "text/plain": [
       "      bottled beer  bottled water  canned beer  citrus fruit  \\\n",
       "0            False          False        False          True   \n",
       "1            False          False        False         False   \n",
       "2            False          False        False         False   \n",
       "3            False          False        False         False   \n",
       "4            False          False        False         False   \n",
       "...            ...            ...          ...           ...   \n",
       "9830         False          False        False          True   \n",
       "9831         False          False        False         False   \n",
       "9832         False          False        False          True   \n",
       "9833          True           True        False         False   \n",
       "9834         False          False        False         False   \n",
       "\n",
       "      other vegetables  pastry   pork  rolls/buns  root vegetables  sausage  \\\n",
       "0                False   False  False       False            False    False   \n",
       "1                False   False  False       False            False    False   \n",
       "2                False   False  False       False            False    False   \n",
       "3                False   False  False       False            False    False   \n",
       "4                 True   False  False       False            False    False   \n",
       "...                ...     ...    ...         ...              ...      ...   \n",
       "9830             False   False  False       False             True     True   \n",
       "9831             False   False  False       False            False    False   \n",
       "9832              True   False  False        True            False    False   \n",
       "9833             False   False  False       False            False    False   \n",
       "9834              True   False  False       False            False    False   \n",
       "\n",
       "      shopping bags   soda  tropical fruit  whipped/sour cream  whole milk  \\\n",
       "0             False  False           False               False       False   \n",
       "1             False  False            True               False       False   \n",
       "2             False  False           False               False        True   \n",
       "3             False  False           False               False       False   \n",
       "4             False  False           False               False        True   \n",
       "...             ...    ...             ...                 ...         ...   \n",
       "9830          False  False           False                True        True   \n",
       "9831          False  False           False               False       False   \n",
       "9832          False  False           False               False       False   \n",
       "9833          False   True           False               False       False   \n",
       "9834           True  False            True               False       False   \n",
       "\n",
       "      yogurt  \n",
       "0      False  \n",
       "1       True  \n",
       "2      False  \n",
       "3       True  \n",
       "4      False  \n",
       "...      ...  \n",
       "9830   False  \n",
       "9831   False  \n",
       "9832    True  \n",
       "9833   False  \n",
       "9834   False  \n",
       "\n",
       "[9835 rows x 16 columns]"
      ],
      "text/html": "<div>\n<style scoped>\n    .dataframe tbody tr th:only-of-type {\n        vertical-align: middle;\n    }\n\n    .dataframe tbody tr th {\n        vertical-align: top;\n    }\n\n    .dataframe thead th {\n        text-align: right;\n    }\n</style>\n<table border=\"1\" class=\"dataframe\">\n  <thead>\n    <tr style=\"text-align: right;\">\n      <th></th>\n      <th>bottled beer</th>\n      <th>bottled water</th>\n      <th>canned beer</th>\n      <th>citrus fruit</th>\n      <th>other vegetables</th>\n      <th>pastry</th>\n      <th>pork</th>\n      <th>rolls/buns</th>\n      <th>root vegetables</th>\n      <th>sausage</th>\n      <th>shopping bags</th>\n      <th>soda</th>\n      <th>tropical fruit</th>\n      <th>whipped/sour cream</th>\n      <th>whole milk</th>\n      <th>yogurt</th>\n    </tr>\n  </thead>\n  <tbody>\n    <tr>\n      <th>0</th>\n      <td>False</td>\n      <td>False</td>\n      <td>False</td>\n      <td>True</td>\n      <td>False</td>\n      <td>False</td>\n      <td>False</td>\n      <td>False</td>\n      <td>False</td>\n      <td>False</td>\n      <td>False</td>\n      <td>False</td>\n      <td>False</td>\n      <td>False</td>\n      <td>False</td>\n      <td>False</td>\n    </tr>\n    <tr>\n      <th>1</th>\n      <td>False</td>\n      <td>False</td>\n      <td>False</td>\n      <td>False</td>\n      <td>False</td>\n      <td>False</td>\n      <td>False</td>\n      <td>False</td>\n      <td>False</td>\n      <td>False</td>\n      <td>False</td>\n      <td>False</td>\n      <td>True</td>\n      <td>False</td>\n      <td>False</td>\n      <td>True</td>\n    </tr>\n    <tr>\n      <th>2</th>\n      <td>False</td>\n      <td>False</td>\n      <td>False</td>\n      <td>False</td>\n      <td>False</td>\n      <td>False</td>\n      <td>False</td>\n      <td>False</td>\n      <td>False</td>\n      <td>False</td>\n      <td>False</td>\n      <td>False</td>\n      <td>False</td>\n      <td>False</td>\n      <td>True</td>\n      <td>False</td>\n    </tr>\n    <tr>\n      <th>3</th>\n      <td>False</td>\n      <td>False</td>\n      <td>False</td>\n      <td>False</td>\n      <td>False</td>\n      <td>False</td>\n      <td>False</td>\n      <td>False</td>\n      <td>False</td>\n      <td>False</td>\n      <td>False</td>\n      <td>False</td>\n      <td>False</td>\n      <td>False</td>\n      <td>False</td>\n      <td>True</td>\n    </tr>\n    <tr>\n      <th>4</th>\n      <td>False</td>\n      <td>False</td>\n      <td>False</td>\n      <td>False</td>\n      <td>True</td>\n      <td>False</td>\n      <td>False</td>\n      <td>False</td>\n      <td>False</td>\n      <td>False</td>\n      <td>False</td>\n      <td>False</td>\n      <td>False</td>\n      <td>False</td>\n      <td>True</td>\n      <td>False</td>\n    </tr>\n    <tr>\n      <th>...</th>\n      <td>...</td>\n      <td>...</td>\n      <td>...</td>\n      <td>...</td>\n      <td>...</td>\n      <td>...</td>\n      <td>...</td>\n      <td>...</td>\n      <td>...</td>\n      <td>...</td>\n      <td>...</td>\n      <td>...</td>\n      <td>...</td>\n      <td>...</td>\n      <td>...</td>\n      <td>...</td>\n    </tr>\n    <tr>\n      <th>9830</th>\n      <td>False</td>\n      <td>False</td>\n      <td>False</td>\n      <td>True</td>\n      <td>False</td>\n      <td>False</td>\n      <td>False</td>\n      <td>False</td>\n      <td>True</td>\n      <td>True</td>\n      <td>False</td>\n      <td>False</td>\n      <td>False</td>\n      <td>True</td>\n      <td>True</td>\n      <td>False</td>\n    </tr>\n    <tr>\n      <th>9831</th>\n      <td>False</td>\n      <td>False</td>\n      <td>False</td>\n      <td>False</td>\n      <td>False</td>\n      <td>False</td>\n      <td>False</td>\n      <td>False</td>\n      <td>False</td>\n      <td>False</td>\n      <td>False</td>\n      <td>False</td>\n      <td>False</td>\n      <td>False</td>\n      <td>False</td>\n      <td>False</td>\n    </tr>\n    <tr>\n      <th>9832</th>\n      <td>False</td>\n      <td>False</td>\n      <td>False</td>\n      <td>True</td>\n      <td>True</td>\n      <td>False</td>\n      <td>False</td>\n      <td>True</td>\n      <td>False</td>\n      <td>False</td>\n      <td>False</td>\n      <td>False</td>\n      <td>False</td>\n      <td>False</td>\n      <td>False</td>\n      <td>True</td>\n    </tr>\n    <tr>\n      <th>9833</th>\n      <td>True</td>\n      <td>True</td>\n      <td>False</td>\n      <td>False</td>\n      <td>False</td>\n      <td>False</td>\n      <td>False</td>\n      <td>False</td>\n      <td>False</td>\n      <td>False</td>\n      <td>False</td>\n      <td>True</td>\n      <td>False</td>\n      <td>False</td>\n      <td>False</td>\n      <td>False</td>\n    </tr>\n    <tr>\n      <th>9834</th>\n      <td>False</td>\n      <td>False</td>\n      <td>False</td>\n      <td>False</td>\n      <td>True</td>\n      <td>False</td>\n      <td>False</td>\n      <td>False</td>\n      <td>False</td>\n      <td>False</td>\n      <td>True</td>\n      <td>False</td>\n      <td>True</td>\n      <td>False</td>\n      <td>False</td>\n      <td>False</td>\n    </tr>\n  </tbody>\n</table>\n<p>9835 rows × 16 columns</p>\n</div>"
     },
     "metadata": {},
     "execution_count": 86
    }
   ],
   "source": [
    "data_limited"
   ]
  },
  {
   "cell_type": "code",
   "execution_count": 90,
   "metadata": {},
   "outputs": [
    {
     "output_type": "execute_result",
     "data": {
      "text/plain": [
       "     support                             itemsets  length\n",
       "0   0.057651                               (pork)       1\n",
       "1   0.032232     (whole milk, whipped/sour cream)       2\n",
       "2   0.077682                        (canned beer)       1\n",
       "3   0.080529                       (bottled beer)       1\n",
       "4   0.030503           (whole milk, citrus fruit)       2\n",
       "5   0.033249                 (whole milk, pastry)       2\n",
       "6   0.030605                (sausage, rolls/buns)       2\n",
       "7   0.098526                      (shopping bags)       1\n",
       "8   0.035892   (tropical fruit, other vegetables)       2\n",
       "9   0.042298         (whole milk, tropical fruit)       2\n",
       "10  0.047382  (root vegetables, other vegetables)       2\n",
       "11  0.048907        (whole milk, root vegetables)       2\n",
       "12  0.034367          (whole milk, bottled water)       2\n",
       "13  0.034367                 (yogurt, rolls/buns)       2\n",
       "14  0.043416           (yogurt, other vegetables)       2\n",
       "15  0.056024                 (whole milk, yogurt)       2\n",
       "16  0.032740             (soda, other vegetables)       2\n",
       "17  0.038332                   (soda, rolls/buns)       2\n",
       "18  0.040061                   (whole milk, soda)       2\n",
       "19  0.042603       (rolls/buns, other vegetables)       2\n",
       "20  0.056634             (whole milk, rolls/buns)       2\n",
       "21  0.074835       (whole milk, other vegetables)       2"
      ],
      "text/html": "<div>\n<style scoped>\n    .dataframe tbody tr th:only-of-type {\n        vertical-align: middle;\n    }\n\n    .dataframe tbody tr th {\n        vertical-align: top;\n    }\n\n    .dataframe thead th {\n        text-align: right;\n    }\n</style>\n<table border=\"1\" class=\"dataframe\">\n  <thead>\n    <tr style=\"text-align: right;\">\n      <th></th>\n      <th>support</th>\n      <th>itemsets</th>\n      <th>length</th>\n    </tr>\n  </thead>\n  <tbody>\n    <tr>\n      <th>0</th>\n      <td>0.057651</td>\n      <td>(pork)</td>\n      <td>1</td>\n    </tr>\n    <tr>\n      <th>1</th>\n      <td>0.032232</td>\n      <td>(whole milk, whipped/sour cream)</td>\n      <td>2</td>\n    </tr>\n    <tr>\n      <th>2</th>\n      <td>0.077682</td>\n      <td>(canned beer)</td>\n      <td>1</td>\n    </tr>\n    <tr>\n      <th>3</th>\n      <td>0.080529</td>\n      <td>(bottled beer)</td>\n      <td>1</td>\n    </tr>\n    <tr>\n      <th>4</th>\n      <td>0.030503</td>\n      <td>(whole milk, citrus fruit)</td>\n      <td>2</td>\n    </tr>\n    <tr>\n      <th>5</th>\n      <td>0.033249</td>\n      <td>(whole milk, pastry)</td>\n      <td>2</td>\n    </tr>\n    <tr>\n      <th>6</th>\n      <td>0.030605</td>\n      <td>(sausage, rolls/buns)</td>\n      <td>2</td>\n    </tr>\n    <tr>\n      <th>7</th>\n      <td>0.098526</td>\n      <td>(shopping bags)</td>\n      <td>1</td>\n    </tr>\n    <tr>\n      <th>8</th>\n      <td>0.035892</td>\n      <td>(tropical fruit, other vegetables)</td>\n      <td>2</td>\n    </tr>\n    <tr>\n      <th>9</th>\n      <td>0.042298</td>\n      <td>(whole milk, tropical fruit)</td>\n      <td>2</td>\n    </tr>\n    <tr>\n      <th>10</th>\n      <td>0.047382</td>\n      <td>(root vegetables, other vegetables)</td>\n      <td>2</td>\n    </tr>\n    <tr>\n      <th>11</th>\n      <td>0.048907</td>\n      <td>(whole milk, root vegetables)</td>\n      <td>2</td>\n    </tr>\n    <tr>\n      <th>12</th>\n      <td>0.034367</td>\n      <td>(whole milk, bottled water)</td>\n      <td>2</td>\n    </tr>\n    <tr>\n      <th>13</th>\n      <td>0.034367</td>\n      <td>(yogurt, rolls/buns)</td>\n      <td>2</td>\n    </tr>\n    <tr>\n      <th>14</th>\n      <td>0.043416</td>\n      <td>(yogurt, other vegetables)</td>\n      <td>2</td>\n    </tr>\n    <tr>\n      <th>15</th>\n      <td>0.056024</td>\n      <td>(whole milk, yogurt)</td>\n      <td>2</td>\n    </tr>\n    <tr>\n      <th>16</th>\n      <td>0.032740</td>\n      <td>(soda, other vegetables)</td>\n      <td>2</td>\n    </tr>\n    <tr>\n      <th>17</th>\n      <td>0.038332</td>\n      <td>(soda, rolls/buns)</td>\n      <td>2</td>\n    </tr>\n    <tr>\n      <th>18</th>\n      <td>0.040061</td>\n      <td>(whole milk, soda)</td>\n      <td>2</td>\n    </tr>\n    <tr>\n      <th>19</th>\n      <td>0.042603</td>\n      <td>(rolls/buns, other vegetables)</td>\n      <td>2</td>\n    </tr>\n    <tr>\n      <th>20</th>\n      <td>0.056634</td>\n      <td>(whole milk, rolls/buns)</td>\n      <td>2</td>\n    </tr>\n    <tr>\n      <th>21</th>\n      <td>0.074835</td>\n      <td>(whole milk, other vegetables)</td>\n      <td>2</td>\n    </tr>\n  </tbody>\n</table>\n</div>"
     },
     "metadata": {},
     "execution_count": 90
    }
   ],
   "source": [
    "result_fp = fpmax(data_limited, min_support=0.03, use_colnames = True)\n",
    "result_fp['length'] = result_fp['itemsets'].apply(lambda x: len(x))\n",
    "result_fp"
   ]
  },
  {
   "cell_type": "code",
   "execution_count": 89,
   "metadata": {},
   "outputs": [
    {
     "output_type": "execute_result",
     "data": {
      "text/plain": [
       "     support                             itemsets  length\n",
       "0   0.082766                       (citrus fruit)       1\n",
       "1   0.139502                             (yogurt)       1\n",
       "2   0.104931                     (tropical fruit)       1\n",
       "3   0.255516                         (whole milk)       1\n",
       "4   0.193493                   (other vegetables)       1\n",
       "5   0.183935                         (rolls/buns)       1\n",
       "6   0.080529                       (bottled beer)       1\n",
       "7   0.110524                      (bottled water)       1\n",
       "8   0.174377                               (soda)       1\n",
       "9   0.088968                             (pastry)       1\n",
       "10  0.108998                    (root vegetables)       1\n",
       "11  0.077682                        (canned beer)       1\n",
       "12  0.093950                            (sausage)       1\n",
       "13  0.098526                      (shopping bags)       1\n",
       "14  0.071683                 (whipped/sour cream)       1\n",
       "15  0.057651                               (pork)       1\n",
       "16  0.030503           (whole milk, citrus fruit)       2\n",
       "17  0.056024                 (whole milk, yogurt)       2\n",
       "18  0.034367                 (yogurt, rolls/buns)       2\n",
       "19  0.043416           (yogurt, other vegetables)       2\n",
       "20  0.035892   (tropical fruit, other vegetables)       2\n",
       "21  0.042298         (whole milk, tropical fruit)       2\n",
       "22  0.074835       (whole milk, other vegetables)       2\n",
       "23  0.042603       (rolls/buns, other vegetables)       2\n",
       "24  0.056634             (whole milk, rolls/buns)       2\n",
       "25  0.034367          (whole milk, bottled water)       2\n",
       "26  0.038332                   (soda, rolls/buns)       2\n",
       "27  0.040061                   (whole milk, soda)       2\n",
       "28  0.032740             (soda, other vegetables)       2\n",
       "29  0.033249                 (whole milk, pastry)       2\n",
       "30  0.047382  (root vegetables, other vegetables)       2\n",
       "31  0.048907        (whole milk, root vegetables)       2\n",
       "32  0.030605                (sausage, rolls/buns)       2\n",
       "33  0.032232     (whole milk, whipped/sour cream)       2"
      ],
      "text/html": "<div>\n<style scoped>\n    .dataframe tbody tr th:only-of-type {\n        vertical-align: middle;\n    }\n\n    .dataframe tbody tr th {\n        vertical-align: top;\n    }\n\n    .dataframe thead th {\n        text-align: right;\n    }\n</style>\n<table border=\"1\" class=\"dataframe\">\n  <thead>\n    <tr style=\"text-align: right;\">\n      <th></th>\n      <th>support</th>\n      <th>itemsets</th>\n      <th>length</th>\n    </tr>\n  </thead>\n  <tbody>\n    <tr>\n      <th>0</th>\n      <td>0.082766</td>\n      <td>(citrus fruit)</td>\n      <td>1</td>\n    </tr>\n    <tr>\n      <th>1</th>\n      <td>0.139502</td>\n      <td>(yogurt)</td>\n      <td>1</td>\n    </tr>\n    <tr>\n      <th>2</th>\n      <td>0.104931</td>\n      <td>(tropical fruit)</td>\n      <td>1</td>\n    </tr>\n    <tr>\n      <th>3</th>\n      <td>0.255516</td>\n      <td>(whole milk)</td>\n      <td>1</td>\n    </tr>\n    <tr>\n      <th>4</th>\n      <td>0.193493</td>\n      <td>(other vegetables)</td>\n      <td>1</td>\n    </tr>\n    <tr>\n      <th>5</th>\n      <td>0.183935</td>\n      <td>(rolls/buns)</td>\n      <td>1</td>\n    </tr>\n    <tr>\n      <th>6</th>\n      <td>0.080529</td>\n      <td>(bottled beer)</td>\n      <td>1</td>\n    </tr>\n    <tr>\n      <th>7</th>\n      <td>0.110524</td>\n      <td>(bottled water)</td>\n      <td>1</td>\n    </tr>\n    <tr>\n      <th>8</th>\n      <td>0.174377</td>\n      <td>(soda)</td>\n      <td>1</td>\n    </tr>\n    <tr>\n      <th>9</th>\n      <td>0.088968</td>\n      <td>(pastry)</td>\n      <td>1</td>\n    </tr>\n    <tr>\n      <th>10</th>\n      <td>0.108998</td>\n      <td>(root vegetables)</td>\n      <td>1</td>\n    </tr>\n    <tr>\n      <th>11</th>\n      <td>0.077682</td>\n      <td>(canned beer)</td>\n      <td>1</td>\n    </tr>\n    <tr>\n      <th>12</th>\n      <td>0.093950</td>\n      <td>(sausage)</td>\n      <td>1</td>\n    </tr>\n    <tr>\n      <th>13</th>\n      <td>0.098526</td>\n      <td>(shopping bags)</td>\n      <td>1</td>\n    </tr>\n    <tr>\n      <th>14</th>\n      <td>0.071683</td>\n      <td>(whipped/sour cream)</td>\n      <td>1</td>\n    </tr>\n    <tr>\n      <th>15</th>\n      <td>0.057651</td>\n      <td>(pork)</td>\n      <td>1</td>\n    </tr>\n    <tr>\n      <th>16</th>\n      <td>0.030503</td>\n      <td>(whole milk, citrus fruit)</td>\n      <td>2</td>\n    </tr>\n    <tr>\n      <th>17</th>\n      <td>0.056024</td>\n      <td>(whole milk, yogurt)</td>\n      <td>2</td>\n    </tr>\n    <tr>\n      <th>18</th>\n      <td>0.034367</td>\n      <td>(yogurt, rolls/buns)</td>\n      <td>2</td>\n    </tr>\n    <tr>\n      <th>19</th>\n      <td>0.043416</td>\n      <td>(yogurt, other vegetables)</td>\n      <td>2</td>\n    </tr>\n    <tr>\n      <th>20</th>\n      <td>0.035892</td>\n      <td>(tropical fruit, other vegetables)</td>\n      <td>2</td>\n    </tr>\n    <tr>\n      <th>21</th>\n      <td>0.042298</td>\n      <td>(whole milk, tropical fruit)</td>\n      <td>2</td>\n    </tr>\n    <tr>\n      <th>22</th>\n      <td>0.074835</td>\n      <td>(whole milk, other vegetables)</td>\n      <td>2</td>\n    </tr>\n    <tr>\n      <th>23</th>\n      <td>0.042603</td>\n      <td>(rolls/buns, other vegetables)</td>\n      <td>2</td>\n    </tr>\n    <tr>\n      <th>24</th>\n      <td>0.056634</td>\n      <td>(whole milk, rolls/buns)</td>\n      <td>2</td>\n    </tr>\n    <tr>\n      <th>25</th>\n      <td>0.034367</td>\n      <td>(whole milk, bottled water)</td>\n      <td>2</td>\n    </tr>\n    <tr>\n      <th>26</th>\n      <td>0.038332</td>\n      <td>(soda, rolls/buns)</td>\n      <td>2</td>\n    </tr>\n    <tr>\n      <th>27</th>\n      <td>0.040061</td>\n      <td>(whole milk, soda)</td>\n      <td>2</td>\n    </tr>\n    <tr>\n      <th>28</th>\n      <td>0.032740</td>\n      <td>(soda, other vegetables)</td>\n      <td>2</td>\n    </tr>\n    <tr>\n      <th>29</th>\n      <td>0.033249</td>\n      <td>(whole milk, pastry)</td>\n      <td>2</td>\n    </tr>\n    <tr>\n      <th>30</th>\n      <td>0.047382</td>\n      <td>(root vegetables, other vegetables)</td>\n      <td>2</td>\n    </tr>\n    <tr>\n      <th>31</th>\n      <td>0.048907</td>\n      <td>(whole milk, root vegetables)</td>\n      <td>2</td>\n    </tr>\n    <tr>\n      <th>32</th>\n      <td>0.030605</td>\n      <td>(sausage, rolls/buns)</td>\n      <td>2</td>\n    </tr>\n    <tr>\n      <th>33</th>\n      <td>0.032232</td>\n      <td>(whole milk, whipped/sour cream)</td>\n      <td>2</td>\n    </tr>\n  </tbody>\n</table>\n</div>"
     },
     "metadata": {},
     "execution_count": 89
    }
   ],
   "source": [
    "result = fpgrowth(data_limited, min_support=0.03, use_colnames = True)\n",
    "result['length'] = result['itemsets'].apply(lambda x: len(x))\n",
    "result"
   ]
  },
  {
   "cell_type": "code",
   "execution_count": 91,
   "metadata": {},
   "outputs": [],
   "source": [
    "# Сравнение с полными данными - ???"
   ]
  },
  {
   "cell_type": "code",
   "execution_count": 103,
   "metadata": {},
   "outputs": [
    {
     "output_type": "stream",
     "name": "stdout",
     "text": [
      "\n",
      "Count of result itemsets = 31, with min_support = 0.05\n",
      "\n",
      "Count of result itemsets = 21, with min_support = 0.060000000000000005\n",
      "\n",
      "Count of result itemsets = 19, with min_support = 0.07\n",
      "\n",
      "Count of result itemsets = 13, with min_support = 0.08000000000000002\n",
      "\n",
      "Count of result itemsets = 10, with min_support = 0.09000000000000001\n",
      "\n",
      "Count of result itemsets = 8, with min_support = 0.1\n",
      "\n",
      "Count of result itemsets = 6, with min_support = 0.11000000000000001\n",
      "\n",
      "Count of result itemsets = 5, with min_support = 0.12000000000000001\n",
      "\n",
      "Count of result itemsets = 5, with min_support = 0.13\n",
      "\n",
      "Count of result itemsets = 4, with min_support = 0.14\n",
      "\n",
      "Count of result itemsets = 4, with min_support = 0.15000000000000002\n",
      "\n",
      "Count of result itemsets = 4, with min_support = 0.16000000000000003\n",
      "\n",
      "Count of result itemsets = 4, with min_support = 0.17000000000000004\n",
      "\n",
      "Count of result itemsets = 3, with min_support = 0.18000000000000005\n",
      "\n",
      "Count of result itemsets = 2, with min_support = 0.19\n",
      "\n",
      "Count of result itemsets = 1, with min_support = 0.2\n",
      "\n",
      "Count of result itemsets = 1, with min_support = 0.21000000000000002\n",
      "\n",
      "Count of result itemsets = 1, with min_support = 0.22000000000000003\n",
      "\n",
      "Count of result itemsets = 1, with min_support = 0.23000000000000004\n",
      "\n",
      "Count of result itemsets = 1, with min_support = 0.24000000000000005\n",
      "\n",
      "Count of result itemsets = 1, with min_support = 0.25000000000000006\n",
      "\n",
      "Count of result itemsets = 0, with min_support = 0.26000000000000006\n",
      "\n",
      "Count of result itemsets = 0, with min_support = 0.27\n"
     ]
    }
   ],
   "source": [
    "# Постройте график изменения количества получаемых правил от уровня поддержки. На графике отдельно отобразите кривые для набора товаров 1, 2, и.т.д. Какие выводы можно сделать по данному графику?\n",
    "\n",
    "support_df = pd.DataFrame(columns=['count', 'support'])\n",
    "df_1 = pd.DataFrame(columns=['itemsets', 'support', 'length'])\n",
    "df_2 = pd.DataFrame(columns=['itemsets', 'support', 'length'])\n",
    "i = 0\n",
    "max_length = -1\n",
    "for support in np.arange(0.05, 0.27, 0.01):\n",
    "    result = fpgrowth(data, min_support=support, use_colnames = True)\n",
    "    result['length'] = result['itemsets'].apply(lambda x: len(x))\n",
    "    df_1 = df_1.append(result[result['length'] == 1])\n",
    "    df_2 = df_2.append(result[result['length'] == 2])\n",
    "    print('\\nCount of result itemsets = {}, with min_support = {}'.format(len(result), support))\n",
    "    support_df.loc[i] = [len(result), support]\n",
    "    i += 1"
   ]
  },
  {
   "cell_type": "code",
   "execution_count": 295,
   "metadata": {},
   "outputs": [
    {
     "output_type": "execute_result",
     "data": {
      "text/plain": [
       "<AxesSubplot:xlabel='support'>"
      ]
     },
     "metadata": {},
     "execution_count": 295
    },
    {
     "output_type": "display_data",
     "data": {
      "text/plain": "<Figure size 576x360 with 1 Axes>",
      "image/svg+xml": "<?xml version=\"1.0\" encoding=\"utf-8\" standalone=\"no\"?>\n<!DOCTYPE svg PUBLIC \"-//W3C//DTD SVG 1.1//EN\"\n  \"http://www.w3.org/Graphics/SVG/1.1/DTD/svg11.dtd\">\n<!-- Created with matplotlib (https://matplotlib.org/) -->\n<svg height=\"316.55625pt\" version=\"1.1\" viewBox=\"0 0 480.525 316.55625\" width=\"480.525pt\" xmlns=\"http://www.w3.org/2000/svg\" xmlns:xlink=\"http://www.w3.org/1999/xlink\">\n <metadata>\n  <rdf:RDF xmlns:cc=\"http://creativecommons.org/ns#\" xmlns:dc=\"http://purl.org/dc/elements/1.1/\" xmlns:rdf=\"http://www.w3.org/1999/02/22-rdf-syntax-ns#\">\n   <cc:Work>\n    <dc:type rdf:resource=\"http://purl.org/dc/dcmitype/StillImage\"/>\n    <dc:date>2020-11-18T22:40:35.991475</dc:date>\n    <dc:format>image/svg+xml</dc:format>\n    <dc:creator>\n     <cc:Agent>\n      <dc:title>Matplotlib v3.3.2, https://matplotlib.org/</dc:title>\n     </cc:Agent>\n    </dc:creator>\n   </cc:Work>\n  </rdf:RDF>\n </metadata>\n <defs>\n  <style type=\"text/css\">*{stroke-linecap:butt;stroke-linejoin:round;}</style>\n </defs>\n <g id=\"figure_1\">\n  <g id=\"patch_1\">\n   <path d=\"M 0 316.55625 \nL 480.525 316.55625 \nL 480.525 0 \nL 0 0 \nz\n\" style=\"fill:none;\"/>\n  </g>\n  <g id=\"axes_1\">\n   <g id=\"patch_2\">\n    <path d=\"M 26.925 279 \nL 473.325 279 \nL 473.325 7.2 \nL 26.925 7.2 \nz\n\" style=\"fill:#ffffff;\"/>\n   </g>\n   <g id=\"matplotlib.axis_1\">\n    <g id=\"xtick_1\">\n     <g id=\"line2d_1\">\n      <defs>\n       <path d=\"M 0 0 \nL 0 3.5 \n\" id=\"m51d95d035c\" style=\"stroke:#000000;stroke-width:0.8;\"/>\n      </defs>\n      <g>\n       <use style=\"stroke:#000000;stroke-width:0.8;\" x=\"47.215909\" xlink:href=\"#m51d95d035c\" y=\"279\"/>\n      </g>\n     </g>\n     <g id=\"text_1\">\n      <!-- 0.05 -->\n      <g transform=\"translate(36.083097 293.598437)scale(0.1 -0.1)\">\n       <defs>\n        <path d=\"M 31.78125 66.40625 \nQ 24.171875 66.40625 20.328125 58.90625 \nQ 16.5 51.421875 16.5 36.375 \nQ 16.5 21.390625 20.328125 13.890625 \nQ 24.171875 6.390625 31.78125 6.390625 \nQ 39.453125 6.390625 43.28125 13.890625 \nQ 47.125 21.390625 47.125 36.375 \nQ 47.125 51.421875 43.28125 58.90625 \nQ 39.453125 66.40625 31.78125 66.40625 \nz\nM 31.78125 74.21875 \nQ 44.046875 74.21875 50.515625 64.515625 \nQ 56.984375 54.828125 56.984375 36.375 \nQ 56.984375 17.96875 50.515625 8.265625 \nQ 44.046875 -1.421875 31.78125 -1.421875 \nQ 19.53125 -1.421875 13.0625 8.265625 \nQ 6.59375 17.96875 6.59375 36.375 \nQ 6.59375 54.828125 13.0625 64.515625 \nQ 19.53125 74.21875 31.78125 74.21875 \nz\n\" id=\"DejaVuSans-48\"/>\n        <path d=\"M 10.6875 12.40625 \nL 21 12.40625 \nL 21 0 \nL 10.6875 0 \nz\n\" id=\"DejaVuSans-46\"/>\n        <path d=\"M 10.796875 72.90625 \nL 49.515625 72.90625 \nL 49.515625 64.59375 \nL 19.828125 64.59375 \nL 19.828125 46.734375 \nQ 21.96875 47.46875 24.109375 47.828125 \nQ 26.265625 48.1875 28.421875 48.1875 \nQ 40.625 48.1875 47.75 41.5 \nQ 54.890625 34.8125 54.890625 23.390625 \nQ 54.890625 11.625 47.5625 5.09375 \nQ 40.234375 -1.421875 26.90625 -1.421875 \nQ 22.3125 -1.421875 17.546875 -0.640625 \nQ 12.796875 0.140625 7.71875 1.703125 \nL 7.71875 11.625 \nQ 12.109375 9.234375 16.796875 8.0625 \nQ 21.484375 6.890625 26.703125 6.890625 \nQ 35.15625 6.890625 40.078125 11.328125 \nQ 45.015625 15.765625 45.015625 23.390625 \nQ 45.015625 31 40.078125 35.4375 \nQ 35.15625 39.890625 26.703125 39.890625 \nQ 22.75 39.890625 18.8125 39.015625 \nQ 14.890625 38.140625 10.796875 36.28125 \nz\n\" id=\"DejaVuSans-53\"/>\n       </defs>\n       <use xlink:href=\"#DejaVuSans-48\"/>\n       <use x=\"63.623047\" xlink:href=\"#DejaVuSans-46\"/>\n       <use x=\"95.410156\" xlink:href=\"#DejaVuSans-48\"/>\n       <use x=\"159.033203\" xlink:href=\"#DejaVuSans-53\"/>\n      </g>\n     </g>\n    </g>\n    <g id=\"xtick_2\">\n     <g id=\"line2d_2\">\n      <g>\n       <use style=\"stroke:#000000;stroke-width:0.8;\" x=\"139.447314\" xlink:href=\"#m51d95d035c\" y=\"279\"/>\n      </g>\n     </g>\n     <g id=\"text_2\">\n      <!-- 0.10 -->\n      <g transform=\"translate(128.314502 293.598437)scale(0.1 -0.1)\">\n       <defs>\n        <path d=\"M 12.40625 8.296875 \nL 28.515625 8.296875 \nL 28.515625 63.921875 \nL 10.984375 60.40625 \nL 10.984375 69.390625 \nL 28.421875 72.90625 \nL 38.28125 72.90625 \nL 38.28125 8.296875 \nL 54.390625 8.296875 \nL 54.390625 0 \nL 12.40625 0 \nz\n\" id=\"DejaVuSans-49\"/>\n       </defs>\n       <use xlink:href=\"#DejaVuSans-48\"/>\n       <use x=\"63.623047\" xlink:href=\"#DejaVuSans-46\"/>\n       <use x=\"95.410156\" xlink:href=\"#DejaVuSans-49\"/>\n       <use x=\"159.033203\" xlink:href=\"#DejaVuSans-48\"/>\n      </g>\n     </g>\n    </g>\n    <g id=\"xtick_3\">\n     <g id=\"line2d_3\">\n      <g>\n       <use style=\"stroke:#000000;stroke-width:0.8;\" x=\"231.678719\" xlink:href=\"#m51d95d035c\" y=\"279\"/>\n      </g>\n     </g>\n     <g id=\"text_3\">\n      <!-- 0.15 -->\n      <g transform=\"translate(220.545907 293.598437)scale(0.1 -0.1)\">\n       <use xlink:href=\"#DejaVuSans-48\"/>\n       <use x=\"63.623047\" xlink:href=\"#DejaVuSans-46\"/>\n       <use x=\"95.410156\" xlink:href=\"#DejaVuSans-49\"/>\n       <use x=\"159.033203\" xlink:href=\"#DejaVuSans-53\"/>\n      </g>\n     </g>\n    </g>\n    <g id=\"xtick_4\">\n     <g id=\"line2d_4\">\n      <g>\n       <use style=\"stroke:#000000;stroke-width:0.8;\" x=\"323.910124\" xlink:href=\"#m51d95d035c\" y=\"279\"/>\n      </g>\n     </g>\n     <g id=\"text_4\">\n      <!-- 0.20 -->\n      <g transform=\"translate(312.777311 293.598437)scale(0.1 -0.1)\">\n       <defs>\n        <path d=\"M 19.1875 8.296875 \nL 53.609375 8.296875 \nL 53.609375 0 \nL 7.328125 0 \nL 7.328125 8.296875 \nQ 12.9375 14.109375 22.625 23.890625 \nQ 32.328125 33.6875 34.8125 36.53125 \nQ 39.546875 41.84375 41.421875 45.53125 \nQ 43.3125 49.21875 43.3125 52.78125 \nQ 43.3125 58.59375 39.234375 62.25 \nQ 35.15625 65.921875 28.609375 65.921875 \nQ 23.96875 65.921875 18.8125 64.3125 \nQ 13.671875 62.703125 7.8125 59.421875 \nL 7.8125 69.390625 \nQ 13.765625 71.78125 18.9375 73 \nQ 24.125 74.21875 28.421875 74.21875 \nQ 39.75 74.21875 46.484375 68.546875 \nQ 53.21875 62.890625 53.21875 53.421875 \nQ 53.21875 48.921875 51.53125 44.890625 \nQ 49.859375 40.875 45.40625 35.40625 \nQ 44.1875 33.984375 37.640625 27.21875 \nQ 31.109375 20.453125 19.1875 8.296875 \nz\n\" id=\"DejaVuSans-50\"/>\n       </defs>\n       <use xlink:href=\"#DejaVuSans-48\"/>\n       <use x=\"63.623047\" xlink:href=\"#DejaVuSans-46\"/>\n       <use x=\"95.410156\" xlink:href=\"#DejaVuSans-50\"/>\n       <use x=\"159.033203\" xlink:href=\"#DejaVuSans-48\"/>\n      </g>\n     </g>\n    </g>\n    <g id=\"xtick_5\">\n     <g id=\"line2d_5\">\n      <g>\n       <use style=\"stroke:#000000;stroke-width:0.8;\" x=\"416.141529\" xlink:href=\"#m51d95d035c\" y=\"279\"/>\n      </g>\n     </g>\n     <g id=\"text_5\">\n      <!-- 0.25 -->\n      <g transform=\"translate(405.008716 293.598437)scale(0.1 -0.1)\">\n       <use xlink:href=\"#DejaVuSans-48\"/>\n       <use x=\"63.623047\" xlink:href=\"#DejaVuSans-46\"/>\n       <use x=\"95.410156\" xlink:href=\"#DejaVuSans-50\"/>\n       <use x=\"159.033203\" xlink:href=\"#DejaVuSans-53\"/>\n      </g>\n     </g>\n    </g>\n    <g id=\"text_6\">\n     <!-- support -->\n     <g transform=\"translate(230.928125 307.276562)scale(0.1 -0.1)\">\n      <defs>\n       <path d=\"M 44.28125 53.078125 \nL 44.28125 44.578125 \nQ 40.484375 46.53125 36.375 47.5 \nQ 32.28125 48.484375 27.875 48.484375 \nQ 21.1875 48.484375 17.84375 46.4375 \nQ 14.5 44.390625 14.5 40.28125 \nQ 14.5 37.15625 16.890625 35.375 \nQ 19.28125 33.59375 26.515625 31.984375 \nL 29.59375 31.296875 \nQ 39.15625 29.25 43.1875 25.515625 \nQ 47.21875 21.78125 47.21875 15.09375 \nQ 47.21875 7.46875 41.1875 3.015625 \nQ 35.15625 -1.421875 24.609375 -1.421875 \nQ 20.21875 -1.421875 15.453125 -0.5625 \nQ 10.6875 0.296875 5.421875 2 \nL 5.421875 11.28125 \nQ 10.40625 8.6875 15.234375 7.390625 \nQ 20.0625 6.109375 24.8125 6.109375 \nQ 31.15625 6.109375 34.5625 8.28125 \nQ 37.984375 10.453125 37.984375 14.40625 \nQ 37.984375 18.0625 35.515625 20.015625 \nQ 33.0625 21.96875 24.703125 23.78125 \nL 21.578125 24.515625 \nQ 13.234375 26.265625 9.515625 29.90625 \nQ 5.8125 33.546875 5.8125 39.890625 \nQ 5.8125 47.609375 11.28125 51.796875 \nQ 16.75 56 26.8125 56 \nQ 31.78125 56 36.171875 55.265625 \nQ 40.578125 54.546875 44.28125 53.078125 \nz\n\" id=\"DejaVuSans-115\"/>\n       <path d=\"M 8.5 21.578125 \nL 8.5 54.6875 \nL 17.484375 54.6875 \nL 17.484375 21.921875 \nQ 17.484375 14.15625 20.5 10.265625 \nQ 23.53125 6.390625 29.59375 6.390625 \nQ 36.859375 6.390625 41.078125 11.03125 \nQ 45.3125 15.671875 45.3125 23.6875 \nL 45.3125 54.6875 \nL 54.296875 54.6875 \nL 54.296875 0 \nL 45.3125 0 \nL 45.3125 8.40625 \nQ 42.046875 3.421875 37.71875 1 \nQ 33.40625 -1.421875 27.6875 -1.421875 \nQ 18.265625 -1.421875 13.375 4.4375 \nQ 8.5 10.296875 8.5 21.578125 \nz\nM 31.109375 56 \nz\n\" id=\"DejaVuSans-117\"/>\n       <path d=\"M 18.109375 8.203125 \nL 18.109375 -20.796875 \nL 9.078125 -20.796875 \nL 9.078125 54.6875 \nL 18.109375 54.6875 \nL 18.109375 46.390625 \nQ 20.953125 51.265625 25.265625 53.625 \nQ 29.59375 56 35.59375 56 \nQ 45.5625 56 51.78125 48.09375 \nQ 58.015625 40.1875 58.015625 27.296875 \nQ 58.015625 14.40625 51.78125 6.484375 \nQ 45.5625 -1.421875 35.59375 -1.421875 \nQ 29.59375 -1.421875 25.265625 0.953125 \nQ 20.953125 3.328125 18.109375 8.203125 \nz\nM 48.6875 27.296875 \nQ 48.6875 37.203125 44.609375 42.84375 \nQ 40.53125 48.484375 33.40625 48.484375 \nQ 26.265625 48.484375 22.1875 42.84375 \nQ 18.109375 37.203125 18.109375 27.296875 \nQ 18.109375 17.390625 22.1875 11.75 \nQ 26.265625 6.109375 33.40625 6.109375 \nQ 40.53125 6.109375 44.609375 11.75 \nQ 48.6875 17.390625 48.6875 27.296875 \nz\n\" id=\"DejaVuSans-112\"/>\n       <path d=\"M 30.609375 48.390625 \nQ 23.390625 48.390625 19.1875 42.75 \nQ 14.984375 37.109375 14.984375 27.296875 \nQ 14.984375 17.484375 19.15625 11.84375 \nQ 23.34375 6.203125 30.609375 6.203125 \nQ 37.796875 6.203125 41.984375 11.859375 \nQ 46.1875 17.53125 46.1875 27.296875 \nQ 46.1875 37.015625 41.984375 42.703125 \nQ 37.796875 48.390625 30.609375 48.390625 \nz\nM 30.609375 56 \nQ 42.328125 56 49.015625 48.375 \nQ 55.71875 40.765625 55.71875 27.296875 \nQ 55.71875 13.875 49.015625 6.21875 \nQ 42.328125 -1.421875 30.609375 -1.421875 \nQ 18.84375 -1.421875 12.171875 6.21875 \nQ 5.515625 13.875 5.515625 27.296875 \nQ 5.515625 40.765625 12.171875 48.375 \nQ 18.84375 56 30.609375 56 \nz\n\" id=\"DejaVuSans-111\"/>\n       <path d=\"M 41.109375 46.296875 \nQ 39.59375 47.171875 37.8125 47.578125 \nQ 36.03125 48 33.890625 48 \nQ 26.265625 48 22.1875 43.046875 \nQ 18.109375 38.09375 18.109375 28.8125 \nL 18.109375 0 \nL 9.078125 0 \nL 9.078125 54.6875 \nL 18.109375 54.6875 \nL 18.109375 46.1875 \nQ 20.953125 51.171875 25.484375 53.578125 \nQ 30.03125 56 36.53125 56 \nQ 37.453125 56 38.578125 55.875 \nQ 39.703125 55.765625 41.0625 55.515625 \nz\n\" id=\"DejaVuSans-114\"/>\n       <path d=\"M 18.3125 70.21875 \nL 18.3125 54.6875 \nL 36.8125 54.6875 \nL 36.8125 47.703125 \nL 18.3125 47.703125 \nL 18.3125 18.015625 \nQ 18.3125 11.328125 20.140625 9.421875 \nQ 21.96875 7.515625 27.59375 7.515625 \nL 36.8125 7.515625 \nL 36.8125 0 \nL 27.59375 0 \nQ 17.1875 0 13.234375 3.875 \nQ 9.28125 7.765625 9.28125 18.015625 \nL 9.28125 47.703125 \nL 2.6875 47.703125 \nL 2.6875 54.6875 \nL 9.28125 54.6875 \nL 9.28125 70.21875 \nz\n\" id=\"DejaVuSans-116\"/>\n      </defs>\n      <use xlink:href=\"#DejaVuSans-115\"/>\n      <use x=\"52.099609\" xlink:href=\"#DejaVuSans-117\"/>\n      <use x=\"115.478516\" xlink:href=\"#DejaVuSans-112\"/>\n      <use x=\"178.955078\" xlink:href=\"#DejaVuSans-112\"/>\n      <use x=\"242.431641\" xlink:href=\"#DejaVuSans-111\"/>\n      <use x=\"303.613281\" xlink:href=\"#DejaVuSans-114\"/>\n      <use x=\"344.726562\" xlink:href=\"#DejaVuSans-116\"/>\n     </g>\n    </g>\n   </g>\n   <g id=\"matplotlib.axis_2\">\n    <g id=\"ytick_1\">\n     <g id=\"line2d_6\">\n      <defs>\n       <path d=\"M 0 0 \nL -3.5 0 \n\" id=\"m4a3410dd0d\" style=\"stroke:#000000;stroke-width:0.8;\"/>\n      </defs>\n      <g>\n       <use style=\"stroke:#000000;stroke-width:0.8;\" x=\"26.925\" xlink:href=\"#m4a3410dd0d\" y=\"266.645455\"/>\n      </g>\n     </g>\n     <g id=\"text_7\">\n      <!-- 0 -->\n      <g transform=\"translate(13.5625 270.444673)scale(0.1 -0.1)\">\n       <use xlink:href=\"#DejaVuSans-48\"/>\n      </g>\n     </g>\n    </g>\n    <g id=\"ytick_2\">\n     <g id=\"line2d_7\">\n      <g>\n       <use style=\"stroke:#000000;stroke-width:0.8;\" x=\"26.925\" xlink:href=\"#m4a3410dd0d\" y=\"226.792082\"/>\n      </g>\n     </g>\n     <g id=\"text_8\">\n      <!-- 5 -->\n      <g transform=\"translate(13.5625 230.591301)scale(0.1 -0.1)\">\n       <use xlink:href=\"#DejaVuSans-53\"/>\n      </g>\n     </g>\n    </g>\n    <g id=\"ytick_3\">\n     <g id=\"line2d_8\">\n      <g>\n       <use style=\"stroke:#000000;stroke-width:0.8;\" x=\"26.925\" xlink:href=\"#m4a3410dd0d\" y=\"186.93871\"/>\n      </g>\n     </g>\n     <g id=\"text_9\">\n      <!-- 10 -->\n      <g transform=\"translate(7.2 190.737928)scale(0.1 -0.1)\">\n       <use xlink:href=\"#DejaVuSans-49\"/>\n       <use x=\"63.623047\" xlink:href=\"#DejaVuSans-48\"/>\n      </g>\n     </g>\n    </g>\n    <g id=\"ytick_4\">\n     <g id=\"line2d_9\">\n      <g>\n       <use style=\"stroke:#000000;stroke-width:0.8;\" x=\"26.925\" xlink:href=\"#m4a3410dd0d\" y=\"147.085337\"/>\n      </g>\n     </g>\n     <g id=\"text_10\">\n      <!-- 15 -->\n      <g transform=\"translate(7.2 150.884556)scale(0.1 -0.1)\">\n       <use xlink:href=\"#DejaVuSans-49\"/>\n       <use x=\"63.623047\" xlink:href=\"#DejaVuSans-53\"/>\n      </g>\n     </g>\n    </g>\n    <g id=\"ytick_5\">\n     <g id=\"line2d_10\">\n      <g>\n       <use style=\"stroke:#000000;stroke-width:0.8;\" x=\"26.925\" xlink:href=\"#m4a3410dd0d\" y=\"107.231965\"/>\n      </g>\n     </g>\n     <g id=\"text_11\">\n      <!-- 20 -->\n      <g transform=\"translate(7.2 111.031184)scale(0.1 -0.1)\">\n       <use xlink:href=\"#DejaVuSans-50\"/>\n       <use x=\"63.623047\" xlink:href=\"#DejaVuSans-48\"/>\n      </g>\n     </g>\n    </g>\n    <g id=\"ytick_6\">\n     <g id=\"line2d_11\">\n      <g>\n       <use style=\"stroke:#000000;stroke-width:0.8;\" x=\"26.925\" xlink:href=\"#m4a3410dd0d\" y=\"67.378592\"/>\n      </g>\n     </g>\n     <g id=\"text_12\">\n      <!-- 25 -->\n      <g transform=\"translate(7.2 71.177811)scale(0.1 -0.1)\">\n       <use xlink:href=\"#DejaVuSans-50\"/>\n       <use x=\"63.623047\" xlink:href=\"#DejaVuSans-53\"/>\n      </g>\n     </g>\n    </g>\n    <g id=\"ytick_7\">\n     <g id=\"line2d_12\">\n      <g>\n       <use style=\"stroke:#000000;stroke-width:0.8;\" x=\"26.925\" xlink:href=\"#m4a3410dd0d\" y=\"27.52522\"/>\n      </g>\n     </g>\n     <g id=\"text_13\">\n      <!-- 30 -->\n      <g transform=\"translate(7.2 31.324439)scale(0.1 -0.1)\">\n       <defs>\n        <path d=\"M 40.578125 39.3125 \nQ 47.65625 37.796875 51.625 33 \nQ 55.609375 28.21875 55.609375 21.1875 \nQ 55.609375 10.40625 48.1875 4.484375 \nQ 40.765625 -1.421875 27.09375 -1.421875 \nQ 22.515625 -1.421875 17.65625 -0.515625 \nQ 12.796875 0.390625 7.625 2.203125 \nL 7.625 11.71875 \nQ 11.71875 9.328125 16.59375 8.109375 \nQ 21.484375 6.890625 26.8125 6.890625 \nQ 36.078125 6.890625 40.9375 10.546875 \nQ 45.796875 14.203125 45.796875 21.1875 \nQ 45.796875 27.640625 41.28125 31.265625 \nQ 36.765625 34.90625 28.71875 34.90625 \nL 20.21875 34.90625 \nL 20.21875 43.015625 \nL 29.109375 43.015625 \nQ 36.375 43.015625 40.234375 45.921875 \nQ 44.09375 48.828125 44.09375 54.296875 \nQ 44.09375 59.90625 40.109375 62.90625 \nQ 36.140625 65.921875 28.71875 65.921875 \nQ 24.65625 65.921875 20.015625 65.03125 \nQ 15.375 64.15625 9.8125 62.3125 \nL 9.8125 71.09375 \nQ 15.4375 72.65625 20.34375 73.4375 \nQ 25.25 74.21875 29.59375 74.21875 \nQ 40.828125 74.21875 47.359375 69.109375 \nQ 53.90625 64.015625 53.90625 55.328125 \nQ 53.90625 49.265625 50.4375 45.09375 \nQ 46.96875 40.921875 40.578125 39.3125 \nz\n\" id=\"DejaVuSans-51\"/>\n       </defs>\n       <use xlink:href=\"#DejaVuSans-51\"/>\n       <use x=\"63.623047\" xlink:href=\"#DejaVuSans-48\"/>\n      </g>\n     </g>\n    </g>\n   </g>\n   <g id=\"line2d_13\">\n    <path clip-path=\"url(#p6546f5ac32)\" d=\"M 47.215909 19.554545 \nL 65.66219 99.26129 \nL 84.108471 115.202639 \nL 102.554752 163.026686 \nL 121.001033 186.93871 \nL 139.447314 202.880059 \nL 157.893595 218.821408 \nL 176.339876 226.792082 \nL 194.786157 226.792082 \nL 213.232438 234.762757 \nL 231.678719 234.762757 \nL 250.125 234.762757 \nL 268.571281 234.762757 \nL 287.017562 242.733431 \nL 305.463843 250.704106 \nL 323.910124 258.67478 \nL 342.356405 258.67478 \nL 360.802686 258.67478 \nL 379.248967 258.67478 \nL 397.695248 258.67478 \nL 416.141529 258.67478 \nL 434.58781 266.645455 \nL 453.034091 266.645455 \n\" style=\"fill:none;stroke:#1f77b4;stroke-linecap:square;stroke-width:1.5;\"/>\n   </g>\n   <g id=\"patch_3\">\n    <path d=\"M 26.925 279 \nL 26.925 7.2 \n\" style=\"fill:none;stroke:#000000;stroke-linecap:square;stroke-linejoin:miter;stroke-width:0.8;\"/>\n   </g>\n   <g id=\"patch_4\">\n    <path d=\"M 473.325 279 \nL 473.325 7.2 \n\" style=\"fill:none;stroke:#000000;stroke-linecap:square;stroke-linejoin:miter;stroke-width:0.8;\"/>\n   </g>\n   <g id=\"patch_5\">\n    <path d=\"M 26.925 279 \nL 473.325 279 \n\" style=\"fill:none;stroke:#000000;stroke-linecap:square;stroke-linejoin:miter;stroke-width:0.8;\"/>\n   </g>\n   <g id=\"patch_6\">\n    <path d=\"M 26.925 7.2 \nL 473.325 7.2 \n\" style=\"fill:none;stroke:#000000;stroke-linecap:square;stroke-linejoin:miter;stroke-width:0.8;\"/>\n   </g>\n   <g id=\"legend_1\">\n    <g id=\"patch_7\">\n     <path d=\"M 406.1125 29.878125 \nL 466.325 29.878125 \nQ 468.325 29.878125 468.325 27.878125 \nL 468.325 14.2 \nQ 468.325 12.2 466.325 12.2 \nL 406.1125 12.2 \nQ 404.1125 12.2 404.1125 14.2 \nL 404.1125 27.878125 \nQ 404.1125 29.878125 406.1125 29.878125 \nz\n\" style=\"fill:#ffffff;opacity:0.8;stroke:#cccccc;stroke-linejoin:miter;\"/>\n    </g>\n    <g id=\"line2d_14\">\n     <path d=\"M 408.1125 20.298438 \nL 428.1125 20.298438 \n\" style=\"fill:none;stroke:#1f77b4;stroke-linecap:square;stroke-width:1.5;\"/>\n    </g>\n    <g id=\"line2d_15\"/>\n    <g id=\"text_14\">\n     <!-- count -->\n     <g transform=\"translate(436.1125 23.798438)scale(0.1 -0.1)\">\n      <defs>\n       <path d=\"M 48.78125 52.59375 \nL 48.78125 44.1875 \nQ 44.96875 46.296875 41.140625 47.34375 \nQ 37.3125 48.390625 33.40625 48.390625 \nQ 24.65625 48.390625 19.8125 42.84375 \nQ 14.984375 37.3125 14.984375 27.296875 \nQ 14.984375 17.28125 19.8125 11.734375 \nQ 24.65625 6.203125 33.40625 6.203125 \nQ 37.3125 6.203125 41.140625 7.25 \nQ 44.96875 8.296875 48.78125 10.40625 \nL 48.78125 2.09375 \nQ 45.015625 0.34375 40.984375 -0.53125 \nQ 36.96875 -1.421875 32.421875 -1.421875 \nQ 20.0625 -1.421875 12.78125 6.34375 \nQ 5.515625 14.109375 5.515625 27.296875 \nQ 5.515625 40.671875 12.859375 48.328125 \nQ 20.21875 56 33.015625 56 \nQ 37.15625 56 41.109375 55.140625 \nQ 45.0625 54.296875 48.78125 52.59375 \nz\n\" id=\"DejaVuSans-99\"/>\n       <path d=\"M 54.890625 33.015625 \nL 54.890625 0 \nL 45.90625 0 \nL 45.90625 32.71875 \nQ 45.90625 40.484375 42.875 44.328125 \nQ 39.84375 48.1875 33.796875 48.1875 \nQ 26.515625 48.1875 22.3125 43.546875 \nQ 18.109375 38.921875 18.109375 30.90625 \nL 18.109375 0 \nL 9.078125 0 \nL 9.078125 54.6875 \nL 18.109375 54.6875 \nL 18.109375 46.1875 \nQ 21.34375 51.125 25.703125 53.5625 \nQ 30.078125 56 35.796875 56 \nQ 45.21875 56 50.046875 50.171875 \nQ 54.890625 44.34375 54.890625 33.015625 \nz\n\" id=\"DejaVuSans-110\"/>\n      </defs>\n      <use xlink:href=\"#DejaVuSans-99\"/>\n      <use x=\"54.980469\" xlink:href=\"#DejaVuSans-111\"/>\n      <use x=\"116.162109\" xlink:href=\"#DejaVuSans-117\"/>\n      <use x=\"179.541016\" xlink:href=\"#DejaVuSans-110\"/>\n      <use x=\"242.919922\" xlink:href=\"#DejaVuSans-116\"/>\n     </g>\n    </g>\n   </g>\n  </g>\n </g>\n <defs>\n  <clipPath id=\"p6546f5ac32\">\n   <rect height=\"271.8\" width=\"446.4\" x=\"26.925\" y=\"7.2\"/>\n  </clipPath>\n </defs>\n</svg>\n",
      "image/png": "[encoded data removed]"
     },
     "metadata": {
      "needs_background": "light"
     }
    }
   ],
   "source": [
    "import matplotlib.pyplot as plt\n",
    "\n",
    "\n",
    "fig, ax = plt.subplots(figsize=(8,5))\n",
    "support_df.plot(x='support', y='count', ax=ax)\n",
    "#df_1.plot()\n"
   ]
  },
  {
   "cell_type": "code",
   "execution_count": 171,
   "metadata": {},
   "outputs": [
    {
     "output_type": "execute_result",
     "data": {
      "text/plain": [
       "4966"
      ]
     },
     "metadata": {},
     "execution_count": 171
    }
   ],
   "source": [
    "np_data = all_data.to_numpy()\n",
    "np_data = [[elem for elem in row[1:] if isinstance(elem,str) and elem in\n",
    "items] for row in np_data]\n",
    "np_data = [row for row in np_data if len(row) > 1]\n",
    "len(np_data)"
   ]
  },
  {
   "cell_type": "code",
   "execution_count": 180,
   "metadata": {},
   "outputs": [
    {
     "output_type": "execute_result",
     "data": {
      "text/plain": [
       "63"
      ]
     },
     "metadata": {},
     "execution_count": 180
    }
   ],
   "source": [
    "result = fpgrowth(data, min_support=0.03, use_colnames = True)"
   ]
  },
  {
   "cell_type": "code",
   "execution_count": 182,
   "metadata": {},
   "outputs": [
    {
     "output_type": "stream",
     "name": "stdout",
     "text": [
      "             antecedents         consequents  antecedent support  \\\n0         (citrus fruit)        (whole milk)            0.082766   \n1               (yogurt)        (whole milk)            0.139502   \n2       (tropical fruit)  (other vegetables)            0.104931   \n3       (tropical fruit)        (whole milk)            0.104931   \n4            (pip fruit)        (whole milk)            0.075648   \n5     (other vegetables)        (whole milk)            0.193493   \n6               (pastry)        (whole milk)            0.088968   \n7      (root vegetables)  (other vegetables)            0.108998   \n8      (root vegetables)        (whole milk)            0.108998   \n9              (sausage)        (rolls/buns)            0.093950   \n10  (whipped/sour cream)        (whole milk)            0.071683   \n\n    consequent support   support  confidence      lift  leverage  conviction  \n0             0.255516  0.030503    0.368550  1.442377  0.009355    1.179008  \n1             0.255516  0.056024    0.401603  1.571735  0.020379    1.244132  \n2             0.193493  0.035892    0.342054  1.767790  0.015589    1.225796  \n3             0.255516  0.042298    0.403101  1.577595  0.015486    1.247252  \n4             0.255516  0.030097    0.397849  1.557043  0.010767    1.236375  \n5             0.255516  0.074835    0.386758  1.513634  0.025394    1.214013  \n6             0.255516  0.033249    0.373714  1.462587  0.010516    1.188729  \n7             0.193493  0.047382    0.434701  2.246605  0.026291    1.426693  \n8             0.255516  0.048907    0.448694  1.756031  0.021056    1.350401  \n9             0.183935  0.030605    0.325758  1.771048  0.013324    1.210344  \n10            0.255516  0.032232    0.449645  1.759754  0.013916    1.352735  \n"
     ]
    },
    {
     "output_type": "execute_result",
     "data": {
      "text/plain": [
       "(11, 9)"
      ]
     },
     "metadata": {},
     "execution_count": 182
    }
   ],
   "source": [
    "# Объясните, что означает каждая колонка в полученных результатах.\n",
    "from mlxtend.frequent_patterns import association_rules\n",
    "\n",
    "rules = association_rules(result, metric='confidence', min_threshold = 0.32)\n",
    "print(rules)\n",
    "rules.shape"
   ]
  },
  {
   "cell_type": "code",
   "execution_count": null,
   "metadata": {},
   "outputs": [],
   "source": [
    "#Расчет проводится на основе выбранной метрики, по умолчанию используется метрика confidence"
   ]
  },
  {
   "cell_type": "code",
   "execution_count": 231,
   "metadata": {},
   "outputs": [
    {
     "output_type": "stream",
     "name": "stdout",
     "text": [
      "support\n",
      "(18, 9)\n",
      "       antecedent support  consequent support    support  confidence  \\\n",
      "count           18.000000           18.000000  18.000000   18.000000   \n",
      "mean             0.191736            0.191736   0.050240    0.282905   \n",
      "std              0.055054            0.055054   0.010632    0.094401   \n",
      "min              0.104931            0.104931   0.040061    0.156785   \n",
      "25%              0.148221            0.148221   0.042603    0.220546   \n",
      "50%              0.193493            0.193493   0.047382    0.238248   \n",
      "75%              0.255516            0.255516   0.056024    0.367874   \n",
      "max              0.255516            0.255516   0.074835    0.448694   \n",
      "\n",
      "            lift   leverage  conviction  \n",
      "count  18.000000  18.000000   18.000000  \n",
      "mean    1.508361   0.015243    1.140331  \n",
      "std     0.373428   0.009552    0.121411  \n",
      "min     0.899112  -0.004495    0.966533  \n",
      "25%     1.205032   0.009636    1.055373  \n",
      "50%     1.571735   0.016424    1.105797  \n",
      "75%     1.608457   0.021056    1.205495  \n",
      "max     2.246605   0.026291    1.426693  \n",
      "confidence\n",
      "(24, 9)\n",
      "       antecedent support  consequent support    support  confidence  \\\n",
      "count           24.000000           24.000000  24.000000   24.000000   \n",
      "mean             0.151127            0.211909   0.044696    0.317219   \n",
      "std              0.057782            0.045493   0.012616    0.081618   \n",
      "min              0.071683            0.108998   0.030097    0.219260   \n",
      "25%              0.104931            0.183935   0.034367    0.231149   \n",
      "50%              0.139502            0.193493   0.042603    0.311086   \n",
      "75%              0.193493            0.255516   0.050686    0.389531   \n",
      "max              0.255516            0.255516   0.074835    0.449645   \n",
      "\n",
      "            lift   leverage  conviction  \n",
      "count  24.000000  24.000000   24.000000  \n",
      "mean    1.517908   0.014037    1.165606  \n",
      "std     0.319718   0.007751    0.112171  \n",
      "min     0.899112  -0.004495    0.966533  \n",
      "25%     1.213963   0.009193    1.079259  \n",
      "50%     1.535339   0.013620    1.174968  \n",
      "75%     1.645350   0.020379    1.228441  \n",
      "max     2.246605   0.026291    1.426693  \n",
      "lift\n",
      "(24, 9)\n",
      "       antecedent support  consequent support    support  confidence  \\\n",
      "count           24.000000           24.000000  24.000000   24.000000   \n",
      "mean             0.171746            0.171746   0.042120    0.284471   \n",
      "std              0.071363            0.071363   0.013076    0.115848   \n",
      "min              0.071683            0.071683   0.030097    0.117788   \n",
      "25%              0.104931            0.104931   0.031825    0.180720   \n",
      "50%              0.188714            0.188714   0.039095    0.302051   \n",
      "75%              0.255516            0.255516   0.047763    0.389531   \n",
      "max              0.255516            0.255516   0.074835    0.449645   \n",
      "\n",
      "            lift   leverage  conviction  \n",
      "count  24.000000  24.000000   24.000000  \n",
      "mean    1.669555   0.016542    1.172409  \n",
      "std     0.212996   0.005510    0.103852  \n",
      "min     1.442377   0.009355    1.041577  \n",
      "25%     1.546191   0.012685    1.095910  \n",
      "50%     1.593026   0.015538    1.174968  \n",
      "75%     1.761763   0.020549    1.228441  \n",
      "max     2.246605   0.026291    1.426693  \n",
      "leverage\n",
      "(22, 9)\n",
      "       antecedent support  consequent support    support  confidence  \\\n",
      "count           22.000000           22.000000  22.000000   22.000000   \n",
      "mean             0.171983            0.171983   0.043176    0.288154   \n",
      "std              0.069760            0.069760   0.013163    0.114237   \n",
      "min              0.071683            0.071683   0.030097    0.117788   \n",
      "25%              0.105948            0.105948   0.032486    0.186974   \n",
      "50%              0.188714            0.188714   0.042298    0.302051   \n",
      "75%              0.255516            0.255516   0.048526    0.395077   \n",
      "max              0.255516            0.255516   0.074835    0.449645   \n",
      "\n",
      "            lift   leverage  conviction  \n",
      "count  22.000000  22.000000   22.000000  \n",
      "mean    1.690207   0.017195    1.178056  \n",
      "std     0.210538   0.005281    0.104699  \n",
      "min     1.462587   0.010516    1.047312  \n",
      "25%     1.560716   0.013472    1.099663  \n",
      "50%     1.608457   0.015589    1.175435  \n",
      "75%     1.765781   0.020887    1.233730  \n",
      "max     2.246605   0.026291    1.426693  \n",
      "conviction\n",
      "(24, 9)\n",
      "       antecedent support  consequent support    support  confidence  \\\n",
      "count           24.000000           24.000000  24.000000   24.000000   \n",
      "mean             0.157888            0.190396   0.043433    0.305218   \n",
      "std              0.064743            0.065595   0.012962    0.098287   \n",
      "min              0.071683            0.071683   0.030097    0.126144   \n",
      "25%              0.104931            0.131876   0.032994    0.223102   \n",
      "50%              0.139502            0.193493   0.042298    0.311086   \n",
      "75%              0.193493            0.255516   0.048907    0.389531   \n",
      "max              0.255516            0.255516   0.074835    0.449645   \n",
      "\n",
      "            lift   leverage  conviction  \n",
      "count  24.000000  24.000000   24.000000  \n",
      "mean    1.640360   0.016285    1.176672  \n",
      "std     0.250700   0.005871    0.098942  \n",
      "min     1.205032   0.006126    1.062323  \n",
      "25%     1.513634   0.012685    1.095910  \n",
      "50%     1.593026   0.015538    1.174968  \n",
      "75%     1.761763   0.020549    1.228441  \n",
      "max     2.246605   0.026291    1.426693  \n"
     ]
    }
   ],
   "source": [
    "metrics = [\n",
    "    'support',\n",
    "    'confidence',\n",
    "    'lift',\n",
    "    'leverage',\n",
    "    'conviction'\n",
    "]\n",
    "metric_df = pd.DataFrame(columns=['metric','threshold'])\n",
    "for metric in metrics:\n",
    "    for threshold in np.arange(0.01, 1.65, 0.01):\n",
    "        rules_metrics = association_rules(result, metric = metric, min_threshold = threshold)\n",
    "        if (rules_metrics.shape[0] >= 10) & (rules_metrics.shape[0] < 25): \n",
    "            metric_df = metric_df.append(pd.DataFrame.from_dict({'metric': metric, 'threshold': threshold}, orient='index').T)\n",
    "            print(metric)\n",
    "            print(rules_metrics.shape)\n",
    "            print(rules_metrics.describe())\n",
    "            break"
   ]
  },
  {
   "cell_type": "code",
   "execution_count": 230,
   "metadata": {},
   "outputs": [
    {
     "output_type": "execute_result",
     "data": {
      "text/plain": [
       "       metric threshold\n",
       "0     support      0.04\n",
       "0  confidence      0.21\n",
       "0        lift      1.34\n",
       "0    leverage      0.01\n",
       "0  conviction      1.06"
      ],
      "text/html": "<div>\n<style scoped>\n    .dataframe tbody tr th:only-of-type {\n        vertical-align: middle;\n    }\n\n    .dataframe tbody tr th {\n        vertical-align: top;\n    }\n\n    .dataframe thead th {\n        text-align: right;\n    }\n</style>\n<table border=\"1\" class=\"dataframe\">\n  <thead>\n    <tr style=\"text-align: right;\">\n      <th></th>\n      <th>metric</th>\n      <th>threshold</th>\n    </tr>\n  </thead>\n  <tbody>\n    <tr>\n      <th>0</th>\n      <td>support</td>\n      <td>0.04</td>\n    </tr>\n    <tr>\n      <th>0</th>\n      <td>confidence</td>\n      <td>0.21</td>\n    </tr>\n    <tr>\n      <th>0</th>\n      <td>lift</td>\n      <td>1.34</td>\n    </tr>\n    <tr>\n      <th>0</th>\n      <td>leverage</td>\n      <td>0.01</td>\n    </tr>\n    <tr>\n      <th>0</th>\n      <td>conviction</td>\n      <td>1.06</td>\n    </tr>\n  </tbody>\n</table>\n</div>"
     },
     "metadata": {},
     "execution_count": 230
    }
   ],
   "source": [
    "metric_df\n",
    "#Какой смысл несет каждая метрика"
   ]
  },
  {
   "cell_type": "code",
   "execution_count": 301,
   "metadata": {},
   "outputs": [
    {
     "output_type": "execute_result",
     "data": {
      "text/plain": [
       "(5, 9)"
      ]
     },
     "metadata": {},
     "execution_count": 301
    }
   ],
   "source": [
    "rules = association_rules(result, min_threshold = 0.4, metric='confidence')\n",
    "rules.shape"
   ]
  },
  {
   "cell_type": "code",
   "execution_count": 269,
   "metadata": {},
   "outputs": [],
   "source": [
    "rules[\"antecedents\"] = rules[\"antecedents\"].apply(lambda x: list(x)[0]).astype(\"unicode\")\n",
    "rules[\"consequents\"] = rules[\"consequents\"].apply(lambda x: list(x)[0]).astype(\"unicode\")"
   ]
  },
  {
   "cell_type": "code",
   "execution_count": 270,
   "metadata": {},
   "outputs": [
    {
     "output_type": "execute_result",
     "data": {
      "text/plain": [
       "          antecedents       consequents  antecedent support  \\\n",
       "0              yogurt        whole milk            0.139502   \n",
       "1      tropical fruit        whole milk            0.104931   \n",
       "2     root vegetables  other vegetables            0.108998   \n",
       "3     root vegetables        whole milk            0.108998   \n",
       "4  whipped/sour cream        whole milk            0.071683   \n",
       "\n",
       "   consequent support   support  confidence      lift  leverage  conviction  \n",
       "0            0.255516  0.056024    0.401603  1.571735  0.020379    1.244132  \n",
       "1            0.255516  0.042298    0.403101  1.577595  0.015486    1.247252  \n",
       "2            0.193493  0.047382    0.434701  2.246605  0.026291    1.426693  \n",
       "3            0.255516  0.048907    0.448694  1.756031  0.021056    1.350401  \n",
       "4            0.255516  0.032232    0.449645  1.759754  0.013916    1.352735  "
      ],
      "text/html": "<div>\n<style scoped>\n    .dataframe tbody tr th:only-of-type {\n        vertical-align: middle;\n    }\n\n    .dataframe tbody tr th {\n        vertical-align: top;\n    }\n\n    .dataframe thead th {\n        text-align: right;\n    }\n</style>\n<table border=\"1\" class=\"dataframe\">\n  <thead>\n    <tr style=\"text-align: right;\">\n      <th></th>\n      <th>antecedents</th>\n      <th>consequents</th>\n      <th>antecedent support</th>\n      <th>consequent support</th>\n      <th>support</th>\n      <th>confidence</th>\n      <th>lift</th>\n      <th>leverage</th>\n      <th>conviction</th>\n    </tr>\n  </thead>\n  <tbody>\n    <tr>\n      <th>0</th>\n      <td>yogurt</td>\n      <td>whole milk</td>\n      <td>0.139502</td>\n      <td>0.255516</td>\n      <td>0.056024</td>\n      <td>0.401603</td>\n      <td>1.571735</td>\n      <td>0.020379</td>\n      <td>1.244132</td>\n    </tr>\n    <tr>\n      <th>1</th>\n      <td>tropical fruit</td>\n      <td>whole milk</td>\n      <td>0.104931</td>\n      <td>0.255516</td>\n      <td>0.042298</td>\n      <td>0.403101</td>\n      <td>1.577595</td>\n      <td>0.015486</td>\n      <td>1.247252</td>\n    </tr>\n    <tr>\n      <th>2</th>\n      <td>root vegetables</td>\n      <td>other vegetables</td>\n      <td>0.108998</td>\n      <td>0.193493</td>\n      <td>0.047382</td>\n      <td>0.434701</td>\n      <td>2.246605</td>\n      <td>0.026291</td>\n      <td>1.426693</td>\n    </tr>\n    <tr>\n      <th>3</th>\n      <td>root vegetables</td>\n      <td>whole milk</td>\n      <td>0.108998</td>\n      <td>0.255516</td>\n      <td>0.048907</td>\n      <td>0.448694</td>\n      <td>1.756031</td>\n      <td>0.021056</td>\n      <td>1.350401</td>\n    </tr>\n    <tr>\n      <th>4</th>\n      <td>whipped/sour cream</td>\n      <td>whole milk</td>\n      <td>0.071683</td>\n      <td>0.255516</td>\n      <td>0.032232</td>\n      <td>0.449645</td>\n      <td>1.759754</td>\n      <td>0.013916</td>\n      <td>1.352735</td>\n    </tr>\n  </tbody>\n</table>\n</div>"
     },
     "metadata": {},
     "execution_count": 270
    }
   ],
   "source": [
    "rules"
   ]
  },
  {
   "cell_type": "code",
   "execution_count": 299,
   "metadata": {
    "tags": []
   },
   "outputs": [
    {
     "output_type": "display_data",
     "data": {
      "text/plain": "<Figure size 720x576 with 1 Axes>",
      "image/svg+xml": "<?xml version=\"1.0\" encoding=\"utf-8\" standalone=\"no\"?>\n<!DOCTYPE svg PUBLIC \"-//W3C//DTD SVG 1.1//EN\"\n  \"http://www.w3.org/Graphics/SVG/1.1/DTD/svg11.dtd\">\n<!-- Created with matplotlib (https://matplotlib.org/) -->\n<svg height=\"449.28pt\" version=\"1.1\" viewBox=\"0 0 572.4 449.28\" width=\"572.4pt\" xmlns=\"http://www.w3.org/2000/svg\" xmlns:xlink=\"http://www.w3.org/1999/xlink\">\n <metadata>\n  <rdf:RDF xmlns:cc=\"http://creativecommons.org/ns#\" xmlns:dc=\"http://purl.org/dc/elements/1.1/\" xmlns:rdf=\"http://www.w3.org/1999/02/22-rdf-syntax-ns#\">\n   <cc:Work>\n    <dc:type rdf:resource=\"http://purl.org/dc/dcmitype/StillImage\"/>\n    <dc:date>2020-11-18T22:55:40.723668</dc:date>\n    <dc:format>image/svg+xml</dc:format>\n    <dc:creator>\n     <cc:Agent>\n      <dc:title>Matplotlib v3.3.2, https://matplotlib.org/</dc:title>\n     </cc:Agent>\n    </dc:creator>\n   </cc:Work>\n  </rdf:RDF>\n </metadata>\n <defs>\n  <style type=\"text/css\">*{stroke-linecap:butt;stroke-linejoin:round;}</style>\n </defs>\n <g id=\"figure_1\">\n  <g id=\"patch_1\">\n   <path d=\"M 0 449.28 \nL 572.4 449.28 \nL 572.4 0 \nL 0 0 \nz\n\" style=\"fill:none;\"/>\n  </g>\n  <g id=\"axes_1\">\n   <g id=\"patch_2\">\n    <path d=\"M 7.2 442.08 \nL 565.2 442.08 \nL 565.2 7.2 \nL 7.2 7.2 \nz\n\" style=\"fill:#ffffff;\"/>\n   </g>\n   <g id=\"patch_3\">\n    <path clip-path=\"url(#pb0a259d65d)\" d=\"M 56.169148 53.577696 \nQ 67.011966 224.639487 77.775537 394.451044 \n\" style=\"fill:none;stroke:#000000;stroke-linecap:round;stroke-width:1.120488;\"/>\n    <path clip-path=\"url(#pb0a259d65d)\" d=\"M 79.518498 390.332538 \nL 77.775537 394.451044 \nL 75.526509 390.585572 \nL 79.518498 390.332538 \nz\n\" style=\"stroke:#000000;stroke-linecap:round;stroke-width:1.120488;\"/>\n   </g>\n   <g id=\"patch_4\">\n    <path clip-path=\"url(#pb0a259d65d)\" d=\"M 75.754298 184.608314 \nQ 77.026216 290.145156 78.286736 394.736256 \n\" style=\"fill:none;stroke:#000000;stroke-linecap:round;stroke-width:0.845958;\"/>\n    <path clip-path=\"url(#pb0a259d65d)\" d=\"M 80.238387 390.712444 \nL 78.286736 394.736256 \nL 76.238677 390.760648 \nL 80.238387 390.712444 \nz\n\" style=\"stroke:#000000;stroke-linecap:round;stroke-width:0.845958;\"/>\n   </g>\n   <g id=\"patch_5\">\n    <path clip-path=\"url(#pb0a259d65d)\" d=\"M 313.640906 291.764588 \nQ 411.624982 225.371564 508.731958 159.572855 \n\" style=\"fill:none;stroke:#000000;stroke-linecap:round;stroke-width:0.947636;\"/>\n    <path clip-path=\"url(#pb0a259d65d)\" d=\"M 504.298655 160.160928 \nL 508.731958 159.572855 \nL 506.542435 163.472341 \nL 504.298655 160.160928 \nz\n\" style=\"stroke:#000000;stroke-linecap:round;stroke-width:0.947636;\"/>\n   </g>\n   <g id=\"patch_6\">\n    <path clip-path=\"url(#pb0a259d65d)\" d=\"M 298.635116 300.324302 \nQ 192.435456 350.483519 87.224641 400.175694 \n\" style=\"fill:none;stroke:#000000;stroke-linecap:round;stroke-width:0.978139;\"/>\n    <path clip-path=\"url(#pb0a259d65d)\" d=\"M 91.695656 400.275843 \nL 87.224641 400.175694 \nL 89.987369 396.658972 \nL 91.695656 400.275843 \nz\n\" style=\"stroke:#000000;stroke-linecap:round;stroke-width:0.978139;\"/>\n   </g>\n   <g id=\"patch_7\">\n    <path clip-path=\"url(#pb0a259d65d)\" d=\"M 162.97551 163.035227 \nQ 122.120799 279.603612 81.50447 395.491835 \n\" style=\"fill:none;stroke:#000000;stroke-linecap:round;stroke-width:0.644637;\"/>\n    <path clip-path=\"url(#pb0a259d65d)\" d=\"M 84.714916 392.37847 \nL 81.50447 395.491835 \nL 80.940046 391.05546 \nL 84.714916 392.37847 \nz\n\" style=\"stroke:#000000;stroke-linecap:round;stroke-width:0.644637;\"/>\n   </g>\n   <g id=\"matplotlib.axis_1\">\n    <g id=\"xtick_1\"/>\n    <g id=\"xtick_2\"/>\n    <g id=\"xtick_3\"/>\n    <g id=\"xtick_4\"/>\n    <g id=\"xtick_5\"/>\n    <g id=\"xtick_6\"/>\n    <g id=\"xtick_7\"/>\n    <g id=\"xtick_8\"/>\n    <g id=\"xtick_9\"/>\n   </g>\n   <g id=\"matplotlib.axis_2\">\n    <g id=\"ytick_1\"/>\n    <g id=\"ytick_2\"/>\n    <g id=\"ytick_3\"/>\n    <g id=\"ytick_4\"/>\n    <g id=\"ytick_5\"/>\n    <g id=\"ytick_6\"/>\n   </g>\n   <g id=\"PathCollection_1\">\n    <defs>\n     <path d=\"M 0 8.660254 \nC 2.296726 8.660254 4.499694 7.747755 6.123724 6.123724 \nC 7.747755 4.499694 8.660254 2.296726 8.660254 0 \nC 8.660254 -2.296726 7.747755 -4.499694 6.123724 -6.123724 \nC 4.499694 -7.747755 2.296726 -8.660254 0 -8.660254 \nC -2.296726 -8.660254 -4.499694 -7.747755 -6.123724 -6.123724 \nC -7.747755 -4.499694 -8.660254 -2.296726 -8.660254 0 \nC -8.660254 2.296726 -7.747755 4.499694 -6.123724 6.123724 \nC -4.499694 7.747755 -2.296726 8.660254 0 8.660254 \nz\n\" id=\"m62abe1ceb4\" style=\"stroke:#1f78b4;\"/>\n    </defs>\n    <g clip-path=\"url(#pb0a259d65d)\">\n     <use style=\"fill:#1f78b4;stroke:#1f78b4;\" x=\"55.621488\" xlink:href=\"#m62abe1ceb4\" y=\"44.937521\"/>\n     <use style=\"fill:#1f78b4;stroke:#1f78b4;\" x=\"78.402509\" xlink:href=\"#m62abe1ceb4\" y=\"404.342479\"/>\n     <use style=\"fill:#1f78b4;stroke:#1f78b4;\" x=\"75.649925\" xlink:href=\"#m62abe1ceb4\" y=\"175.948032\"/>\n     <use style=\"fill:#1f78b4;stroke:#1f78b4;\" x=\"306.468625\" xlink:href=\"#m62abe1ceb4\" y=\"296.624453\"/>\n     <use style=\"fill:#1f78b4;stroke:#1f78b4;\" x=\"516.778512\" xlink:href=\"#m62abe1ceb4\" y=\"154.12059\"/>\n     <use style=\"fill:#1f78b4;stroke:#1f78b4;\" x=\"165.840017\" xlink:href=\"#m62abe1ceb4\" y=\"154.862095\"/>\n    </g>\n   </g>\n   <g id=\"patch_8\">\n    <path d=\"M 7.2 442.08 \nL 7.2 7.2 \n\" style=\"fill:none;stroke:#000000;stroke-linecap:square;stroke-linejoin:miter;stroke-width:0.8;\"/>\n   </g>\n   <g id=\"patch_9\">\n    <path d=\"M 565.2 442.08 \nL 565.2 7.2 \n\" style=\"fill:none;stroke:#000000;stroke-linecap:square;stroke-linejoin:miter;stroke-width:0.8;\"/>\n   </g>\n   <g id=\"patch_10\">\n    <path d=\"M 7.2 442.08 \nL 565.2 442.08 \n\" style=\"fill:none;stroke:#000000;stroke-linecap:square;stroke-linejoin:miter;stroke-width:0.8;\"/>\n   </g>\n   <g id=\"patch_11\">\n    <path d=\"M 7.2 7.2 \nL 565.2 7.2 \n\" style=\"fill:none;stroke:#000000;stroke-linecap:square;stroke-linejoin:miter;stroke-width:0.8;\"/>\n   </g>\n   <g id=\"text_1\">\n    <g clip-path=\"url(#pb0a259d65d)\">\n     <!-- yogurt -->\n     <g transform=\"translate(35.968675 48.248771)scale(0.12 -0.12)\">\n      <defs>\n       <path d=\"M 32.171875 -5.078125 \nQ 28.375 -14.84375 24.75 -17.8125 \nQ 21.140625 -20.796875 15.09375 -20.796875 \nL 7.90625 -20.796875 \nL 7.90625 -13.28125 \nL 13.1875 -13.28125 \nQ 16.890625 -13.28125 18.9375 -11.515625 \nQ 21 -9.765625 23.484375 -3.21875 \nL 25.09375 0.875 \nL 2.984375 54.6875 \nL 12.5 54.6875 \nL 29.59375 11.921875 \nL 46.6875 54.6875 \nL 56.203125 54.6875 \nz\n\" id=\"DejaVuSans-121\"/>\n       <path d=\"M 30.609375 48.390625 \nQ 23.390625 48.390625 19.1875 42.75 \nQ 14.984375 37.109375 14.984375 27.296875 \nQ 14.984375 17.484375 19.15625 11.84375 \nQ 23.34375 6.203125 30.609375 6.203125 \nQ 37.796875 6.203125 41.984375 11.859375 \nQ 46.1875 17.53125 46.1875 27.296875 \nQ 46.1875 37.015625 41.984375 42.703125 \nQ 37.796875 48.390625 30.609375 48.390625 \nz\nM 30.609375 56 \nQ 42.328125 56 49.015625 48.375 \nQ 55.71875 40.765625 55.71875 27.296875 \nQ 55.71875 13.875 49.015625 6.21875 \nQ 42.328125 -1.421875 30.609375 -1.421875 \nQ 18.84375 -1.421875 12.171875 6.21875 \nQ 5.515625 13.875 5.515625 27.296875 \nQ 5.515625 40.765625 12.171875 48.375 \nQ 18.84375 56 30.609375 56 \nz\n\" id=\"DejaVuSans-111\"/>\n       <path d=\"M 45.40625 27.984375 \nQ 45.40625 37.75 41.375 43.109375 \nQ 37.359375 48.484375 30.078125 48.484375 \nQ 22.859375 48.484375 18.828125 43.109375 \nQ 14.796875 37.75 14.796875 27.984375 \nQ 14.796875 18.265625 18.828125 12.890625 \nQ 22.859375 7.515625 30.078125 7.515625 \nQ 37.359375 7.515625 41.375 12.890625 \nQ 45.40625 18.265625 45.40625 27.984375 \nz\nM 54.390625 6.78125 \nQ 54.390625 -7.171875 48.1875 -13.984375 \nQ 42 -20.796875 29.203125 -20.796875 \nQ 24.46875 -20.796875 20.265625 -20.09375 \nQ 16.0625 -19.390625 12.109375 -17.921875 \nL 12.109375 -9.1875 \nQ 16.0625 -11.328125 19.921875 -12.34375 \nQ 23.78125 -13.375 27.78125 -13.375 \nQ 36.625 -13.375 41.015625 -8.765625 \nQ 45.40625 -4.15625 45.40625 5.171875 \nL 45.40625 9.625 \nQ 42.625 4.78125 38.28125 2.390625 \nQ 33.9375 0 27.875 0 \nQ 17.828125 0 11.671875 7.65625 \nQ 5.515625 15.328125 5.515625 27.984375 \nQ 5.515625 40.671875 11.671875 48.328125 \nQ 17.828125 56 27.875 56 \nQ 33.9375 56 38.28125 53.609375 \nQ 42.625 51.21875 45.40625 46.390625 \nL 45.40625 54.6875 \nL 54.390625 54.6875 \nz\n\" id=\"DejaVuSans-103\"/>\n       <path d=\"M 8.5 21.578125 \nL 8.5 54.6875 \nL 17.484375 54.6875 \nL 17.484375 21.921875 \nQ 17.484375 14.15625 20.5 10.265625 \nQ 23.53125 6.390625 29.59375 6.390625 \nQ 36.859375 6.390625 41.078125 11.03125 \nQ 45.3125 15.671875 45.3125 23.6875 \nL 45.3125 54.6875 \nL 54.296875 54.6875 \nL 54.296875 0 \nL 45.3125 0 \nL 45.3125 8.40625 \nQ 42.046875 3.421875 37.71875 1 \nQ 33.40625 -1.421875 27.6875 -1.421875 \nQ 18.265625 -1.421875 13.375 4.4375 \nQ 8.5 10.296875 8.5 21.578125 \nz\nM 31.109375 56 \nz\n\" id=\"DejaVuSans-117\"/>\n       <path d=\"M 41.109375 46.296875 \nQ 39.59375 47.171875 37.8125 47.578125 \nQ 36.03125 48 33.890625 48 \nQ 26.265625 48 22.1875 43.046875 \nQ 18.109375 38.09375 18.109375 28.8125 \nL 18.109375 0 \nL 9.078125 0 \nL 9.078125 54.6875 \nL 18.109375 54.6875 \nL 18.109375 46.1875 \nQ 20.953125 51.171875 25.484375 53.578125 \nQ 30.03125 56 36.53125 56 \nQ 37.453125 56 38.578125 55.875 \nQ 39.703125 55.765625 41.0625 55.515625 \nz\n\" id=\"DejaVuSans-114\"/>\n       <path d=\"M 18.3125 70.21875 \nL 18.3125 54.6875 \nL 36.8125 54.6875 \nL 36.8125 47.703125 \nL 18.3125 47.703125 \nL 18.3125 18.015625 \nQ 18.3125 11.328125 20.140625 9.421875 \nQ 21.96875 7.515625 27.59375 7.515625 \nL 36.8125 7.515625 \nL 36.8125 0 \nL 27.59375 0 \nQ 17.1875 0 13.234375 3.875 \nQ 9.28125 7.765625 9.28125 18.015625 \nL 9.28125 47.703125 \nL 2.6875 47.703125 \nL 2.6875 54.6875 \nL 9.28125 54.6875 \nL 9.28125 70.21875 \nz\n\" id=\"DejaVuSans-116\"/>\n      </defs>\n      <use xlink:href=\"#DejaVuSans-121\"/>\n      <use x=\"59.179688\" xlink:href=\"#DejaVuSans-111\"/>\n      <use x=\"120.361328\" xlink:href=\"#DejaVuSans-103\"/>\n      <use x=\"183.837891\" xlink:href=\"#DejaVuSans-117\"/>\n      <use x=\"247.216797\" xlink:href=\"#DejaVuSans-114\"/>\n      <use x=\"288.330078\" xlink:href=\"#DejaVuSans-116\"/>\n     </g>\n    </g>\n   </g>\n   <g id=\"text_2\">\n    <g clip-path=\"url(#pb0a259d65d)\">\n     <!-- whole milk -->\n     <g transform=\"translate(46.103759 407.653729)scale(0.12 -0.12)\">\n      <defs>\n       <path d=\"M 4.203125 54.6875 \nL 13.1875 54.6875 \nL 24.421875 12.015625 \nL 35.59375 54.6875 \nL 46.1875 54.6875 \nL 57.421875 12.015625 \nL 68.609375 54.6875 \nL 77.59375 54.6875 \nL 63.28125 0 \nL 52.6875 0 \nL 40.921875 44.828125 \nL 29.109375 0 \nL 18.5 0 \nz\n\" id=\"DejaVuSans-119\"/>\n       <path d=\"M 54.890625 33.015625 \nL 54.890625 0 \nL 45.90625 0 \nL 45.90625 32.71875 \nQ 45.90625 40.484375 42.875 44.328125 \nQ 39.84375 48.1875 33.796875 48.1875 \nQ 26.515625 48.1875 22.3125 43.546875 \nQ 18.109375 38.921875 18.109375 30.90625 \nL 18.109375 0 \nL 9.078125 0 \nL 9.078125 75.984375 \nL 18.109375 75.984375 \nL 18.109375 46.1875 \nQ 21.34375 51.125 25.703125 53.5625 \nQ 30.078125 56 35.796875 56 \nQ 45.21875 56 50.046875 50.171875 \nQ 54.890625 44.34375 54.890625 33.015625 \nz\n\" id=\"DejaVuSans-104\"/>\n       <path d=\"M 9.421875 75.984375 \nL 18.40625 75.984375 \nL 18.40625 0 \nL 9.421875 0 \nz\n\" id=\"DejaVuSans-108\"/>\n       <path d=\"M 56.203125 29.59375 \nL 56.203125 25.203125 \nL 14.890625 25.203125 \nQ 15.484375 15.921875 20.484375 11.0625 \nQ 25.484375 6.203125 34.421875 6.203125 \nQ 39.59375 6.203125 44.453125 7.46875 \nQ 49.3125 8.734375 54.109375 11.28125 \nL 54.109375 2.78125 \nQ 49.265625 0.734375 44.1875 -0.34375 \nQ 39.109375 -1.421875 33.890625 -1.421875 \nQ 20.796875 -1.421875 13.15625 6.1875 \nQ 5.515625 13.8125 5.515625 26.8125 \nQ 5.515625 40.234375 12.765625 48.109375 \nQ 20.015625 56 32.328125 56 \nQ 43.359375 56 49.78125 48.890625 \nQ 56.203125 41.796875 56.203125 29.59375 \nz\nM 47.21875 32.234375 \nQ 47.125 39.59375 43.09375 43.984375 \nQ 39.0625 48.390625 32.421875 48.390625 \nQ 24.90625 48.390625 20.390625 44.140625 \nQ 15.875 39.890625 15.1875 32.171875 \nz\n\" id=\"DejaVuSans-101\"/>\n       <path id=\"DejaVuSans-32\"/>\n       <path d=\"M 52 44.1875 \nQ 55.375 50.25 60.0625 53.125 \nQ 64.75 56 71.09375 56 \nQ 79.640625 56 84.28125 50.015625 \nQ 88.921875 44.046875 88.921875 33.015625 \nL 88.921875 0 \nL 79.890625 0 \nL 79.890625 32.71875 \nQ 79.890625 40.578125 77.09375 44.375 \nQ 74.3125 48.1875 68.609375 48.1875 \nQ 61.625 48.1875 57.5625 43.546875 \nQ 53.515625 38.921875 53.515625 30.90625 \nL 53.515625 0 \nL 44.484375 0 \nL 44.484375 32.71875 \nQ 44.484375 40.625 41.703125 44.40625 \nQ 38.921875 48.1875 33.109375 48.1875 \nQ 26.21875 48.1875 22.15625 43.53125 \nQ 18.109375 38.875 18.109375 30.90625 \nL 18.109375 0 \nL 9.078125 0 \nL 9.078125 54.6875 \nL 18.109375 54.6875 \nL 18.109375 46.1875 \nQ 21.1875 51.21875 25.484375 53.609375 \nQ 29.78125 56 35.6875 56 \nQ 41.65625 56 45.828125 52.96875 \nQ 50 49.953125 52 44.1875 \nz\n\" id=\"DejaVuSans-109\"/>\n       <path d=\"M 9.421875 54.6875 \nL 18.40625 54.6875 \nL 18.40625 0 \nL 9.421875 0 \nz\nM 9.421875 75.984375 \nL 18.40625 75.984375 \nL 18.40625 64.59375 \nL 9.421875 64.59375 \nz\n\" id=\"DejaVuSans-105\"/>\n       <path d=\"M 9.078125 75.984375 \nL 18.109375 75.984375 \nL 18.109375 31.109375 \nL 44.921875 54.6875 \nL 56.390625 54.6875 \nL 27.390625 29.109375 \nL 57.625 0 \nL 45.90625 0 \nL 18.109375 26.703125 \nL 18.109375 0 \nL 9.078125 0 \nz\n\" id=\"DejaVuSans-107\"/>\n      </defs>\n      <use xlink:href=\"#DejaVuSans-119\"/>\n      <use x=\"81.787109\" xlink:href=\"#DejaVuSans-104\"/>\n      <use x=\"145.166016\" xlink:href=\"#DejaVuSans-111\"/>\n      <use x=\"206.347656\" xlink:href=\"#DejaVuSans-108\"/>\n      <use x=\"234.130859\" xlink:href=\"#DejaVuSans-101\"/>\n      <use x=\"295.654297\" xlink:href=\"#DejaVuSans-32\"/>\n      <use x=\"327.441406\" xlink:href=\"#DejaVuSans-109\"/>\n      <use x=\"424.853516\" xlink:href=\"#DejaVuSans-105\"/>\n      <use x=\"452.636719\" xlink:href=\"#DejaVuSans-108\"/>\n      <use x=\"480.419922\" xlink:href=\"#DejaVuSans-107\"/>\n     </g>\n    </g>\n   </g>\n   <g id=\"text_3\">\n    <g clip-path=\"url(#pb0a259d65d)\">\n     <!-- tropical fruit -->\n     <g transform=\"translate(38.868988 179.259282)scale(0.12 -0.12)\">\n      <defs>\n       <path d=\"M 18.109375 8.203125 \nL 18.109375 -20.796875 \nL 9.078125 -20.796875 \nL 9.078125 54.6875 \nL 18.109375 54.6875 \nL 18.109375 46.390625 \nQ 20.953125 51.265625 25.265625 53.625 \nQ 29.59375 56 35.59375 56 \nQ 45.5625 56 51.78125 48.09375 \nQ 58.015625 40.1875 58.015625 27.296875 \nQ 58.015625 14.40625 51.78125 6.484375 \nQ 45.5625 -1.421875 35.59375 -1.421875 \nQ 29.59375 -1.421875 25.265625 0.953125 \nQ 20.953125 3.328125 18.109375 8.203125 \nz\nM 48.6875 27.296875 \nQ 48.6875 37.203125 44.609375 42.84375 \nQ 40.53125 48.484375 33.40625 48.484375 \nQ 26.265625 48.484375 22.1875 42.84375 \nQ 18.109375 37.203125 18.109375 27.296875 \nQ 18.109375 17.390625 22.1875 11.75 \nQ 26.265625 6.109375 33.40625 6.109375 \nQ 40.53125 6.109375 44.609375 11.75 \nQ 48.6875 17.390625 48.6875 27.296875 \nz\n\" id=\"DejaVuSans-112\"/>\n       <path d=\"M 48.78125 52.59375 \nL 48.78125 44.1875 \nQ 44.96875 46.296875 41.140625 47.34375 \nQ 37.3125 48.390625 33.40625 48.390625 \nQ 24.65625 48.390625 19.8125 42.84375 \nQ 14.984375 37.3125 14.984375 27.296875 \nQ 14.984375 17.28125 19.8125 11.734375 \nQ 24.65625 6.203125 33.40625 6.203125 \nQ 37.3125 6.203125 41.140625 7.25 \nQ 44.96875 8.296875 48.78125 10.40625 \nL 48.78125 2.09375 \nQ 45.015625 0.34375 40.984375 -0.53125 \nQ 36.96875 -1.421875 32.421875 -1.421875 \nQ 20.0625 -1.421875 12.78125 6.34375 \nQ 5.515625 14.109375 5.515625 27.296875 \nQ 5.515625 40.671875 12.859375 48.328125 \nQ 20.21875 56 33.015625 56 \nQ 37.15625 56 41.109375 55.140625 \nQ 45.0625 54.296875 48.78125 52.59375 \nz\n\" id=\"DejaVuSans-99\"/>\n       <path d=\"M 34.28125 27.484375 \nQ 23.390625 27.484375 19.1875 25 \nQ 14.984375 22.515625 14.984375 16.5 \nQ 14.984375 11.71875 18.140625 8.90625 \nQ 21.296875 6.109375 26.703125 6.109375 \nQ 34.1875 6.109375 38.703125 11.40625 \nQ 43.21875 16.703125 43.21875 25.484375 \nL 43.21875 27.484375 \nz\nM 52.203125 31.203125 \nL 52.203125 0 \nL 43.21875 0 \nL 43.21875 8.296875 \nQ 40.140625 3.328125 35.546875 0.953125 \nQ 30.953125 -1.421875 24.3125 -1.421875 \nQ 15.921875 -1.421875 10.953125 3.296875 \nQ 6 8.015625 6 15.921875 \nQ 6 25.140625 12.171875 29.828125 \nQ 18.359375 34.515625 30.609375 34.515625 \nL 43.21875 34.515625 \nL 43.21875 35.40625 \nQ 43.21875 41.609375 39.140625 45 \nQ 35.0625 48.390625 27.6875 48.390625 \nQ 23 48.390625 18.546875 47.265625 \nQ 14.109375 46.140625 10.015625 43.890625 \nL 10.015625 52.203125 \nQ 14.9375 54.109375 19.578125 55.046875 \nQ 24.21875 56 28.609375 56 \nQ 40.484375 56 46.34375 49.84375 \nQ 52.203125 43.703125 52.203125 31.203125 \nz\n\" id=\"DejaVuSans-97\"/>\n       <path d=\"M 37.109375 75.984375 \nL 37.109375 68.5 \nL 28.515625 68.5 \nQ 23.6875 68.5 21.796875 66.546875 \nQ 19.921875 64.59375 19.921875 59.515625 \nL 19.921875 54.6875 \nL 34.71875 54.6875 \nL 34.71875 47.703125 \nL 19.921875 47.703125 \nL 19.921875 0 \nL 10.890625 0 \nL 10.890625 47.703125 \nL 2.296875 47.703125 \nL 2.296875 54.6875 \nL 10.890625 54.6875 \nL 10.890625 58.5 \nQ 10.890625 67.625 15.140625 71.796875 \nQ 19.390625 75.984375 28.609375 75.984375 \nz\n\" id=\"DejaVuSans-102\"/>\n      </defs>\n      <use xlink:href=\"#DejaVuSans-116\"/>\n      <use x=\"39.208984\" xlink:href=\"#DejaVuSans-114\"/>\n      <use x=\"78.072266\" xlink:href=\"#DejaVuSans-111\"/>\n      <use x=\"139.253906\" xlink:href=\"#DejaVuSans-112\"/>\n      <use x=\"202.730469\" xlink:href=\"#DejaVuSans-105\"/>\n      <use x=\"230.513672\" xlink:href=\"#DejaVuSans-99\"/>\n      <use x=\"285.494141\" xlink:href=\"#DejaVuSans-97\"/>\n      <use x=\"346.773438\" xlink:href=\"#DejaVuSans-108\"/>\n      <use x=\"374.556641\" xlink:href=\"#DejaVuSans-32\"/>\n      <use x=\"406.34375\" xlink:href=\"#DejaVuSans-102\"/>\n      <use x=\"441.548828\" xlink:href=\"#DejaVuSans-114\"/>\n      <use x=\"482.662109\" xlink:href=\"#DejaVuSans-117\"/>\n      <use x=\"546.041016\" xlink:href=\"#DejaVuSans-105\"/>\n      <use x=\"573.824219\" xlink:href=\"#DejaVuSans-116\"/>\n     </g>\n    </g>\n   </g>\n   <g id=\"text_4\">\n    <g clip-path=\"url(#pb0a259d65d)\">\n     <!-- root vegetables -->\n     <g transform=\"translate(259.468937 299.935703)scale(0.12 -0.12)\">\n      <defs>\n       <path d=\"M 2.984375 54.6875 \nL 12.5 54.6875 \nL 29.59375 8.796875 \nL 46.6875 54.6875 \nL 56.203125 54.6875 \nL 35.6875 0 \nL 23.484375 0 \nz\n\" id=\"DejaVuSans-118\"/>\n       <path d=\"M 48.6875 27.296875 \nQ 48.6875 37.203125 44.609375 42.84375 \nQ 40.53125 48.484375 33.40625 48.484375 \nQ 26.265625 48.484375 22.1875 42.84375 \nQ 18.109375 37.203125 18.109375 27.296875 \nQ 18.109375 17.390625 22.1875 11.75 \nQ 26.265625 6.109375 33.40625 6.109375 \nQ 40.53125 6.109375 44.609375 11.75 \nQ 48.6875 17.390625 48.6875 27.296875 \nz\nM 18.109375 46.390625 \nQ 20.953125 51.265625 25.265625 53.625 \nQ 29.59375 56 35.59375 56 \nQ 45.5625 56 51.78125 48.09375 \nQ 58.015625 40.1875 58.015625 27.296875 \nQ 58.015625 14.40625 51.78125 6.484375 \nQ 45.5625 -1.421875 35.59375 -1.421875 \nQ 29.59375 -1.421875 25.265625 0.953125 \nQ 20.953125 3.328125 18.109375 8.203125 \nL 18.109375 0 \nL 9.078125 0 \nL 9.078125 75.984375 \nL 18.109375 75.984375 \nz\n\" id=\"DejaVuSans-98\"/>\n       <path d=\"M 44.28125 53.078125 \nL 44.28125 44.578125 \nQ 40.484375 46.53125 36.375 47.5 \nQ 32.28125 48.484375 27.875 48.484375 \nQ 21.1875 48.484375 17.84375 46.4375 \nQ 14.5 44.390625 14.5 40.28125 \nQ 14.5 37.15625 16.890625 35.375 \nQ 19.28125 33.59375 26.515625 31.984375 \nL 29.59375 31.296875 \nQ 39.15625 29.25 43.1875 25.515625 \nQ 47.21875 21.78125 47.21875 15.09375 \nQ 47.21875 7.46875 41.1875 3.015625 \nQ 35.15625 -1.421875 24.609375 -1.421875 \nQ 20.21875 -1.421875 15.453125 -0.5625 \nQ 10.6875 0.296875 5.421875 2 \nL 5.421875 11.28125 \nQ 10.40625 8.6875 15.234375 7.390625 \nQ 20.0625 6.109375 24.8125 6.109375 \nQ 31.15625 6.109375 34.5625 8.28125 \nQ 37.984375 10.453125 37.984375 14.40625 \nQ 37.984375 18.0625 35.515625 20.015625 \nQ 33.0625 21.96875 24.703125 23.78125 \nL 21.578125 24.515625 \nQ 13.234375 26.265625 9.515625 29.90625 \nQ 5.8125 33.546875 5.8125 39.890625 \nQ 5.8125 47.609375 11.28125 51.796875 \nQ 16.75 56 26.8125 56 \nQ 31.78125 56 36.171875 55.265625 \nQ 40.578125 54.546875 44.28125 53.078125 \nz\n\" id=\"DejaVuSans-115\"/>\n      </defs>\n      <use xlink:href=\"#DejaVuSans-114\"/>\n      <use x=\"38.863281\" xlink:href=\"#DejaVuSans-111\"/>\n      <use x=\"100.044922\" xlink:href=\"#DejaVuSans-111\"/>\n      <use x=\"161.226562\" xlink:href=\"#DejaVuSans-116\"/>\n      <use x=\"200.435547\" xlink:href=\"#DejaVuSans-32\"/>\n      <use x=\"232.222656\" xlink:href=\"#DejaVuSans-118\"/>\n      <use x=\"291.402344\" xlink:href=\"#DejaVuSans-101\"/>\n      <use x=\"352.925781\" xlink:href=\"#DejaVuSans-103\"/>\n      <use x=\"416.402344\" xlink:href=\"#DejaVuSans-101\"/>\n      <use x=\"477.925781\" xlink:href=\"#DejaVuSans-116\"/>\n      <use x=\"517.134766\" xlink:href=\"#DejaVuSans-97\"/>\n      <use x=\"578.414062\" xlink:href=\"#DejaVuSans-98\"/>\n      <use x=\"641.890625\" xlink:href=\"#DejaVuSans-108\"/>\n      <use x=\"669.673828\" xlink:href=\"#DejaVuSans-101\"/>\n      <use x=\"731.197266\" xlink:href=\"#DejaVuSans-115\"/>\n     </g>\n    </g>\n   </g>\n   <g id=\"text_5\">\n    <g clip-path=\"url(#pb0a259d65d)\">\n     <!-- other vegetables -->\n     <g transform=\"translate(465.8207 157.43184)scale(0.12 -0.12)\">\n      <use xlink:href=\"#DejaVuSans-111\"/>\n      <use x=\"61.181641\" xlink:href=\"#DejaVuSans-116\"/>\n      <use x=\"100.390625\" xlink:href=\"#DejaVuSans-104\"/>\n      <use x=\"163.769531\" xlink:href=\"#DejaVuSans-101\"/>\n      <use x=\"225.292969\" xlink:href=\"#DejaVuSans-114\"/>\n      <use x=\"266.40625\" xlink:href=\"#DejaVuSans-32\"/>\n      <use x=\"298.193359\" xlink:href=\"#DejaVuSans-118\"/>\n      <use x=\"357.373047\" xlink:href=\"#DejaVuSans-101\"/>\n      <use x=\"418.896484\" xlink:href=\"#DejaVuSans-103\"/>\n      <use x=\"482.373047\" xlink:href=\"#DejaVuSans-101\"/>\n      <use x=\"543.896484\" xlink:href=\"#DejaVuSans-116\"/>\n      <use x=\"583.105469\" xlink:href=\"#DejaVuSans-97\"/>\n      <use x=\"644.384766\" xlink:href=\"#DejaVuSans-98\"/>\n      <use x=\"707.861328\" xlink:href=\"#DejaVuSans-108\"/>\n      <use x=\"735.644531\" xlink:href=\"#DejaVuSans-101\"/>\n      <use x=\"797.167969\" xlink:href=\"#DejaVuSans-115\"/>\n     </g>\n    </g>\n   </g>\n   <g id=\"text_6\">\n    <g clip-path=\"url(#pb0a259d65d)\">\n     <!-- whipped/sour cream -->\n     <g transform=\"translate(104.506892 158.173345)scale(0.12 -0.12)\">\n      <defs>\n       <path d=\"M 45.40625 46.390625 \nL 45.40625 75.984375 \nL 54.390625 75.984375 \nL 54.390625 0 \nL 45.40625 0 \nL 45.40625 8.203125 \nQ 42.578125 3.328125 38.25 0.953125 \nQ 33.9375 -1.421875 27.875 -1.421875 \nQ 17.96875 -1.421875 11.734375 6.484375 \nQ 5.515625 14.40625 5.515625 27.296875 \nQ 5.515625 40.1875 11.734375 48.09375 \nQ 17.96875 56 27.875 56 \nQ 33.9375 56 38.25 53.625 \nQ 42.578125 51.265625 45.40625 46.390625 \nz\nM 14.796875 27.296875 \nQ 14.796875 17.390625 18.875 11.75 \nQ 22.953125 6.109375 30.078125 6.109375 \nQ 37.203125 6.109375 41.296875 11.75 \nQ 45.40625 17.390625 45.40625 27.296875 \nQ 45.40625 37.203125 41.296875 42.84375 \nQ 37.203125 48.484375 30.078125 48.484375 \nQ 22.953125 48.484375 18.875 42.84375 \nQ 14.796875 37.203125 14.796875 27.296875 \nz\n\" id=\"DejaVuSans-100\"/>\n       <path d=\"M 25.390625 72.90625 \nL 33.6875 72.90625 \nL 8.296875 -9.28125 \nL 0 -9.28125 \nz\n\" id=\"DejaVuSans-47\"/>\n      </defs>\n      <use xlink:href=\"#DejaVuSans-119\"/>\n      <use x=\"81.787109\" xlink:href=\"#DejaVuSans-104\"/>\n      <use x=\"145.166016\" xlink:href=\"#DejaVuSans-105\"/>\n      <use x=\"172.949219\" xlink:href=\"#DejaVuSans-112\"/>\n      <use x=\"236.425781\" xlink:href=\"#DejaVuSans-112\"/>\n      <use x=\"299.902344\" xlink:href=\"#DejaVuSans-101\"/>\n      <use x=\"361.425781\" xlink:href=\"#DejaVuSans-100\"/>\n      <use x=\"424.902344\" xlink:href=\"#DejaVuSans-47\"/>\n      <use x=\"458.59375\" xlink:href=\"#DejaVuSans-115\"/>\n      <use x=\"510.693359\" xlink:href=\"#DejaVuSans-111\"/>\n      <use x=\"571.875\" xlink:href=\"#DejaVuSans-117\"/>\n      <use x=\"635.253906\" xlink:href=\"#DejaVuSans-114\"/>\n      <use x=\"676.367188\" xlink:href=\"#DejaVuSans-32\"/>\n      <use x=\"708.154297\" xlink:href=\"#DejaVuSans-99\"/>\n      <use x=\"763.134766\" xlink:href=\"#DejaVuSans-114\"/>\n      <use x=\"801.998047\" xlink:href=\"#DejaVuSans-101\"/>\n      <use x=\"863.521484\" xlink:href=\"#DejaVuSans-97\"/>\n      <use x=\"924.800781\" xlink:href=\"#DejaVuSans-109\"/>\n     </g>\n    </g>\n   </g>\n  </g>\n </g>\n <defs>\n  <clipPath id=\"pb0a259d65d\">\n   <rect height=\"434.88\" width=\"558\" x=\"7.2\" y=\"7.2\"/>\n  </clipPath>\n </defs>\n</svg>\n",
      "image/png": "[encoded data removed]"
     },
     "metadata": {}
    }
   ],
   "source": [
    "import networkx as nx\n",
    "from matplotlib.pyplot import figure\n",
    "import random\n",
    "random.seed(246)        # or any integer\n",
    "import numpy\n",
    "numpy.random.seed(4812)\n",
    "G = nx.Graph()\n",
    "#pos = nx.spring_layout(G)\n",
    "G = nx.from_pandas_edgelist(rules[['antecedents', 'consequents', 'support', 'confidence']], 'antecedents', 'consequents', 'support', create_using=nx.DiGraph())\n",
    "#nx.set_edge_attributes(G, rules[['antecedents', 'support']])\n",
    "figure(figsize=(10, 8))\n",
    "nx.draw_networkx(G,arrows=True, with_labels=True, width=rules['support']*20)\n"
   ]
  },
  {
   "cell_type": "code",
   "execution_count": 290,
   "metadata": {},
   "outputs": [
    {
     "output_type": "error",
     "ename": "AttributeError",
     "evalue": "'DiGraph' object has no attribute 'pos'",
     "traceback": [
      "\u001b[0;31m---------------------------------------------------------------------------\u001b[0m",
      "\u001b[0;31mAttributeError\u001b[0m                            Traceback (most recent call last)",
      "\u001b[0;32m<ipython-input-290-a74f1ec58d43>\u001b[0m in \u001b[0;36m<module>\u001b[0;34m\u001b[0m\n\u001b[0;32m----> 1\u001b[0;31m \u001b[0mG\u001b[0m\u001b[0;34m.\u001b[0m\u001b[0mpos\u001b[0m\u001b[0;34m\u001b[0m\u001b[0;34m\u001b[0m\u001b[0m\n\u001b[0m",
      "\u001b[0;31mAttributeError\u001b[0m: 'DiGraph' object has no attribute 'pos'"
     ]
    }
   ],
   "source": [
    "\n",
    "G = nx.from_pandas_edgelist(rules[['antecedents', 'consequents', 'support', 'confidence']], 'antecedents', 'consequents', 'support', create_using=nx.DiGraph())\n",
    "#nx.set_edge_attributes(G, rules[['antecedents', 'support']])\n",
    "figure(figsize=(10, 8))\n",
    "nx.draw_networkx(G, arrows=True, with_labels=True, width=rules['support']*20)\n",
    "nx.draw_networkx_edge_labels(G, edge_labels=((rules['antecedents'], rules['consequents']), rules['confidence']))"
   ]
  },
  {
   "cell_type": "code",
   "execution_count": null,
   "metadata": {},
   "outputs": [],
   "source": []
  }
 ]
}