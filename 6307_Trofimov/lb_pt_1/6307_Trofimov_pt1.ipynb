{
 "cells": [
  {
   "cell_type": "code",
   "execution_count": 26,
   "metadata": {},
   "outputs": [],
   "source": [
    "import numpy as np\n",
    "import pandas as pd\n",
    "import matplotlib.pyplot as plt\n",
    "from collections import Counter\n"
   ]
  },
  {
   "cell_type": "code",
   "execution_count": 66,
   "metadata": {},
   "outputs": [],
   "source": [
    "X = (69, 74, 68, 70, 72, 67, 66, 70, 76, 68, 72, 79, 74, 67, 66, 71, 74, 75, 75, 76)\n",
    "\n",
    "Y = (153, 175, 155, 135, 172, 150, 115, 137, 200, 130, 140, 265, 185, 112, 140,  150, 165, 185, 210, 220)"
   ]
  },
  {
   "cell_type": "markdown",
   "metadata": {},
   "source": [
    "## Задание 1"
   ]
  },
  {
   "cell_type": "code",
   "execution_count": 35,
   "metadata": {},
   "outputs": [
    {
     "name": "stdout",
     "output_type": "stream",
     "text": [
      "Средняя по Х - 71.45\n",
      "Медиана по Х - 71.5\n",
      "Мода по Х - 74\n"
     ]
    }
   ],
   "source": [
    "# A\n",
    "print(f'Средняя по Х - {np.mean(X)}')\n",
    "print(f'Медиана по Х - {np.median(X)}')\n",
    "print(f'Мода по Х - {Counter(X).most_common(1)[0][0]}')"
   ]
  },
  {
   "cell_type": "code",
   "execution_count": 36,
   "metadata": {},
   "outputs": [
    {
     "name": "stdout",
     "output_type": "stream",
     "text": [
      "Дисперсия по Y - 1369.2099999999998\n",
      "Дисперсия по Y своими руками - 1369.2099999999998\n"
     ]
    }
   ],
   "source": [
    "# B\n",
    "print(f'Дисперсия по Y - {np.var(Y)}')\n",
    "\n",
    "# other approach\n",
    "\n",
    "y_mean = np.mean(Y)\n",
    "D = sum([(y-y_mean)**2 for y in Y]) / len(Y)\n",
    "\n",
    "print(f'Дисперсия по Y своими руками - {D}')"
   ]
  },
  {
   "cell_type": "code",
   "execution_count": 42,
   "metadata": {},
   "outputs": [
    {
     "data": {
      "image/png": "[encoded data removed]",
      "text/plain": [
       "<Figure size 432x288 with 1 Axes>"
      ]
     },
     "metadata": {
      "needs_background": "light"
     },
     "output_type": "display_data"
    }
   ],
   "source": [
    "# C\n",
    "plt.hist(X, bins=10, density=False)\n",
    "plt.show()"
   ]
  },
  {
   "cell_type": "code",
   "execution_count": 74,
   "metadata": {},
   "outputs": [
    {
     "name": "stdout",
     "output_type": "stream",
     "text": [
      "Вер-ть того, что возраст больше 80 - 0.0\n"
     ]
    }
   ],
   "source": [
    "#D\n",
    "\n",
    "# ???????????????????????\n",
    "print(f\"Вер-ть того, что возраст больше 80 - {Counter(X)[80] / len(X)}\")"
   ]
  },
  {
   "cell_type": "code",
   "execution_count": 44,
   "metadata": {},
   "outputs": [],
   "source": [
    "#E"
   ]
  },
  {
   "cell_type": "code",
   "execution_count": 98,
   "metadata": {},
   "outputs": [
    {
     "name": "stdout",
     "output_type": "stream",
     "text": [
      "Корреляция между Х и Y - 0.8891701351748049\n",
      "Корреляция между Х и Y подсчитанная руками - 0.8891701351748048\n"
     ]
    },
    {
     "data": {
      "image/png": "[encoded data removed]",
      "text/plain": [
       "<Figure size 432x288 with 1 Axes>"
      ]
     },
     "metadata": {
      "needs_background": "light"
     },
     "output_type": "display_data"
    }
   ],
   "source": [
    "#F\n",
    "from math import sqrt\n",
    "\n",
    "\n",
    "corr = np.corrcoef(X, Y)[1,0]\n",
    "print(f'Корреляция между Х и Y - {corr}')\n",
    "\n",
    "# other approach\n",
    "\n",
    "x_mean = np.mean(X)\n",
    "y_mean = np.mean(Y)\n",
    "\n",
    "my_corr = (\n",
    "    sum([(X[i]-x_mean)*(Y[i]-y_mean) for i in range(len(X))])\n",
    "    /\n",
    "    sqrt(sum([(x-x_mean)**2 for x in X])*sum([(y-y_mean)**2 for y in Y]))\n",
    "       )\n",
    "\n",
    "print(f'Корреляция между Х и Y подсчитанная руками - {my_corr}')\n",
    "\n",
    "_, ax = plt.subplots()\n",
    "\n",
    "ax.scatter(X, Y)\n",
    "ax.set_xlabel(\"X\")\n",
    "ax.set_ylabel(\"Y\")\n",
    "\n",
    "ax.set_title('correlation X/Y')\n",
    "\n",
    "plt.show()"
   ]
  },
  {
   "cell_type": "code",
   "execution_count": 75,
   "metadata": {},
   "outputs": [],
   "source": [
    "#G (смотри выше)"
   ]
  },
  {
   "cell_type": "markdown",
   "metadata": {},
   "source": [
    "## Задание 2"
   ]
  },
  {
   "cell_type": "code",
   "execution_count": 93,
   "metadata": {},
   "outputs": [
    {
     "data": {
      "text/html": [
       "<div>\n",
       "<style scoped>\n",
       "    .dataframe tbody tr th:only-of-type {\n",
       "        vertical-align: middle;\n",
       "    }\n",
       "\n",
       "    .dataframe tbody tr th {\n",
       "        vertical-align: top;\n",
       "    }\n",
       "\n",
       "    .dataframe thead th {\n",
       "        text-align: right;\n",
       "    }\n",
       "</style>\n",
       "<table border=\"1\" class=\"dataframe\">\n",
       "  <thead>\n",
       "    <tr style=\"text-align: right;\">\n",
       "      <th></th>\n",
       "      <th>x1</th>\n",
       "      <th>x2</th>\n",
       "      <th>x3</th>\n",
       "    </tr>\n",
       "  </thead>\n",
       "  <tbody>\n",
       "    <tr>\n",
       "      <th>a</th>\n",
       "      <td>17</td>\n",
       "      <td>17</td>\n",
       "      <td>12</td>\n",
       "    </tr>\n",
       "    <tr>\n",
       "      <th>b</th>\n",
       "      <td>11</td>\n",
       "      <td>9</td>\n",
       "      <td>13</td>\n",
       "    </tr>\n",
       "    <tr>\n",
       "      <th>c</th>\n",
       "      <td>11</td>\n",
       "      <td>8</td>\n",
       "      <td>19</td>\n",
       "    </tr>\n",
       "  </tbody>\n",
       "</table>\n",
       "</div>"
      ],
      "text/plain": [
       "   x1  x2  x3\n",
       "a  17  17  12\n",
       "b  11   9  13\n",
       "c  11   8  19"
      ]
     },
     "execution_count": 93,
     "metadata": {},
     "output_type": "execute_result"
    }
   ],
   "source": [
    "indexes = ['a', 'b', 'c']\n",
    "df = pd.DataFrame(\n",
    "    {\n",
    "      \"x1\": [17, 11, 11],\n",
    "      \"x2\": [17, 9, 8],\n",
    "      \"x3\": [12, 13, 19]\n",
    "    }, \n",
    "      index=indexes\n",
    ")\n",
    "df"
   ]
  },
  {
   "cell_type": "code",
   "execution_count": 94,
   "metadata": {},
   "outputs": [],
   "source": [
    "def calc_covar():\n",
    "    ..."
   ]
  },
  {
   "cell_type": "code",
   "execution_count": 100,
   "metadata": {},
   "outputs": [
    {
     "name": "stdout",
     "output_type": "stream",
     "text": [
      "[[ 8.33333333 -5.        ]\n",
      " [-5.          4.        ]]\n",
      "[[  8.33333333 -15.83333333]\n",
      " [-15.83333333  32.33333333]]\n",
      "[[ 4.         11.        ]\n",
      " [11.         32.33333333]]\n"
     ]
    }
   ],
   "source": [
    "for indx in range(len(indexes)):\n",
    "    x = df.loc[indexes[indx]]\n",
    "    for i in range(indx+1, len(indexes)):\n",
    "        y = df.loc[indexes[i]]\n",
    "        print(np.cov(x.tolist(), y.tolist()))"
   ]
  },
  {
   "cell_type": "code",
   "execution_count": 101,
   "metadata": {},
   "outputs": [
    {
     "data": {
      "text/html": [
       "<div>\n",
       "<style scoped>\n",
       "    .dataframe tbody tr th:only-of-type {\n",
       "        vertical-align: middle;\n",
       "    }\n",
       "\n",
       "    .dataframe tbody tr th {\n",
       "        vertical-align: top;\n",
       "    }\n",
       "\n",
       "    .dataframe thead th {\n",
       "        text-align: right;\n",
       "    }\n",
       "</style>\n",
       "<table border=\"1\" class=\"dataframe\">\n",
       "  <thead>\n",
       "    <tr style=\"text-align: right;\">\n",
       "      <th></th>\n",
       "      <th>x1</th>\n",
       "      <th>x2</th>\n",
       "      <th>x3</th>\n",
       "    </tr>\n",
       "  </thead>\n",
       "  <tbody>\n",
       "    <tr>\n",
       "      <th>x1</th>\n",
       "      <td>12.0</td>\n",
       "      <td>17.000000</td>\n",
       "      <td>-8.000000</td>\n",
       "    </tr>\n",
       "    <tr>\n",
       "      <th>x2</th>\n",
       "      <td>17.0</td>\n",
       "      <td>24.333333</td>\n",
       "      <td>-12.833333</td>\n",
       "    </tr>\n",
       "    <tr>\n",
       "      <th>x3</th>\n",
       "      <td>-8.0</td>\n",
       "      <td>-12.833333</td>\n",
       "      <td>14.333333</td>\n",
       "    </tr>\n",
       "  </tbody>\n",
       "</table>\n",
       "</div>"
      ],
      "text/plain": [
       "      x1         x2         x3\n",
       "x1  12.0  17.000000  -8.000000\n",
       "x2  17.0  24.333333 -12.833333\n",
       "x3  -8.0 -12.833333  14.333333"
      ]
     },
     "execution_count": 101,
     "metadata": {},
     "output_type": "execute_result"
    }
   ],
   "source": [
    "df.cov()"
   ]
  },
  {
   "cell_type": "code",
   "execution_count": null,
   "metadata": {},
   "outputs": [],
   "source": []
  }
 ],
 "metadata": {
  "kernelspec": {
   "display_name": "Python 3",
   "language": "python",
   "name": "python3"
  },
  "language_info": {
   "codemirror_mode": {
    "name": "ipython",
    "version": 3
   },
   "file_extension": ".py",
   "mimetype": "text/x-python",
   "name": "python",
   "nbconvert_exporter": "python",
   "pygments_lexer": "ipython3",
   "version": "3.8.3"
  }
 },
 "nbformat": 4,
 "nbformat_minor": 4
}
