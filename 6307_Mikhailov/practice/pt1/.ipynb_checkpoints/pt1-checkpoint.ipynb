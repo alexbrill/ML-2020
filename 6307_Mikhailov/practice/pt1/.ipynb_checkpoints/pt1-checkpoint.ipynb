{
 "cells": [
  {
   "cell_type": "code",
   "execution_count": 129,
   "metadata": {},
   "outputs": [
    {
     "name": "stdout",
     "output_type": "stream",
     "text": [
      "5.62\n"
     ]
    },
    {
     "data": {
      "image/png": "[encoded data removed]",
      "text/plain": [
       "<Figure size 432x288 with 1 Axes>"
      ]
     },
     "metadata": {},
     "output_type": "display_data"
    }
   ],
   "source": [
    "import pandas as pd\n",
    "import numpy as np\n",
    "import math\n",
    "from matplotlib import pyplot\n",
    "\n",
    "x_vals = [69, 74, 68, 70, 72, 67, 66, 70, 76, 68, 72, 79, 74, 67, 66, 71, 74, 75, 75, 76]\n",
    "y_vals = [153, 175, 155, 135, 172, 150, 115, 137, 200, 130, 140, 265, 185, 112, 140,  150, 165, 185, 210, 220]\n",
    "\n",
    "x = pd.Series(x_vals)\n",
    "x.mean()\n",
    "x.median()\n",
    "x.mode()[0]\n",
    "\n",
    "y = pd.Series(y_vals)\n",
    "y.var(ddof=0)\n",
    "\n",
    "#x.hist()\n",
    "#x.plot.kde()\n",
    "\n",
    "#Сalculating probability\n",
    "s = np.std(x)\n",
    "a = x.mean()\n",
    "v = (80 - a) / s\n",
    "#print(\"a =\", a, \"s =\", s, \"v =\", v)\n",
    "\n",
    "[np.mean(x), np.mean(y)]\n",
    "np.cov(x, y)\n",
    "\n",
    "np.corrcoef(x, y)[0, 1]\n",
    "\n",
    "#pyplot.xlabel('age')\n",
    "#pyplot.ylabel('weight')\n",
    "#pyplot.scatter(x, y)\n",
    "\n",
    "#2\n",
    "x1 = [17, 11, 11]\n",
    "x2 = [17, 9, 8]\n",
    "x3 = [12, 13, 19]\n",
    "vec = [x1, x2, x3]\n",
    "mtrx = np.cov(vec)\n",
    "round(np.linalg.det(mtrx), 2)\n",
    "\n",
    "#3\n",
    "def norm(x, mu, sigma):\n",
    "    return math.exp(-0.5*((x - mu) / sigma) ** 2) / (sigma * math.sqrt(2 * math.pi))\n",
    "\n",
    "axis = np.arange(-10, 20, 0.1)\n",
    "pyplot.plot(axis, [norm(x, 4, 1) for x in axis], label = '$\\mu = 4, \\sigma = 1$')\n",
    "pyplot.plot(axis, [norm(x, 8, 2) for x in axis], label = '$\\mu = 8, \\sigma = 2$')\n",
    "pyplot.scatter(5.62, norm(5.62, 4, 1))\n",
    "pyplot.legend()\n",
    "\n",
    "for i in range (400, 2000, 1):\n",
    "    if abs(norm(i/100, 4, 1) - norm(i/100, 8, 2)) < 0.01:\n",
    "        break;\n",
    "print(i/100)\n",
    "    "
   ]
  }
 ],
 "metadata": {
  "kernelspec": {
   "display_name": "Python 3",
   "language": "python",
   "name": "python3"
  },
  "language_info": {
   "codemirror_mode": {
    "name": "ipython",
    "version": 3
   },
   "file_extension": ".py",
   "mimetype": "text/x-python",
   "name": "python",
   "nbconvert_exporter": "python",
   "pygments_lexer": "ipython3",
   "version": "3.8.3"
  },
  "toc": {
   "base_numbering": 1,
   "nav_menu": {},
   "number_sections": true,
   "sideBar": true,
   "skip_h1_title": false,
   "title_cell": "Table of Contents",
   "title_sidebar": "Contents",
   "toc_cell": false,
   "toc_position": {},
   "toc_section_display": true,
   "toc_window_display": false
  },
  "varInspector": {
   "cols": {
    "lenName": 16,
    "lenType": 16,
    "lenVar": 40
   },
   "kernels_config": {
    "python": {
     "delete_cmd_postfix": "",
     "delete_cmd_prefix": "del ",
     "library": "var_list.py",
     "varRefreshCmd": "print(var_dic_list())"
    },
    "r": {
     "delete_cmd_postfix": ") ",
     "delete_cmd_prefix": "rm(",
     "library": "var_list.r",
     "varRefreshCmd": "cat(var_dic_list()) "
    }
   },
   "position": {
    "height": "451.4px",
    "left": "669.4px",
    "right": "20px",
    "top": "197px",
    "width": "722px"
   },
   "types_to_exclude": [
    "module",
    "function",
    "builtin_function_or_method",
    "instance",
    "_Feature"
   ],
   "window_display": false
  }
 },
 "nbformat": 4,
 "nbformat_minor": 4
}
