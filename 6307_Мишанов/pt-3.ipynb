{
 "cells": [
  {
   "cell_type": "markdown",
   "metadata": {},
   "source": [
    "## Практическое задание №3"
   ]
  },
  {
   "cell_type": "code",
   "execution_count": null,
   "metadata": {},
   "outputs": [],
   "source": [
    "import pandas as pd\n",
    "from mlxtend.preprocessing import TransactionEncoder\n",
    "from mlxtend.frequent_patterns import apriori, fpgrowth"
   ]
  },
  {
   "cell_type": "code",
   "execution_count": null,
   "metadata": {},
   "outputs": [],
   "source": [
    "dataset = [list('ABCD'), list('ACDF'), list('ACDEG'), list('ABDF'), list('BCG'), list('DFG'), list('ABG'), list('CDFG')]"
   ]
  },
  {
   "cell_type": "code",
   "execution_count": null,
   "metadata": {},
   "outputs": [],
   "source": [
    "te = TransactionEncoder()\n",
    "te_ary = te.fit(dataset).transform(dataset)"
   ]
  },
  {
   "cell_type": "code",
   "execution_count": null,
   "metadata": {},
   "outputs": [],
   "source": [
    "df = pd.DataFrame(te_ary, columns=['A', 'B', 'C', 'D', 'E', 'F', 'G'], index=[i for i in range(1, 9)])\n",
    "df"
   ]
  },
  {
   "cell_type": "markdown",
   "metadata": {},
   "source": [
    "### Задание №1"
   ]
  },
  {
   "cell_type": "markdown",
   "metadata": {},
   "source": [
    "Алгоритм Apriori\n",
    "1. Формирование одноэлементных кандидатов. \n",
    "2. Рассчет поддержки одноэлементных наборов. Наборы с уровнем поддержки меньше установленного, то есть 3/8, отсекаются (набор E).\n",
    "3. Формирование двухэлементных кандидатов, подсчет их поддержки и отсечение наборов с уровнем поддержки, меньшим 3/8 и т. д.\n",
    "\n",
    "Алгоритм Apriori уменьшает количество кандидатов, отсекая те, которые не могут стать часто встречающимися, на основе информации об удаленных кандидатах из прошлых шагов."
   ]
  },
  {
   "cell_type": "markdown",
   "metadata": {},
   "source": [
    "![title](apriori-tree.png)"
   ]
  },
  {
   "cell_type": "code",
   "execution_count": null,
   "metadata": {},
   "outputs": [],
   "source": [
    "results = apriori(df, min_support=3/8, use_colnames=True)\n",
    "results['length'] = results['itemsets'].apply(lambda x: len(x))\n",
    "results"
   ]
  },
  {
   "cell_type": "markdown",
   "metadata": {},
   "source": [
    "Алгоритм FPGrowth\n",
    "1. Отбирается множество часто встречающихся кандидатов, т.е. предметов, у которых поддержка больше или равна заданной (2/8).\n",
    "2. Обнаруженные кандидаты сортируются в порядке убывания их поддержки.|"
   ]
  },
  {
   "cell_type": "markdown",
   "metadata": {},
   "source": [
    "| id  | itemset |\n",
    "| --- | ------- |\n",
    "| 1   | DACB    |\n",
    "| 2   | DACF    |\n",
    "| 3   | DACG    |\n",
    "| 4   | DABF    |\n",
    "| 5   | CGB     |\n",
    "| 6   | DGF     |\n",
    "| 7   | AGB     |\n",
    "| 8   | DCGF    |"
   ]
  },
  {
   "cell_type": "markdown",
   "metadata": {},
   "source": [
    "3. Строится дерево. Если для очередного кандидата в дереве уже содержится узел, то для него не создается новый узел, а индекс существующего увеличивается на 1."
   ]
  },
  {
   "cell_type": "markdown",
   "metadata": {},
   "source": [
    "![title](tree.png)"
   ]
  },
  {
   "cell_type": "code",
   "execution_count": null,
   "metadata": {},
   "outputs": [],
   "source": [
    "results = fpgrowth(df, min_support=2/8, use_colnames=True)\n",
    "results['length'] = results['itemsets'].apply(lambda x: len(x))\n",
    "results"
   ]
  },
  {
   "cell_type": "markdown",
   "metadata": {},
   "source": [
    "### Задание №2"
   ]
  },
  {
   "cell_type": "markdown",
   "metadata": {},
   "source": [
    "Простые элементы = {1, 2, 3, 4, 5, 6, 7, 8, 9, 10, 11};\n",
    "Размер = 2^11 - 1 = 2047"
   ]
  },
  {
   "cell_type": "markdown",
   "metadata": {},
   "source": [
    "Наборы высокого порядка"
   ]
  },
  {
   "cell_type": "markdown",
   "metadata": {},
   "source": [
    "| id  | itemset     |\n",
    "| --- | ----------- |\n",
    "| 1   | 12 14 15    |\n",
    "| 2   | 12 14 13 15 |\n",
    "| 3   | 12 14 13 15 |\n",
    "| 4   | 14 15       |\n",
    "| 5   | 12 14 13 15 |\n",
    "| 6   | 12 14 13 15 |\n",
    "| 7   | 12 14 13 15 |\n",
    "| 8   | 12 14 13 15 |"
   ]
  },
  {
   "cell_type": "markdown",
   "metadata": {},
   "source": [
    "Поддержка 7/8"
   ]
  },
  {
   "cell_type": "markdown",
   "metadata": {},
   "source": [
    "| itemset  | support     |\n",
    "| -------- | ----------- |\n",
    "| 12       | 7/8         |\n",
    "| 14       | 1           |\n",
    "| 15       | 1           |\n",
    "| 12 14    | 7/8         |\n",
    "| 12 15    | 7/8         |\n",
    "| 14 15    | 1           |"
   ]
  },
  {
   "cell_type": "code",
   "execution_count": null,
   "metadata": {},
   "outputs": [],
   "source": []
  }
 ],
 "metadata": {
  "kernelspec": {
   "display_name": "Python 3",
   "language": "python",
   "name": "python3"
  },
  "language_info": {
   "codemirror_mode": {
    "name": "ipython",
    "version": 3
   },
   "file_extension": ".py",
   "mimetype": "text/x-python",
   "name": "python",
   "nbconvert_exporter": "python",
   "pygments_lexer": "ipython3",
   "version": "3.8.3"
  }
 },
 "nbformat": 4,
 "nbformat_minor": 4
}
