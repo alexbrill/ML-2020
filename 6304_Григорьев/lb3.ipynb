{
 "metadata": {
  "language_info": {
   "codemirror_mode": {
    "name": "ipython",
    "version": 3
   },
   "file_extension": ".py",
   "mimetype": "text/x-python",
   "name": "python",
   "nbconvert_exporter": "python",
   "pygments_lexer": "ipython3",
   "version": "3.8.5-final"
  },
  "orig_nbformat": 2,
  "kernelspec": {
   "name": "python3",
   "display_name": "Python 3.8.5 64-bit",
   "metadata": {
    "interpreter": {
     "hash": "e1c98d53c6c62d0551dd98505dd538236ba917d5fa7487bf0fec002c0c4c0d97"
    }
   }
  }
 },
 "nbformat": 4,
 "nbformat_minor": 2,
 "cells": [
  {
   "source": [
    "# Цель работы\n",
    "Ознакомиться с методами частотного анализа из библиотеки MLxtend\n",
    "# Ход работы\n",
    "## Загрузка данных"
   ],
   "cell_type": "markdown",
   "metadata": {}
  },
  {
   "cell_type": "code",
   "execution_count": 1,
   "metadata": {},
   "outputs": [],
   "source": [
    "import pandas as pd\n",
    "import numpy as np\n",
    "from mlxtend.preprocessing import TransactionEncoder\n",
    "from mlxtend.frequent_patterns import apriori\n",
    "import matplotlib.pyplot as plt"
   ]
  },
  {
   "cell_type": "code",
   "execution_count": 2,
   "metadata": {},
   "outputs": [
    {
     "output_type": "execute_result",
     "data": {
      "text/plain": [
       "             date  transaction_id               item\n",
       "0      2000-01-01               1             yogurt\n",
       "1      2000-01-01               1               pork\n",
       "2      2000-01-01               1      sandwich bags\n",
       "3      2000-01-01               1         lunch meat\n",
       "4      2000-01-01               1       all- purpose\n",
       "...           ...             ...                ...\n",
       "22338  2002-02-26            1139               soda\n",
       "22339  2002-02-26            1139  laundry detergent\n",
       "22340  2002-02-26            1139         vegetables\n",
       "22341  2002-02-26            1139            shampoo\n",
       "22342  2002-02-26            1139         vegetables\n",
       "\n",
       "[22343 rows x 3 columns]"
      ],
      "text/html": "<div>\n<style scoped>\n    .dataframe tbody tr th:only-of-type {\n        vertical-align: middle;\n    }\n\n    .dataframe tbody tr th {\n        vertical-align: top;\n    }\n\n    .dataframe thead th {\n        text-align: right;\n    }\n</style>\n<table border=\"1\" class=\"dataframe\">\n  <thead>\n    <tr style=\"text-align: right;\">\n      <th></th>\n      <th>date</th>\n      <th>transaction_id</th>\n      <th>item</th>\n    </tr>\n  </thead>\n  <tbody>\n    <tr>\n      <th>0</th>\n      <td>2000-01-01</td>\n      <td>1</td>\n      <td>yogurt</td>\n    </tr>\n    <tr>\n      <th>1</th>\n      <td>2000-01-01</td>\n      <td>1</td>\n      <td>pork</td>\n    </tr>\n    <tr>\n      <th>2</th>\n      <td>2000-01-01</td>\n      <td>1</td>\n      <td>sandwich bags</td>\n    </tr>\n    <tr>\n      <th>3</th>\n      <td>2000-01-01</td>\n      <td>1</td>\n      <td>lunch meat</td>\n    </tr>\n    <tr>\n      <th>4</th>\n      <td>2000-01-01</td>\n      <td>1</td>\n      <td>all- purpose</td>\n    </tr>\n    <tr>\n      <th>...</th>\n      <td>...</td>\n      <td>...</td>\n      <td>...</td>\n    </tr>\n    <tr>\n      <th>22338</th>\n      <td>2002-02-26</td>\n      <td>1139</td>\n      <td>soda</td>\n    </tr>\n    <tr>\n      <th>22339</th>\n      <td>2002-02-26</td>\n      <td>1139</td>\n      <td>laundry detergent</td>\n    </tr>\n    <tr>\n      <th>22340</th>\n      <td>2002-02-26</td>\n      <td>1139</td>\n      <td>vegetables</td>\n    </tr>\n    <tr>\n      <th>22341</th>\n      <td>2002-02-26</td>\n      <td>1139</td>\n      <td>shampoo</td>\n    </tr>\n    <tr>\n      <th>22342</th>\n      <td>2002-02-26</td>\n      <td>1139</td>\n      <td>vegetables</td>\n    </tr>\n  </tbody>\n</table>\n<p>22343 rows × 3 columns</p>\n</div>"
     },
     "metadata": {},
     "execution_count": 2
    }
   ],
   "source": [
    "all_data = pd.read_csv('dataset_group.csv', header=None, names=['date', 'transaction_id', 'item'])\n",
    "all_data"
   ]
  },
  {
   "source": [
    "Список всех id"
   ],
   "cell_type": "markdown",
   "metadata": {}
  },
  {
   "cell_type": "code",
   "execution_count": 3,
   "metadata": {},
   "outputs": [
    {
     "output_type": "stream",
     "name": "stdout",
     "text": [
      "Количество транзакций: 1139\n"
     ]
    }
   ],
   "source": [
    "unique_id = all_data.transaction_id.unique()\n",
    "print('Количество транзакций:', len(unique_id))"
   ]
  },
  {
   "source": [
    "Список товаров"
   ],
   "cell_type": "markdown",
   "metadata": {}
  },
  {
   "cell_type": "code",
   "execution_count": 4,
   "metadata": {},
   "outputs": [
    {
     "output_type": "stream",
     "name": "stdout",
     "text": [
      "Количество товаров: 38\n"
     ]
    }
   ],
   "source": [
    "items = all_data.item.unique()\n",
    "print('Количество товаров:', len(items))"
   ]
  },
  {
   "source": [
    "Списки товаров для каждого покупателя"
   ],
   "cell_type": "markdown",
   "metadata": {}
  },
  {
   "cell_type": "code",
   "execution_count": 5,
   "metadata": {},
   "outputs": [],
   "source": [
    "dataset = [[elem for elem in all_data[all_data.transaction_id == id].item if elem in items] for id in unique_id]"
   ]
  },
  {
   "source": [
    "## Подготовка данных"
   ],
   "cell_type": "markdown",
   "metadata": {}
  },
  {
   "cell_type": "code",
   "execution_count": 6,
   "metadata": {},
   "outputs": [
    {
     "output_type": "execute_result",
     "data": {
      "text/plain": [
       "      all- purpose  aluminum foil  bagels   beef  butter  cereals  cheeses  \\\n",
       "0             True           True   False   True    True    False    False   \n",
       "1            False           True   False  False   False     True     True   \n",
       "2            False          False    True  False   False     True     True   \n",
       "3             True          False   False  False   False     True    False   \n",
       "4             True          False   False  False   False    False    False   \n",
       "...            ...            ...     ...    ...     ...      ...      ...   \n",
       "1134          True          False   False   True   False     True     True   \n",
       "1135         False          False   False  False   False     True     True   \n",
       "1136         False          False    True   True   False    False    False   \n",
       "1137          True          False   False   True   False    False     True   \n",
       "1138         False          False   False  False   False    False    False   \n",
       "\n",
       "      coffee/tea  dinner rolls  dishwashing liquid/detergent  ...  shampoo  \\\n",
       "0          False          True                         False  ...     True   \n",
       "1          False         False                          True  ...     True   \n",
       "2          False          True                         False  ...     True   \n",
       "3          False         False                         False  ...    False   \n",
       "4          False          True                         False  ...    False   \n",
       "...          ...           ...                           ...  ...      ...   \n",
       "1134        True          True                          True  ...     True   \n",
       "1135        True          True                          True  ...    False   \n",
       "1136       False          True                          True  ...     True   \n",
       "1137       False         False                         False  ...    False   \n",
       "1138       False         False                         False  ...     True   \n",
       "\n",
       "       soap   soda  spaghetti sauce  sugar  toilet paper  tortillas  \\\n",
       "0      True   True            False  False         False      False   \n",
       "1     False  False            False  False          True       True   \n",
       "2      True   True             True  False          True      False   \n",
       "3     False   True            False  False          True      False   \n",
       "4     False   True             True  False          True       True   \n",
       "...     ...    ...              ...    ...           ...        ...   \n",
       "1134   True  False            False   True         False      False   \n",
       "1135   True  False             True  False         False      False   \n",
       "1136   True  False            False   True         False       True   \n",
       "1137   True   True             True   True          True      False   \n",
       "1138  False   True            False  False         False      False   \n",
       "\n",
       "      vegetables  waffles  yogurt  \n",
       "0           True    False    True  \n",
       "1           True     True    True  \n",
       "2           True    False   False  \n",
       "3          False    False   False  \n",
       "4           True     True    True  \n",
       "...          ...      ...     ...  \n",
       "1134       False    False   False  \n",
       "1135        True    False   False  \n",
       "1136        True    False    True  \n",
       "1137        True     True    True  \n",
       "1138        True    False   False  \n",
       "\n",
       "[1139 rows x 38 columns]"
      ],
      "text/html": "<div>\n<style scoped>\n    .dataframe tbody tr th:only-of-type {\n        vertical-align: middle;\n    }\n\n    .dataframe tbody tr th {\n        vertical-align: top;\n    }\n\n    .dataframe thead th {\n        text-align: right;\n    }\n</style>\n<table border=\"1\" class=\"dataframe\">\n  <thead>\n    <tr style=\"text-align: right;\">\n      <th></th>\n      <th>all- purpose</th>\n      <th>aluminum foil</th>\n      <th>bagels</th>\n      <th>beef</th>\n      <th>butter</th>\n      <th>cereals</th>\n      <th>cheeses</th>\n      <th>coffee/tea</th>\n      <th>dinner rolls</th>\n      <th>dishwashing liquid/detergent</th>\n      <th>...</th>\n      <th>shampoo</th>\n      <th>soap</th>\n      <th>soda</th>\n      <th>spaghetti sauce</th>\n      <th>sugar</th>\n      <th>toilet paper</th>\n      <th>tortillas</th>\n      <th>vegetables</th>\n      <th>waffles</th>\n      <th>yogurt</th>\n    </tr>\n  </thead>\n  <tbody>\n    <tr>\n      <th>0</th>\n      <td>True</td>\n      <td>True</td>\n      <td>False</td>\n      <td>True</td>\n      <td>True</td>\n      <td>False</td>\n      <td>False</td>\n      <td>False</td>\n      <td>True</td>\n      <td>False</td>\n      <td>...</td>\n      <td>True</td>\n      <td>True</td>\n      <td>True</td>\n      <td>False</td>\n      <td>False</td>\n      <td>False</td>\n      <td>False</td>\n      <td>True</td>\n      <td>False</td>\n      <td>True</td>\n    </tr>\n    <tr>\n      <th>1</th>\n      <td>False</td>\n      <td>True</td>\n      <td>False</td>\n      <td>False</td>\n      <td>False</td>\n      <td>True</td>\n      <td>True</td>\n      <td>False</td>\n      <td>False</td>\n      <td>True</td>\n      <td>...</td>\n      <td>True</td>\n      <td>False</td>\n      <td>False</td>\n      <td>False</td>\n      <td>False</td>\n      <td>True</td>\n      <td>True</td>\n      <td>True</td>\n      <td>True</td>\n      <td>True</td>\n    </tr>\n    <tr>\n      <th>2</th>\n      <td>False</td>\n      <td>False</td>\n      <td>True</td>\n      <td>False</td>\n      <td>False</td>\n      <td>True</td>\n      <td>True</td>\n      <td>False</td>\n      <td>True</td>\n      <td>False</td>\n      <td>...</td>\n      <td>True</td>\n      <td>True</td>\n      <td>True</td>\n      <td>True</td>\n      <td>False</td>\n      <td>True</td>\n      <td>False</td>\n      <td>True</td>\n      <td>False</td>\n      <td>False</td>\n    </tr>\n    <tr>\n      <th>3</th>\n      <td>True</td>\n      <td>False</td>\n      <td>False</td>\n      <td>False</td>\n      <td>False</td>\n      <td>True</td>\n      <td>False</td>\n      <td>False</td>\n      <td>False</td>\n      <td>False</td>\n      <td>...</td>\n      <td>False</td>\n      <td>False</td>\n      <td>True</td>\n      <td>False</td>\n      <td>False</td>\n      <td>True</td>\n      <td>False</td>\n      <td>False</td>\n      <td>False</td>\n      <td>False</td>\n    </tr>\n    <tr>\n      <th>4</th>\n      <td>True</td>\n      <td>False</td>\n      <td>False</td>\n      <td>False</td>\n      <td>False</td>\n      <td>False</td>\n      <td>False</td>\n      <td>False</td>\n      <td>True</td>\n      <td>False</td>\n      <td>...</td>\n      <td>False</td>\n      <td>False</td>\n      <td>True</td>\n      <td>True</td>\n      <td>False</td>\n      <td>True</td>\n      <td>True</td>\n      <td>True</td>\n      <td>True</td>\n      <td>True</td>\n    </tr>\n    <tr>\n      <th>...</th>\n      <td>...</td>\n      <td>...</td>\n      <td>...</td>\n      <td>...</td>\n      <td>...</td>\n      <td>...</td>\n      <td>...</td>\n      <td>...</td>\n      <td>...</td>\n      <td>...</td>\n      <td>...</td>\n      <td>...</td>\n      <td>...</td>\n      <td>...</td>\n      <td>...</td>\n      <td>...</td>\n      <td>...</td>\n      <td>...</td>\n      <td>...</td>\n      <td>...</td>\n      <td>...</td>\n    </tr>\n    <tr>\n      <th>1134</th>\n      <td>True</td>\n      <td>False</td>\n      <td>False</td>\n      <td>True</td>\n      <td>False</td>\n      <td>True</td>\n      <td>True</td>\n      <td>True</td>\n      <td>True</td>\n      <td>True</td>\n      <td>...</td>\n      <td>True</td>\n      <td>True</td>\n      <td>False</td>\n      <td>False</td>\n      <td>True</td>\n      <td>False</td>\n      <td>False</td>\n      <td>False</td>\n      <td>False</td>\n      <td>False</td>\n    </tr>\n    <tr>\n      <th>1135</th>\n      <td>False</td>\n      <td>False</td>\n      <td>False</td>\n      <td>False</td>\n      <td>False</td>\n      <td>True</td>\n      <td>True</td>\n      <td>True</td>\n      <td>True</td>\n      <td>True</td>\n      <td>...</td>\n      <td>False</td>\n      <td>True</td>\n      <td>False</td>\n      <td>True</td>\n      <td>False</td>\n      <td>False</td>\n      <td>False</td>\n      <td>True</td>\n      <td>False</td>\n      <td>False</td>\n    </tr>\n    <tr>\n      <th>1136</th>\n      <td>False</td>\n      <td>False</td>\n      <td>True</td>\n      <td>True</td>\n      <td>False</td>\n      <td>False</td>\n      <td>False</td>\n      <td>False</td>\n      <td>True</td>\n      <td>True</td>\n      <td>...</td>\n      <td>True</td>\n      <td>True</td>\n      <td>False</td>\n      <td>False</td>\n      <td>True</td>\n      <td>False</td>\n      <td>True</td>\n      <td>True</td>\n      <td>False</td>\n      <td>True</td>\n    </tr>\n    <tr>\n      <th>1137</th>\n      <td>True</td>\n      <td>False</td>\n      <td>False</td>\n      <td>True</td>\n      <td>False</td>\n      <td>False</td>\n      <td>True</td>\n      <td>False</td>\n      <td>False</td>\n      <td>False</td>\n      <td>...</td>\n      <td>False</td>\n      <td>True</td>\n      <td>True</td>\n      <td>True</td>\n      <td>True</td>\n      <td>True</td>\n      <td>False</td>\n      <td>True</td>\n      <td>True</td>\n      <td>True</td>\n    </tr>\n    <tr>\n      <th>1138</th>\n      <td>False</td>\n      <td>False</td>\n      <td>False</td>\n      <td>False</td>\n      <td>False</td>\n      <td>False</td>\n      <td>False</td>\n      <td>False</td>\n      <td>False</td>\n      <td>False</td>\n      <td>...</td>\n      <td>True</td>\n      <td>False</td>\n      <td>True</td>\n      <td>False</td>\n      <td>False</td>\n      <td>False</td>\n      <td>False</td>\n      <td>True</td>\n      <td>False</td>\n      <td>False</td>\n    </tr>\n  </tbody>\n</table>\n<p>1139 rows × 38 columns</p>\n</div>"
     },
     "metadata": {},
     "execution_count": 6
    }
   ],
   "source": [
    "te = TransactionEncoder()\n",
    "te_ary = te.fit_transform(dataset)\n",
    "df = pd.DataFrame(te_ary, columns=te.columns_)\n",
    "df"
   ]
  },
  {
   "source": [
    "Данные преобрзованы с помощью TransactionEncoder в датасет, который представляет собой бинарную матрицу размера 1139x38. Строки - идентификаторы транзакций (покупатели), столбцы - элементы (товары), на пересечении - покупал ли пользователь данный товар. "
   ],
   "cell_type": "markdown",
   "metadata": {}
  },
  {
   "source": [
    "## Ассоциативный анализ с использованием алгоритма Apriori"
   ],
   "cell_type": "markdown",
   "metadata": {}
  },
  {
   "source": [
    "1) Получены часто встречающиеся наборы товаров с минимальным уровнем поддержки 0.3. Это значит, что данные наборы товаров покупали не менее 30% покупателей. Минимальный размер набора товаров - 1, максимальный - 2."
   ],
   "cell_type": "markdown",
   "metadata": {}
  },
  {
   "cell_type": "code",
   "execution_count": 7,
   "metadata": {},
   "outputs": [
    {
     "output_type": "execute_result",
     "data": {
      "text/plain": [
       "     support                                    itemsets\n",
       "0   0.374890                              (all- purpose)\n",
       "1   0.384548                             (aluminum foil)\n",
       "2   0.385426                                    (bagels)\n",
       "3   0.374890                                      (beef)\n",
       "4   0.367867                                    (butter)\n",
       "5   0.395961                                   (cereals)\n",
       "6   0.390694                                   (cheeses)\n",
       "7   0.379280                                (coffee/tea)\n",
       "8   0.388938                              (dinner rolls)\n",
       "9   0.388060              (dishwashing liquid/detergent)\n",
       "10  0.389816                                      (eggs)\n",
       "11  0.352941                                     (flour)\n",
       "12  0.370500                                    (fruits)\n",
       "13  0.345917                                 (hand soap)\n",
       "14  0.398595                                 (ice cream)\n",
       "15  0.375768                          (individual meals)\n",
       "16  0.376646                                     (juice)\n",
       "17  0.371378                                   (ketchup)\n",
       "18  0.378402                         (laundry detergent)\n",
       "19  0.395083                                (lunch meat)\n",
       "20  0.380158                                      (milk)\n",
       "21  0.375768                                     (mixes)\n",
       "22  0.362599                              (paper towels)\n",
       "23  0.371378                                     (pasta)\n",
       "24  0.355575                                      (pork)\n",
       "25  0.421422                                   (poultry)\n",
       "26  0.367867                             (sandwich bags)\n",
       "27  0.349429                           (sandwich loaves)\n",
       "28  0.368745                                   (shampoo)\n",
       "29  0.379280                                      (soap)\n",
       "30  0.390694                                      (soda)\n",
       "31  0.373134                           (spaghetti sauce)\n",
       "32  0.360843                                     (sugar)\n",
       "33  0.378402                              (toilet paper)\n",
       "34  0.369622                                 (tortillas)\n",
       "35  0.739245                                (vegetables)\n",
       "36  0.394205                                   (waffles)\n",
       "37  0.384548                                    (yogurt)\n",
       "38  0.310799                 (aluminum foil, vegetables)\n",
       "39  0.300263                        (bagels, vegetables)\n",
       "40  0.310799                       (cereals, vegetables)\n",
       "41  0.309043                       (cheeses, vegetables)\n",
       "42  0.308165                  (vegetables, dinner rolls)\n",
       "43  0.306409  (dishwashing liquid/detergent, vegetables)\n",
       "44  0.326602                          (eggs, vegetables)\n",
       "45  0.302897                     (ice cream, vegetables)\n",
       "46  0.309043             (laundry detergent, vegetables)\n",
       "47  0.311677                    (lunch meat, vegetables)\n",
       "48  0.331870                       (poultry, vegetables)\n",
       "49  0.305531                          (soda, vegetables)\n",
       "50  0.315189                       (waffles, vegetables)\n",
       "51  0.319579                        (yogurt, vegetables)"
      ],
      "text/html": "<div>\n<style scoped>\n    .dataframe tbody tr th:only-of-type {\n        vertical-align: middle;\n    }\n\n    .dataframe tbody tr th {\n        vertical-align: top;\n    }\n\n    .dataframe thead th {\n        text-align: right;\n    }\n</style>\n<table border=\"1\" class=\"dataframe\">\n  <thead>\n    <tr style=\"text-align: right;\">\n      <th></th>\n      <th>support</th>\n      <th>itemsets</th>\n    </tr>\n  </thead>\n  <tbody>\n    <tr>\n      <th>0</th>\n      <td>0.374890</td>\n      <td>(all- purpose)</td>\n    </tr>\n    <tr>\n      <th>1</th>\n      <td>0.384548</td>\n      <td>(aluminum foil)</td>\n    </tr>\n    <tr>\n      <th>2</th>\n      <td>0.385426</td>\n      <td>(bagels)</td>\n    </tr>\n    <tr>\n      <th>3</th>\n      <td>0.374890</td>\n      <td>(beef)</td>\n    </tr>\n    <tr>\n      <th>4</th>\n      <td>0.367867</td>\n      <td>(butter)</td>\n    </tr>\n    <tr>\n      <th>5</th>\n      <td>0.395961</td>\n      <td>(cereals)</td>\n    </tr>\n    <tr>\n      <th>6</th>\n      <td>0.390694</td>\n      <td>(cheeses)</td>\n    </tr>\n    <tr>\n      <th>7</th>\n      <td>0.379280</td>\n      <td>(coffee/tea)</td>\n    </tr>\n    <tr>\n      <th>8</th>\n      <td>0.388938</td>\n      <td>(dinner rolls)</td>\n    </tr>\n    <tr>\n      <th>9</th>\n      <td>0.388060</td>\n      <td>(dishwashing liquid/detergent)</td>\n    </tr>\n    <tr>\n      <th>10</th>\n      <td>0.389816</td>\n      <td>(eggs)</td>\n    </tr>\n    <tr>\n      <th>11</th>\n      <td>0.352941</td>\n      <td>(flour)</td>\n    </tr>\n    <tr>\n      <th>12</th>\n      <td>0.370500</td>\n      <td>(fruits)</td>\n    </tr>\n    <tr>\n      <th>13</th>\n      <td>0.345917</td>\n      <td>(hand soap)</td>\n    </tr>\n    <tr>\n      <th>14</th>\n      <td>0.398595</td>\n      <td>(ice cream)</td>\n    </tr>\n    <tr>\n      <th>15</th>\n      <td>0.375768</td>\n      <td>(individual meals)</td>\n    </tr>\n    <tr>\n      <th>16</th>\n      <td>0.376646</td>\n      <td>(juice)</td>\n    </tr>\n    <tr>\n      <th>17</th>\n      <td>0.371378</td>\n      <td>(ketchup)</td>\n    </tr>\n    <tr>\n      <th>18</th>\n      <td>0.378402</td>\n      <td>(laundry detergent)</td>\n    </tr>\n    <tr>\n      <th>19</th>\n      <td>0.395083</td>\n      <td>(lunch meat)</td>\n    </tr>\n    <tr>\n      <th>20</th>\n      <td>0.380158</td>\n      <td>(milk)</td>\n    </tr>\n    <tr>\n      <th>21</th>\n      <td>0.375768</td>\n      <td>(mixes)</td>\n    </tr>\n    <tr>\n      <th>22</th>\n      <td>0.362599</td>\n      <td>(paper towels)</td>\n    </tr>\n    <tr>\n      <th>23</th>\n      <td>0.371378</td>\n      <td>(pasta)</td>\n    </tr>\n    <tr>\n      <th>24</th>\n      <td>0.355575</td>\n      <td>(pork)</td>\n    </tr>\n    <tr>\n      <th>25</th>\n      <td>0.421422</td>\n      <td>(poultry)</td>\n    </tr>\n    <tr>\n      <th>26</th>\n      <td>0.367867</td>\n      <td>(sandwich bags)</td>\n    </tr>\n    <tr>\n      <th>27</th>\n      <td>0.349429</td>\n      <td>(sandwich loaves)</td>\n    </tr>\n    <tr>\n      <th>28</th>\n      <td>0.368745</td>\n      <td>(shampoo)</td>\n    </tr>\n    <tr>\n      <th>29</th>\n      <td>0.379280</td>\n      <td>(soap)</td>\n    </tr>\n    <tr>\n      <th>30</th>\n      <td>0.390694</td>\n      <td>(soda)</td>\n    </tr>\n    <tr>\n      <th>31</th>\n      <td>0.373134</td>\n      <td>(spaghetti sauce)</td>\n    </tr>\n    <tr>\n      <th>32</th>\n      <td>0.360843</td>\n      <td>(sugar)</td>\n    </tr>\n    <tr>\n      <th>33</th>\n      <td>0.378402</td>\n      <td>(toilet paper)</td>\n    </tr>\n    <tr>\n      <th>34</th>\n      <td>0.369622</td>\n      <td>(tortillas)</td>\n    </tr>\n    <tr>\n      <th>35</th>\n      <td>0.739245</td>\n      <td>(vegetables)</td>\n    </tr>\n    <tr>\n      <th>36</th>\n      <td>0.394205</td>\n      <td>(waffles)</td>\n    </tr>\n    <tr>\n      <th>37</th>\n      <td>0.384548</td>\n      <td>(yogurt)</td>\n    </tr>\n    <tr>\n      <th>38</th>\n      <td>0.310799</td>\n      <td>(aluminum foil, vegetables)</td>\n    </tr>\n    <tr>\n      <th>39</th>\n      <td>0.300263</td>\n      <td>(bagels, vegetables)</td>\n    </tr>\n    <tr>\n      <th>40</th>\n      <td>0.310799</td>\n      <td>(cereals, vegetables)</td>\n    </tr>\n    <tr>\n      <th>41</th>\n      <td>0.309043</td>\n      <td>(cheeses, vegetables)</td>\n    </tr>\n    <tr>\n      <th>42</th>\n      <td>0.308165</td>\n      <td>(vegetables, dinner rolls)</td>\n    </tr>\n    <tr>\n      <th>43</th>\n      <td>0.306409</td>\n      <td>(dishwashing liquid/detergent, vegetables)</td>\n    </tr>\n    <tr>\n      <th>44</th>\n      <td>0.326602</td>\n      <td>(eggs, vegetables)</td>\n    </tr>\n    <tr>\n      <th>45</th>\n      <td>0.302897</td>\n      <td>(ice cream, vegetables)</td>\n    </tr>\n    <tr>\n      <th>46</th>\n      <td>0.309043</td>\n      <td>(laundry detergent, vegetables)</td>\n    </tr>\n    <tr>\n      <th>47</th>\n      <td>0.311677</td>\n      <td>(lunch meat, vegetables)</td>\n    </tr>\n    <tr>\n      <th>48</th>\n      <td>0.331870</td>\n      <td>(poultry, vegetables)</td>\n    </tr>\n    <tr>\n      <th>49</th>\n      <td>0.305531</td>\n      <td>(soda, vegetables)</td>\n    </tr>\n    <tr>\n      <th>50</th>\n      <td>0.315189</td>\n      <td>(waffles, vegetables)</td>\n    </tr>\n    <tr>\n      <th>51</th>\n      <td>0.319579</td>\n      <td>(yogurt, vegetables)</td>\n    </tr>\n  </tbody>\n</table>\n</div>"
     },
     "metadata": {},
     "execution_count": 7
    }
   ],
   "source": [
    "results = apriori(df, min_support=0.3, use_colnames=True)\n",
    "results"
   ]
  },
  {
   "source": [
    "2) Для минимального уровня поддержки 0.3 получены наборы, состоящие только из одного товара."
   ],
   "cell_type": "markdown",
   "metadata": {}
  },
  {
   "cell_type": "code",
   "execution_count": 8,
   "metadata": {},
   "outputs": [
    {
     "output_type": "execute_result",
     "data": {
      "text/plain": [
       "     support                        itemsets\n",
       "0   0.374890                  (all- purpose)\n",
       "1   0.384548                 (aluminum foil)\n",
       "2   0.385426                        (bagels)\n",
       "3   0.374890                          (beef)\n",
       "4   0.367867                        (butter)\n",
       "5   0.395961                       (cereals)\n",
       "6   0.390694                       (cheeses)\n",
       "7   0.379280                    (coffee/tea)\n",
       "8   0.388938                  (dinner rolls)\n",
       "9   0.388060  (dishwashing liquid/detergent)\n",
       "10  0.389816                          (eggs)\n",
       "11  0.352941                         (flour)\n",
       "12  0.370500                        (fruits)\n",
       "13  0.345917                     (hand soap)\n",
       "14  0.398595                     (ice cream)\n",
       "15  0.375768              (individual meals)\n",
       "16  0.376646                         (juice)\n",
       "17  0.371378                       (ketchup)\n",
       "18  0.378402             (laundry detergent)\n",
       "19  0.395083                    (lunch meat)\n",
       "20  0.380158                          (milk)\n",
       "21  0.375768                         (mixes)\n",
       "22  0.362599                  (paper towels)\n",
       "23  0.371378                         (pasta)\n",
       "24  0.355575                          (pork)\n",
       "25  0.421422                       (poultry)\n",
       "26  0.367867                 (sandwich bags)\n",
       "27  0.349429               (sandwich loaves)\n",
       "28  0.368745                       (shampoo)\n",
       "29  0.379280                          (soap)\n",
       "30  0.390694                          (soda)\n",
       "31  0.373134               (spaghetti sauce)\n",
       "32  0.360843                         (sugar)\n",
       "33  0.378402                  (toilet paper)\n",
       "34  0.369622                     (tortillas)\n",
       "35  0.739245                    (vegetables)\n",
       "36  0.394205                       (waffles)\n",
       "37  0.384548                        (yogurt)"
      ],
      "text/html": "<div>\n<style scoped>\n    .dataframe tbody tr th:only-of-type {\n        vertical-align: middle;\n    }\n\n    .dataframe tbody tr th {\n        vertical-align: top;\n    }\n\n    .dataframe thead th {\n        text-align: right;\n    }\n</style>\n<table border=\"1\" class=\"dataframe\">\n  <thead>\n    <tr style=\"text-align: right;\">\n      <th></th>\n      <th>support</th>\n      <th>itemsets</th>\n    </tr>\n  </thead>\n  <tbody>\n    <tr>\n      <th>0</th>\n      <td>0.374890</td>\n      <td>(all- purpose)</td>\n    </tr>\n    <tr>\n      <th>1</th>\n      <td>0.384548</td>\n      <td>(aluminum foil)</td>\n    </tr>\n    <tr>\n      <th>2</th>\n      <td>0.385426</td>\n      <td>(bagels)</td>\n    </tr>\n    <tr>\n      <th>3</th>\n      <td>0.374890</td>\n      <td>(beef)</td>\n    </tr>\n    <tr>\n      <th>4</th>\n      <td>0.367867</td>\n      <td>(butter)</td>\n    </tr>\n    <tr>\n      <th>5</th>\n      <td>0.395961</td>\n      <td>(cereals)</td>\n    </tr>\n    <tr>\n      <th>6</th>\n      <td>0.390694</td>\n      <td>(cheeses)</td>\n    </tr>\n    <tr>\n      <th>7</th>\n      <td>0.379280</td>\n      <td>(coffee/tea)</td>\n    </tr>\n    <tr>\n      <th>8</th>\n      <td>0.388938</td>\n      <td>(dinner rolls)</td>\n    </tr>\n    <tr>\n      <th>9</th>\n      <td>0.388060</td>\n      <td>(dishwashing liquid/detergent)</td>\n    </tr>\n    <tr>\n      <th>10</th>\n      <td>0.389816</td>\n      <td>(eggs)</td>\n    </tr>\n    <tr>\n      <th>11</th>\n      <td>0.352941</td>\n      <td>(flour)</td>\n    </tr>\n    <tr>\n      <th>12</th>\n      <td>0.370500</td>\n      <td>(fruits)</td>\n    </tr>\n    <tr>\n      <th>13</th>\n      <td>0.345917</td>\n      <td>(hand soap)</td>\n    </tr>\n    <tr>\n      <th>14</th>\n      <td>0.398595</td>\n      <td>(ice cream)</td>\n    </tr>\n    <tr>\n      <th>15</th>\n      <td>0.375768</td>\n      <td>(individual meals)</td>\n    </tr>\n    <tr>\n      <th>16</th>\n      <td>0.376646</td>\n      <td>(juice)</td>\n    </tr>\n    <tr>\n      <th>17</th>\n      <td>0.371378</td>\n      <td>(ketchup)</td>\n    </tr>\n    <tr>\n      <th>18</th>\n      <td>0.378402</td>\n      <td>(laundry detergent)</td>\n    </tr>\n    <tr>\n      <th>19</th>\n      <td>0.395083</td>\n      <td>(lunch meat)</td>\n    </tr>\n    <tr>\n      <th>20</th>\n      <td>0.380158</td>\n      <td>(milk)</td>\n    </tr>\n    <tr>\n      <th>21</th>\n      <td>0.375768</td>\n      <td>(mixes)</td>\n    </tr>\n    <tr>\n      <th>22</th>\n      <td>0.362599</td>\n      <td>(paper towels)</td>\n    </tr>\n    <tr>\n      <th>23</th>\n      <td>0.371378</td>\n      <td>(pasta)</td>\n    </tr>\n    <tr>\n      <th>24</th>\n      <td>0.355575</td>\n      <td>(pork)</td>\n    </tr>\n    <tr>\n      <th>25</th>\n      <td>0.421422</td>\n      <td>(poultry)</td>\n    </tr>\n    <tr>\n      <th>26</th>\n      <td>0.367867</td>\n      <td>(sandwich bags)</td>\n    </tr>\n    <tr>\n      <th>27</th>\n      <td>0.349429</td>\n      <td>(sandwich loaves)</td>\n    </tr>\n    <tr>\n      <th>28</th>\n      <td>0.368745</td>\n      <td>(shampoo)</td>\n    </tr>\n    <tr>\n      <th>29</th>\n      <td>0.379280</td>\n      <td>(soap)</td>\n    </tr>\n    <tr>\n      <th>30</th>\n      <td>0.390694</td>\n      <td>(soda)</td>\n    </tr>\n    <tr>\n      <th>31</th>\n      <td>0.373134</td>\n      <td>(spaghetti sauce)</td>\n    </tr>\n    <tr>\n      <th>32</th>\n      <td>0.360843</td>\n      <td>(sugar)</td>\n    </tr>\n    <tr>\n      <th>33</th>\n      <td>0.378402</td>\n      <td>(toilet paper)</td>\n    </tr>\n    <tr>\n      <th>34</th>\n      <td>0.369622</td>\n      <td>(tortillas)</td>\n    </tr>\n    <tr>\n      <th>35</th>\n      <td>0.739245</td>\n      <td>(vegetables)</td>\n    </tr>\n    <tr>\n      <th>36</th>\n      <td>0.394205</td>\n      <td>(waffles)</td>\n    </tr>\n    <tr>\n      <th>37</th>\n      <td>0.384548</td>\n      <td>(yogurt)</td>\n    </tr>\n  </tbody>\n</table>\n</div>"
     },
     "metadata": {},
     "execution_count": 8
    }
   ],
   "source": [
    "results = apriori(df, min_support=0.3, use_colnames=True, max_len=1)\n",
    "results"
   ]
  },
  {
   "source": [
    "3) Для минимального уровня поддержки 0.3 получены наборы, состоящие только из двух товаров."
   ],
   "cell_type": "markdown",
   "metadata": {}
  },
  {
   "cell_type": "code",
   "execution_count": 9,
   "metadata": {},
   "outputs": [
    {
     "output_type": "stream",
     "name": "stdout",
     "text": [
      "     support                                    itemsets  length\n38  0.310799                 (aluminum foil, vegetables)       2\n39  0.300263                        (bagels, vegetables)       2\n40  0.310799                       (cereals, vegetables)       2\n41  0.309043                       (cheeses, vegetables)       2\n42  0.308165                  (vegetables, dinner rolls)       2\n43  0.306409  (dishwashing liquid/detergent, vegetables)       2\n44  0.326602                          (eggs, vegetables)       2\n45  0.302897                     (ice cream, vegetables)       2\n46  0.309043             (laundry detergent, vegetables)       2\n47  0.311677                    (lunch meat, vegetables)       2\n48  0.331870                       (poultry, vegetables)       2\n49  0.305531                          (soda, vegetables)       2\n50  0.315189                       (waffles, vegetables)       2\n51  0.319579                        (yogurt, vegetables)       2\n\nCount of result itemstes =  14\n"
     ]
    }
   ],
   "source": [
    "results = apriori(df, min_support=0.3, use_colnames=True)\n",
    "results['length'] = results['itemsets'].apply(lambda x: len(x))\n",
    "results = results[results['length'] == 2]\n",
    "print(results)\n",
    "print('\\nCount of result itemstes = ', len(results))"
   ]
  },
  {
   "source": [
    "4) Построена зависимость количества наборов от уровня поддержки. Красными точками отмечены уровни поддержки, при которых перестают генерироваться наборы размера 4, 3, 2, 1."
   ],
   "cell_type": "markdown",
   "metadata": {}
  },
  {
   "cell_type": "code",
   "execution_count": 10,
   "metadata": {},
   "outputs": [
    {
     "output_type": "display_data",
     "data": {
      "text/plain": "<Figure size 432x288 with 1 Axes>",
      "image/svg+xml": "<?xml version=\"1.0\" encoding=\"utf-8\" standalone=\"no\"?>\r\n<!DOCTYPE svg PUBLIC \"-//W3C//DTD SVG 1.1//EN\"\r\n  \"http://www.w3.org/Graphics/SVG/1.1/DTD/svg11.dtd\">\r\n<!-- Created with matplotlib (https://matplotlib.org/) -->\r\n<svg height=\"277.51875pt\" version=\"1.1\" viewBox=\"0 0 412.527812 277.51875\" width=\"412.527812pt\" xmlns=\"http://www.w3.org/2000/svg\" xmlns:xlink=\"http://www.w3.org/1999/xlink\">\r\n <metadata>\r\n  <rdf:RDF xmlns:cc=\"http://creativecommons.org/ns#\" xmlns:dc=\"http://purl.org/dc/elements/1.1/\" xmlns:rdf=\"http://www.w3.org/1999/02/22-rdf-syntax-ns#\">\r\n   <cc:Work>\r\n    <dc:type rdf:resource=\"http://purl.org/dc/dcmitype/StillImage\"/>\r\n    <dc:date>2020-11-15T18:53:54.664423</dc:date>\r\n    <dc:format>image/svg+xml</dc:format>\r\n    <dc:creator>\r\n     <cc:Agent>\r\n      <dc:title>Matplotlib v3.3.2, https://matplotlib.org/</dc:title>\r\n     </cc:Agent>\r\n    </dc:creator>\r\n   </cc:Work>\r\n  </rdf:RDF>\r\n </metadata>\r\n <defs>\r\n  <style type=\"text/css\">*{stroke-linecap:butt;stroke-linejoin:round;}</style>\r\n </defs>\r\n <g id=\"figure_1\">\r\n  <g id=\"patch_1\">\r\n   <path d=\"M 0 277.51875 \r\nL 412.527812 277.51875 \r\nL 412.527812 0 \r\nL 0 0 \r\nz\r\n\" style=\"fill:none;\"/>\r\n  </g>\r\n  <g id=\"axes_1\">\r\n   <g id=\"patch_2\">\r\n    <path d=\"M 59.860938 239.9625 \r\nL 394.660937 239.9625 \r\nL 394.660937 22.5225 \r\nL 59.860938 22.5225 \r\nz\r\n\" style=\"fill:#ffffff;\"/>\r\n   </g>\r\n   <g id=\"PathCollection_1\">\r\n    <defs>\r\n     <path d=\"M 0 3 \r\nC 0.795609 3 1.55874 2.683901 2.12132 2.12132 \r\nC 2.683901 1.55874 3 0.795609 3 0 \r\nC 3 -0.795609 2.683901 -1.55874 2.12132 -2.12132 \r\nC 1.55874 -2.683901 0.795609 -3 0 -3 \r\nC -0.795609 -3 -1.55874 -2.683901 -2.12132 -2.12132 \r\nC -2.683901 -1.55874 -3 -0.795609 -3 0 \r\nC -3 0.795609 -2.683901 1.55874 -2.12132 2.12132 \r\nC -1.55874 2.683901 -0.795609 3 0 3 \r\nz\r\n\" id=\"mb50b2ccaaa\" style=\"stroke:#ff0000;\"/>\r\n    </defs>\r\n    <g clip-path=\"url(#peb2b8aab8c)\">\r\n     <use style=\"fill:#ff0000;stroke:#ff0000;\" x=\"92.723388\" xlink:href=\"#mb50b2ccaaa\" y=\"212.180501\"/>\r\n    </g>\r\n   </g>\r\n   <g id=\"PathCollection_2\">\r\n    <g clip-path=\"url(#peb2b8aab8c)\">\r\n     <use style=\"fill:#ff0000;stroke:#ff0000;\" x=\"128.011926\" xlink:href=\"#mb50b2ccaaa\" y=\"228.321661\"/>\r\n    </g>\r\n   </g>\r\n   <g id=\"PathCollection_3\">\r\n    <g clip-path=\"url(#peb2b8aab8c)\">\r\n     <use style=\"fill:#ff0000;stroke:#ff0000;\" x=\"203.000068\" xlink:href=\"#mb50b2ccaaa\" y=\"229.601909\"/>\r\n    </g>\r\n   </g>\r\n   <g id=\"PathCollection_4\">\r\n    <g clip-path=\"url(#peb2b8aab8c)\">\r\n     <use style=\"fill:#ff0000;stroke:#ff0000;\" x=\"379.442756\" xlink:href=\"#mb50b2ccaaa\" y=\"230.078864\"/>\r\n    </g>\r\n   </g>\r\n   <g id=\"matplotlib.axis_1\">\r\n    <g id=\"xtick_1\">\r\n     <g id=\"line2d_1\">\r\n      <defs>\r\n       <path d=\"M 0 0 \r\nL 0 3.5 \r\n\" id=\"m64387dca68\" style=\"stroke:#000000;stroke-width:0.8;\"/>\r\n      </defs>\r\n      <g>\r\n       <use style=\"stroke:#000000;stroke-width:0.8;\" x=\"97.134455\" xlink:href=\"#m64387dca68\" y=\"239.9625\"/>\r\n      </g>\r\n     </g>\r\n     <g id=\"text_1\">\r\n      <!-- 0.1 -->\r\n      <g transform=\"translate(89.182893 254.560937)scale(0.1 -0.1)\">\r\n       <defs>\r\n        <path d=\"M 31.78125 66.40625 \r\nQ 24.171875 66.40625 20.328125 58.90625 \r\nQ 16.5 51.421875 16.5 36.375 \r\nQ 16.5 21.390625 20.328125 13.890625 \r\nQ 24.171875 6.390625 31.78125 6.390625 \r\nQ 39.453125 6.390625 43.28125 13.890625 \r\nQ 47.125 21.390625 47.125 36.375 \r\nQ 47.125 51.421875 43.28125 58.90625 \r\nQ 39.453125 66.40625 31.78125 66.40625 \r\nz\r\nM 31.78125 74.21875 \r\nQ 44.046875 74.21875 50.515625 64.515625 \r\nQ 56.984375 54.828125 56.984375 36.375 \r\nQ 56.984375 17.96875 50.515625 8.265625 \r\nQ 44.046875 -1.421875 31.78125 -1.421875 \r\nQ 19.53125 -1.421875 13.0625 8.265625 \r\nQ 6.59375 17.96875 6.59375 36.375 \r\nQ 6.59375 54.828125 13.0625 64.515625 \r\nQ 19.53125 74.21875 31.78125 74.21875 \r\nz\r\n\" id=\"DejaVuSans-48\"/>\r\n        <path d=\"M 10.6875 12.40625 \r\nL 21 12.40625 \r\nL 21 0 \r\nL 10.6875 0 \r\nz\r\n\" id=\"DejaVuSans-46\"/>\r\n        <path d=\"M 12.40625 8.296875 \r\nL 28.515625 8.296875 \r\nL 28.515625 63.921875 \r\nL 10.984375 60.40625 \r\nL 10.984375 69.390625 \r\nL 28.421875 72.90625 \r\nL 38.28125 72.90625 \r\nL 38.28125 8.296875 \r\nL 54.390625 8.296875 \r\nL 54.390625 0 \r\nL 12.40625 0 \r\nz\r\n\" id=\"DejaVuSans-49\"/>\r\n       </defs>\r\n       <use xlink:href=\"#DejaVuSans-48\"/>\r\n       <use x=\"63.623047\" xlink:href=\"#DejaVuSans-46\"/>\r\n       <use x=\"95.410156\" xlink:href=\"#DejaVuSans-49\"/>\r\n      </g>\r\n     </g>\r\n    </g>\r\n    <g id=\"xtick_2\">\r\n     <g id=\"line2d_2\">\r\n      <g>\r\n       <use style=\"stroke:#000000;stroke-width:0.8;\" x=\"141.245127\" xlink:href=\"#m64387dca68\" y=\"239.9625\"/>\r\n      </g>\r\n     </g>\r\n     <g id=\"text_2\">\r\n      <!-- 0.2 -->\r\n      <g transform=\"translate(133.293565 254.560937)scale(0.1 -0.1)\">\r\n       <defs>\r\n        <path d=\"M 19.1875 8.296875 \r\nL 53.609375 8.296875 \r\nL 53.609375 0 \r\nL 7.328125 0 \r\nL 7.328125 8.296875 \r\nQ 12.9375 14.109375 22.625 23.890625 \r\nQ 32.328125 33.6875 34.8125 36.53125 \r\nQ 39.546875 41.84375 41.421875 45.53125 \r\nQ 43.3125 49.21875 43.3125 52.78125 \r\nQ 43.3125 58.59375 39.234375 62.25 \r\nQ 35.15625 65.921875 28.609375 65.921875 \r\nQ 23.96875 65.921875 18.8125 64.3125 \r\nQ 13.671875 62.703125 7.8125 59.421875 \r\nL 7.8125 69.390625 \r\nQ 13.765625 71.78125 18.9375 73 \r\nQ 24.125 74.21875 28.421875 74.21875 \r\nQ 39.75 74.21875 46.484375 68.546875 \r\nQ 53.21875 62.890625 53.21875 53.421875 \r\nQ 53.21875 48.921875 51.53125 44.890625 \r\nQ 49.859375 40.875 45.40625 35.40625 \r\nQ 44.1875 33.984375 37.640625 27.21875 \r\nQ 31.109375 20.453125 19.1875 8.296875 \r\nz\r\n\" id=\"DejaVuSans-50\"/>\r\n       </defs>\r\n       <use xlink:href=\"#DejaVuSans-48\"/>\r\n       <use x=\"63.623047\" xlink:href=\"#DejaVuSans-46\"/>\r\n       <use x=\"95.410156\" xlink:href=\"#DejaVuSans-50\"/>\r\n      </g>\r\n     </g>\r\n    </g>\r\n    <g id=\"xtick_3\">\r\n     <g id=\"line2d_3\">\r\n      <g>\r\n       <use style=\"stroke:#000000;stroke-width:0.8;\" x=\"185.355799\" xlink:href=\"#m64387dca68\" y=\"239.9625\"/>\r\n      </g>\r\n     </g>\r\n     <g id=\"text_3\">\r\n      <!-- 0.3 -->\r\n      <g transform=\"translate(177.404237 254.560937)scale(0.1 -0.1)\">\r\n       <defs>\r\n        <path d=\"M 40.578125 39.3125 \r\nQ 47.65625 37.796875 51.625 33 \r\nQ 55.609375 28.21875 55.609375 21.1875 \r\nQ 55.609375 10.40625 48.1875 4.484375 \r\nQ 40.765625 -1.421875 27.09375 -1.421875 \r\nQ 22.515625 -1.421875 17.65625 -0.515625 \r\nQ 12.796875 0.390625 7.625 2.203125 \r\nL 7.625 11.71875 \r\nQ 11.71875 9.328125 16.59375 8.109375 \r\nQ 21.484375 6.890625 26.8125 6.890625 \r\nQ 36.078125 6.890625 40.9375 10.546875 \r\nQ 45.796875 14.203125 45.796875 21.1875 \r\nQ 45.796875 27.640625 41.28125 31.265625 \r\nQ 36.765625 34.90625 28.71875 34.90625 \r\nL 20.21875 34.90625 \r\nL 20.21875 43.015625 \r\nL 29.109375 43.015625 \r\nQ 36.375 43.015625 40.234375 45.921875 \r\nQ 44.09375 48.828125 44.09375 54.296875 \r\nQ 44.09375 59.90625 40.109375 62.90625 \r\nQ 36.140625 65.921875 28.71875 65.921875 \r\nQ 24.65625 65.921875 20.015625 65.03125 \r\nQ 15.375 64.15625 9.8125 62.3125 \r\nL 9.8125 71.09375 \r\nQ 15.4375 72.65625 20.34375 73.4375 \r\nQ 25.25 74.21875 29.59375 74.21875 \r\nQ 40.828125 74.21875 47.359375 69.109375 \r\nQ 53.90625 64.015625 53.90625 55.328125 \r\nQ 53.90625 49.265625 50.4375 45.09375 \r\nQ 46.96875 40.921875 40.578125 39.3125 \r\nz\r\n\" id=\"DejaVuSans-51\"/>\r\n       </defs>\r\n       <use xlink:href=\"#DejaVuSans-48\"/>\r\n       <use x=\"63.623047\" xlink:href=\"#DejaVuSans-46\"/>\r\n       <use x=\"95.410156\" xlink:href=\"#DejaVuSans-51\"/>\r\n      </g>\r\n     </g>\r\n    </g>\r\n    <g id=\"xtick_4\">\r\n     <g id=\"line2d_4\">\r\n      <g>\r\n       <use style=\"stroke:#000000;stroke-width:0.8;\" x=\"229.466471\" xlink:href=\"#m64387dca68\" y=\"239.9625\"/>\r\n      </g>\r\n     </g>\r\n     <g id=\"text_4\">\r\n      <!-- 0.4 -->\r\n      <g transform=\"translate(221.514909 254.560937)scale(0.1 -0.1)\">\r\n       <defs>\r\n        <path d=\"M 37.796875 64.3125 \r\nL 12.890625 25.390625 \r\nL 37.796875 25.390625 \r\nz\r\nM 35.203125 72.90625 \r\nL 47.609375 72.90625 \r\nL 47.609375 25.390625 \r\nL 58.015625 25.390625 \r\nL 58.015625 17.1875 \r\nL 47.609375 17.1875 \r\nL 47.609375 0 \r\nL 37.796875 0 \r\nL 37.796875 17.1875 \r\nL 4.890625 17.1875 \r\nL 4.890625 26.703125 \r\nz\r\n\" id=\"DejaVuSans-52\"/>\r\n       </defs>\r\n       <use xlink:href=\"#DejaVuSans-48\"/>\r\n       <use x=\"63.623047\" xlink:href=\"#DejaVuSans-46\"/>\r\n       <use x=\"95.410156\" xlink:href=\"#DejaVuSans-52\"/>\r\n      </g>\r\n     </g>\r\n    </g>\r\n    <g id=\"xtick_5\">\r\n     <g id=\"line2d_5\">\r\n      <g>\r\n       <use style=\"stroke:#000000;stroke-width:0.8;\" x=\"273.577143\" xlink:href=\"#m64387dca68\" y=\"239.9625\"/>\r\n      </g>\r\n     </g>\r\n     <g id=\"text_5\">\r\n      <!-- 0.5 -->\r\n      <g transform=\"translate(265.625581 254.560937)scale(0.1 -0.1)\">\r\n       <defs>\r\n        <path d=\"M 10.796875 72.90625 \r\nL 49.515625 72.90625 \r\nL 49.515625 64.59375 \r\nL 19.828125 64.59375 \r\nL 19.828125 46.734375 \r\nQ 21.96875 47.46875 24.109375 47.828125 \r\nQ 26.265625 48.1875 28.421875 48.1875 \r\nQ 40.625 48.1875 47.75 41.5 \r\nQ 54.890625 34.8125 54.890625 23.390625 \r\nQ 54.890625 11.625 47.5625 5.09375 \r\nQ 40.234375 -1.421875 26.90625 -1.421875 \r\nQ 22.3125 -1.421875 17.546875 -0.640625 \r\nQ 12.796875 0.140625 7.71875 1.703125 \r\nL 7.71875 11.625 \r\nQ 12.109375 9.234375 16.796875 8.0625 \r\nQ 21.484375 6.890625 26.703125 6.890625 \r\nQ 35.15625 6.890625 40.078125 11.328125 \r\nQ 45.015625 15.765625 45.015625 23.390625 \r\nQ 45.015625 31 40.078125 35.4375 \r\nQ 35.15625 39.890625 26.703125 39.890625 \r\nQ 22.75 39.890625 18.8125 39.015625 \r\nQ 14.890625 38.140625 10.796875 36.28125 \r\nz\r\n\" id=\"DejaVuSans-53\"/>\r\n       </defs>\r\n       <use xlink:href=\"#DejaVuSans-48\"/>\r\n       <use x=\"63.623047\" xlink:href=\"#DejaVuSans-46\"/>\r\n       <use x=\"95.410156\" xlink:href=\"#DejaVuSans-53\"/>\r\n      </g>\r\n     </g>\r\n    </g>\r\n    <g id=\"xtick_6\">\r\n     <g id=\"line2d_6\">\r\n      <g>\r\n       <use style=\"stroke:#000000;stroke-width:0.8;\" x=\"317.687815\" xlink:href=\"#m64387dca68\" y=\"239.9625\"/>\r\n      </g>\r\n     </g>\r\n     <g id=\"text_6\">\r\n      <!-- 0.6 -->\r\n      <g transform=\"translate(309.736252 254.560937)scale(0.1 -0.1)\">\r\n       <defs>\r\n        <path d=\"M 33.015625 40.375 \r\nQ 26.375 40.375 22.484375 35.828125 \r\nQ 18.609375 31.296875 18.609375 23.390625 \r\nQ 18.609375 15.53125 22.484375 10.953125 \r\nQ 26.375 6.390625 33.015625 6.390625 \r\nQ 39.65625 6.390625 43.53125 10.953125 \r\nQ 47.40625 15.53125 47.40625 23.390625 \r\nQ 47.40625 31.296875 43.53125 35.828125 \r\nQ 39.65625 40.375 33.015625 40.375 \r\nz\r\nM 52.59375 71.296875 \r\nL 52.59375 62.3125 \r\nQ 48.875 64.0625 45.09375 64.984375 \r\nQ 41.3125 65.921875 37.59375 65.921875 \r\nQ 27.828125 65.921875 22.671875 59.328125 \r\nQ 17.53125 52.734375 16.796875 39.40625 \r\nQ 19.671875 43.65625 24.015625 45.921875 \r\nQ 28.375 48.1875 33.59375 48.1875 \r\nQ 44.578125 48.1875 50.953125 41.515625 \r\nQ 57.328125 34.859375 57.328125 23.390625 \r\nQ 57.328125 12.15625 50.6875 5.359375 \r\nQ 44.046875 -1.421875 33.015625 -1.421875 \r\nQ 20.359375 -1.421875 13.671875 8.265625 \r\nQ 6.984375 17.96875 6.984375 36.375 \r\nQ 6.984375 53.65625 15.1875 63.9375 \r\nQ 23.390625 74.21875 37.203125 74.21875 \r\nQ 40.921875 74.21875 44.703125 73.484375 \r\nQ 48.484375 72.75 52.59375 71.296875 \r\nz\r\n\" id=\"DejaVuSans-54\"/>\r\n       </defs>\r\n       <use xlink:href=\"#DejaVuSans-48\"/>\r\n       <use x=\"63.623047\" xlink:href=\"#DejaVuSans-46\"/>\r\n       <use x=\"95.410156\" xlink:href=\"#DejaVuSans-54\"/>\r\n      </g>\r\n     </g>\r\n    </g>\r\n    <g id=\"xtick_7\">\r\n     <g id=\"line2d_7\">\r\n      <g>\r\n       <use style=\"stroke:#000000;stroke-width:0.8;\" x=\"361.798487\" xlink:href=\"#m64387dca68\" y=\"239.9625\"/>\r\n      </g>\r\n     </g>\r\n     <g id=\"text_7\">\r\n      <!-- 0.7 -->\r\n      <g transform=\"translate(353.846924 254.560937)scale(0.1 -0.1)\">\r\n       <defs>\r\n        <path d=\"M 8.203125 72.90625 \r\nL 55.078125 72.90625 \r\nL 55.078125 68.703125 \r\nL 28.609375 0 \r\nL 18.3125 0 \r\nL 43.21875 64.59375 \r\nL 8.203125 64.59375 \r\nz\r\n\" id=\"DejaVuSans-55\"/>\r\n       </defs>\r\n       <use xlink:href=\"#DejaVuSans-48\"/>\r\n       <use x=\"63.623047\" xlink:href=\"#DejaVuSans-46\"/>\r\n       <use x=\"95.410156\" xlink:href=\"#DejaVuSans-55\"/>\r\n      </g>\r\n     </g>\r\n    </g>\r\n    <g id=\"text_8\">\r\n     <!-- Уровень поддержки -->\r\n     <g transform=\"translate(173.885156 268.239062)scale(0.1 -0.1)\">\r\n      <defs>\r\n       <path d=\"M 31.984375 8.84375 \r\nQ 30.953125 6.390625 29.390625 4.546875 \r\nQ 25.53125 0 13.28125 0 \r\nL 9.515625 0 \r\nL 9.515625 8.296875 \r\nL 12.59375 8.296875 \r\nQ 18.40625 8.296875 20.65625 9.625 \r\nQ 22.015625 10.453125 22.90625 12.5 \r\nL 25.09375 17.671875 \r\nL 1.703125 72.90625 \r\nL 12.3125 72.90625 \r\nL 30.421875 30.125 \r\nL 48.640625 72.90625 \r\nL 59.234375 72.90625 \r\nz\r\n\" id=\"DejaVuSans-1059\"/>\r\n       <path d=\"M 18.109375 8.203125 \r\nL 18.109375 -20.796875 \r\nL 9.078125 -20.796875 \r\nL 9.078125 54.6875 \r\nL 18.109375 54.6875 \r\nL 18.109375 46.390625 \r\nQ 20.953125 51.265625 25.265625 53.625 \r\nQ 29.59375 56 35.59375 56 \r\nQ 45.5625 56 51.78125 48.09375 \r\nQ 58.015625 40.1875 58.015625 27.296875 \r\nQ 58.015625 14.40625 51.78125 6.484375 \r\nQ 45.5625 -1.421875 35.59375 -1.421875 \r\nQ 29.59375 -1.421875 25.265625 0.953125 \r\nQ 20.953125 3.328125 18.109375 8.203125 \r\nz\r\nM 48.6875 27.296875 \r\nQ 48.6875 37.203125 44.609375 42.84375 \r\nQ 40.53125 48.484375 33.40625 48.484375 \r\nQ 26.265625 48.484375 22.1875 42.84375 \r\nQ 18.109375 37.203125 18.109375 27.296875 \r\nQ 18.109375 17.390625 22.1875 11.75 \r\nQ 26.265625 6.109375 33.40625 6.109375 \r\nQ 40.53125 6.109375 44.609375 11.75 \r\nQ 48.6875 17.390625 48.6875 27.296875 \r\nz\r\n\" id=\"DejaVuSans-1088\"/>\r\n       <path d=\"M 30.609375 48.390625 \r\nQ 23.390625 48.390625 19.1875 42.75 \r\nQ 14.984375 37.109375 14.984375 27.296875 \r\nQ 14.984375 17.484375 19.15625 11.84375 \r\nQ 23.34375 6.203125 30.609375 6.203125 \r\nQ 37.796875 6.203125 41.984375 11.859375 \r\nQ 46.1875 17.53125 46.1875 27.296875 \r\nQ 46.1875 37.015625 41.984375 42.703125 \r\nQ 37.796875 48.390625 30.609375 48.390625 \r\nz\r\nM 30.609375 56 \r\nQ 42.328125 56 49.015625 48.375 \r\nQ 55.71875 40.765625 55.71875 27.296875 \r\nQ 55.71875 13.875 49.015625 6.21875 \r\nQ 42.328125 -1.421875 30.609375 -1.421875 \r\nQ 18.84375 -1.421875 12.171875 6.21875 \r\nQ 5.515625 13.875 5.515625 27.296875 \r\nQ 5.515625 40.765625 12.171875 48.375 \r\nQ 18.84375 56 30.609375 56 \r\nz\r\n\" id=\"DejaVuSans-1086\"/>\r\n       <path d=\"M 18.0625 25.203125 \r\nL 18.0625 7.171875 \r\nL 30.859375 7.171875 \r\nQ 37.015625 7.171875 40.234375 9.484375 \r\nQ 43.453125 11.8125 43.453125 16.21875 \r\nQ 43.453125 20.609375 40.234375 22.90625 \r\nQ 37.015625 25.203125 30.859375 25.203125 \r\nz\r\nM 18.0625 47.515625 \r\nL 18.0625 32.375 \r\nL 29.890625 32.375 \r\nQ 34.96875 32.375 38.1875 34.390625 \r\nQ 41.40625 36.421875 41.40625 40.046875 \r\nQ 41.40625 43.65625 38.1875 45.578125 \r\nQ 34.96875 47.515625 29.890625 47.515625 \r\nz\r\nM 9.078125 54.6875 \r\nL 30.46875 54.6875 \r\nQ 40.09375 54.6875 45.265625 51.171875 \r\nQ 50.4375 47.65625 50.4375 41.15625 \r\nQ 50.4375 36.140625 47.796875 33.171875 \r\nQ 45.171875 30.21875 39.984375 29.5 \r\nQ 46.1875 28.328125 49.609375 24.609375 \r\nQ 53.03125 20.90625 53.03125 15.328125 \r\nQ 53.03125 8.015625 47.390625 4 \r\nQ 41.75 0 31.296875 0 \r\nL 9.078125 0 \r\nz\r\n\" id=\"DejaVuSans-1074\"/>\r\n       <path d=\"M 56.203125 29.59375 \r\nL 56.203125 25.203125 \r\nL 14.890625 25.203125 \r\nQ 15.484375 15.921875 20.484375 11.0625 \r\nQ 25.484375 6.203125 34.421875 6.203125 \r\nQ 39.59375 6.203125 44.453125 7.46875 \r\nQ 49.3125 8.734375 54.109375 11.28125 \r\nL 54.109375 2.78125 \r\nQ 49.265625 0.734375 44.1875 -0.34375 \r\nQ 39.109375 -1.421875 33.890625 -1.421875 \r\nQ 20.796875 -1.421875 13.15625 6.1875 \r\nQ 5.515625 13.8125 5.515625 26.8125 \r\nQ 5.515625 40.234375 12.765625 48.109375 \r\nQ 20.015625 56 32.328125 56 \r\nQ 43.359375 56 49.78125 48.890625 \r\nQ 56.203125 41.796875 56.203125 29.59375 \r\nz\r\nM 47.21875 32.234375 \r\nQ 47.125 39.59375 43.09375 43.984375 \r\nQ 39.0625 48.390625 32.421875 48.390625 \r\nQ 24.90625 48.390625 20.390625 44.140625 \r\nQ 15.875 39.890625 15.1875 32.171875 \r\nz\r\n\" id=\"DejaVuSans-1077\"/>\r\n       <path d=\"M 9.078125 54.6875 \r\nL 18.109375 54.6875 \r\nL 18.109375 32.375 \r\nL 47.265625 32.375 \r\nL 47.265625 54.6875 \r\nL 56.296875 54.6875 \r\nL 56.296875 0 \r\nL 47.265625 0 \r\nL 47.265625 25.203125 \r\nL 18.109375 25.203125 \r\nL 18.109375 0 \r\nL 9.078125 0 \r\nz\r\n\" id=\"DejaVuSans-1085\"/>\r\n       <path d=\"M 43.453125 16.21875 \r\nQ 43.453125 20.609375 40.25 22.90625 \r\nQ 37.0625 25.203125 30.90625 25.203125 \r\nL 18.109375 25.203125 \r\nL 18.109375 7.171875 \r\nL 30.90625 7.171875 \r\nQ 37.0625 7.171875 40.25 9.484375 \r\nQ 43.453125 11.8125 43.453125 16.21875 \r\nz\r\nM 9.078125 54.6875 \r\nL 18.109375 54.6875 \r\nL 18.109375 32.375 \r\nL 31.296875 32.375 \r\nQ 41.75 32.375 47.390625 28.390625 \r\nQ 53.03125 24.421875 53.03125 16.21875 \r\nQ 53.03125 8.015625 47.390625 4 \r\nQ 41.75 0 31.296875 0 \r\nL 9.078125 0 \r\nz\r\n\" id=\"DejaVuSans-1100\"/>\r\n       <path id=\"DejaVuSans-32\"/>\r\n       <path d=\"M 56.296875 54.6875 \r\nL 56.296875 0 \r\nL 47.265625 0 \r\nL 47.265625 47.515625 \r\nL 18.109375 47.515625 \r\nL 18.109375 0 \r\nL 9.078125 0 \r\nL 9.078125 54.6875 \r\nz\r\n\" id=\"DejaVuSans-1087\"/>\r\n       <path d=\"M 21.625 7.171875 \r\nL 47.703125 7.171875 \r\nL 47.703125 47.515625 \r\nL 28.8125 47.515625 \r\nL 28.8125 40.671875 \r\nQ 28.8125 20.5625 23.046875 9.8125 \r\nz\r\nM 8.59375 7.171875 \r\nQ 13.03125 9.125 14.984375 13.28125 \r\nQ 19.78125 23.578125 19.78125 44.34375 \r\nL 19.78125 54.6875 \r\nL 56.734375 54.6875 \r\nL 56.734375 7.171875 \r\nL 63.921875 7.171875 \r\nL 63.921875 -13.8125 \r\nL 56.734375 -13.8125 \r\nL 56.734375 0 \r\nL 12.40625 0 \r\nL 12.40625 -13.8125 \r\nL 5.21875 -13.8125 \r\nL 5.21875 7.171875 \r\nz\r\n\" id=\"DejaVuSans-1076\"/>\r\n       <path d=\"M 40.578125 54.6875 \r\nL 49.515625 54.6875 \r\nL 49.515625 29 \r\nL 73.390625 54.6875 \r\nL 83.84375 54.6875 \r\nL 64.203125 33.640625 \r\nL 86.671875 0 \r\nL 77.046875 0 \r\nL 58.640625 27.640625 \r\nL 49.515625 17.828125 \r\nL 49.515625 0 \r\nL 40.578125 0 \r\nL 40.578125 17.828125 \r\nL 31.453125 27.640625 \r\nL 13.03125 0 \r\nL 3.421875 0 \r\nL 25.875 33.640625 \r\nL 6.25 54.6875 \r\nL 16.703125 54.6875 \r\nL 40.578125 29 \r\nz\r\n\" id=\"DejaVuSans-1078\"/>\r\n       <path d=\"M 9.078125 54.6875 \r\nL 18.015625 54.6875 \r\nL 18.015625 29 \r\nL 43.359375 54.6875 \r\nL 54.390625 54.6875 \r\nL 33.5 33.546875 \r\nL 57.078125 0 \r\nL 47.015625 0 \r\nL 27.640625 27.59375 \r\nL 18.015625 17.828125 \r\nL 18.015625 0 \r\nL 9.078125 0 \r\nz\r\n\" id=\"DejaVuSans-1082\"/>\r\n       <path d=\"M 55.90625 54.6875 \r\nL 55.90625 0 \r\nL 46.96875 0 \r\nL 46.96875 43.890625 \r\nL 20.609375 0 \r\nL 9.078125 0 \r\nL 9.078125 54.6875 \r\nL 18.015625 54.6875 \r\nL 18.015625 10.890625 \r\nL 44.34375 54.6875 \r\nz\r\n\" id=\"DejaVuSans-1080\"/>\r\n      </defs>\r\n      <use xlink:href=\"#DejaVuSans-1059\"/>\r\n      <use x=\"60.9375\" xlink:href=\"#DejaVuSans-1088\"/>\r\n      <use x=\"124.414062\" xlink:href=\"#DejaVuSans-1086\"/>\r\n      <use x=\"185.595703\" xlink:href=\"#DejaVuSans-1074\"/>\r\n      <use x=\"244.53125\" xlink:href=\"#DejaVuSans-1077\"/>\r\n      <use x=\"306.054688\" xlink:href=\"#DejaVuSans-1085\"/>\r\n      <use x=\"371.435547\" xlink:href=\"#DejaVuSans-1100\"/>\r\n      <use x=\"430.371094\" xlink:href=\"#DejaVuSans-32\"/>\r\n      <use x=\"462.158203\" xlink:href=\"#DejaVuSans-1087\"/>\r\n      <use x=\"527.539062\" xlink:href=\"#DejaVuSans-1086\"/>\r\n      <use x=\"588.720703\" xlink:href=\"#DejaVuSans-1076\"/>\r\n      <use x=\"657.861328\" xlink:href=\"#DejaVuSans-1076\"/>\r\n      <use x=\"727.001953\" xlink:href=\"#DejaVuSans-1077\"/>\r\n      <use x=\"788.525391\" xlink:href=\"#DejaVuSans-1088\"/>\r\n      <use x=\"852.001953\" xlink:href=\"#DejaVuSans-1078\"/>\r\n      <use x=\"942.089844\" xlink:href=\"#DejaVuSans-1082\"/>\r\n      <use x=\"1002.490234\" xlink:href=\"#DejaVuSans-1080\"/>\r\n     </g>\r\n    </g>\r\n   </g>\r\n   <g id=\"matplotlib.axis_2\">\r\n    <g id=\"ytick_1\">\r\n     <g id=\"line2d_8\">\r\n      <defs>\r\n       <path d=\"M 0 0 \r\nL -3.5 0 \r\n\" id=\"mb0a52ad621\" style=\"stroke:#000000;stroke-width:0.8;\"/>\r\n      </defs>\r\n      <g>\r\n       <use style=\"stroke:#000000;stroke-width:0.8;\" x=\"59.860938\" xlink:href=\"#mb0a52ad621\" y=\"230.078864\"/>\r\n      </g>\r\n     </g>\r\n     <g id=\"text_9\">\r\n      <!-- 0 -->\r\n      <g transform=\"translate(46.498438 233.878082)scale(0.1 -0.1)\">\r\n       <use xlink:href=\"#DejaVuSans-48\"/>\r\n      </g>\r\n     </g>\r\n    </g>\r\n    <g id=\"ytick_2\">\r\n     <g id=\"line2d_9\">\r\n      <g>\r\n       <use style=\"stroke:#000000;stroke-width:0.8;\" x=\"59.860938\" xlink:href=\"#mb0a52ad621\" y=\"204.975971\"/>\r\n      </g>\r\n     </g>\r\n     <g id=\"text_10\">\r\n      <!-- 2000 -->\r\n      <g transform=\"translate(27.410938 208.77519)scale(0.1 -0.1)\">\r\n       <use xlink:href=\"#DejaVuSans-50\"/>\r\n       <use x=\"63.623047\" xlink:href=\"#DejaVuSans-48\"/>\r\n       <use x=\"127.246094\" xlink:href=\"#DejaVuSans-48\"/>\r\n       <use x=\"190.869141\" xlink:href=\"#DejaVuSans-48\"/>\r\n      </g>\r\n     </g>\r\n    </g>\r\n    <g id=\"ytick_3\">\r\n     <g id=\"line2d_10\">\r\n      <g>\r\n       <use style=\"stroke:#000000;stroke-width:0.8;\" x=\"59.860938\" xlink:href=\"#mb0a52ad621\" y=\"179.873079\"/>\r\n      </g>\r\n     </g>\r\n     <g id=\"text_11\">\r\n      <!-- 4000 -->\r\n      <g transform=\"translate(27.410938 183.672297)scale(0.1 -0.1)\">\r\n       <use xlink:href=\"#DejaVuSans-52\"/>\r\n       <use x=\"63.623047\" xlink:href=\"#DejaVuSans-48\"/>\r\n       <use x=\"127.246094\" xlink:href=\"#DejaVuSans-48\"/>\r\n       <use x=\"190.869141\" xlink:href=\"#DejaVuSans-48\"/>\r\n      </g>\r\n     </g>\r\n    </g>\r\n    <g id=\"ytick_4\">\r\n     <g id=\"line2d_11\">\r\n      <g>\r\n       <use style=\"stroke:#000000;stroke-width:0.8;\" x=\"59.860938\" xlink:href=\"#mb0a52ad621\" y=\"154.770186\"/>\r\n      </g>\r\n     </g>\r\n     <g id=\"text_12\">\r\n      <!-- 6000 -->\r\n      <g transform=\"translate(27.410938 158.569405)scale(0.1 -0.1)\">\r\n       <use xlink:href=\"#DejaVuSans-54\"/>\r\n       <use x=\"63.623047\" xlink:href=\"#DejaVuSans-48\"/>\r\n       <use x=\"127.246094\" xlink:href=\"#DejaVuSans-48\"/>\r\n       <use x=\"190.869141\" xlink:href=\"#DejaVuSans-48\"/>\r\n      </g>\r\n     </g>\r\n    </g>\r\n    <g id=\"ytick_5\">\r\n     <g id=\"line2d_12\">\r\n      <g>\r\n       <use style=\"stroke:#000000;stroke-width:0.8;\" x=\"59.860938\" xlink:href=\"#mb0a52ad621\" y=\"129.667293\"/>\r\n      </g>\r\n     </g>\r\n     <g id=\"text_13\">\r\n      <!-- 8000 -->\r\n      <g transform=\"translate(27.410938 133.466512)scale(0.1 -0.1)\">\r\n       <defs>\r\n        <path d=\"M 31.78125 34.625 \r\nQ 24.75 34.625 20.71875 30.859375 \r\nQ 16.703125 27.09375 16.703125 20.515625 \r\nQ 16.703125 13.921875 20.71875 10.15625 \r\nQ 24.75 6.390625 31.78125 6.390625 \r\nQ 38.8125 6.390625 42.859375 10.171875 \r\nQ 46.921875 13.96875 46.921875 20.515625 \r\nQ 46.921875 27.09375 42.890625 30.859375 \r\nQ 38.875 34.625 31.78125 34.625 \r\nz\r\nM 21.921875 38.8125 \r\nQ 15.578125 40.375 12.03125 44.71875 \r\nQ 8.5 49.078125 8.5 55.328125 \r\nQ 8.5 64.0625 14.71875 69.140625 \r\nQ 20.953125 74.21875 31.78125 74.21875 \r\nQ 42.671875 74.21875 48.875 69.140625 \r\nQ 55.078125 64.0625 55.078125 55.328125 \r\nQ 55.078125 49.078125 51.53125 44.71875 \r\nQ 48 40.375 41.703125 38.8125 \r\nQ 48.828125 37.15625 52.796875 32.3125 \r\nQ 56.78125 27.484375 56.78125 20.515625 \r\nQ 56.78125 9.90625 50.3125 4.234375 \r\nQ 43.84375 -1.421875 31.78125 -1.421875 \r\nQ 19.734375 -1.421875 13.25 4.234375 \r\nQ 6.78125 9.90625 6.78125 20.515625 \r\nQ 6.78125 27.484375 10.78125 32.3125 \r\nQ 14.796875 37.15625 21.921875 38.8125 \r\nz\r\nM 18.3125 54.390625 \r\nQ 18.3125 48.734375 21.84375 45.5625 \r\nQ 25.390625 42.390625 31.78125 42.390625 \r\nQ 38.140625 42.390625 41.71875 45.5625 \r\nQ 45.3125 48.734375 45.3125 54.390625 \r\nQ 45.3125 60.0625 41.71875 63.234375 \r\nQ 38.140625 66.40625 31.78125 66.40625 \r\nQ 25.390625 66.40625 21.84375 63.234375 \r\nQ 18.3125 60.0625 18.3125 54.390625 \r\nz\r\n\" id=\"DejaVuSans-56\"/>\r\n       </defs>\r\n       <use xlink:href=\"#DejaVuSans-56\"/>\r\n       <use x=\"63.623047\" xlink:href=\"#DejaVuSans-48\"/>\r\n       <use x=\"127.246094\" xlink:href=\"#DejaVuSans-48\"/>\r\n       <use x=\"190.869141\" xlink:href=\"#DejaVuSans-48\"/>\r\n      </g>\r\n     </g>\r\n    </g>\r\n    <g id=\"ytick_6\">\r\n     <g id=\"line2d_13\">\r\n      <g>\r\n       <use style=\"stroke:#000000;stroke-width:0.8;\" x=\"59.860938\" xlink:href=\"#mb0a52ad621\" y=\"104.564401\"/>\r\n      </g>\r\n     </g>\r\n     <g id=\"text_14\">\r\n      <!-- 10000 -->\r\n      <g transform=\"translate(21.048438 108.36362)scale(0.1 -0.1)\">\r\n       <use xlink:href=\"#DejaVuSans-49\"/>\r\n       <use x=\"63.623047\" xlink:href=\"#DejaVuSans-48\"/>\r\n       <use x=\"127.246094\" xlink:href=\"#DejaVuSans-48\"/>\r\n       <use x=\"190.869141\" xlink:href=\"#DejaVuSans-48\"/>\r\n       <use x=\"254.492188\" xlink:href=\"#DejaVuSans-48\"/>\r\n      </g>\r\n     </g>\r\n    </g>\r\n    <g id=\"ytick_7\">\r\n     <g id=\"line2d_14\">\r\n      <g>\r\n       <use style=\"stroke:#000000;stroke-width:0.8;\" x=\"59.860938\" xlink:href=\"#mb0a52ad621\" y=\"79.461508\"/>\r\n      </g>\r\n     </g>\r\n     <g id=\"text_15\">\r\n      <!-- 12000 -->\r\n      <g transform=\"translate(21.048438 83.260727)scale(0.1 -0.1)\">\r\n       <use xlink:href=\"#DejaVuSans-49\"/>\r\n       <use x=\"63.623047\" xlink:href=\"#DejaVuSans-50\"/>\r\n       <use x=\"127.246094\" xlink:href=\"#DejaVuSans-48\"/>\r\n       <use x=\"190.869141\" xlink:href=\"#DejaVuSans-48\"/>\r\n       <use x=\"254.492188\" xlink:href=\"#DejaVuSans-48\"/>\r\n      </g>\r\n     </g>\r\n    </g>\r\n    <g id=\"ytick_8\">\r\n     <g id=\"line2d_15\">\r\n      <g>\r\n       <use style=\"stroke:#000000;stroke-width:0.8;\" x=\"59.860938\" xlink:href=\"#mb0a52ad621\" y=\"54.358616\"/>\r\n      </g>\r\n     </g>\r\n     <g id=\"text_16\">\r\n      <!-- 14000 -->\r\n      <g transform=\"translate(21.048438 58.157835)scale(0.1 -0.1)\">\r\n       <use xlink:href=\"#DejaVuSans-49\"/>\r\n       <use x=\"63.623047\" xlink:href=\"#DejaVuSans-52\"/>\r\n       <use x=\"127.246094\" xlink:href=\"#DejaVuSans-48\"/>\r\n       <use x=\"190.869141\" xlink:href=\"#DejaVuSans-48\"/>\r\n       <use x=\"254.492188\" xlink:href=\"#DejaVuSans-48\"/>\r\n      </g>\r\n     </g>\r\n    </g>\r\n    <g id=\"ytick_9\">\r\n     <g id=\"line2d_16\">\r\n      <g>\r\n       <use style=\"stroke:#000000;stroke-width:0.8;\" x=\"59.860938\" xlink:href=\"#mb0a52ad621\" y=\"29.255723\"/>\r\n      </g>\r\n     </g>\r\n     <g id=\"text_17\">\r\n      <!-- 16000 -->\r\n      <g transform=\"translate(21.048438 33.054942)scale(0.1 -0.1)\">\r\n       <use xlink:href=\"#DejaVuSans-49\"/>\r\n       <use x=\"63.623047\" xlink:href=\"#DejaVuSans-54\"/>\r\n       <use x=\"127.246094\" xlink:href=\"#DejaVuSans-48\"/>\r\n       <use x=\"190.869141\" xlink:href=\"#DejaVuSans-48\"/>\r\n       <use x=\"254.492188\" xlink:href=\"#DejaVuSans-48\"/>\r\n      </g>\r\n     </g>\r\n    </g>\r\n    <g id=\"text_18\">\r\n     <!-- Количество наборов -->\r\n     <g transform=\"translate(14.96875 185.240937)rotate(-90)scale(0.1 -0.1)\">\r\n      <defs>\r\n       <path d=\"M 9.8125 72.90625 \r\nL 19.671875 72.90625 \r\nL 19.671875 36.859375 \r\nL 54.9375 72.90625 \r\nL 67.578125 72.90625 \r\nL 39.40625 44.09375 \r\nL 69.046875 0 \r\nL 58.296875 0 \r\nL 33.015625 37.546875 \r\nL 19.671875 23.921875 \r\nL 19.671875 0 \r\nL 9.8125 0 \r\nz\r\n\" id=\"DejaVuSans-1050\"/>\r\n       <path d=\"M 3.71875 0 \r\nL 3.71875 7.46875 \r\nQ 12.59375 8.84375 15.328125 14.984375 \r\nQ 18.65625 23.640625 18.65625 45.75 \r\nL 18.65625 54.6875 \r\nL 55.609375 54.6875 \r\nL 55.609375 0 \r\nL 46.625 0 \r\nL 46.625 47.515625 \r\nL 27.640625 47.515625 \r\nL 27.640625 42.09375 \r\nQ 27.640625 21 23.34375 11.53125 \r\nQ 18.75 1.421875 3.71875 0 \r\nz\r\n\" id=\"DejaVuSans-1083\"/>\r\n       <path d=\"M 41.015625 0 \r\nL 41.015625 23 \r\nL 24.265625 23 \r\nQ 16.796875 23 11.8125 27.640625 \r\nQ 7.328125 31.84375 7.328125 40.828125 \r\nL 7.328125 54.6875 \r\nL 16.3125 54.6875 \r\nL 16.3125 41.65625 \r\nQ 16.3125 35.9375 18.84375 33.0625 \r\nQ 21.4375 30.171875 26.515625 30.171875 \r\nL 41.015625 30.171875 \r\nL 41.015625 54.6875 \r\nL 50 54.6875 \r\nL 50 0 \r\nz\r\n\" id=\"DejaVuSans-1095\"/>\r\n       <path d=\"M 48.78125 52.59375 \r\nL 48.78125 44.1875 \r\nQ 44.96875 46.296875 41.140625 47.34375 \r\nQ 37.3125 48.390625 33.40625 48.390625 \r\nQ 24.65625 48.390625 19.8125 42.84375 \r\nQ 14.984375 37.3125 14.984375 27.296875 \r\nQ 14.984375 17.28125 19.8125 11.734375 \r\nQ 24.65625 6.203125 33.40625 6.203125 \r\nQ 37.3125 6.203125 41.140625 7.25 \r\nQ 44.96875 8.296875 48.78125 10.40625 \r\nL 48.78125 2.09375 \r\nQ 45.015625 0.34375 40.984375 -0.53125 \r\nQ 36.96875 -1.421875 32.421875 -1.421875 \r\nQ 20.0625 -1.421875 12.78125 6.34375 \r\nQ 5.515625 14.109375 5.515625 27.296875 \r\nQ 5.515625 40.671875 12.859375 48.328125 \r\nQ 20.21875 56 33.015625 56 \r\nQ 37.15625 56 41.109375 55.140625 \r\nQ 45.0625 54.296875 48.78125 52.59375 \r\nz\r\n\" id=\"DejaVuSans-1089\"/>\r\n       <path d=\"M 2.9375 54.6875 \r\nL 55.328125 54.6875 \r\nL 55.328125 47.515625 \r\nL 33.546875 47.515625 \r\nL 33.546875 0 \r\nL 24.703125 0 \r\nL 24.703125 47.515625 \r\nL 2.9375 47.515625 \r\nz\r\n\" id=\"DejaVuSans-1090\"/>\r\n       <path d=\"M 34.28125 27.484375 \r\nQ 23.390625 27.484375 19.1875 25 \r\nQ 14.984375 22.515625 14.984375 16.5 \r\nQ 14.984375 11.71875 18.140625 8.90625 \r\nQ 21.296875 6.109375 26.703125 6.109375 \r\nQ 34.1875 6.109375 38.703125 11.40625 \r\nQ 43.21875 16.703125 43.21875 25.484375 \r\nL 43.21875 27.484375 \r\nz\r\nM 52.203125 31.203125 \r\nL 52.203125 0 \r\nL 43.21875 0 \r\nL 43.21875 8.296875 \r\nQ 40.140625 3.328125 35.546875 0.953125 \r\nQ 30.953125 -1.421875 24.3125 -1.421875 \r\nQ 15.921875 -1.421875 10.953125 3.296875 \r\nQ 6 8.015625 6 15.921875 \r\nQ 6 25.140625 12.171875 29.828125 \r\nQ 18.359375 34.515625 30.609375 34.515625 \r\nL 43.21875 34.515625 \r\nL 43.21875 35.40625 \r\nQ 43.21875 41.609375 39.140625 45 \r\nQ 35.0625 48.390625 27.6875 48.390625 \r\nQ 23 48.390625 18.546875 47.265625 \r\nQ 14.109375 46.140625 10.015625 43.890625 \r\nL 10.015625 52.203125 \r\nQ 14.9375 54.109375 19.578125 55.046875 \r\nQ 24.21875 56 28.609375 56 \r\nQ 40.484375 56 46.34375 49.84375 \r\nQ 52.203125 43.703125 52.203125 31.203125 \r\nz\r\n\" id=\"DejaVuSans-1072\"/>\r\n       <path d=\"M 31.109375 56 \r\nQ 42.828125 56 49.515625 48.375 \r\nQ 56.203125 40.765625 56.203125 27.296875 \r\nQ 56.203125 13.875 49.515625 6.21875 \r\nQ 42.828125 -1.421875 31.109375 -1.421875 \r\nQ 19.34375 -1.421875 12.84375 6 \r\nQ 6.34375 13.421875 6 27.296875 \r\nL 5.71875 38.484375 \r\nQ 5.46875 44.28125 5.46875 46.296875 \r\nQ 5.46875 54.109375 8.296875 59.859375 \r\nQ 12.75 68.890625 20.4375 72.796875 \r\nQ 28.125 76.703125 41.015625 76.8125 \r\nQ 46.96875 76.859375 49.609375 77.6875 \r\nL 52.09375 70.5625 \r\nQ 49.703125 69.578125 47.515625 69.53125 \r\nL 35.296875 68.703125 \r\nQ 29.15625 68.265625 25.4375 66.109375 \r\nQ 15.71875 60.40625 14.796875 52.9375 \r\nL 14.453125 50.203125 \r\nQ 20.796875 56 31.109375 56 \r\nz\r\nM 31.109375 48.390625 \r\nQ 23.875 48.390625 19.671875 42.75 \r\nQ 15.484375 37.109375 15.484375 27.296875 \r\nQ 15.484375 17.484375 19.65625 11.84375 \r\nQ 23.828125 6.203125 31.109375 6.203125 \r\nQ 38.28125 6.203125 42.484375 11.859375 \r\nQ 46.6875 17.53125 46.6875 27.296875 \r\nQ 46.6875 37.015625 42.484375 42.703125 \r\nQ 38.28125 48.390625 31.109375 48.390625 \r\nz\r\n\" id=\"DejaVuSans-1073\"/>\r\n      </defs>\r\n      <use xlink:href=\"#DejaVuSans-1050\"/>\r\n      <use x=\"70.996094\" xlink:href=\"#DejaVuSans-1086\"/>\r\n      <use x=\"132.177734\" xlink:href=\"#DejaVuSans-1083\"/>\r\n      <use x=\"196.09375\" xlink:href=\"#DejaVuSans-1080\"/>\r\n      <use x=\"261.083984\" xlink:href=\"#DejaVuSans-1095\"/>\r\n      <use x=\"320.166016\" xlink:href=\"#DejaVuSans-1077\"/>\r\n      <use x=\"381.689453\" xlink:href=\"#DejaVuSans-1089\"/>\r\n      <use x=\"436.669922\" xlink:href=\"#DejaVuSans-1090\"/>\r\n      <use x=\"494.921875\" xlink:href=\"#DejaVuSans-1074\"/>\r\n      <use x=\"553.857422\" xlink:href=\"#DejaVuSans-1086\"/>\r\n      <use x=\"615.039062\" xlink:href=\"#DejaVuSans-32\"/>\r\n      <use x=\"646.826172\" xlink:href=\"#DejaVuSans-1085\"/>\r\n      <use x=\"712.207031\" xlink:href=\"#DejaVuSans-1072\"/>\r\n      <use x=\"773.486328\" xlink:href=\"#DejaVuSans-1073\"/>\r\n      <use x=\"835.15625\" xlink:href=\"#DejaVuSans-1086\"/>\r\n      <use x=\"896.337891\" xlink:href=\"#DejaVuSans-1088\"/>\r\n      <use x=\"959.814453\" xlink:href=\"#DejaVuSans-1086\"/>\r\n      <use x=\"1020.996094\" xlink:href=\"#DejaVuSans-1074\"/>\r\n     </g>\r\n    </g>\r\n   </g>\r\n   <g id=\"line2d_17\">\r\n    <path clip-path=\"url(#peb2b8aab8c)\" d=\"M 75.079119 32.406136 \r\nL 79.490187 98.514604 \r\nL 83.901254 169.882127 \r\nL 88.312321 207.034408 \r\nL 92.723388 212.180501 \r\nL 97.134455 212.43153 \r\nL 101.545522 212.720213 \r\nL 105.95659 214.377004 \r\nL 110.367657 217.477212 \r\nL 114.778724 220.451904 \r\nL 119.189791 223.10026 \r\nL 123.600858 226.451496 \r\nL 128.011926 228.321661 \r\nL 132.422993 229.011991 \r\nL 136.83406 229.124954 \r\nL 141.245127 229.137505 \r\nL 145.656194 229.137505 \r\nL 150.067262 229.137505 \r\nL 154.478329 229.137505 \r\nL 158.889396 229.137505 \r\nL 163.300463 229.137505 \r\nL 167.71153 229.137505 \r\nL 172.122598 229.137505 \r\nL 176.533665 229.17516 \r\nL 180.944732 229.300674 \r\nL 185.355799 229.426188 \r\nL 189.766866 229.514049 \r\nL 194.177934 229.576806 \r\nL 198.589001 229.589357 \r\nL 203.000068 229.601909 \r\nL 207.411135 229.627012 \r\nL 211.822202 229.652114 \r\nL 216.23327 229.727423 \r\nL 220.644337 229.890592 \r\nL 225.055404 229.978452 \r\nL 229.466471 230.053761 \r\nL 233.877538 230.053761 \r\nL 238.288605 230.053761 \r\nL 242.699673 230.066312 \r\nL 247.11074 230.066312 \r\nL 251.521807 230.066312 \r\nL 255.932874 230.066312 \r\nL 260.343941 230.066312 \r\nL 264.755009 230.066312 \r\nL 269.166076 230.066312 \r\nL 273.577143 230.066312 \r\nL 277.98821 230.066312 \r\nL 282.399277 230.066312 \r\nL 286.810345 230.066312 \r\nL 291.221412 230.066312 \r\nL 295.632479 230.066312 \r\nL 300.043546 230.066312 \r\nL 304.454613 230.066312 \r\nL 308.865681 230.066312 \r\nL 313.276748 230.066312 \r\nL 317.687815 230.066312 \r\nL 322.098882 230.066312 \r\nL 326.509949 230.066312 \r\nL 330.921017 230.066312 \r\nL 335.332084 230.066312 \r\nL 339.743151 230.066312 \r\nL 344.154218 230.066312 \r\nL 348.565285 230.066312 \r\nL 352.976353 230.066312 \r\nL 357.38742 230.066312 \r\nL 361.798487 230.066312 \r\nL 366.209554 230.066312 \r\nL 370.620621 230.066312 \r\nL 375.031688 230.066312 \r\n\" style=\"fill:none;stroke:#1f77b4;stroke-linecap:square;stroke-width:1.5;\"/>\r\n   </g>\r\n   <g id=\"patch_3\">\r\n    <path d=\"M 59.860938 239.9625 \r\nL 59.860938 22.5225 \r\n\" style=\"fill:none;stroke:#000000;stroke-linecap:square;stroke-linejoin:miter;stroke-width:0.8;\"/>\r\n   </g>\r\n   <g id=\"patch_4\">\r\n    <path d=\"M 394.660937 239.9625 \r\nL 394.660937 22.5225 \r\n\" style=\"fill:none;stroke:#000000;stroke-linecap:square;stroke-linejoin:miter;stroke-width:0.8;\"/>\r\n   </g>\r\n   <g id=\"patch_5\">\r\n    <path d=\"M 59.860938 239.9625 \r\nL 394.660937 239.9625 \r\n\" style=\"fill:none;stroke:#000000;stroke-linecap:square;stroke-linejoin:miter;stroke-width:0.8;\"/>\r\n   </g>\r\n   <g id=\"patch_6\">\r\n    <path d=\"M 59.860938 22.5225 \r\nL 394.660937 22.5225 \r\n\" style=\"fill:none;stroke:#000000;stroke-linecap:square;stroke-linejoin:miter;stroke-width:0.8;\"/>\r\n   </g>\r\n   <g id=\"text_19\">\r\n    <!-- 4 -->\r\n    <g transform=\"translate(92.723388 205.904778)scale(0.1 -0.1)\">\r\n     <use xlink:href=\"#DejaVuSans-52\"/>\r\n    </g>\r\n   </g>\r\n   <g id=\"text_20\">\r\n    <!-- 3 -->\r\n    <g transform=\"translate(128.011926 222.045938)scale(0.1 -0.1)\">\r\n     <use xlink:href=\"#DejaVuSans-51\"/>\r\n    </g>\r\n   </g>\r\n   <g id=\"text_21\">\r\n    <!-- 2 -->\r\n    <g transform=\"translate(203.000068 223.326186)scale(0.1 -0.1)\">\r\n     <use xlink:href=\"#DejaVuSans-50\"/>\r\n    </g>\r\n   </g>\r\n   <g id=\"text_22\">\r\n    <!-- 1 -->\r\n    <g transform=\"translate(379.442756 223.803141)scale(0.1 -0.1)\">\r\n     <use xlink:href=\"#DejaVuSans-49\"/>\r\n    </g>\r\n   </g>\r\n   <g id=\"text_23\">\r\n    <!-- Зависимость количества наборов от уровня поддержки -->\r\n    <g transform=\"translate(49.194063 16.5225)scale(0.12 -0.12)\">\r\n     <defs>\r\n      <path d=\"M 28.5625 74.21875 \r\nQ 40.578125 74.21875 48.1875 69.109375 \r\nQ 55.8125 64.015625 55.8125 55.328125 \r\nQ 55.8125 49.265625 52.34375 45.09375 \r\nQ 48.875 40.921875 42.484375 39.3125 \r\nQ 49.5625 37.796875 53.53125 33 \r\nQ 57.515625 28.21875 57.515625 21.1875 \r\nQ 57.515625 9.96875 48.84375 4.265625 \r\nQ 40.1875 -1.421875 28.5625 -1.421875 \r\nQ 22.609375 -1.421875 15.671875 0.1875 \r\nQ 8.734375 1.8125 6.59375 3.171875 \r\nL 6.59375 13.328125 \r\nQ 14.0625 8.984375 18.1875 7.9375 \r\nQ 22.3125 6.890625 28.375 6.890625 \r\nQ 37.546875 6.890625 42.625 10.40625 \r\nQ 47.703125 13.921875 47.703125 21.1875 \r\nQ 47.703125 27.640625 43.1875 31.265625 \r\nQ 38.671875 34.90625 29.15625 34.90625 \r\nL 19.1875 34.90625 \r\nL 19.1875 43.015625 \r\nL 29.546875 43.015625 \r\nQ 38.28125 43.015625 42.140625 45.921875 \r\nQ 46 48.828125 46 54.296875 \r\nQ 46 59.90625 42.015625 62.90625 \r\nQ 38.03125 65.921875 28.375 65.921875 \r\nQ 21.828125 65.921875 19.578125 65.328125 \r\nQ 17.328125 64.75 7.328125 60.984375 \r\nL 7.328125 70.609375 \r\nQ 12.84375 72.5625 18.59375 73.390625 \r\nQ 24.359375 74.21875 28.5625 74.21875 \r\nz\r\n\" id=\"DejaVuSans-1047\"/>\r\n      <path d=\"M 9.078125 54.6875 \r\nL 22.21875 54.6875 \r\nL 37.75 18.0625 \r\nL 53.328125 54.6875 \r\nL 66.359375 54.6875 \r\nL 66.359375 0 \r\nL 57.328125 0 \r\nL 57.328125 46.09375 \r\nL 42.234375 10.5 \r\nL 33.25 10.5 \r\nL 18.109375 46.09375 \r\nL 18.109375 0 \r\nL 9.078125 0 \r\nz\r\n\" id=\"DejaVuSans-1084\"/>\r\n      <path d=\"M 32.171875 -5.078125 \r\nQ 28.375 -14.84375 24.75 -17.8125 \r\nQ 21.140625 -20.796875 15.09375 -20.796875 \r\nL 7.90625 -20.796875 \r\nL 7.90625 -13.28125 \r\nL 13.1875 -13.28125 \r\nQ 16.890625 -13.28125 18.9375 -11.515625 \r\nQ 21 -9.765625 23.484375 -3.21875 \r\nL 25.09375 0.875 \r\nL 2.984375 54.6875 \r\nL 12.5 54.6875 \r\nL 29.59375 11.921875 \r\nL 46.6875 54.6875 \r\nL 56.203125 54.6875 \r\nz\r\n\" id=\"DejaVuSans-1091\"/>\r\n      <path d=\"M 18.453125 38.921875 \r\nQ 18.453125 34.859375 21.578125 32.5625 \r\nQ 24.703125 30.28125 30.515625 30.28125 \r\nL 42.625 30.28125 \r\nL 42.625 47.515625 \r\nL 30.515625 47.515625 \r\nQ 24.703125 47.515625 21.578125 45.265625 \r\nQ 18.453125 43.015625 18.453125 38.921875 \r\nz\r\nM 5.671875 0 \r\nL 22.359375 23.96875 \r\nQ 16.703125 25.25 12.9375 28.59375 \r\nQ 9.1875 31.9375 9.1875 38.921875 \r\nQ 9.1875 46.828125 14.421875 50.75 \r\nQ 19.671875 54.6875 30.28125 54.6875 \r\nL 51.65625 54.6875 \r\nL 51.65625 0 \r\nL 42.625 0 \r\nL 42.625 23.09375 \r\nL 31.453125 23.09375 \r\nL 15.328125 0 \r\nz\r\n\" id=\"DejaVuSans-1103\"/>\r\n     </defs>\r\n     <use xlink:href=\"#DejaVuSans-1047\"/>\r\n     <use x=\"64.111328\" xlink:href=\"#DejaVuSans-1072\"/>\r\n     <use x=\"125.390625\" xlink:href=\"#DejaVuSans-1074\"/>\r\n     <use x=\"184.326172\" xlink:href=\"#DejaVuSans-1080\"/>\r\n     <use x=\"249.316406\" xlink:href=\"#DejaVuSans-1089\"/>\r\n     <use x=\"304.296875\" xlink:href=\"#DejaVuSans-1080\"/>\r\n     <use x=\"369.287109\" xlink:href=\"#DejaVuSans-1084\"/>\r\n     <use x=\"444.726562\" xlink:href=\"#DejaVuSans-1086\"/>\r\n     <use x=\"505.908203\" xlink:href=\"#DejaVuSans-1089\"/>\r\n     <use x=\"560.888672\" xlink:href=\"#DejaVuSans-1090\"/>\r\n     <use x=\"619.140625\" xlink:href=\"#DejaVuSans-1100\"/>\r\n     <use x=\"678.076172\" xlink:href=\"#DejaVuSans-32\"/>\r\n     <use x=\"709.863281\" xlink:href=\"#DejaVuSans-1082\"/>\r\n     <use x=\"770.263672\" xlink:href=\"#DejaVuSans-1086\"/>\r\n     <use x=\"831.445312\" xlink:href=\"#DejaVuSans-1083\"/>\r\n     <use x=\"895.361328\" xlink:href=\"#DejaVuSans-1080\"/>\r\n     <use x=\"960.351562\" xlink:href=\"#DejaVuSans-1095\"/>\r\n     <use x=\"1019.433594\" xlink:href=\"#DejaVuSans-1077\"/>\r\n     <use x=\"1080.957031\" xlink:href=\"#DejaVuSans-1089\"/>\r\n     <use x=\"1135.9375\" xlink:href=\"#DejaVuSans-1090\"/>\r\n     <use x=\"1194.189453\" xlink:href=\"#DejaVuSans-1074\"/>\r\n     <use x=\"1253.125\" xlink:href=\"#DejaVuSans-1072\"/>\r\n     <use x=\"1314.404297\" xlink:href=\"#DejaVuSans-32\"/>\r\n     <use x=\"1346.191406\" xlink:href=\"#DejaVuSans-1085\"/>\r\n     <use x=\"1411.572266\" xlink:href=\"#DejaVuSans-1072\"/>\r\n     <use x=\"1472.851562\" xlink:href=\"#DejaVuSans-1073\"/>\r\n     <use x=\"1534.521484\" xlink:href=\"#DejaVuSans-1086\"/>\r\n     <use x=\"1595.703125\" xlink:href=\"#DejaVuSans-1088\"/>\r\n     <use x=\"1659.179688\" xlink:href=\"#DejaVuSans-1086\"/>\r\n     <use x=\"1720.361328\" xlink:href=\"#DejaVuSans-1074\"/>\r\n     <use x=\"1779.296875\" xlink:href=\"#DejaVuSans-32\"/>\r\n     <use x=\"1811.083984\" xlink:href=\"#DejaVuSans-1086\"/>\r\n     <use x=\"1872.265625\" xlink:href=\"#DejaVuSans-1090\"/>\r\n     <use x=\"1930.517578\" xlink:href=\"#DejaVuSans-32\"/>\r\n     <use x=\"1962.304688\" xlink:href=\"#DejaVuSans-1091\"/>\r\n     <use x=\"2021.484375\" xlink:href=\"#DejaVuSans-1088\"/>\r\n     <use x=\"2084.960938\" xlink:href=\"#DejaVuSans-1086\"/>\r\n     <use x=\"2146.142578\" xlink:href=\"#DejaVuSans-1074\"/>\r\n     <use x=\"2205.078125\" xlink:href=\"#DejaVuSans-1085\"/>\r\n     <use x=\"2270.458984\" xlink:href=\"#DejaVuSans-1103\"/>\r\n     <use x=\"2330.615234\" xlink:href=\"#DejaVuSans-32\"/>\r\n     <use x=\"2362.402344\" xlink:href=\"#DejaVuSans-1087\"/>\r\n     <use x=\"2427.783203\" xlink:href=\"#DejaVuSans-1086\"/>\r\n     <use x=\"2488.964844\" xlink:href=\"#DejaVuSans-1076\"/>\r\n     <use x=\"2558.105469\" xlink:href=\"#DejaVuSans-1076\"/>\r\n     <use x=\"2627.246094\" xlink:href=\"#DejaVuSans-1077\"/>\r\n     <use x=\"2688.769531\" xlink:href=\"#DejaVuSans-1088\"/>\r\n     <use x=\"2752.246094\" xlink:href=\"#DejaVuSans-1078\"/>\r\n     <use x=\"2842.333984\" xlink:href=\"#DejaVuSans-1082\"/>\r\n     <use x=\"2902.734375\" xlink:href=\"#DejaVuSans-1080\"/>\r\n    </g>\r\n   </g>\r\n  </g>\r\n </g>\r\n <defs>\r\n  <clipPath id=\"peb2b8aab8c\">\r\n   <rect height=\"217.44\" width=\"334.8\" x=\"59.860938\" y=\"22.5225\"/>\r\n  </clipPath>\r\n </defs>\r\n</svg>\r\n",
      "image/png": "[encoded data removed]"
     },
     "metadata": {
      "needs_background": "light"
     }
    }
   ],
   "source": [
    "min_supports = np.arange(0.05, 1, 0.01)\n",
    "items_set_count = np.array([])\n",
    "max_len = -1\n",
    "for min_support in min_supports:\n",
    "    results = apriori(df, min_support=min_support, use_colnames=True)\n",
    "    results['length'] = results['itemsets'].apply(lambda x: len(x))\n",
    "    max_len_curr = np.max(results['length'])\n",
    "    if (max_len == -1):\n",
    "        max_len = max_len_curr\n",
    "    if (max_len != max_len_curr):\n",
    "        plt.scatter(min_support, len(results), c='r')\n",
    "        plt.text(min_support, len(results) + 500, str(max_len))\n",
    "        max_len = max_len_curr\n",
    "    if (np.isnan(max_len_curr)):\n",
    "        break\n",
    "    items_set_count = np.append(items_set_count, len(results))\n",
    "\n",
    "plt.plot(min_supports[:len(items_set_count)], items_set_count)\n",
    "plt.title('Зависимость количества наборов от уровня поддержки')\n",
    "plt.xlabel('Уровень поддержки')\n",
    "plt.ylabel('Количество наборов')\n",
    "plt.show()\n"
   ]
  },
  {
   "source": [
    "5) Построен датасет только из тех элементов, которые попадают в наборы размером 1, при уровне поддержки 0.38."
   ],
   "cell_type": "markdown",
   "metadata": {}
  },
  {
   "cell_type": "code",
   "execution_count": 11,
   "metadata": {},
   "outputs": [
    {
     "output_type": "execute_result",
     "data": {
      "text/plain": [
       "     support                        itemsets\n",
       "0   0.384548                 (aluminum foil)\n",
       "1   0.385426                        (bagels)\n",
       "2   0.395961                       (cereals)\n",
       "3   0.390694                       (cheeses)\n",
       "4   0.388938                  (dinner rolls)\n",
       "5   0.388060  (dishwashing liquid/detergent)\n",
       "6   0.389816                          (eggs)\n",
       "7   0.398595                     (ice cream)\n",
       "8   0.395083                    (lunch meat)\n",
       "9   0.380158                          (milk)\n",
       "10  0.421422                       (poultry)\n",
       "11  0.390694                          (soda)\n",
       "12  0.739245                    (vegetables)\n",
       "13  0.394205                       (waffles)\n",
       "14  0.384548                        (yogurt)"
      ],
      "text/html": "<div>\n<style scoped>\n    .dataframe tbody tr th:only-of-type {\n        vertical-align: middle;\n    }\n\n    .dataframe tbody tr th {\n        vertical-align: top;\n    }\n\n    .dataframe thead th {\n        text-align: right;\n    }\n</style>\n<table border=\"1\" class=\"dataframe\">\n  <thead>\n    <tr style=\"text-align: right;\">\n      <th></th>\n      <th>support</th>\n      <th>itemsets</th>\n    </tr>\n  </thead>\n  <tbody>\n    <tr>\n      <th>0</th>\n      <td>0.384548</td>\n      <td>(aluminum foil)</td>\n    </tr>\n    <tr>\n      <th>1</th>\n      <td>0.385426</td>\n      <td>(bagels)</td>\n    </tr>\n    <tr>\n      <th>2</th>\n      <td>0.395961</td>\n      <td>(cereals)</td>\n    </tr>\n    <tr>\n      <th>3</th>\n      <td>0.390694</td>\n      <td>(cheeses)</td>\n    </tr>\n    <tr>\n      <th>4</th>\n      <td>0.388938</td>\n      <td>(dinner rolls)</td>\n    </tr>\n    <tr>\n      <th>5</th>\n      <td>0.388060</td>\n      <td>(dishwashing liquid/detergent)</td>\n    </tr>\n    <tr>\n      <th>6</th>\n      <td>0.389816</td>\n      <td>(eggs)</td>\n    </tr>\n    <tr>\n      <th>7</th>\n      <td>0.398595</td>\n      <td>(ice cream)</td>\n    </tr>\n    <tr>\n      <th>8</th>\n      <td>0.395083</td>\n      <td>(lunch meat)</td>\n    </tr>\n    <tr>\n      <th>9</th>\n      <td>0.380158</td>\n      <td>(milk)</td>\n    </tr>\n    <tr>\n      <th>10</th>\n      <td>0.421422</td>\n      <td>(poultry)</td>\n    </tr>\n    <tr>\n      <th>11</th>\n      <td>0.390694</td>\n      <td>(soda)</td>\n    </tr>\n    <tr>\n      <th>12</th>\n      <td>0.739245</td>\n      <td>(vegetables)</td>\n    </tr>\n    <tr>\n      <th>13</th>\n      <td>0.394205</td>\n      <td>(waffles)</td>\n    </tr>\n    <tr>\n      <th>14</th>\n      <td>0.384548</td>\n      <td>(yogurt)</td>\n    </tr>\n  </tbody>\n</table>\n</div>"
     },
     "metadata": {},
     "execution_count": 11
    }
   ],
   "source": [
    "results = apriori(df, min_support=0.38, use_colnames=True, max_len=1)\n",
    "new_items = [list(elem)[0] for elem in results['itemsets']]\n",
    "new_dataset = [[elem for elem in all_data[all_data.transaction_id == id].item if elem in new_items] for id in unique_id]\n",
    "results"
   ]
  },
  {
   "source": [
    "6) Полученный датасет приведен к необходимому для работы формату."
   ],
   "cell_type": "markdown",
   "metadata": {}
  },
  {
   "cell_type": "code",
   "execution_count": 12,
   "metadata": {},
   "outputs": [
    {
     "output_type": "execute_result",
     "data": {
      "text/plain": [
       "      aluminum foil  bagels  cereals  cheeses  dinner rolls  \\\n",
       "0              True   False    False    False          True   \n",
       "1              True   False     True     True         False   \n",
       "2             False    True     True     True          True   \n",
       "3             False   False     True    False         False   \n",
       "4             False   False    False    False          True   \n",
       "...             ...     ...      ...      ...           ...   \n",
       "1134          False   False     True     True          True   \n",
       "1135          False   False     True     True          True   \n",
       "1136          False    True    False    False          True   \n",
       "1137          False   False    False     True         False   \n",
       "1138          False   False    False    False         False   \n",
       "\n",
       "      dishwashing liquid/detergent   eggs  ice cream  lunch meat   milk  \\\n",
       "0                            False  False       True        True  False   \n",
       "1                             True  False      False       False   True   \n",
       "2                            False   True       True        True   True   \n",
       "3                            False  False      False        True  False   \n",
       "4                            False   True      False       False   True   \n",
       "...                            ...    ...        ...         ...    ...   \n",
       "1134                          True  False       True       False  False   \n",
       "1135                          True   True      False        True   True   \n",
       "1136                          True   True      False        True  False   \n",
       "1137                         False  False      False       False   True   \n",
       "1138                         False  False      False       False  False   \n",
       "\n",
       "      poultry   soda  vegetables  waffles  yogurt  \n",
       "0       False   True        True    False    True  \n",
       "1       False  False        True     True    True  \n",
       "2        True   True        True    False   False  \n",
       "3       False   True       False    False   False  \n",
       "4        True   True        True     True    True  \n",
       "...       ...    ...         ...      ...     ...  \n",
       "1134     True  False       False    False   False  \n",
       "1135     True  False        True    False   False  \n",
       "1136     True  False        True    False    True  \n",
       "1137     True   True        True     True    True  \n",
       "1138    False   True        True    False   False  \n",
       "\n",
       "[1139 rows x 15 columns]"
      ],
      "text/html": "<div>\n<style scoped>\n    .dataframe tbody tr th:only-of-type {\n        vertical-align: middle;\n    }\n\n    .dataframe tbody tr th {\n        vertical-align: top;\n    }\n\n    .dataframe thead th {\n        text-align: right;\n    }\n</style>\n<table border=\"1\" class=\"dataframe\">\n  <thead>\n    <tr style=\"text-align: right;\">\n      <th></th>\n      <th>aluminum foil</th>\n      <th>bagels</th>\n      <th>cereals</th>\n      <th>cheeses</th>\n      <th>dinner rolls</th>\n      <th>dishwashing liquid/detergent</th>\n      <th>eggs</th>\n      <th>ice cream</th>\n      <th>lunch meat</th>\n      <th>milk</th>\n      <th>poultry</th>\n      <th>soda</th>\n      <th>vegetables</th>\n      <th>waffles</th>\n      <th>yogurt</th>\n    </tr>\n  </thead>\n  <tbody>\n    <tr>\n      <th>0</th>\n      <td>True</td>\n      <td>False</td>\n      <td>False</td>\n      <td>False</td>\n      <td>True</td>\n      <td>False</td>\n      <td>False</td>\n      <td>True</td>\n      <td>True</td>\n      <td>False</td>\n      <td>False</td>\n      <td>True</td>\n      <td>True</td>\n      <td>False</td>\n      <td>True</td>\n    </tr>\n    <tr>\n      <th>1</th>\n      <td>True</td>\n      <td>False</td>\n      <td>True</td>\n      <td>True</td>\n      <td>False</td>\n      <td>True</td>\n      <td>False</td>\n      <td>False</td>\n      <td>False</td>\n      <td>True</td>\n      <td>False</td>\n      <td>False</td>\n      <td>True</td>\n      <td>True</td>\n      <td>True</td>\n    </tr>\n    <tr>\n      <th>2</th>\n      <td>False</td>\n      <td>True</td>\n      <td>True</td>\n      <td>True</td>\n      <td>True</td>\n      <td>False</td>\n      <td>True</td>\n      <td>True</td>\n      <td>True</td>\n      <td>True</td>\n      <td>True</td>\n      <td>True</td>\n      <td>True</td>\n      <td>False</td>\n      <td>False</td>\n    </tr>\n    <tr>\n      <th>3</th>\n      <td>False</td>\n      <td>False</td>\n      <td>True</td>\n      <td>False</td>\n      <td>False</td>\n      <td>False</td>\n      <td>False</td>\n      <td>False</td>\n      <td>True</td>\n      <td>False</td>\n      <td>False</td>\n      <td>True</td>\n      <td>False</td>\n      <td>False</td>\n      <td>False</td>\n    </tr>\n    <tr>\n      <th>4</th>\n      <td>False</td>\n      <td>False</td>\n      <td>False</td>\n      <td>False</td>\n      <td>True</td>\n      <td>False</td>\n      <td>True</td>\n      <td>False</td>\n      <td>False</td>\n      <td>True</td>\n      <td>True</td>\n      <td>True</td>\n      <td>True</td>\n      <td>True</td>\n      <td>True</td>\n    </tr>\n    <tr>\n      <th>...</th>\n      <td>...</td>\n      <td>...</td>\n      <td>...</td>\n      <td>...</td>\n      <td>...</td>\n      <td>...</td>\n      <td>...</td>\n      <td>...</td>\n      <td>...</td>\n      <td>...</td>\n      <td>...</td>\n      <td>...</td>\n      <td>...</td>\n      <td>...</td>\n      <td>...</td>\n    </tr>\n    <tr>\n      <th>1134</th>\n      <td>False</td>\n      <td>False</td>\n      <td>True</td>\n      <td>True</td>\n      <td>True</td>\n      <td>True</td>\n      <td>False</td>\n      <td>True</td>\n      <td>False</td>\n      <td>False</td>\n      <td>True</td>\n      <td>False</td>\n      <td>False</td>\n      <td>False</td>\n      <td>False</td>\n    </tr>\n    <tr>\n      <th>1135</th>\n      <td>False</td>\n      <td>False</td>\n      <td>True</td>\n      <td>True</td>\n      <td>True</td>\n      <td>True</td>\n      <td>True</td>\n      <td>False</td>\n      <td>True</td>\n      <td>True</td>\n      <td>True</td>\n      <td>False</td>\n      <td>True</td>\n      <td>False</td>\n      <td>False</td>\n    </tr>\n    <tr>\n      <th>1136</th>\n      <td>False</td>\n      <td>True</td>\n      <td>False</td>\n      <td>False</td>\n      <td>True</td>\n      <td>True</td>\n      <td>True</td>\n      <td>False</td>\n      <td>True</td>\n      <td>False</td>\n      <td>True</td>\n      <td>False</td>\n      <td>True</td>\n      <td>False</td>\n      <td>True</td>\n    </tr>\n    <tr>\n      <th>1137</th>\n      <td>False</td>\n      <td>False</td>\n      <td>False</td>\n      <td>True</td>\n      <td>False</td>\n      <td>False</td>\n      <td>False</td>\n      <td>False</td>\n      <td>False</td>\n      <td>True</td>\n      <td>True</td>\n      <td>True</td>\n      <td>True</td>\n      <td>True</td>\n      <td>True</td>\n    </tr>\n    <tr>\n      <th>1138</th>\n      <td>False</td>\n      <td>False</td>\n      <td>False</td>\n      <td>False</td>\n      <td>False</td>\n      <td>False</td>\n      <td>False</td>\n      <td>False</td>\n      <td>False</td>\n      <td>False</td>\n      <td>False</td>\n      <td>True</td>\n      <td>True</td>\n      <td>False</td>\n      <td>False</td>\n    </tr>\n  </tbody>\n</table>\n<p>1139 rows × 15 columns</p>\n</div>"
     },
     "metadata": {},
     "execution_count": 12
    }
   ],
   "source": [
    "te = TransactionEncoder()\n",
    "te_ary = te.fit_transform(new_dataset)\n",
    "new_df = pd.DataFrame(te_ary, columns=te.columns_)\n",
    "new_df"
   ]
  },
  {
   "source": [
    "7) Проведен ассоциативный анализ при уровне поддержки 0.3 для нового датасета. В результате отсутствуют продукты (и их наборы), чей уровень поддержки был меньше, чем 0.38. Результат данного ассоциативного анализа входит в результат анализа для исходного датасета."
   ],
   "cell_type": "markdown",
   "metadata": {}
  },
  {
   "cell_type": "code",
   "execution_count": 13,
   "metadata": {},
   "outputs": [
    {
     "output_type": "execute_result",
     "data": {
      "text/plain": [
       "     support                                    itemsets\n",
       "0   0.384548                             (aluminum foil)\n",
       "1   0.385426                                    (bagels)\n",
       "2   0.395961                                   (cereals)\n",
       "3   0.390694                                   (cheeses)\n",
       "4   0.388938                              (dinner rolls)\n",
       "5   0.388060              (dishwashing liquid/detergent)\n",
       "6   0.389816                                      (eggs)\n",
       "7   0.398595                                 (ice cream)\n",
       "8   0.395083                                (lunch meat)\n",
       "9   0.380158                                      (milk)\n",
       "10  0.421422                                   (poultry)\n",
       "11  0.390694                                      (soda)\n",
       "12  0.739245                                (vegetables)\n",
       "13  0.394205                                   (waffles)\n",
       "14  0.384548                                    (yogurt)\n",
       "15  0.310799                 (aluminum foil, vegetables)\n",
       "16  0.300263                        (bagels, vegetables)\n",
       "17  0.310799                       (cereals, vegetables)\n",
       "18  0.309043                       (cheeses, vegetables)\n",
       "19  0.308165                  (vegetables, dinner rolls)\n",
       "20  0.306409  (dishwashing liquid/detergent, vegetables)\n",
       "21  0.326602                          (eggs, vegetables)\n",
       "22  0.302897                     (ice cream, vegetables)\n",
       "23  0.311677                    (lunch meat, vegetables)\n",
       "24  0.331870                       (poultry, vegetables)\n",
       "25  0.305531                          (soda, vegetables)\n",
       "26  0.315189                       (waffles, vegetables)\n",
       "27  0.319579                        (yogurt, vegetables)"
      ],
      "text/html": "<div>\n<style scoped>\n    .dataframe tbody tr th:only-of-type {\n        vertical-align: middle;\n    }\n\n    .dataframe tbody tr th {\n        vertical-align: top;\n    }\n\n    .dataframe thead th {\n        text-align: right;\n    }\n</style>\n<table border=\"1\" class=\"dataframe\">\n  <thead>\n    <tr style=\"text-align: right;\">\n      <th></th>\n      <th>support</th>\n      <th>itemsets</th>\n    </tr>\n  </thead>\n  <tbody>\n    <tr>\n      <th>0</th>\n      <td>0.384548</td>\n      <td>(aluminum foil)</td>\n    </tr>\n    <tr>\n      <th>1</th>\n      <td>0.385426</td>\n      <td>(bagels)</td>\n    </tr>\n    <tr>\n      <th>2</th>\n      <td>0.395961</td>\n      <td>(cereals)</td>\n    </tr>\n    <tr>\n      <th>3</th>\n      <td>0.390694</td>\n      <td>(cheeses)</td>\n    </tr>\n    <tr>\n      <th>4</th>\n      <td>0.388938</td>\n      <td>(dinner rolls)</td>\n    </tr>\n    <tr>\n      <th>5</th>\n      <td>0.388060</td>\n      <td>(dishwashing liquid/detergent)</td>\n    </tr>\n    <tr>\n      <th>6</th>\n      <td>0.389816</td>\n      <td>(eggs)</td>\n    </tr>\n    <tr>\n      <th>7</th>\n      <td>0.398595</td>\n      <td>(ice cream)</td>\n    </tr>\n    <tr>\n      <th>8</th>\n      <td>0.395083</td>\n      <td>(lunch meat)</td>\n    </tr>\n    <tr>\n      <th>9</th>\n      <td>0.380158</td>\n      <td>(milk)</td>\n    </tr>\n    <tr>\n      <th>10</th>\n      <td>0.421422</td>\n      <td>(poultry)</td>\n    </tr>\n    <tr>\n      <th>11</th>\n      <td>0.390694</td>\n      <td>(soda)</td>\n    </tr>\n    <tr>\n      <th>12</th>\n      <td>0.739245</td>\n      <td>(vegetables)</td>\n    </tr>\n    <tr>\n      <th>13</th>\n      <td>0.394205</td>\n      <td>(waffles)</td>\n    </tr>\n    <tr>\n      <th>14</th>\n      <td>0.384548</td>\n      <td>(yogurt)</td>\n    </tr>\n    <tr>\n      <th>15</th>\n      <td>0.310799</td>\n      <td>(aluminum foil, vegetables)</td>\n    </tr>\n    <tr>\n      <th>16</th>\n      <td>0.300263</td>\n      <td>(bagels, vegetables)</td>\n    </tr>\n    <tr>\n      <th>17</th>\n      <td>0.310799</td>\n      <td>(cereals, vegetables)</td>\n    </tr>\n    <tr>\n      <th>18</th>\n      <td>0.309043</td>\n      <td>(cheeses, vegetables)</td>\n    </tr>\n    <tr>\n      <th>19</th>\n      <td>0.308165</td>\n      <td>(vegetables, dinner rolls)</td>\n    </tr>\n    <tr>\n      <th>20</th>\n      <td>0.306409</td>\n      <td>(dishwashing liquid/detergent, vegetables)</td>\n    </tr>\n    <tr>\n      <th>21</th>\n      <td>0.326602</td>\n      <td>(eggs, vegetables)</td>\n    </tr>\n    <tr>\n      <th>22</th>\n      <td>0.302897</td>\n      <td>(ice cream, vegetables)</td>\n    </tr>\n    <tr>\n      <th>23</th>\n      <td>0.311677</td>\n      <td>(lunch meat, vegetables)</td>\n    </tr>\n    <tr>\n      <th>24</th>\n      <td>0.331870</td>\n      <td>(poultry, vegetables)</td>\n    </tr>\n    <tr>\n      <th>25</th>\n      <td>0.305531</td>\n      <td>(soda, vegetables)</td>\n    </tr>\n    <tr>\n      <th>26</th>\n      <td>0.315189</td>\n      <td>(waffles, vegetables)</td>\n    </tr>\n    <tr>\n      <th>27</th>\n      <td>0.319579</td>\n      <td>(yogurt, vegetables)</td>\n    </tr>\n  </tbody>\n</table>\n</div>"
     },
     "metadata": {},
     "execution_count": 13
    }
   ],
   "source": [
    "results = apriori(new_df, min_support=0.3, use_colnames=True)\n",
    "results"
   ]
  },
  {
   "source": [
    "8) Проведен ассоциативный анализ при уровне поддержки 0.15 для нового датасета. Выведены все наборы, размер которых больше 1 и в которых есть 'yogurt' или 'waffles'."
   ],
   "cell_type": "markdown",
   "metadata": {}
  },
  {
   "cell_type": "code",
   "execution_count": 14,
   "metadata": {},
   "outputs": [
    {
     "output_type": "stream",
     "name": "stdout",
     "text": [
      "      support                                 itemsets\n27   0.169447                 (waffles, aluminum foil)\n28   0.177349                  (yogurt, aluminum foil)\n40   0.159789                        (waffles, bagels)\n41   0.162423                         (yogurt, bagels)\n52   0.160667                       (cereals, waffles)\n53   0.172081                        (cereals, yogurt)\n63   0.172959                       (waffles, cheeses)\n64   0.172081                        (yogurt, cheeses)\n73   0.169447                  (waffles, dinner rolls)\n74   0.166813                   (yogurt, dinner rolls)\n82   0.175593  (dishwashing liquid/detergent, waffles)\n83   0.158033   (dishwashing liquid/detergent, yogurt)\n90   0.169447                          (waffles, eggs)\n91   0.174715                           (yogurt, eggs)\n97   0.172959                     (waffles, ice cream)\n98   0.156277                      (yogurt, ice cream)\n103  0.184372                    (waffles, lunch meat)\n104  0.161545                     (yogurt, lunch meat)\n108  0.167691                           (milk, yogurt)\n111  0.166813                       (waffles, poultry)\n112  0.180860                        (yogurt, poultry)\n114  0.177349                          (waffles, soda)\n115  0.167691                           (yogurt, soda)\n116  0.315189                    (waffles, vegetables)\n117  0.319579                     (yogurt, vegetables)\n118  0.173837                        (waffles, yogurt)\n119  0.152766      (yogurt, aluminum foil, vegetables)\n128  0.157155               (yogurt, eggs, vegetables)\n130  0.157155        (waffles, lunch meat, vegetables)\n131  0.152766            (yogurt, poultry, vegetables)\n\nCount of result itemstes =  30\n"
     ]
    }
   ],
   "source": [
    "results = apriori(new_df, min_support=0.15, use_colnames=True)\n",
    "results['cond'] = results['itemsets'].apply(lambda iset: len(iset) > 1 and ('yogurt' in iset or 'waffles' in iset))\n",
    "results = results[results['cond']]\n",
    "del results['cond']\n",
    "print(results)\n",
    "print('\\nCount of result itemstes = ', len(results))"
   ]
  },
  {
   "source": [
    "9) Построен датасет, из тех элементов, которые не попали в датасет из п. 6. Датасет приведен к удобному для анализа виду."
   ],
   "cell_type": "markdown",
   "metadata": {}
  },
  {
   "cell_type": "code",
   "execution_count": 15,
   "metadata": {},
   "outputs": [
    {
     "output_type": "execute_result",
     "data": {
      "text/plain": [
       "      all- purpose   beef  butter  coffee/tea  flour  fruits  hand soap  \\\n",
       "0             True   True    True       False   True   False      False   \n",
       "1            False  False   False       False  False   False       True   \n",
       "2            False  False   False       False  False   False       True   \n",
       "3             True  False   False       False  False   False      False   \n",
       "4             True  False   False       False   True   False       True   \n",
       "...            ...    ...     ...         ...    ...     ...        ...   \n",
       "1134          True   True   False        True  False    True       True   \n",
       "1135         False  False   False        True  False   False       True   \n",
       "1136         False   True   False       False  False   False       True   \n",
       "1137          True   True   False       False  False   False      False   \n",
       "1138         False  False   False       False  False   False      False   \n",
       "\n",
       "      individual meals  juice  ketchup  ...  pasta   pork  sandwich bags  \\\n",
       "0                False  False    False  ...  False   True           True   \n",
       "1                 True  False    False  ...  False  False           True   \n",
       "2                False  False     True  ...  False   True          False   \n",
       "3                False   True    False  ...  False  False          False   \n",
       "4                 True  False    False  ...   True   True          False   \n",
       "...                ...    ...      ...  ...    ...    ...            ...   \n",
       "1134             False   True    False  ...  False   True           True   \n",
       "1135              True  False    False  ...   True  False          False   \n",
       "1136              True   True    False  ...  False   True          False   \n",
       "1137             False  False     True  ...  False  False           True   \n",
       "1138             False  False    False  ...  False  False          False   \n",
       "\n",
       "      sandwich loaves  shampoo   soap  spaghetti sauce  sugar  toilet paper  \\\n",
       "0               False     True   True            False  False         False   \n",
       "1               False     True  False            False  False          True   \n",
       "2                True     True   True             True  False          True   \n",
       "3               False    False  False            False  False          True   \n",
       "4                True    False  False             True  False          True   \n",
       "...               ...      ...    ...              ...    ...           ...   \n",
       "1134            False     True   True            False   True         False   \n",
       "1135            False    False   True             True  False         False   \n",
       "1136            False     True   True            False   True         False   \n",
       "1137            False    False   True             True   True          True   \n",
       "1138            False     True  False            False  False         False   \n",
       "\n",
       "      tortillas  \n",
       "0         False  \n",
       "1          True  \n",
       "2         False  \n",
       "3         False  \n",
       "4          True  \n",
       "...         ...  \n",
       "1134      False  \n",
       "1135      False  \n",
       "1136       True  \n",
       "1137      False  \n",
       "1138      False  \n",
       "\n",
       "[1139 rows x 23 columns]"
      ],
      "text/html": "<div>\n<style scoped>\n    .dataframe tbody tr th:only-of-type {\n        vertical-align: middle;\n    }\n\n    .dataframe tbody tr th {\n        vertical-align: top;\n    }\n\n    .dataframe thead th {\n        text-align: right;\n    }\n</style>\n<table border=\"1\" class=\"dataframe\">\n  <thead>\n    <tr style=\"text-align: right;\">\n      <th></th>\n      <th>all- purpose</th>\n      <th>beef</th>\n      <th>butter</th>\n      <th>coffee/tea</th>\n      <th>flour</th>\n      <th>fruits</th>\n      <th>hand soap</th>\n      <th>individual meals</th>\n      <th>juice</th>\n      <th>ketchup</th>\n      <th>...</th>\n      <th>pasta</th>\n      <th>pork</th>\n      <th>sandwich bags</th>\n      <th>sandwich loaves</th>\n      <th>shampoo</th>\n      <th>soap</th>\n      <th>spaghetti sauce</th>\n      <th>sugar</th>\n      <th>toilet paper</th>\n      <th>tortillas</th>\n    </tr>\n  </thead>\n  <tbody>\n    <tr>\n      <th>0</th>\n      <td>True</td>\n      <td>True</td>\n      <td>True</td>\n      <td>False</td>\n      <td>True</td>\n      <td>False</td>\n      <td>False</td>\n      <td>False</td>\n      <td>False</td>\n      <td>False</td>\n      <td>...</td>\n      <td>False</td>\n      <td>True</td>\n      <td>True</td>\n      <td>False</td>\n      <td>True</td>\n      <td>True</td>\n      <td>False</td>\n      <td>False</td>\n      <td>False</td>\n      <td>False</td>\n    </tr>\n    <tr>\n      <th>1</th>\n      <td>False</td>\n      <td>False</td>\n      <td>False</td>\n      <td>False</td>\n      <td>False</td>\n      <td>False</td>\n      <td>True</td>\n      <td>True</td>\n      <td>False</td>\n      <td>False</td>\n      <td>...</td>\n      <td>False</td>\n      <td>False</td>\n      <td>True</td>\n      <td>False</td>\n      <td>True</td>\n      <td>False</td>\n      <td>False</td>\n      <td>False</td>\n      <td>True</td>\n      <td>True</td>\n    </tr>\n    <tr>\n      <th>2</th>\n      <td>False</td>\n      <td>False</td>\n      <td>False</td>\n      <td>False</td>\n      <td>False</td>\n      <td>False</td>\n      <td>True</td>\n      <td>False</td>\n      <td>False</td>\n      <td>True</td>\n      <td>...</td>\n      <td>False</td>\n      <td>True</td>\n      <td>False</td>\n      <td>True</td>\n      <td>True</td>\n      <td>True</td>\n      <td>True</td>\n      <td>False</td>\n      <td>True</td>\n      <td>False</td>\n    </tr>\n    <tr>\n      <th>3</th>\n      <td>True</td>\n      <td>False</td>\n      <td>False</td>\n      <td>False</td>\n      <td>False</td>\n      <td>False</td>\n      <td>False</td>\n      <td>False</td>\n      <td>True</td>\n      <td>False</td>\n      <td>...</td>\n      <td>False</td>\n      <td>False</td>\n      <td>False</td>\n      <td>False</td>\n      <td>False</td>\n      <td>False</td>\n      <td>False</td>\n      <td>False</td>\n      <td>True</td>\n      <td>False</td>\n    </tr>\n    <tr>\n      <th>4</th>\n      <td>True</td>\n      <td>False</td>\n      <td>False</td>\n      <td>False</td>\n      <td>True</td>\n      <td>False</td>\n      <td>True</td>\n      <td>True</td>\n      <td>False</td>\n      <td>False</td>\n      <td>...</td>\n      <td>True</td>\n      <td>True</td>\n      <td>False</td>\n      <td>True</td>\n      <td>False</td>\n      <td>False</td>\n      <td>True</td>\n      <td>False</td>\n      <td>True</td>\n      <td>True</td>\n    </tr>\n    <tr>\n      <th>...</th>\n      <td>...</td>\n      <td>...</td>\n      <td>...</td>\n      <td>...</td>\n      <td>...</td>\n      <td>...</td>\n      <td>...</td>\n      <td>...</td>\n      <td>...</td>\n      <td>...</td>\n      <td>...</td>\n      <td>...</td>\n      <td>...</td>\n      <td>...</td>\n      <td>...</td>\n      <td>...</td>\n      <td>...</td>\n      <td>...</td>\n      <td>...</td>\n      <td>...</td>\n      <td>...</td>\n    </tr>\n    <tr>\n      <th>1134</th>\n      <td>True</td>\n      <td>True</td>\n      <td>False</td>\n      <td>True</td>\n      <td>False</td>\n      <td>True</td>\n      <td>True</td>\n      <td>False</td>\n      <td>True</td>\n      <td>False</td>\n      <td>...</td>\n      <td>False</td>\n      <td>True</td>\n      <td>True</td>\n      <td>False</td>\n      <td>True</td>\n      <td>True</td>\n      <td>False</td>\n      <td>True</td>\n      <td>False</td>\n      <td>False</td>\n    </tr>\n    <tr>\n      <th>1135</th>\n      <td>False</td>\n      <td>False</td>\n      <td>False</td>\n      <td>True</td>\n      <td>False</td>\n      <td>False</td>\n      <td>True</td>\n      <td>True</td>\n      <td>False</td>\n      <td>False</td>\n      <td>...</td>\n      <td>True</td>\n      <td>False</td>\n      <td>False</td>\n      <td>False</td>\n      <td>False</td>\n      <td>True</td>\n      <td>True</td>\n      <td>False</td>\n      <td>False</td>\n      <td>False</td>\n    </tr>\n    <tr>\n      <th>1136</th>\n      <td>False</td>\n      <td>True</td>\n      <td>False</td>\n      <td>False</td>\n      <td>False</td>\n      <td>False</td>\n      <td>True</td>\n      <td>True</td>\n      <td>True</td>\n      <td>False</td>\n      <td>...</td>\n      <td>False</td>\n      <td>True</td>\n      <td>False</td>\n      <td>False</td>\n      <td>True</td>\n      <td>True</td>\n      <td>False</td>\n      <td>True</td>\n      <td>False</td>\n      <td>True</td>\n    </tr>\n    <tr>\n      <th>1137</th>\n      <td>True</td>\n      <td>True</td>\n      <td>False</td>\n      <td>False</td>\n      <td>False</td>\n      <td>False</td>\n      <td>False</td>\n      <td>False</td>\n      <td>False</td>\n      <td>True</td>\n      <td>...</td>\n      <td>False</td>\n      <td>False</td>\n      <td>True</td>\n      <td>False</td>\n      <td>False</td>\n      <td>True</td>\n      <td>True</td>\n      <td>True</td>\n      <td>True</td>\n      <td>False</td>\n    </tr>\n    <tr>\n      <th>1138</th>\n      <td>False</td>\n      <td>False</td>\n      <td>False</td>\n      <td>False</td>\n      <td>False</td>\n      <td>False</td>\n      <td>False</td>\n      <td>False</td>\n      <td>False</td>\n      <td>False</td>\n      <td>...</td>\n      <td>False</td>\n      <td>False</td>\n      <td>False</td>\n      <td>False</td>\n      <td>True</td>\n      <td>False</td>\n      <td>False</td>\n      <td>False</td>\n      <td>False</td>\n      <td>False</td>\n    </tr>\n  </tbody>\n</table>\n<p>1139 rows × 23 columns</p>\n</div>"
     },
     "metadata": {},
     "execution_count": 15
    }
   ],
   "source": [
    "diff_items = set(list(df)) - set(list(new_df))\n",
    "diff_dataset = [[elem for elem in all_data[all_data.transaction_id == id].item if elem in diff_items] for id in unique_id]\n",
    "te = TransactionEncoder()\n",
    "te_ary = te.fit_transform(diff_dataset)\n",
    "diff_df = pd.DataFrame(te_ary, columns=te.columns_)\n",
    "diff_df"
   ]
  },
  {
   "source": [
    "10) Проведен ассоциативный анализ при уровне поддержки 0.3 для нового датасета (diff_df)."
   ],
   "cell_type": "markdown",
   "metadata": {}
  },
  {
   "cell_type": "code",
   "execution_count": 16,
   "metadata": {},
   "outputs": [
    {
     "output_type": "execute_result",
     "data": {
      "text/plain": [
       "     support             itemsets\n",
       "0   0.374890       (all- purpose)\n",
       "1   0.374890               (beef)\n",
       "2   0.367867             (butter)\n",
       "3   0.379280         (coffee/tea)\n",
       "4   0.352941              (flour)\n",
       "5   0.370500             (fruits)\n",
       "6   0.345917          (hand soap)\n",
       "7   0.375768   (individual meals)\n",
       "8   0.376646              (juice)\n",
       "9   0.371378            (ketchup)\n",
       "10  0.378402  (laundry detergent)\n",
       "11  0.375768              (mixes)\n",
       "12  0.362599       (paper towels)\n",
       "13  0.371378              (pasta)\n",
       "14  0.355575               (pork)\n",
       "15  0.367867      (sandwich bags)\n",
       "16  0.349429    (sandwich loaves)\n",
       "17  0.368745            (shampoo)\n",
       "18  0.379280               (soap)\n",
       "19  0.373134    (spaghetti sauce)\n",
       "20  0.360843              (sugar)\n",
       "21  0.378402       (toilet paper)\n",
       "22  0.369622          (tortillas)"
      ],
      "text/html": "<div>\n<style scoped>\n    .dataframe tbody tr th:only-of-type {\n        vertical-align: middle;\n    }\n\n    .dataframe tbody tr th {\n        vertical-align: top;\n    }\n\n    .dataframe thead th {\n        text-align: right;\n    }\n</style>\n<table border=\"1\" class=\"dataframe\">\n  <thead>\n    <tr style=\"text-align: right;\">\n      <th></th>\n      <th>support</th>\n      <th>itemsets</th>\n    </tr>\n  </thead>\n  <tbody>\n    <tr>\n      <th>0</th>\n      <td>0.374890</td>\n      <td>(all- purpose)</td>\n    </tr>\n    <tr>\n      <th>1</th>\n      <td>0.374890</td>\n      <td>(beef)</td>\n    </tr>\n    <tr>\n      <th>2</th>\n      <td>0.367867</td>\n      <td>(butter)</td>\n    </tr>\n    <tr>\n      <th>3</th>\n      <td>0.379280</td>\n      <td>(coffee/tea)</td>\n    </tr>\n    <tr>\n      <th>4</th>\n      <td>0.352941</td>\n      <td>(flour)</td>\n    </tr>\n    <tr>\n      <th>5</th>\n      <td>0.370500</td>\n      <td>(fruits)</td>\n    </tr>\n    <tr>\n      <th>6</th>\n      <td>0.345917</td>\n      <td>(hand soap)</td>\n    </tr>\n    <tr>\n      <th>7</th>\n      <td>0.375768</td>\n      <td>(individual meals)</td>\n    </tr>\n    <tr>\n      <th>8</th>\n      <td>0.376646</td>\n      <td>(juice)</td>\n    </tr>\n    <tr>\n      <th>9</th>\n      <td>0.371378</td>\n      <td>(ketchup)</td>\n    </tr>\n    <tr>\n      <th>10</th>\n      <td>0.378402</td>\n      <td>(laundry detergent)</td>\n    </tr>\n    <tr>\n      <th>11</th>\n      <td>0.375768</td>\n      <td>(mixes)</td>\n    </tr>\n    <tr>\n      <th>12</th>\n      <td>0.362599</td>\n      <td>(paper towels)</td>\n    </tr>\n    <tr>\n      <th>13</th>\n      <td>0.371378</td>\n      <td>(pasta)</td>\n    </tr>\n    <tr>\n      <th>14</th>\n      <td>0.355575</td>\n      <td>(pork)</td>\n    </tr>\n    <tr>\n      <th>15</th>\n      <td>0.367867</td>\n      <td>(sandwich bags)</td>\n    </tr>\n    <tr>\n      <th>16</th>\n      <td>0.349429</td>\n      <td>(sandwich loaves)</td>\n    </tr>\n    <tr>\n      <th>17</th>\n      <td>0.368745</td>\n      <td>(shampoo)</td>\n    </tr>\n    <tr>\n      <th>18</th>\n      <td>0.379280</td>\n      <td>(soap)</td>\n    </tr>\n    <tr>\n      <th>19</th>\n      <td>0.373134</td>\n      <td>(spaghetti sauce)</td>\n    </tr>\n    <tr>\n      <th>20</th>\n      <td>0.360843</td>\n      <td>(sugar)</td>\n    </tr>\n    <tr>\n      <th>21</th>\n      <td>0.378402</td>\n      <td>(toilet paper)</td>\n    </tr>\n    <tr>\n      <th>22</th>\n      <td>0.369622</td>\n      <td>(tortillas)</td>\n    </tr>\n  </tbody>\n</table>\n</div>"
     },
     "metadata": {},
     "execution_count": 16
    }
   ],
   "source": [
    "results = apriori(diff_df, min_support=0.3, use_colnames=True)\n",
    "results"
   ]
  },
  {
   "source": [
    "11) Написано правило для вывода всех наборов, в которых хотя бы два элемента начинаются на 's'."
   ],
   "cell_type": "markdown",
   "metadata": {}
  },
  {
   "cell_type": "code",
   "execution_count": 20,
   "metadata": {},
   "outputs": [
    {
     "output_type": "execute_result",
     "data": {
      "text/plain": [
       "       support                                        itemsets\n",
       "675   0.137840                (sandwich loaves, sandwich bags)\n",
       "676   0.146620                        (shampoo, sandwich bags)\n",
       "677   0.158911                           (soap, sandwich bags)\n",
       "678   0.162423                           (soda, sandwich bags)\n",
       "679   0.147498                (spaghetti sauce, sandwich bags)\n",
       "680   0.131694                          (sugar, sandwich bags)\n",
       "686   0.150132                      (shampoo, sandwich loaves)\n",
       "687   0.158033                         (sandwich loaves, soap)\n",
       "688   0.141352                         (sandwich loaves, soda)\n",
       "689   0.150132              (spaghetti sauce, sandwich loaves)\n",
       "690   0.136962                        (sandwich loaves, sugar)\n",
       "696   0.151010                                 (shampoo, soap)\n",
       "697   0.150132                                 (shampoo, soda)\n",
       "698   0.139596                      (spaghetti sauce, shampoo)\n",
       "699   0.147498                                (shampoo, sugar)\n",
       "705   0.174715                                    (soap, soda)\n",
       "706   0.160667                         (spaghetti sauce, soap)\n",
       "707   0.154522                                   (sugar, soap)\n",
       "713   0.167691                         (spaghetti sauce, soda)\n",
       "714   0.162423                                   (sugar, soda)\n",
       "720   0.144864                        (spaghetti sauce, sugar)\n",
       "1351  0.115013    (sandwich loaves, sandwich bags, vegetables)\n",
       "1352  0.122915            (shampoo, sandwich bags, vegetables)\n",
       "1353  0.129939               (soap, sandwich bags, vegetables)\n",
       "1354  0.129061               (soda, sandwich bags, vegetables)\n",
       "1355  0.123793    (spaghetti sauce, sandwich bags, vegetables)\n",
       "1356  0.113257              (sugar, sandwich bags, vegetables)\n",
       "1361  0.129061          (shampoo, sandwich loaves, vegetables)\n",
       "1362  0.132572             (sandwich loaves, soap, vegetables)\n",
       "1363  0.121159             (sandwich loaves, soda, vegetables)\n",
       "1364  0.122915  (spaghetti sauce, sandwich loaves, vegetables)\n",
       "1365  0.121159            (sandwich loaves, sugar, vegetables)\n",
       "1370  0.124671                     (shampoo, soap, vegetables)\n",
       "1371  0.128183                     (shampoo, soda, vegetables)\n",
       "1372  0.117647          (spaghetti sauce, shampoo, vegetables)\n",
       "1373  0.122037                    (shampoo, sugar, vegetables)\n",
       "1378  0.141352                        (soap, soda, vegetables)\n",
       "1379  0.136962             (spaghetti sauce, soap, vegetables)\n",
       "1380  0.127305                       (sugar, soap, vegetables)\n",
       "1385  0.138718             (spaghetti sauce, soda, vegetables)\n",
       "1386  0.136084                       (sugar, soda, vegetables)\n",
       "1391  0.124671            (spaghetti sauce, sugar, vegetables)"
      ],
      "text/html": "<div>\n<style scoped>\n    .dataframe tbody tr th:only-of-type {\n        vertical-align: middle;\n    }\n\n    .dataframe tbody tr th {\n        vertical-align: top;\n    }\n\n    .dataframe thead th {\n        text-align: right;\n    }\n</style>\n<table border=\"1\" class=\"dataframe\">\n  <thead>\n    <tr style=\"text-align: right;\">\n      <th></th>\n      <th>support</th>\n      <th>itemsets</th>\n    </tr>\n  </thead>\n  <tbody>\n    <tr>\n      <th>675</th>\n      <td>0.137840</td>\n      <td>(sandwich loaves, sandwich bags)</td>\n    </tr>\n    <tr>\n      <th>676</th>\n      <td>0.146620</td>\n      <td>(shampoo, sandwich bags)</td>\n    </tr>\n    <tr>\n      <th>677</th>\n      <td>0.158911</td>\n      <td>(soap, sandwich bags)</td>\n    </tr>\n    <tr>\n      <th>678</th>\n      <td>0.162423</td>\n      <td>(soda, sandwich bags)</td>\n    </tr>\n    <tr>\n      <th>679</th>\n      <td>0.147498</td>\n      <td>(spaghetti sauce, sandwich bags)</td>\n    </tr>\n    <tr>\n      <th>680</th>\n      <td>0.131694</td>\n      <td>(sugar, sandwich bags)</td>\n    </tr>\n    <tr>\n      <th>686</th>\n      <td>0.150132</td>\n      <td>(shampoo, sandwich loaves)</td>\n    </tr>\n    <tr>\n      <th>687</th>\n      <td>0.158033</td>\n      <td>(sandwich loaves, soap)</td>\n    </tr>\n    <tr>\n      <th>688</th>\n      <td>0.141352</td>\n      <td>(sandwich loaves, soda)</td>\n    </tr>\n    <tr>\n      <th>689</th>\n      <td>0.150132</td>\n      <td>(spaghetti sauce, sandwich loaves)</td>\n    </tr>\n    <tr>\n      <th>690</th>\n      <td>0.136962</td>\n      <td>(sandwich loaves, sugar)</td>\n    </tr>\n    <tr>\n      <th>696</th>\n      <td>0.151010</td>\n      <td>(shampoo, soap)</td>\n    </tr>\n    <tr>\n      <th>697</th>\n      <td>0.150132</td>\n      <td>(shampoo, soda)</td>\n    </tr>\n    <tr>\n      <th>698</th>\n      <td>0.139596</td>\n      <td>(spaghetti sauce, shampoo)</td>\n    </tr>\n    <tr>\n      <th>699</th>\n      <td>0.147498</td>\n      <td>(shampoo, sugar)</td>\n    </tr>\n    <tr>\n      <th>705</th>\n      <td>0.174715</td>\n      <td>(soap, soda)</td>\n    </tr>\n    <tr>\n      <th>706</th>\n      <td>0.160667</td>\n      <td>(spaghetti sauce, soap)</td>\n    </tr>\n    <tr>\n      <th>707</th>\n      <td>0.154522</td>\n      <td>(sugar, soap)</td>\n    </tr>\n    <tr>\n      <th>713</th>\n      <td>0.167691</td>\n      <td>(spaghetti sauce, soda)</td>\n    </tr>\n    <tr>\n      <th>714</th>\n      <td>0.162423</td>\n      <td>(sugar, soda)</td>\n    </tr>\n    <tr>\n      <th>720</th>\n      <td>0.144864</td>\n      <td>(spaghetti sauce, sugar)</td>\n    </tr>\n    <tr>\n      <th>1351</th>\n      <td>0.115013</td>\n      <td>(sandwich loaves, sandwich bags, vegetables)</td>\n    </tr>\n    <tr>\n      <th>1352</th>\n      <td>0.122915</td>\n      <td>(shampoo, sandwich bags, vegetables)</td>\n    </tr>\n    <tr>\n      <th>1353</th>\n      <td>0.129939</td>\n      <td>(soap, sandwich bags, vegetables)</td>\n    </tr>\n    <tr>\n      <th>1354</th>\n      <td>0.129061</td>\n      <td>(soda, sandwich bags, vegetables)</td>\n    </tr>\n    <tr>\n      <th>1355</th>\n      <td>0.123793</td>\n      <td>(spaghetti sauce, sandwich bags, vegetables)</td>\n    </tr>\n    <tr>\n      <th>1356</th>\n      <td>0.113257</td>\n      <td>(sugar, sandwich bags, vegetables)</td>\n    </tr>\n    <tr>\n      <th>1361</th>\n      <td>0.129061</td>\n      <td>(shampoo, sandwich loaves, vegetables)</td>\n    </tr>\n    <tr>\n      <th>1362</th>\n      <td>0.132572</td>\n      <td>(sandwich loaves, soap, vegetables)</td>\n    </tr>\n    <tr>\n      <th>1363</th>\n      <td>0.121159</td>\n      <td>(sandwich loaves, soda, vegetables)</td>\n    </tr>\n    <tr>\n      <th>1364</th>\n      <td>0.122915</td>\n      <td>(spaghetti sauce, sandwich loaves, vegetables)</td>\n    </tr>\n    <tr>\n      <th>1365</th>\n      <td>0.121159</td>\n      <td>(sandwich loaves, sugar, vegetables)</td>\n    </tr>\n    <tr>\n      <th>1370</th>\n      <td>0.124671</td>\n      <td>(shampoo, soap, vegetables)</td>\n    </tr>\n    <tr>\n      <th>1371</th>\n      <td>0.128183</td>\n      <td>(shampoo, soda, vegetables)</td>\n    </tr>\n    <tr>\n      <th>1372</th>\n      <td>0.117647</td>\n      <td>(spaghetti sauce, shampoo, vegetables)</td>\n    </tr>\n    <tr>\n      <th>1373</th>\n      <td>0.122037</td>\n      <td>(shampoo, sugar, vegetables)</td>\n    </tr>\n    <tr>\n      <th>1378</th>\n      <td>0.141352</td>\n      <td>(soap, soda, vegetables)</td>\n    </tr>\n    <tr>\n      <th>1379</th>\n      <td>0.136962</td>\n      <td>(spaghetti sauce, soap, vegetables)</td>\n    </tr>\n    <tr>\n      <th>1380</th>\n      <td>0.127305</td>\n      <td>(sugar, soap, vegetables)</td>\n    </tr>\n    <tr>\n      <th>1385</th>\n      <td>0.138718</td>\n      <td>(spaghetti sauce, soda, vegetables)</td>\n    </tr>\n    <tr>\n      <th>1386</th>\n      <td>0.136084</td>\n      <td>(sugar, soda, vegetables)</td>\n    </tr>\n    <tr>\n      <th>1391</th>\n      <td>0.124671</td>\n      <td>(spaghetti sauce, sugar, vegetables)</td>\n    </tr>\n  </tbody>\n</table>\n</div>"
     },
     "metadata": {},
     "execution_count": 20
    }
   ],
   "source": [
    "results = apriori(df, min_support=0.1, use_colnames=True)\n",
    "results = results[results['itemsets'].apply(lambda iset: len([item for item in iset if item.startswith('s')]) >= 2)]\n",
    "results"
   ]
  },
  {
   "source": [
    "12) Написано правило для вывода всех наборов, для которых уровень поддержки изменяется от 0.1 до 0.25."
   ],
   "cell_type": "markdown",
   "metadata": {}
  },
  {
   "cell_type": "code",
   "execution_count": 30,
   "metadata": {},
   "outputs": [
    {
     "output_type": "execute_result",
     "data": {
      "text/plain": [
       "       support                             itemsets\n",
       "38    0.157155        (all- purpose, aluminum foil)\n",
       "39    0.150132               (all- purpose, bagels)\n",
       "40    0.144864                 (all- purpose, beef)\n",
       "41    0.147498               (all- purpose, butter)\n",
       "42    0.151010              (all- purpose, cereals)\n",
       "...        ...                                  ...\n",
       "1401  0.135206  (toilet paper, waffles, vegetables)\n",
       "1402  0.130817   (toilet paper, yogurt, vegetables)\n",
       "1403  0.121159     (vegetables, waffles, tortillas)\n",
       "1404  0.130817      (vegetables, yogurt, tortillas)\n",
       "1405  0.146620        (waffles, yogurt, vegetables)\n",
       "\n",
       "[1331 rows x 2 columns]"
      ],
      "text/html": "<div>\n<style scoped>\n    .dataframe tbody tr th:only-of-type {\n        vertical-align: middle;\n    }\n\n    .dataframe tbody tr th {\n        vertical-align: top;\n    }\n\n    .dataframe thead th {\n        text-align: right;\n    }\n</style>\n<table border=\"1\" class=\"dataframe\">\n  <thead>\n    <tr style=\"text-align: right;\">\n      <th></th>\n      <th>support</th>\n      <th>itemsets</th>\n    </tr>\n  </thead>\n  <tbody>\n    <tr>\n      <th>38</th>\n      <td>0.157155</td>\n      <td>(all- purpose, aluminum foil)</td>\n    </tr>\n    <tr>\n      <th>39</th>\n      <td>0.150132</td>\n      <td>(all- purpose, bagels)</td>\n    </tr>\n    <tr>\n      <th>40</th>\n      <td>0.144864</td>\n      <td>(all- purpose, beef)</td>\n    </tr>\n    <tr>\n      <th>41</th>\n      <td>0.147498</td>\n      <td>(all- purpose, butter)</td>\n    </tr>\n    <tr>\n      <th>42</th>\n      <td>0.151010</td>\n      <td>(all- purpose, cereals)</td>\n    </tr>\n    <tr>\n      <th>...</th>\n      <td>...</td>\n      <td>...</td>\n    </tr>\n    <tr>\n      <th>1401</th>\n      <td>0.135206</td>\n      <td>(toilet paper, waffles, vegetables)</td>\n    </tr>\n    <tr>\n      <th>1402</th>\n      <td>0.130817</td>\n      <td>(toilet paper, yogurt, vegetables)</td>\n    </tr>\n    <tr>\n      <th>1403</th>\n      <td>0.121159</td>\n      <td>(vegetables, waffles, tortillas)</td>\n    </tr>\n    <tr>\n      <th>1404</th>\n      <td>0.130817</td>\n      <td>(vegetables, yogurt, tortillas)</td>\n    </tr>\n    <tr>\n      <th>1405</th>\n      <td>0.146620</td>\n      <td>(waffles, yogurt, vegetables)</td>\n    </tr>\n  </tbody>\n</table>\n<p>1331 rows × 2 columns</p>\n</div>"
     },
     "metadata": {},
     "execution_count": 30
    }
   ],
   "source": [
    "results = apriori(df, min_support=0.1, use_colnames=True)\n",
    "results = results[results['support'].apply(lambda sup: sup > 0.1 and sup < 0.25)]\n",
    "results"
   ]
  },
  {
   "source": [
    "# Выводы\n",
    "В ходе лабораторной работы изучены методы частотного анализа из библиотеки MLxtend: метод Apriori позволяет выделить частовстречающиеся наборы элементов для заданного минимального уровня поддержки. Увеличение уровня поддержки в первую очередь уменьшает количество наборов большей длины."
   ],
   "cell_type": "markdown",
   "metadata": {}
  }
 ]
}