{
 "cells": [
  {
   "cell_type": "code",
   "execution_count": 2,
   "metadata": {
    "pycharm": {
     "name": "#%%\n"
    }
   },
   "outputs": [],
   "source": [
    "import numpy as np\n",
    "from sklearn.decomposition import PCA, KernelPCA\n",
    "import scipy\n",
    "import matplotlib.pyplot as plt\n",
    "import scipy.stats as stats"
   ]
  },
  {
   "cell_type": "markdown",
   "metadata": {
    "pycharm": {
     "name": "#%% md\n"
    }
   },
   "source": [
    "# Задание 1"
   ]
  },
  {
   "cell_type": "code",
   "execution_count": 46,
   "metadata": {
    "pycharm": {
     "name": "#%%\n"
    }
   },
   "outputs": [],
   "source": [
    "# Рассмотрим данные\n",
    "X =np.array([[4, 2.9],\n",
    "             [2.5, 1],\n",
    "             [3.5, 4],\n",
    "             [2, 2.1]])\n",
    "\n",
    "# Есть ядро (функция сходства): K(xi, xj) = ||xi - xj||^2\n",
    "K = lambda xi, xj: np.linalg.norm(xi - xj)**2"
   ]
  },
  {
   "cell_type": "code",
   "execution_count": 47,
   "metadata": {},
   "outputs": [
    {
     "data": {
      "text/plain": "array([[ 0.  ,  5.86,  1.46,  4.64],\n       [ 5.86,  0.  , 10.  ,  1.46],\n       [ 1.46, 10.  ,  0.  ,  5.86],\n       [ 4.64,  1.46,  5.86,  0.  ]])"
     },
     "execution_count": 47,
     "metadata": {},
     "output_type": "execute_result"
    }
   ],
   "source": [
    "# Рассчитайте ядерную матрицу\n",
    "N = len(X)\n",
    "K_matrix = np.array( [[K(X[i], X[j]) for j in range(N)] for i in range(N)] )\n",
    "\n",
    "K_matrix"
   ]
  },
  {
   "cell_type": "markdown",
   "metadata": {},
   "source": [
    "# Задание 2"
   ]
  },
  {
   "cell_type": "code",
   "execution_count": 5,
   "metadata": {
    "pycharm": {
     "name": "#%%\n"
    }
   },
   "outputs": [],
   "source": [
    "# Рассмотрим данные в виде матрицы D:\n",
    "D = np.array([[8, -20],\n",
    "              [0, -1],\n",
    "              [10, -19],\n",
    "              [10, -20],\n",
    "              [2, 0]])"
   ]
  },
  {
   "cell_type": "code",
   "execution_count": 6,
   "metadata": {},
   "outputs": [
    {
     "data": {
      "text/plain": "[6.0, -12.0]"
     },
     "execution_count": 6,
     "metadata": {},
     "output_type": "execute_result"
    }
   ],
   "source": [
    "# 1. Рассчитайте среднее m \n",
    "mean = [np.mean(D[:, 0]), np.mean(D[:, 1])]\n",
    "mean"
   ]
  },
  {
   "cell_type": "code",
   "execution_count": 49,
   "metadata": {},
   "outputs": [
    {
     "data": {
      "text/plain": "array([[ 22. , -47.5],\n       [-47.5, 110.5]])"
     },
     "execution_count": 49,
     "metadata": {},
     "output_type": "execute_result"
    }
   ],
   "source": [
    "# и ковариационную матрицу e для матрицы D\n",
    "cov_m = np.cov(D.T)\n",
    "cov_m"
   ]
  },
  {
   "cell_type": "code",
   "execution_count": 50,
   "metadata": {},
   "outputs": [
    {
     "data": {
      "text/plain": "array([  1.33226359, 131.16773641])"
     },
     "execution_count": 50,
     "metadata": {},
     "output_type": "execute_result"
    }
   ],
   "source": [
    "# 2. Рассчитайте собственные числа для матрицы e\n",
    "np.linalg.eigvals(cov_m)"
   ]
  },
  {
   "cell_type": "code",
   "execution_count": 52,
   "metadata": {
    "pycharm": {
     "name": "#%%\n"
    }
   },
   "outputs": [
    {
     "data": {
      "text/plain": "5"
     },
     "execution_count": 52,
     "metadata": {},
     "output_type": "execute_result"
    }
   ],
   "source": [
    "# 3. Какой “внутренний” размер данного набора данных?\n",
    "D.shape[0]"
   ]
  },
  {
   "cell_type": "code",
   "execution_count": 10,
   "metadata": {
    "pycharm": {
     "name": "#%%\n"
    }
   },
   "outputs": [
    {
     "data": {
      "text/plain": "array([-8.13363886, 12.4804344 , -8.01463621, -8.93159638, 12.59943705])"
     },
     "execution_count": 10,
     "metadata": {},
     "output_type": "execute_result"
    }
   ],
   "source": [
    "# 4. Рассчитай первый главный компонент\n",
    "pca_data = PCA(n_components=1).fit_transform(D)\n",
    "pca_data[:, 0]"
   ]
  },
  {
   "cell_type": "code",
   "execution_count": 11,
   "metadata": {
    "pycharm": {
     "name": "#%%\n"
    }
   },
   "outputs": [
    {
     "data": {
      "text/plain": "<Figure size 432x288 with 1 Axes>",
      "image/png": "[encoded data removed]"
     },
     "metadata": {
      "needs_background": "light"
     },
     "output_type": "display_data"
    }
   ],
   "source": [
    "# 5. Если m и  e сверху характеризуют нормальное распределение, из которого были сгенерированы точки, \n",
    "# нарисуйте ориентацию / протяженность 2-мерной функции нормальной плотности.\n",
    "rv = stats.multivariate_normal(mean, cov_m)\n",
    "\n",
    "x, y = np.mgrid[-5:20:0.5, -35:15:0.5]\n",
    "pos = np.dstack((x, y))\n",
    "ax = plt.subplot()\n",
    "ax.contourf(x, y, rv.pdf(pos))\n",
    "plt.show()\n"
   ]
  },
  {
   "cell_type": "markdown",
   "metadata": {
    "pycharm": {
     "name": "#%%\n"
    }
   },
   "source": [
    "# Задание 3 "
   ]
  },
  {
   "cell_type": "code",
   "execution_count": 54,
   "metadata": {
    "pycharm": {
     "name": "#%%\n"
    }
   },
   "outputs": [
    {
     "data": {
      "text/plain": "array([ 3.69853449e-08, -1.27709306e-08, -1.27709306e-08,  3.69853449e-08])"
     },
     "execution_count": 54,
     "metadata": {},
     "output_type": "execute_result"
    }
   ],
   "source": [
    "# Для данных и ядра из первого задания найдите первую главную компоненту при нелинейном преобразовании \n",
    "# для заданного ядра\n",
    "N = len(X)\n",
    "center = np.diag([1] * N) - 1 / N * np.ones((N, N))\n",
    "K_c = center @ K_matrix @ center\n",
    "kcpa_data = KernelPCA(n_components=1, kernel='precomputed').fit_transform(K_c)\n",
    "kcpa_data[:, 0]"
   ]
  },
  {
   "cell_type": "code",
   "execution_count": null,
   "metadata": {
    "pycharm": {
     "name": "#%%\n"
    }
   },
   "outputs": [],
   "source": [
    "\n",
    "\n"
   ]
  }
 ],
 "metadata": {
  "kernelspec": {
   "display_name": "PyCharm (pt2)",
   "language": "python",
   "name": "pycharm-970f61cc"
  },
  "language_info": {
   "codemirror_mode": {
    "name": "ipython",
    "version": 3
   },
   "file_extension": ".py",
   "mimetype": "text/x-python",
   "name": "python",
   "nbconvert_exporter": "python",
   "pygments_lexer": "ipython3",
   "version": "3.8.5"
  }
 },
 "nbformat": 4,
 "nbformat_minor": 1
}